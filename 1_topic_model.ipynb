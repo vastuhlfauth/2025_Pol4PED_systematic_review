{
 "cells": [
  {
   "cell_type": "markdown",
   "metadata": {},
   "source": [
    "# Code for the topic modelling"
   ]
  },
  {
   "cell_type": "markdown",
   "metadata": {},
   "source": [
    "Tuto - https://www.youtube.com/watch?v=arMTVXEbV9Q"
   ]
  },
  {
   "cell_type": "markdown",
   "metadata": {},
   "source": [
    "## Import packages"
   ]
  },
  {
   "cell_type": "code",
   "execution_count": 4,
   "metadata": {},
   "outputs": [],
   "source": [
    "# nltk\n",
    "import nltk\n",
    "# gensim\n",
    "import gensim\n",
    "import gensim.corpora as corpora\n",
    "# spacy\n",
    "import spacy\n",
    "#vis\n",
    "import pyLDAvis\n",
    "import pyLDAvis.gensim"
   ]
  },
  {
   "cell_type": "code",
   "execution_count": 17,
   "metadata": {},
   "outputs": [],
   "source": [
    "import pandas as pd"
   ]
  },
  {
   "cell_type": "markdown",
   "metadata": {},
   "source": [
    "## Import data"
   ]
  },
  {
   "cell_type": "code",
   "execution_count": null,
   "metadata": {},
   "outputs": [],
   "source": [
    "db_init = pd.read_csv(\"C:/Users/valentin.stuhlfauth/OneDrive - univ-lyon2.fr/2_2025-DUT systematic review/2_Topic modelling/0_code/2025_Pol4PED_systematic_review/2025-02-27_Screening_result.csv\",sep=';',encoding='ISO-8859-1')"
   ]
  },
  {
   "cell_type": "code",
   "execution_count": 14,
   "metadata": {},
   "outputs": [
    {
     "data": {
      "text/plain": [
       "array(['Conceptual', 'Methodological', 'Qualitative', nan, 'Reviews',\n",
       "       'Quantitative', 'Modelling', 'Ingineering'], dtype=object)"
      ]
     },
     "execution_count": 14,
     "metadata": {},
     "output_type": "execute_result"
    }
   ],
   "source": [
    "db_init[\"Approach\"].unique()"
   ]
  },
  {
   "cell_type": "code",
   "execution_count": 72,
   "metadata": {},
   "outputs": [],
   "source": [
    "db_init=db_init.reset_index()"
   ]
  },
  {
   "cell_type": "code",
   "execution_count": 42,
   "metadata": {},
   "outputs": [],
   "source": [
    "df_text = pd.DataFrame()\n",
    "df_text[\"text_topic\"] = data[\"Article Title\"] + \" \" + data[\"Abstract\"]\n",
    "df_text = df_text[\"text_topic\"]"
   ]
  },
  {
   "cell_type": "markdown",
   "metadata": {},
   "source": [
    "## Pretreatment"
   ]
  },
  {
   "cell_type": "markdown",
   "metadata": {},
   "source": [
    "### Lemmatisation, generation and bigrams"
   ]
  },
  {
   "cell_type": "code",
   "execution_count": 44,
   "metadata": {},
   "outputs": [],
   "source": [
    "def lemmatization(texts, allowed_postags=[\"NOUN\", \"ADJ\", \"VERB\", \"ADV\"]):\n",
    "    nlp = spacy.load(\"en_core_web_sm\", disable=[\"parser\", \"ner\"])\n",
    "    texts_out = []\n",
    "    for text in texts:\n",
    "        doc = nlp(text)\n",
    "        new_text = []\n",
    "        for token in doc:\n",
    "            if token.pos_ in allowed_postags:\n",
    "                new_text.append(token.lemma_)\n",
    "        final = \" \".join(new_text)\n",
    "        texts_out.append(final)\n",
    "    return (texts_out)"
   ]
  },
  {
   "cell_type": "code",
   "execution_count": 46,
   "metadata": {},
   "outputs": [],
   "source": [
    "def gen_words(texts):\n",
    "    final = []\n",
    "    for text in texts:\n",
    "        new = gensim.utils.simple_preprocess(text, deacc=True)\n",
    "        final.append(new)\n",
    "    return (final)"
   ]
  },
  {
   "cell_type": "code",
   "execution_count": 47,
   "metadata": {},
   "outputs": [],
   "source": [
    "data_words = gen_words(lemmatization(df_text))"
   ]
  },
  {
   "cell_type": "code",
   "execution_count": 93,
   "metadata": {},
   "outputs": [
    {
     "name": "stdout",
     "output_type": "stream",
     "text": [
      "['theory', 'paper_analyze', 'relationship', 'low_carbon_city', 'climate_change', 'background', 'global_warming', 'low_carbon_city', 'construction', 'important', 'measure', 'mitigate_climate_change', 'crisis', 'low_carbon_urban', 'planning', 'key', 'technology', 'low_carbon_urban', 'construction', 'research', 'aspect', 'low_carbon_urban', 'planning', 'theory', 'concept', 'practice', 'low', 'zero', 'carbon', 'community', 'low_carbon_city', 'development', 'future', 'sum', 'low_carbon_urban', 'planning', 'research', 'progress', 'domestic', 'overseas', 'put', 'future', 'trend', 'low_carbon_urban', 'planning', 'research', 'aspect', 'demarcation', 'path', 'low_carbon_city', 'low_carbon_urban', 'planning', 'construction', 'popularity', 'low_carbon_technology', 'enforcement', 'mechanism', 'innovation', 'low_carbon_city', 'construction']\n"
     ]
    }
   ],
   "source": [
    "#BIGRAMS AND TRIGRAMS\n",
    "## threshold (float, optional) – Represent a score threshold for forming the phrases (higher means fewer phrases) (init = 100)\n",
    "bigram_phrases = gensim.models.Phrases(data_words, min_count=5, threshold=10)\n",
    "trigram_phrases = gensim.models.Phrases(bigram_phrases[data_words], threshold=10)\n",
    "\n",
    "bigram = gensim.models.phrases.Phraser(bigram_phrases)\n",
    "trigram = gensim.models.phrases.Phraser(trigram_phrases)\n",
    "\n",
    "def make_bigrams(texts):\n",
    "    return([bigram[doc] for doc in texts])\n",
    "\n",
    "def make_trigrams(texts):\n",
    "    return ([trigram[bigram[doc]] for doc in texts])\n",
    "\n",
    "data_bigrams = make_bigrams(data_words)\n",
    "data_bigrams_trigrams = make_trigrams(data_bigrams)\n",
    "\n",
    "print (data_bigrams_trigrams[0])"
   ]
  },
  {
   "cell_type": "markdown",
   "metadata": {},
   "source": [
    "### TF-IDF (play with hypervalue)"
   ]
  },
  {
   "cell_type": "code",
   "execution_count": 94,
   "metadata": {},
   "outputs": [],
   "source": [
    "#TF-IDF REMOVAL\n",
    "from gensim.models import TfidfModel\n",
    "\n",
    "id2word = corpora.Dictionary(data_bigrams_trigrams)\n",
    "\n",
    "texts = data_bigrams_trigrams\n",
    "\n",
    "corpus = [id2word.doc2bow(text) for text in texts]\n",
    "# print (corpus[0][0:20])\n",
    "\n",
    "tfidf = TfidfModel(corpus, id2word=id2word)\n",
    "\n",
    "low_value = 0.02\n",
    "words  = []\n",
    "words_missing_in_tfidf = []\n",
    "for i in range(0, len(corpus)):\n",
    "    bow = corpus[i]\n",
    "    low_value_words = [] #reinitialize to be safe. You can skip this.\n",
    "    tfidf_ids = [id for id, value in tfidf[bow]]\n",
    "    bow_ids = [id for id, value in bow]\n",
    "    low_value_words = [id for id, value in tfidf[bow] if value < low_value]\n",
    "    drops = low_value_words+words_missing_in_tfidf\n",
    "    for item in drops:\n",
    "        words.append(id2word[item])\n",
    "    words_missing_in_tfidf = [id for id in bow_ids if id not in tfidf_ids] # The words with tf-idf socre 0 will be missing\n",
    "\n",
    "    new_bow = [b for b in bow if b[0] not in low_value_words and b[0] not in words_missing_in_tfidf]\n",
    "    corpus[i] = new_bow"
   ]
  },
  {
   "cell_type": "code",
   "execution_count": 95,
   "metadata": {},
   "outputs": [
    {
     "data": {
      "text/plain": [
       "['use',\n",
       " 'urban',\n",
       " 'base',\n",
       " 'low_carbon',\n",
       " 'impact',\n",
       " 'level',\n",
       " 'city',\n",
       " 'study',\n",
       " 'development',\n",
       " 'policy',\n",
       " 'model',\n",
       " 'analysis',\n",
       " 'paper',\n",
       " 'promote',\n",
       " 'carbon_emission',\n",
       " 'energy',\n",
       " 'high',\n",
       " 'reduce',\n",
       " 'effect',\n",
       " 'research',\n",
       " 'challenge',\n",
       " 'focus',\n",
       " 'provide',\n",
       " 'method',\n",
       " 'also',\n",
       " 'find',\n",
       " 'build',\n",
       " 'potential',\n",
       " 'role',\n",
       " 'affect',\n",
       " 'approach',\n",
       " 'goal',\n",
       " 'need',\n",
       " 'improve',\n",
       " 'low_carbon_city',\n",
       " 'datum',\n",
       " 'different',\n",
       " 'result',\n",
       " 'increase',\n",
       " 'area',\n",
       " 'system',\n",
       " 'low',\n",
       " 'show',\n",
       " 'such',\n",
       " 'carbon',\n",
       " 'develop',\n",
       " 'more',\n",
       " 'important',\n",
       " 'sustainable',\n",
       " 'large',\n",
       " 'design',\n",
       " 'local',\n",
       " 'contribute',\n",
       " 'include',\n",
       " 'however',\n",
       " 'apply',\n",
       " 'emission',\n",
       " 'consider',\n",
       " 'construction',\n",
       " 'analyze',\n",
       " 'economic',\n",
       " 'green',\n",
       " 'strategy',\n",
       " 'explore',\n",
       " 'support',\n",
       " 'evidence',\n",
       " 'achieve',\n",
       " 'implementation',\n",
       " 'result_show',\n",
       " 'take',\n",
       " 'evaluate',\n",
       " 'community',\n",
       " 'concept',\n",
       " 'innovation',\n",
       " 'finally',\n",
       " 'finding',\n",
       " 'term',\n",
       " 'transition',\n",
       " 'comprehensive',\n",
       " 'reveal',\n",
       " 'decrease',\n",
       " 'value',\n",
       " 'measure',\n",
       " 'environmental',\n",
       " 'change',\n",
       " 'construct',\n",
       " 'district',\n",
       " 'illustrate',\n",
       " 'structure',\n",
       " 'estimate',\n",
       " 'enhance',\n",
       " 'issue',\n",
       " 'use_difference_difference',\n",
       " 'further_research',\n",
       " 'demonstrate',\n",
       " 'implication',\n",
       " 'social',\n",
       " 'geographical_location',\n",
       " 'cause',\n",
       " 'inevitably',\n",
       " 'index',\n",
       " 'empirical_evidence',\n",
       " 'resident',\n",
       " 'empirical_analysis',\n",
       " 'remarkable',\n",
       " 'theoretical',\n",
       " 'base_panel',\n",
       " 'finding_provide',\n",
       " 'transformation',\n",
       " 'significantly_reduce',\n",
       " 'economic_social',\n",
       " 'mainly',\n",
       " 'consist',\n",
       " 'heterogeneous',\n",
       " 'heterogeneity',\n",
       " 'empirically',\n",
       " 'technological_progress',\n",
       " 'mechanism_analysis',\n",
       " 'profound',\n",
       " 'useful',\n",
       " 'welfare',\n",
       " 'resource_endowment',\n",
       " 'distribution',\n",
       " 'modelling',\n",
       " 'systemic',\n",
       " 'demand_side',\n",
       " 'nighttime_light_datum',\n",
       " 'bias',\n",
       " 'equity',\n",
       " 'key',\n",
       " 'planning',\n",
       " 'government',\n",
       " 'urbanization',\n",
       " 'process',\n",
       " 'resource',\n",
       " 'case_study',\n",
       " 'factor',\n",
       " 'other',\n",
       " 'significant',\n",
       " 'new',\n",
       " 'perspective',\n",
       " 'time',\n",
       " 'order',\n",
       " 'then',\n",
       " 'sustainable_development',\n",
       " 'great',\n",
       " 'only',\n",
       " 'main',\n",
       " 'therefore',\n",
       " 'various',\n",
       " 'identify',\n",
       " 'region',\n",
       " 'make',\n",
       " 'propose',\n",
       " 'present',\n",
       " 'environment',\n",
       " 'influence',\n",
       " 'characteristic',\n",
       " 'low_carbon_development',\n",
       " 'establish',\n",
       " 'spatial',\n",
       " 'well',\n",
       " 'as_well',\n",
       " 'less',\n",
       " 'work',\n",
       " 'become',\n",
       " 'many',\n",
       " 'far',\n",
       " 'conduct',\n",
       " 'transport',\n",
       " 'follow',\n",
       " 'average',\n",
       " 'understand',\n",
       " 'relationship',\n",
       " 'aim',\n",
       " 'implement']"
      ]
     },
     "execution_count": 95,
     "metadata": {},
     "output_type": "execute_result"
    }
   ],
   "source": [
    "list(dict.fromkeys(words))"
   ]
  },
  {
   "cell_type": "markdown",
   "metadata": {},
   "source": [
    "### Manual Thesaurus"
   ]
  },
  {
   "cell_type": "code",
   "execution_count": 84,
   "metadata": {},
   "outputs": [
    {
     "name": "stdout",
     "output_type": "stream",
     "text": [
      "[['CO2']]\n"
     ]
    }
   ],
   "source": [
    "# Stop words \n",
    "stop_words=[]\n",
    "stop_words.append(['CO2'])\n",
    "\n",
    "print(stop_words)"
   ]
  },
  {
   "cell_type": "code",
   "execution_count": 85,
   "metadata": {},
   "outputs": [],
   "source": [
    "# Stop words suppression \n",
    "data_bigrams_trigrams_stop = [[mot for mot in doc if not mot in stop_words] for doc in data_bigrams_trigrams]"
   ]
  },
  {
   "cell_type": "markdown",
   "metadata": {},
   "source": [
    "## Topic modelling global"
   ]
  },
  {
   "cell_type": "markdown",
   "metadata": {},
   "source": [
    "### Dictionary"
   ]
  },
  {
   "cell_type": "code",
   "execution_count": 96,
   "metadata": {},
   "outputs": [
    {
     "name": "stdout",
     "output_type": "stream",
     "text": [
      "Dictionary<8958 unique tokens: ['aspect', 'background', 'carbon', 'climate_change', 'community']...>\n"
     ]
    }
   ],
   "source": [
    "from gensim.corpora import Dictionary\n",
    "dico = Dictionary(data_bigrams_trigrams)\n",
    "print(dico)"
   ]
  },
  {
   "cell_type": "code",
   "execution_count": 97,
   "metadata": {},
   "outputs": [
    {
     "name": "stdout",
     "output_type": "stream",
     "text": [
      "[(0, 2), (1, 1), (2, 1), (3, 1), (4, 1), (5, 1), (6, 4), (7, 1), (8, 1), (9, 1), (10, 1), (11, 1), (12, 2), (13, 1), (14, 1), (15, 1), (16, 1), (17, 1), (18, 5), (19, 1)]\n",
      "aspect\n"
     ]
    }
   ],
   "source": [
    "id2word = corpora.Dictionary(data_bigrams_trigrams)\n",
    "\n",
    "corpus = []\n",
    "for text in data_bigrams_trigrams:\n",
    "    new = id2word.doc2bow(text)\n",
    "    corpus.append(new)\n",
    "\n",
    "print (corpus[0][0:20])\n",
    "\n",
    "word = id2word[[0][:1][0]]\n",
    "print (word)"
   ]
  },
  {
   "cell_type": "markdown",
   "metadata": {},
   "source": [
    "### LDA (init passes=10)"
   ]
  },
  {
   "cell_type": "code",
   "execution_count": 98,
   "metadata": {},
   "outputs": [],
   "source": [
    "# lissing topic appartenance = alpha (close to 0 = crisp (binary) / more than 10 = lissing of the results) (deffault = 1/num_topics)\n",
    "lda_model = gensim.models.ldamodel.LdaModel(corpus=corpus[:-1],\n",
    "                                           id2word=id2word,\n",
    "                                           num_topics=30,\n",
    "                                           #random_state=100,\n",
    "                                           update_every=1,\n",
    "                                           chunksize=10,\n",
    "                                           passes=5,\n",
    "                                           alpha=\"auto\")"
   ]
  },
  {
   "cell_type": "code",
   "execution_count": 99,
   "metadata": {},
   "outputs": [
    {
     "data": {
      "text/plain": [
       "[(9,\n",
       "  '0.000*\"outgrow\" + 0.000*\"superlinear\" + 0.000*\"definite\" + 0.000*\"implant\" + 0.000*\"implantation\" + 0.000*\"protective\" + 0.000*\"allometric\" + 0.000*\"explored\" + 0.000*\"restrain\" + 0.000*\"commissioning\"'),\n",
       " (28,\n",
       "  '0.000*\"outgrow\" + 0.000*\"superlinear\" + 0.000*\"definite\" + 0.000*\"implant\" + 0.000*\"implantation\" + 0.000*\"protective\" + 0.000*\"allometric\" + 0.000*\"explored\" + 0.000*\"restrain\" + 0.000*\"commissioning\"')]"
      ]
     },
     "execution_count": 99,
     "metadata": {},
     "output_type": "execute_result"
    }
   ],
   "source": [
    "lda_model.print_topics()[0:2]"
   ]
  },
  {
   "cell_type": "code",
   "execution_count": 100,
   "metadata": {},
   "outputs": [
    {
     "data": {
      "text/plain": [
       "[('energy_consumption', 0.13961035),\n",
       " ('plan', 0.11291957),\n",
       " ('make', 0.0870801),\n",
       " ('climate_change', 0.07089591),\n",
       " ('well', 0.07031956),\n",
       " ('economy', 0.055855542),\n",
       " ('industrial_structure', 0.043653347),\n",
       " ('people', 0.04185459),\n",
       " ('define', 0.03542925),\n",
       " ('opportunity', 0.033407904)]"
      ]
     },
     "execution_count": 100,
     "metadata": {},
     "output_type": "execute_result"
    }
   ],
   "source": [
    "lda_model.show_topic(0)"
   ]
  },
  {
   "cell_type": "code",
   "execution_count": 101,
   "metadata": {},
   "outputs": [
    {
     "data": {
      "text/plain": [
       "[]"
      ]
     },
     "execution_count": 101,
     "metadata": {},
     "output_type": "execute_result"
    }
   ],
   "source": [
    "# serach terms in topic\n",
    "lda_model.get_term_topics(\"sharing\", minimum_probability=0)"
   ]
  },
  {
   "cell_type": "markdown",
   "metadata": {},
   "source": [
    "### Vizualizing the Data"
   ]
  },
  {
   "cell_type": "code",
   "execution_count": 102,
   "metadata": {},
   "outputs": [
    {
     "data": {
      "text/html": [
       "\n",
       "<link rel=\"stylesheet\" type=\"text/css\" href=\"https://cdn.jsdelivr.net/gh/bmabey/pyLDAvis@3.4.0/pyLDAvis/js/ldavis.v1.0.0.css\">\n",
       "\n",
       "\n",
       "<div id=\"ldavis_el1722022498031022881024204624\" style=\"background-color:white;\"></div>\n",
       "<script type=\"text/javascript\">\n",
       "\n",
       "var ldavis_el1722022498031022881024204624_data = {\"mdsDat\": {\"x\": [-0.43756344884686976, 0.0265855515396374, -0.5350569984547581, 0.3498261042403848, 0.45365510581769003, 0.5141181684806763, 0.4762538095990578, 0.1800779590306169, -0.29419231720744926, -0.14065184795739893, -0.4312371241610162, -0.3425832675044742, 0.05168124839311394, -0.08727373060667656, 0.019492278653299885, 0.01312456418931308, 0.013124562797564096, 0.0131245646917515, 0.013124570016382462, 0.013124574657861493, 0.013124569409499057, 0.013124567258511294, 0.013124563544912534, 0.013124566893579888, 0.013124563360558474, 0.01312456500376457, 0.013124569456996478, 0.013124569934691546, 0.013124569079934475, 0.013124568688845416], \"y\": [-0.3565387681836775, -0.5431807823092601, -0.08777295161156351, -0.37994456621377387, -0.21406753491229694, -0.022483660829844588, 0.23919133540585236, -0.3962813728147563, -0.3084776532571994, -0.40505787277829464, 0.08863682016282345, 0.3177104222181563, -0.23683920062803812, -0.07860922562516272, 0.27398469241434487, 0.1406486885770675, 0.14064868882511422, 0.1406486882463381, 0.14064868708342693, 0.14064868627122717, 0.14064868752251714, 0.1406486880566289, 0.14064868867368038, 0.1406486880743665, 0.1406486887538911, 0.1406486884510635, 0.14064868752571194, 0.14064868745993517, 0.14064868767066105, 0.14064868777106138], \"topics\": [1, 2, 3, 4, 5, 6, 7, 8, 9, 10, 11, 12, 13, 14, 15, 16, 17, 18, 19, 20, 21, 22, 23, 24, 25, 26, 27, 28, 29, 30], \"cluster\": [1, 1, 1, 1, 1, 1, 1, 1, 1, 1, 1, 1, 1, 1, 1, 1, 1, 1, 1, 1, 1, 1, 1, 1, 1, 1, 1, 1, 1, 1], \"Freq\": [28.884721734474912, 14.16907779555343, 9.85610478887406, 8.899473328830371, 7.704030318277029, 6.02333398609683, 5.758901560330208, 4.576466928396027, 3.6914381813825234, 2.9374730384736907, 2.8066878749571544, 2.1791140285736943, 1.5043980757569473, 0.5125084662642956, 0.33048138380246905, 0.011371151019468626, 0.011029811352634844, 0.011029811352634844, 0.011029811352634844, 0.011029811352634844, 0.011029811352634844, 0.011029811352634844, 0.011029811352634844, 0.011029811352634844, 0.011029811352634844, 0.011029811352634844, 0.011029811352634844, 0.011029811352634844, 0.011029811352634844, 0.011029811352634844]}, \"tinfo\": {\"Term\": [\"urban\", \"carbon_emission\", \"city\", \"energy\", \"development\", \"area\", \"policy\", \"study\", \"green\", \"level\", \"use\", \"low\", \"carbon\", \"system\", \"high\", \"low_carbon\", \"increase\", \"research\", \"planning\", \"characteristic\", \"energy_consumption\", \"effect\", \"strategy\", \"base\", \"environmental\", \"impact\", \"reduce\", \"relationship\", \"national\", \"plan\", \"city\", \"effect\", \"impact\", \"model\", \"different\", \"analysis\", \"promote\", \"show\", \"datum\", \"industrial\", \"provide\", \"analyze\", \"economic\", \"significant\", \"relate\", \"time\", \"important\", \"first\", \"support\", \"estimate\", \"implementation\", \"contribute\", \"economic_development\", \"mechanism\", \"experience\", \"assessment\", \"strong\", \"importance\", \"accord\", \"enhance\", \"base\", \"also\", \"perspective\", \"paper\", \"industry\", \"result\", \"find\", \"use\", \"high\", \"increase\", \"reduce\", \"building\", \"measure\", \"develop\", \"large\", \"achieve\", \"local\", \"affect\", \"focus\", \"energy_efficiency\", \"assess\", \"evidence\", \"less\", \"work\", \"northern\", \"municipality\", \"balance\", \"require\", \"obtain\", \"similar\", \"interest\", \"european\", \"application\", \"phase\", \"technique\", \"series\", \"guideline\", \"compare\", \"result\", \"find\", \"also\", \"urban\", \"study\", \"method\", \"structure\", \"current\", \"suggest\", \"function\", \"problem\", \"carbon_emission_reduction\", \"rapid\", \"pathway\", \"carry\", \"ecosystem\", \"meanwhile\", \"hotspot\", \"highlight\", \"perspective\", \"green_space\", \"co_emission\", \"resident\", \"transportation\", \"density\", \"decrease\", \"household\", \"present\", \"identify\", \"apply\", \"transport\", \"space\", \"environment\", \"emission\", \"base\", \"new\", \"sustainable\", \"analyze\", \"however\", \"approach\", \"propose\", \"scale\", \"change\", \"land_use\", \"development\", \"system\", \"low_carbon\", \"type\", \"include\", \"pattern\", \"construction\", \"low_carbon_development\", \"then\", \"build\", \"economic_growth\", \"aspect\", \"discussion\", \"advantage\", \"index_system\", \"summarize\", \"rational\", \"establish\", \"way\", \"paper\", \"industry\", \"stage\", \"growth\", \"co_emission\", \"unit\", \"evaluate\", \"network\", \"resource\", \"co\", \"transition\", \"emission\", \"play\", \"importance\", \"also\", \"focus\", \"however\", \"approach\", \"propose\", \"strategy\", \"design\", \"technology\", \"potential\", \"as_well\", \"lead\", \"indicator\", \"role\", \"community\", \"exist\", \"key\", \"concept\", \"standard\", \"discuss\", \"whole\", \"worldwide\", \"carbon_neutrality\", \"initiative\", \"together\", \"sustainable\", \"researcher\", \"principle\", \"chapter\", \"new\", \"planning_design\", \"future\", \"introduce\", \"sector\", \"plant\", \"production\", \"emission\", \"focus\", \"make\", \"energy\", \"level\", \"environmental\", \"project\", \"district\", \"greenhouse_gas_emission\", \"neighbourhood\", \"complex\", \"wide\", \"consequently\", \"paper_examine\", \"involvement\", \"positive_energy\", \"collaboration\", \"highlight\", \"compare\", \"net\", \"integrate\", \"hydrogen\", \"exergy\", \"emission\", \"stage\", \"therefore\", \"resident\", \"production\", \"household\", \"unit\", \"evaluate\", \"network\", \"resource\", \"new\", \"however\", \"approach\", \"propose\", \"scale\", \"change\", \"land_use\", \"more\", \"urbanization\", \"environment\", \"most\", \"process\", \"low\", \"carbon\", \"research\", \"planning\", \"trend\", \"innovation\", \"practice\", \"path\", \"domestic\", \"paper_analyze\", \"progress\", \"low_carbon_technology\", \"low_carbon_urban\", \"crisis\", \"sum\", \"future\", \"emission\", \"urban_agglomeration\", \"density\", \"unit\", \"identify\", \"transport\", \"co\", \"transition\", \"space\", \"result_show\", \"value\", \"consumption\", \"land\", \"country\", \"measure\", \"however\", \"approach\", \"propose\", \"scale\", \"change\", \"land_use\", \"more\", \"urbanization\", \"most\", \"process\", \"factor\", \"energy_consumption\", \"plan\", \"make\", \"climate_change\", \"well\", \"economy\", \"industrial_structure\", \"people\", \"define\", \"opportunity\", \"sustainability\", \"solution\", \"low_carbon_economy\", \"attention\", \"call\", \"example\", \"core\", \"article\", \"layout\", \"global_warming\", \"rely\", \"seek\", \"idea\", \"creation\", \"background\", \"foundation\", \"further_research\", \"connotation\", \"way\", \"risk\", \"urbanization\", \"emission\", \"area\", \"case\", \"positive\", \"challenge\", \"thus\", \"give\", \"select\", \"face\", \"program\", \"field\", \"energy_transition\", \"dimension\", \"topic\", \"illustrate\", \"contemporary\", \"account\", \"cargo_bike\", \"co_emission\", \"resident\", \"density\", \"identify\", \"co\", \"cost\", \"space\", \"emission\", \"performance\", \"result_show\", \"value\", \"land\", \"scenario\", \"however\", \"approach\", \"propose\", \"scale\", \"change\", \"land_use\", \"more\", \"urbanization\", \"most\", \"process\", \"need\", \"factor\", \"carbon_emission\", \"regional\", \"control\", \"necessary\", \"decouple\", \"circular_economy\", \"urban_agglomeration\", \"growth\", \"space\", \"land\", \"intensity\", \"land_use\", \"efficiency\", \"scale\", \"factor\", \"region\", \"explore\", \"improve\", \"change\", \"other\", \"spatial\", \"urbanization\", \"more\", \"demarcation\", \"enforcement\", \"mitigate_climate_change\", \"overseas\", \"popularity\", \"zero\", \"energy_crisis\", \"co_emission\", \"emission\", \"aspect\", \"background\", \"carbon\", \"climate_change\", \"community\", \"policy\", \"national\", \"pilot\", \"indicate\", \"issue\", \"institutional\", \"emission\", \"drive\", \"regard\", \"examine\", \"national_level\", \"transportation\", \"decrease\", \"transport\", \"consumption\", \"country\", \"co_emission\", \"intensity\", \"most\", \"process\", \"approach\", \"explore\", \"however\", \"such\", \"change\", \"other\", \"spatial\", \"urbanization\", \"more\", \"demarcation\", \"aspect\", \"characteristic\", \"ecological\", \"order\", \"construct\", \"demonstrate\", \"theory\", \"situation\", \"rapidly\", \"actual\", \"put_forward\", \"advance\", \"sense\", \"firstly\", \"urbanism\", \"lastly\", \"advice\", \"traffic\", \"carbon_sink\", \"road\", \"vehicle\", \"resident\", \"space\", \"environment\", \"performance\", \"land\", \"need\", \"land_use\", \"propose\", \"influence\", \"consider\", \"emission\", \"however\", \"scale\", \"change\", \"more\", \"urbanization\", \"factor\", \"green\", \"pilot_policy\", \"significantly_improve\", \"technological_innovation\", \"stress\", \"input_output\", \"beach\", \"environment\", \"efficiency\", \"improve\", \"green_space\", \"demarcation\", \"enforcement\", \"mitigate_climate_change\", \"overseas\", \"popularity\", \"zero\", \"energy_crisis\", \"gradually\", \"notion\", \"road_transport\", \"overview\", \"variety\", \"character\", \"flow\", \"integrity\", \"material_flow\", \"about\", \"baseline\", \"comparable\", \"more\", \"emission\", \"aspect\", \"background\", \"carbon\", \"climate_change\", \"community\", \"concept\", \"construction\", \"crisis\", \"development\", \"domestic\", \"future\", \"global_warming\", \"important\", \"innovation\", \"key\", \"relationship\", \"put\", \"new_urbanization\", \"ecological_carrying_capacity\", \"transportation\", \"density\", \"co_emission\", \"land\", \"spatial\", \"demarcation\", \"enforcement\", \"mitigate_climate_change\", \"overseas\", \"popularity\", \"zero\", \"energy_crisis\", \"gradually\", \"notion\", \"road_transport\", \"overview\", \"variety\", \"character\", \"flow\", \"integrity\", \"material_flow\", \"about\", \"baseline\", \"comparable\", \"difference_difference\", \"dynamically\", \"urbanization\", \"more\", \"emission\", \"aspect\", \"background\", \"carbon\", \"climate_change\", \"community\", \"concept\", \"construction\", \"crisis\", \"development\", \"domestic\", \"future\", \"global_warming\", \"important\", \"innovation\", \"key\", \"low\", \"context\", \"approach\", \"demarcation\", \"enforcement\", \"mitigate_climate_change\", \"overseas\", \"popularity\", \"zero\", \"energy_crisis\", \"gradually\", \"notion\", \"road_transport\", \"overview\", \"variety\", \"character\", \"flow\", \"integrity\", \"material_flow\", \"about\", \"baseline\", \"comparable\", \"difference_difference\", \"dynamically\", \"econometric\", \"estimator\", \"here\", \"imply\", \"industrialize\", \"little\", \"opposite\", \"aspect\", \"background\", \"carbon\", \"climate_change\", \"community\", \"concept\", \"construction\", \"crisis\", \"development\", \"domestic\", \"future\", \"global_warming\", \"important\", \"innovation\", \"key\", \"low\", \"low_carbon_city\", \"low_carbon_technology\", \"low_carbon_urban\", \"measure\", \"mechanism\", \"paper_analyze\", \"path\", \"planning\", \"demarcation\", \"enforcement\", \"mitigate_climate_change\", \"overseas\", \"popularity\", \"zero\", \"energy_crisis\", \"gradually\", \"notion\", \"road_transport\", \"overview\", \"variety\", \"character\", \"flow\", \"integrity\", \"material_flow\", \"about\", \"baseline\", \"comparable\", \"difference_difference\", \"dynamically\", \"econometric\", \"estimator\", \"here\", \"imply\", \"industrialize\", \"little\", \"opposite\", \"percentage_point\", \"persistence\", \"aspect\", \"background\", \"carbon\", \"climate_change\", \"community\", \"concept\", \"construction\", \"crisis\", \"development\", \"domestic\", \"future\", \"global_warming\", \"important\", \"innovation\", \"key\", \"low\", \"low_carbon_city\", \"low_carbon_technology\", \"low_carbon_urban\", \"measure\", \"mechanism\", \"paper_analyze\", \"path\", \"planning\", \"practice\", \"demarcation\", \"enforcement\", \"mitigate_climate_change\", \"overseas\", \"popularity\", \"zero\", \"energy_crisis\", \"gradually\", \"notion\", \"road_transport\", \"overview\", \"variety\", \"character\", \"flow\", \"integrity\", \"material_flow\", \"about\", \"baseline\", \"comparable\", \"difference_difference\", \"dynamically\", \"econometric\", \"estimator\", \"here\", \"imply\", \"industrialize\", \"little\", \"opposite\", \"percentage_point\", \"persistence\", \"aspect\", \"background\", \"carbon\", \"climate_change\", \"community\", \"concept\", \"construction\", \"crisis\", \"development\", \"domestic\", \"future\", \"global_warming\", \"important\", \"innovation\", \"key\", \"low\", \"low_carbon_city\", \"low_carbon_technology\", \"low_carbon_urban\", \"measure\", \"mechanism\", \"paper_analyze\", \"path\", \"planning\", \"practice\", \"demarcation\", \"enforcement\", \"mitigate_climate_change\", \"overseas\", \"popularity\", \"zero\", \"energy_crisis\", \"gradually\", \"notion\", \"road_transport\", \"overview\", \"variety\", \"character\", \"flow\", \"integrity\", \"material_flow\", \"about\", \"baseline\", \"comparable\", \"difference_difference\", \"dynamically\", \"econometric\", \"estimator\", \"here\", \"imply\", \"industrialize\", \"little\", \"opposite\", \"percentage_point\", \"persistence\", \"aspect\", \"background\", \"carbon\", \"climate_change\", \"community\", \"concept\", \"construction\", \"crisis\", \"development\", \"domestic\", \"future\", \"global_warming\", \"important\", \"innovation\", \"key\", \"low\", \"low_carbon_city\", \"low_carbon_technology\", \"low_carbon_urban\", \"measure\", \"mechanism\", \"paper_analyze\", \"path\", \"planning\", \"practice\", \"demarcation\", \"enforcement\", \"mitigate_climate_change\", \"overseas\", \"popularity\", \"zero\", \"energy_crisis\", \"gradually\", \"notion\", \"road_transport\", \"overview\", \"variety\", \"character\", \"flow\", \"integrity\", \"material_flow\", \"about\", \"baseline\", \"comparable\", \"difference_difference\", \"dynamically\", \"econometric\", \"estimator\", \"here\", \"imply\", \"industrialize\", \"little\", \"opposite\", \"percentage_point\", \"persistence\", \"aspect\", \"background\", \"carbon\", \"climate_change\", \"community\", \"concept\", \"construction\", \"crisis\", \"development\", \"domestic\", \"future\", \"global_warming\", \"important\", \"innovation\", \"key\", \"low\", \"low_carbon_city\", \"low_carbon_technology\", \"low_carbon_urban\", \"measure\", \"mechanism\", \"paper_analyze\", \"path\", \"planning\", \"practice\", \"demarcation\", \"enforcement\", \"mitigate_climate_change\", \"overseas\", \"popularity\", \"zero\", \"energy_crisis\", \"gradually\", \"notion\", \"road_transport\", \"overview\", \"variety\", \"character\", \"flow\", \"integrity\", \"material_flow\", \"about\", \"baseline\", \"comparable\", \"difference_difference\", \"dynamically\", \"econometric\", \"estimator\", \"here\", \"imply\", \"industrialize\", \"little\", \"opposite\", \"percentage_point\", \"persistence\", \"aspect\", \"background\", \"carbon\", \"climate_change\", \"community\", \"concept\", \"construction\", \"crisis\", \"development\", \"domestic\", \"future\", \"global_warming\", \"important\", \"innovation\", \"key\", \"low\", \"low_carbon_city\", \"low_carbon_technology\", \"low_carbon_urban\", \"measure\", \"mechanism\", \"paper_analyze\", \"path\", \"planning\", \"practice\", \"demarcation\", \"enforcement\", \"mitigate_climate_change\", \"overseas\", \"popularity\", \"zero\", \"energy_crisis\", \"gradually\", \"notion\", \"road_transport\", \"overview\", \"variety\", \"character\", \"flow\", \"integrity\", \"material_flow\", \"about\", \"baseline\", \"comparable\", \"difference_difference\", \"dynamically\", \"econometric\", \"estimator\", \"here\", \"imply\", \"industrialize\", \"little\", \"opposite\", \"percentage_point\", \"persistence\", \"aspect\", \"background\", \"carbon\", \"climate_change\", \"community\", \"concept\", \"construction\", \"crisis\", \"development\", \"domestic\", \"future\", \"global_warming\", \"important\", \"innovation\", \"key\", \"low\", \"low_carbon_city\", \"low_carbon_technology\", \"low_carbon_urban\", \"measure\", \"mechanism\", \"paper_analyze\", \"path\", \"planning\", \"practice\", \"demarcation\", \"enforcement\", \"mitigate_climate_change\", \"overseas\", \"popularity\", \"zero\", \"energy_crisis\", \"gradually\", \"notion\", \"road_transport\", \"overview\", \"variety\", \"character\", \"flow\", \"integrity\", \"material_flow\", \"about\", \"baseline\", \"comparable\", \"difference_difference\", \"dynamically\", \"econometric\", \"estimator\", \"here\", \"imply\", \"industrialize\", \"little\", \"opposite\", \"percentage_point\", \"persistence\", \"aspect\", \"background\", \"carbon\", \"climate_change\", \"community\", \"concept\", \"construction\", \"crisis\", \"development\", \"domestic\", \"future\", \"global_warming\", \"important\", \"innovation\", \"key\", \"low\", \"low_carbon_city\", \"low_carbon_technology\", \"low_carbon_urban\", \"measure\", \"mechanism\", \"paper_analyze\", \"path\", \"planning\", \"practice\", \"demarcation\", \"enforcement\", \"mitigate_climate_change\", \"overseas\", \"popularity\", \"zero\", \"energy_crisis\", \"gradually\", \"notion\", \"road_transport\", \"overview\", \"variety\", \"character\", \"flow\", \"integrity\", \"material_flow\", \"about\", \"baseline\", \"comparable\", \"difference_difference\", \"dynamically\", \"econometric\", \"estimator\", \"here\", \"imply\", \"industrialize\", \"little\", \"opposite\", \"percentage_point\", \"persistence\", \"aspect\", \"background\", \"carbon\", \"climate_change\", \"community\", \"concept\", \"construction\", \"crisis\", \"development\", \"domestic\", \"future\", \"global_warming\", \"important\", \"innovation\", \"key\", \"low\", \"low_carbon_city\", \"low_carbon_technology\", \"low_carbon_urban\", \"measure\", \"mechanism\", \"paper_analyze\", \"path\", \"planning\", \"practice\", \"demarcation\", \"enforcement\", \"mitigate_climate_change\", \"overseas\", \"popularity\", \"zero\", \"energy_crisis\", \"gradually\", \"notion\", \"road_transport\", \"overview\", \"variety\", \"character\", \"flow\", \"integrity\", \"material_flow\", \"about\", \"baseline\", \"comparable\", \"difference_difference\", \"dynamically\", \"econometric\", \"estimator\", \"here\", \"imply\", \"industrialize\", \"little\", \"opposite\", \"percentage_point\", \"persistence\", \"aspect\", \"background\", \"carbon\", \"climate_change\", \"community\", \"concept\", \"construction\", \"crisis\", \"development\", \"domestic\", \"future\", \"global_warming\", \"important\", \"innovation\", \"key\", \"low\", \"low_carbon_city\", \"low_carbon_technology\", \"low_carbon_urban\", \"measure\", \"mechanism\", \"paper_analyze\", \"path\", \"planning\", \"practice\", \"demarcation\", \"enforcement\", \"mitigate_climate_change\", \"overseas\", \"popularity\", \"zero\", \"energy_crisis\", \"gradually\", \"notion\", \"road_transport\", \"overview\", \"variety\", \"character\", \"flow\", \"integrity\", \"material_flow\", \"about\", \"baseline\", \"comparable\", \"difference_difference\", \"dynamically\", \"econometric\", \"estimator\", \"here\", \"imply\", \"industrialize\", \"little\", \"opposite\", \"percentage_point\", \"persistence\", \"aspect\", \"background\", \"carbon\", \"climate_change\", \"community\", \"concept\", \"construction\", \"crisis\", \"development\", \"domestic\", \"future\", \"global_warming\", \"important\", \"innovation\", \"key\", \"low\", \"low_carbon_city\", \"low_carbon_technology\", \"low_carbon_urban\", \"measure\", \"mechanism\", \"paper_analyze\", \"path\", \"planning\", \"practice\", \"demarcation\", \"enforcement\", \"mitigate_climate_change\", \"overseas\", \"popularity\", \"zero\", \"energy_crisis\", \"gradually\", \"notion\", \"road_transport\", \"overview\", \"variety\", \"character\", \"flow\", \"integrity\", \"material_flow\", \"about\", \"baseline\", \"comparable\", \"difference_difference\", \"dynamically\", \"econometric\", \"estimator\", \"here\", \"imply\", \"industrialize\", \"little\", \"opposite\", \"percentage_point\", \"persistence\", \"aspect\", \"background\", \"carbon\", \"climate_change\", \"community\", \"concept\", \"construction\", \"crisis\", \"development\", \"domestic\", \"future\", \"global_warming\", \"important\", \"innovation\", \"key\", \"low\", \"low_carbon_city\", \"low_carbon_technology\", \"low_carbon_urban\", \"measure\", \"mechanism\", \"paper_analyze\", \"path\", \"planning\", \"practice\", \"demarcation\", \"enforcement\", \"mitigate_climate_change\", \"overseas\", \"popularity\", \"zero\", \"energy_crisis\", \"gradually\", \"notion\", \"road_transport\", \"overview\", \"variety\", \"character\", \"flow\", \"integrity\", \"material_flow\", \"about\", \"baseline\", \"comparable\", \"difference_difference\", \"dynamically\", \"econometric\", \"estimator\", \"here\", \"imply\", \"industrialize\", \"little\", \"opposite\", \"percentage_point\", \"persistence\", \"aspect\", \"background\", \"carbon\", \"climate_change\", \"community\", \"concept\", \"construction\", \"crisis\", \"development\", \"domestic\", \"future\", \"global_warming\", \"important\", \"innovation\", \"key\", \"low\", \"low_carbon_city\", \"low_carbon_technology\", \"low_carbon_urban\", \"measure\", \"mechanism\", \"paper_analyze\", \"path\", \"planning\", \"practice\", \"demarcation\", \"enforcement\", \"mitigate_climate_change\", \"overseas\", \"popularity\", \"zero\", \"energy_crisis\", \"gradually\", \"notion\", \"road_transport\", \"overview\", \"variety\", \"character\", \"flow\", \"integrity\", \"material_flow\", \"about\", \"baseline\", \"comparable\", \"difference_difference\", \"dynamically\", \"econometric\", \"estimator\", \"here\", \"imply\", \"industrialize\", \"little\", \"opposite\", \"percentage_point\", \"persistence\", \"aspect\", \"background\", \"carbon\", \"climate_change\", \"community\", \"concept\", \"construction\", \"crisis\", \"development\", \"domestic\", \"future\", \"global_warming\", \"important\", \"innovation\", \"key\", \"low\", \"low_carbon_city\", \"low_carbon_technology\", \"low_carbon_urban\", \"measure\", \"mechanism\", \"paper_analyze\", \"path\", \"planning\", \"practice\", \"demarcation\", \"enforcement\", \"mitigate_climate_change\", \"overseas\", \"popularity\", \"zero\", \"energy_crisis\", \"gradually\", \"notion\", \"road_transport\", \"overview\", \"variety\", \"character\", \"flow\", \"integrity\", \"material_flow\", \"about\", \"baseline\", \"comparable\", \"difference_difference\", \"dynamically\", \"econometric\", \"estimator\", \"here\", \"imply\", \"industrialize\", \"little\", \"opposite\", \"percentage_point\", \"persistence\", \"aspect\", \"background\", \"carbon\", \"climate_change\", \"community\", \"concept\", \"construction\", \"crisis\", \"development\", \"domestic\", \"future\", \"global_warming\", \"important\", \"innovation\", \"key\", \"low\", \"low_carbon_city\", \"low_carbon_technology\", \"low_carbon_urban\", \"measure\", \"mechanism\", \"paper_analyze\", \"path\", \"planning\", \"practice\", \"demarcation\", \"enforcement\", \"mitigate_climate_change\", \"overseas\", \"popularity\", \"zero\", \"energy_crisis\", \"gradually\", \"notion\", \"road_transport\", \"overview\", \"variety\", \"character\", \"flow\", \"integrity\", \"material_flow\", \"about\", \"baseline\", \"comparable\", \"difference_difference\", \"dynamically\", \"econometric\", \"estimator\", \"here\", \"imply\", \"industrialize\", \"little\", \"opposite\", \"percentage_point\", \"persistence\", \"aspect\", \"background\", \"carbon\", \"climate_change\", \"community\", \"concept\", \"construction\", \"crisis\", \"development\", \"domestic\", \"future\", \"global_warming\", \"important\", \"innovation\", \"key\", \"low\", \"low_carbon_city\", \"low_carbon_technology\", \"low_carbon_urban\", \"measure\", \"mechanism\", \"paper_analyze\", \"path\", \"planning\", \"practice\"], \"Freq\": [10790.0, 4595.0, 12542.0, 4546.0, 5086.0, 3328.0, 2979.0, 4230.0, 2301.0, 3418.0, 4915.0, 3256.0, 2420.0, 2800.0, 3258.0, 2486.0, 2947.0, 1905.0, 1809.0, 1122.0, 1376.0, 3347.0, 1632.0, 3894.0, 1418.0, 2927.0, 1844.0, 668.0, 975.0, 1113.0, 12541.339679427105, 3346.6690109023866, 2927.024343287791, 2446.7080039010684, 2113.465123206892, 2088.1947806286635, 2042.848552205063, 1759.9830956917324, 1649.4948110389382, 1591.2186377833198, 1259.9624658810576, 1245.9928186117452, 1165.4093330605792, 1137.916601900237, 942.7215940688253, 894.034309150388, 831.108558322883, 808.3429797686152, 752.0716489760847, 669.3338485285187, 642.8417715806446, 609.8964830322507, 607.3832025556947, 589.0859227966336, 573.0165354495952, 518.0367507639746, 463.648280183238, 452.14846210172794, 402.7340922848149, 396.7081806578974, 3788.95098886685, 1713.0150334316434, 1104.0002639507793, 1215.4204918447592, 796.3015848240811, 1587.2627165850947, 895.3496086284833, 4914.83070096554, 3257.5592636710057, 2946.245504360416, 1843.068447193932, 1430.2020799405182, 1320.4369495306114, 1222.8043989594016, 1060.0843907612896, 990.8233747785866, 842.2405367129613, 769.5340103803877, 743.7860404618579, 605.5150654128538, 577.2342455263117, 533.4400179893197, 460.6493418345289, 436.7272894869655, 403.55478160679536, 356.2510148278506, 328.334332621845, 326.6609135128905, 320.5799876062263, 299.93727741856253, 282.2226456952211, 232.35978363897078, 197.97125256800703, 192.27502577260353, 150.81418669493365, 130.17235750844807, 128.86938518524195, 747.6507368562078, 823.3492000288288, 245.73188950634506, 248.85128732330708, 10789.946353398163, 4229.424068810575, 1383.121570535152, 881.7847279423377, 505.5004115242181, 408.6775761910944, 403.81134792034084, 365.92653576502374, 341.4360585381086, 220.40229542995317, 181.62656642660332, 170.5119799134938, 116.50946448130986, 77.06591850541204, 21.214091326789728, 274.9217529731636, 134.9428062823649, 0.0645428879255011, 0.0645428879255011, 0.06454287827280639, 0.06454287827280639, 0.06454287827280639, 0.06454287827280639, 0.06454287827280639, 0.06454287827280639, 0.06454287827280639, 0.06454287827280639, 0.06454287827280639, 0.06454287827280639, 0.06454287827280639, 0.06454289275184845, 104.47763907114823, 26.74420753723906, 11.573905280061453, 0.06501538733123835, 0.06454287827280639, 0.06454287827280639, 0.06454287827280639, 0.06454287827280639, 0.06454287827280639, 0.06454287827280639, 5085.534439225077, 2799.278729391059, 2485.2740336126512, 1173.8774288699929, 1026.3889727581652, 954.6329458792507, 808.1657223119398, 730.3995387758716, 685.2883779039339, 572.2482596491584, 524.0926077125345, 256.2432604133699, 222.69345439974023, 191.57120875088077, 100.65081926361748, 87.41598499312597, 67.33791360345728, 323.1929326836911, 119.0276232986488, 207.78308797039298, 95.9736359706292, 0.07264032215020079, 0.07264032215020079, 0.07264033086600696, 0.07264032215020079, 0.07264032215020079, 0.07264032215020079, 0.07264032215020079, 0.07264032215020079, 0.07264032215020079, 0.07264033522391006, 0.0729365941918976, 0.07273155920933096, 0.07272978990067568, 0.07264453624249056, 0.07264032215020079, 0.07264032215020079, 0.07264032215020079, 1631.919641633828, 1252.6665104363944, 1012.3608917514061, 931.6501185404436, 912.3797029848429, 900.2785045554108, 857.4328054865974, 802.9711080438776, 793.4096383127323, 552.1894947842333, 523.3935204824885, 491.466398790572, 439.8981316152785, 300.61490393065685, 295.8997483337355, 179.61438519178873, 162.79461622236937, 134.26737167112293, 113.16399701404085, 1080.2363001304482, 72.32829325805133, 65.90433723627761, 36.14199585579012, 1227.936265364258, 6.604500855333128, 1028.1032539096302, 127.87017891355846, 0.07369540966395505, 0.07369540966395505, 0.07369540966395505, 0.07369542475402445, 0.11024805459639699, 0.07403271044026433, 4546.053964715039, 3417.7118121516337, 1418.0380749359203, 774.3899880148402, 617.2414782525788, 341.4032989411521, 321.0198219879883, 302.20632143190784, 159.196394358648, 109.10625585036526, 37.22865367039135, 22.140278572264265, 19.197578587821607, 9.78627294145135, 103.19509271764421, 179.07902090940263, 0.06338254114295085, 0.06338254114295085, 0.06338254114295085, 0.06338254114295085, 0.06338255884002449, 0.06338254114295085, 0.06338254114295085, 0.06338254114295085, 0.06338254114295085, 0.06338254114295085, 0.06338254114295085, 0.06338254114295085, 0.06338254114295085, 0.06338254114295085, 28.39512019634351, 0.06338254114295085, 0.06338254114295085, 0.06338254114295085, 0.06338254114295085, 0.06338254114295085, 0.06338254114295085, 0.06338254114295085, 0.06338254114295085, 0.06338254114295085, 0.06338254114295085, 0.06338254114295085, 3255.840538209901, 2419.7586403025666, 1904.5740828102457, 1808.3215508310623, 863.9206709667773, 339.25965795670896, 273.8609175180687, 234.98575052238263, 154.65991835174046, 103.88745160561388, 103.00749848706943, 53.26567109894296, 40.294517480260204, 28.97626906542136, 23.100464444819707, 170.05389428126625, 0.06987592649411109, 0.06987590393391321, 0.06987590393391321, 0.06987590393391321, 0.06987590393391321, 0.06987590393391321, 0.06987590393391321, 0.06987590393391321, 0.06987590393391321, 0.06987590393391321, 0.06987590393391321, 0.06987590393391321, 0.06987590393391321, 0.06987590393391321, 0.06987604493514996, 0.06987590393391321, 0.06987590393391321, 0.06987590393391321, 0.06987590393391321, 0.06987590393391321, 0.06987590393391321, 0.06987590393391321, 0.06987590393391321, 0.06987590393391321, 0.06987590393391321, 0.06987590393391321, 1376.0083566815574, 1112.9423740525317, 858.2668895664126, 698.7545316238954, 693.074018983053, 550.5157398059814, 430.25010949535493, 412.52145542436614, 349.19291130829146, 329.27039825543324, 320.8124882685291, 307.286683623954, 252.4860865821614, 172.52807596250642, 165.5647372260664, 157.3138726576282, 147.36122619515197, 135.48311975931605, 127.23318228731628, 108.13023166519653, 100.08353943418248, 78.92160859322483, 71.17251431894451, 52.13473123310775, 48.4613410751737, 39.810461931074016, 36.437272025322144, 29.419252957360506, 52.78051356709153, 0.07188328881681492, 0.07188329329883283, 0.07188330226286863, 3327.8209441729023, 749.1123106373686, 586.634660373883, 489.7053990306354, 439.2259807429641, 437.754797811505, 371.6093174150485, 182.8388664591248, 180.7358967156808, 171.13806808297488, 147.3532974048126, 139.1793102659022, 119.31457203437475, 45.670241970598646, 20.18362101904266, 0.06057817812588391, 0.06057817812588391, 0.06057818535639262, 0.06057817812588391, 0.06057817812588391, 0.06057817812588391, 0.06057817812588391, 0.06057817812588391, 0.06057817812588391, 0.06057819258690134, 0.06057817812588391, 0.06057817812588391, 0.06057817812588391, 0.06057817812588391, 0.06057817812588391, 0.06057817812588391, 0.06057817812588391, 0.06057817812588391, 0.06057817812588391, 0.06057817812588391, 0.06057817812588391, 0.06057817812588391, 0.06057817812588391, 0.06057817812588391, 0.06057817812588391, 0.06057817812588391, 0.06057817812588391, 4594.744589191157, 710.0945317707174, 406.8036290285825, 119.77620533469337, 0.055264434842033555, 0.055264434842033555, 0.055264434842033555, 0.055264434842033555, 0.055264434842033555, 0.055264434842033555, 0.055264434842033555, 0.055264434842033555, 0.055264434842033555, 0.055264434842033555, 0.055264434842033555, 0.055264434842033555, 0.055264434842033555, 0.055264434842033555, 0.055264434842033555, 0.055264434842033555, 0.055264434842033555, 0.055264434842033555, 0.055264434842033555, 0.055264429088334496, 0.055264429088334496, 0.055264429088334496, 0.055264429088334496, 0.055264429088334496, 0.055264429088334496, 0.055264429088334496, 0.055264434842033555, 0.05526444059573262, 0.055264429088334496, 0.055264429088334496, 0.055264429088334496, 0.055264429088334496, 0.055264429088334496, 2978.223842452412, 974.5403861963069, 571.3552998461121, 416.3424583233846, 292.05279687669963, 178.83943957304584, 0.07073737832782469, 0.07073735633771662, 0.07073735633771662, 0.07073735633771662, 0.07073735633771662, 0.07073735633771662, 0.07073735633771662, 0.07073735633771662, 0.07073735633771662, 0.07073735633771662, 0.07073736183524364, 0.07073735633771662, 0.07073735633771662, 0.07073735633771662, 0.07073735633771662, 0.07073735633771662, 0.07073735633771662, 0.07073735633771662, 0.07073735633771662, 0.07073735633771662, 0.07073735633771662, 0.07073735633771662, 0.07073735633771662, 0.07073734534266259, 0.07073734534266259, 1121.2442785730932, 685.0818350807631, 468.1915476188825, 402.10336635319925, 320.82752114584594, 318.4756182461444, 184.7643456224589, 170.59247239989486, 108.35800027909033, 89.73764134355443, 85.59607645894071, 60.90366162578904, 37.79009138079314, 29.576462644748172, 15.204809190729371, 7.3886626393636785, 0.06566646318943187, 0.06566646318943187, 0.06566646318943187, 0.06566646318943187, 0.06566646318943187, 0.06566646318943187, 0.06566646318943187, 0.06566646318943187, 0.06566646318943187, 0.06566646318943187, 0.06566646318943187, 0.06566646318943187, 0.06566646318943187, 0.06566646318943187, 0.06566647172599793, 0.06566646318943187, 0.06566646318943187, 0.06566646318943187, 0.06566646318943187, 0.06566646318943187, 0.06566646318943187, 2300.441594028498, 275.04682846483763, 49.481542449783504, 26.75046748096478, 0.06569258394211965, 0.06569258394211965, 0.06569258394211965, 0.06569258394211965, 0.06569258394211965, 0.06569258394211965, 0.06569258394211965, 0.06569257804871828, 0.06569257804871828, 0.06569257804871828, 0.06569257804871828, 0.06569257804871828, 0.06569257804871828, 0.06569257804871828, 0.06569257804871828, 0.06569257804871828, 0.06569257804871828, 0.06569257804871828, 0.06569257804871828, 0.06569257804871828, 0.06569257804871828, 0.06569257804871828, 0.06569257804871828, 0.06569257804871828, 0.06569257804871828, 0.06569257804871828, 0.06569258394211965, 0.06569258394211965, 0.06569257804871828, 0.06569257804871828, 0.06569257804871828, 0.06569257804871828, 0.06569257804871828, 0.06569257804871828, 0.06569257804871828, 0.06569257804871828, 0.06569257804871828, 0.06569257804871828, 0.06569257804871828, 0.06569257804871828, 0.06569257804871828, 0.06569257804871828, 0.06569257804871828, 667.6162487312354, 65.04730454473484, 0.04143538673858056, 0.04143538673858056, 0.04143538673858056, 0.04143538673858056, 0.04143539075403118, 0.04143538673858056, 0.04143538673858056, 0.041435382723129945, 0.041435382723129945, 0.041435382723129945, 0.041435382723129945, 0.041435382723129945, 0.041435382723129945, 0.041435382723129945, 0.041435382723129945, 0.041435382723129945, 0.041435382723129945, 0.041435382723129945, 0.041435382723129945, 0.041435382723129945, 0.041435382723129945, 0.041435382723129945, 0.041435382723129945, 0.041435382723129945, 0.041435382723129945, 0.041435382723129945, 0.041435382723129945, 0.041435382723129945, 0.04143538673858056, 0.04143538673858056, 0.04143538673858056, 0.041435382723129945, 0.041435382723129945, 0.041435382723129945, 0.041435382723129945, 0.041435382723129945, 0.041435382723129945, 0.041435382723129945, 0.041435382723129945, 0.041435382723129945, 0.041435382723129945, 0.041435382723129945, 0.041435382723129945, 0.041435382723129945, 0.041435382723129945, 0.041435382723129945, 0.041435382723129945, 306.79431845511886, 0.045209723160095874, 0.045209717981521215, 0.045209717981521215, 0.045209717981521215, 0.045209717981521215, 0.045209717981521215, 0.045209717981521215, 0.045209717981521215, 0.045209717981521215, 0.045209717981521215, 0.045209717981521215, 0.045209717981521215, 0.045209717981521215, 0.045209717981521215, 0.045209717981521215, 0.045209717981521215, 0.045209717981521215, 0.045209717981521215, 0.045209717981521215, 0.045209717981521215, 0.045209717981521215, 0.045209717981521215, 0.045209717981521215, 0.045209717981521215, 0.045209717981521215, 0.045209717981521215, 0.045209717981521215, 0.045209717981521215, 0.045209717981521215, 0.045209717981521215, 0.045209717981521215, 0.045209717981521215, 0.045209717981521215, 0.045209717981521215, 0.045209717981521215, 0.045209717981521215, 0.045209717981521215, 0.045209717981521215, 0.045209717981521215, 0.045209717981521215, 0.045209717981521215, 0.045209717981521215, 0.045209717981521215, 0.045209717981521215, 0.045209717981521215, 0.045209717981521215, 0.045209717981521215, 0.045209717981521215, 0.045209717981521215, 0.045209717981521215, 0.045209717981521215, 0.045209717981521215, 0.045209717981521215, 0.0027337982496905147, 0.0027337982496905147, 0.0027337982496905147, 0.0027337982496905147, 0.0027337982496905147, 0.0027337982496905147, 0.0027337982496905147, 0.0027337982496905147, 0.0027337982496905147, 0.0027337982496905147, 0.0027337982496905147, 0.0027337982496905147, 0.0027337982496905147, 0.0027337982496905147, 0.0027337982496905147, 0.0027337982496905147, 0.0027337982496905147, 0.0027337982496905147, 0.0027337982496905147, 0.0027337982496905147, 0.0027337982496905147, 0.0027337982496905147, 0.0027337982496905147, 0.0027337982496905147, 0.0027337982496905147, 0.0027337982496905147, 0.0027337982496905147, 0.0027337982496905147, 0.0027337982496905147, 0.0027337982496905147, 0.0027337982496905147, 0.0027337982496905147, 0.0027337982496905147, 0.0027337982496905147, 0.0027337982496905147, 0.0027337982496905147, 0.0027337982496905147, 0.0027337982496905147, 0.0027337982496905147, 0.0027337982496905147, 0.0027337982496905147, 0.0027337982496905147, 0.0027337982496905147, 0.0027337982496905147, 0.0027337982496905147, 0.0027337982496905147, 0.0027337982496905147, 0.0027337982496905147, 0.0027337982496905147, 0.0027337982496905147, 0.0027337982496905147, 0.0027337982496905147, 0.0027337982496905147, 0.0027337982496905147, 0.0027337982496905147, 0.002651734984314611, 0.002651734984314611, 0.002651734984314611, 0.002651734984314611, 0.002651734984314611, 0.002651734984314611, 0.002651734984314611, 0.002651734984314611, 0.002651734984314611, 0.002651734984314611, 0.002651734984314611, 0.002651734984314611, 0.002651734984314611, 0.002651734984314611, 0.002651734984314611, 0.002651734984314611, 0.002651734984314611, 0.002651734984314611, 0.002651734984314611, 0.002651734984314611, 0.002651734984314611, 0.002651734984314611, 0.002651734984314611, 0.002651734984314611, 0.002651734984314611, 0.002651734984314611, 0.002651734984314611, 0.002651734984314611, 0.002651734984314611, 0.002651734984314611, 0.002651734984314611, 0.002651734984314611, 0.002651734984314611, 0.002651734984314611, 0.002651734984314611, 0.002651734984314611, 0.002651734984314611, 0.002651734984314611, 0.002651734984314611, 0.002651734984314611, 0.002651734984314611, 0.002651734984314611, 0.002651734984314611, 0.002651734984314611, 0.002651734984314611, 0.002651734984314611, 0.002651734984314611, 0.002651734984314611, 0.002651734984314611, 0.002651734984314611, 0.002651734984314611, 0.002651734984314611, 0.002651734984314611, 0.002651734984314611, 0.002651734984314611, 0.002651734984314611, 0.002651734984314611, 0.002651734984314611, 0.002651734984314611, 0.002651734984314611, 0.002651734984314611, 0.002651734984314611, 0.002651734984314611, 0.002651734984314611, 0.002651734984314611, 0.002651734984314611, 0.002651734984314611, 0.002651734984314611, 0.002651734984314611, 0.002651734984314611, 0.002651734984314611, 0.002651734984314611, 0.002651734984314611, 0.002651734984314611, 0.002651734984314611, 0.002651734984314611, 0.002651734984314611, 0.002651734984314611, 0.002651734984314611, 0.002651734984314611, 0.002651734984314611, 0.002651734984314611, 0.002651734984314611, 0.002651734984314611, 0.002651734984314611, 0.002651734984314611, 0.002651734984314611, 0.002651734984314611, 0.002651734984314611, 0.002651734984314611, 0.002651734984314611, 0.002651734984314611, 0.002651734984314611, 0.002651734984314611, 0.002651734984314611, 0.002651734984314611, 0.002651734984314611, 0.002651734984314611, 0.002651734984314611, 0.002651734984314611, 0.002651734984314611, 0.002651734984314611, 0.002651734984314611, 0.002651734984314611, 0.002651734984314611, 0.002651734984314611, 0.002651734984314611, 0.002651734984314611, 0.002651734984314611, 0.002651734984314611, 0.002651734984314611, 0.002651734984314611, 0.002651734984314611, 0.002651734984314611, 0.002651734984314611, 0.002651734984314611, 0.002651734984314611, 0.002651734984314611, 0.002651734984314611, 0.002651734984314611, 0.002651734984314611, 0.002651734984314611, 0.002651734984314611, 0.002651734984314611, 0.002651734984314611, 0.002651734984314611, 0.002651734984314611, 0.002651734984314611, 0.002651734984314611, 0.002651734984314611, 0.002651734984314611, 0.002651734984314611, 0.002651734984314611, 0.002651734984314611, 0.002651734984314611, 0.002651734984314611, 0.002651734984314611, 0.002651734984314611, 0.002651734984314611, 0.002651734984314611, 0.002651734984314611, 0.002651734984314611, 0.002651734984314611, 0.002651734984314611, 0.002651734984314611, 0.002651734984314611, 0.002651734984314611, 0.002651734984314611, 0.002651734984314611, 0.002651734984314611, 0.002651734984314611, 0.002651734984314611, 0.002651734984314611, 0.002651734984314611, 0.002651734984314611, 0.002651734984314611, 0.002651734984314611, 0.002651734984314611, 0.002651734984314611, 0.002651734984314611, 0.002651734984314611, 0.002651734984314611, 0.002651734984314611, 0.002651734984314611, 0.002651734984314611, 0.002651734984314611, 0.002651734984314611, 0.002651734984314611, 0.002651734984314611, 0.002651734984314611, 0.002651734984314611, 0.002651734984314611, 0.002651734984314611, 0.002651734984314611, 0.002651734984314611, 0.002651734984314611, 0.002651734984314611, 0.002651734984314611, 0.002651734984314611, 0.002651734984314611, 0.002651734984314611, 0.002651734984314611, 0.002651734984314611, 0.002651734984314611, 0.002651734984314611, 0.002651734984314611, 0.002651734984314611, 0.002651734984314611, 0.002651734984314611, 0.002651734984314611, 0.002651734984314611, 0.002651734984314611, 0.002651734984314611, 0.002651734984314611, 0.002651734984314611, 0.002651734984314611, 0.002651734984314611, 0.002651734984314611, 0.002651734984314611, 0.002651734984314611, 0.002651734984314611, 0.002651734984314611, 0.002651734984314611, 0.002651734984314611, 0.002651734984314611, 0.002651734984314611, 0.002651734984314611, 0.002651734984314611, 0.002651734984314611, 0.002651734984314611, 0.002651734984314611, 0.002651734984314611, 0.002651734984314611, 0.002651734984314611, 0.002651734984314611, 0.002651734984314611, 0.002651734984314611, 0.002651734984314611, 0.002651734984314611, 0.002651734984314611, 0.002651734984314611, 0.002651734984314611, 0.002651734984314611, 0.002651734984314611, 0.002651734984314611, 0.002651734984314611, 0.002651734984314611, 0.002651734984314611, 0.002651734984314611, 0.002651734984314611, 0.002651734984314611, 0.002651734984314611, 0.002651734984314611, 0.002651734984314611, 0.002651734984314611, 0.002651734984314611, 0.002651734984314611, 0.002651734984314611, 0.002651734984314611, 0.002651734984314611, 0.002651734984314611, 0.002651734984314611, 0.002651734984314611, 0.002651734984314611, 0.002651734984314611, 0.002651734984314611, 0.002651734984314611, 0.002651734984314611, 0.002651734984314611, 0.002651734984314611, 0.002651734984314611, 0.002651734984314611, 0.002651734984314611, 0.002651734984314611, 0.002651734984314611, 0.002651734984314611, 0.002651734984314611, 0.002651734984314611, 0.002651734984314611, 0.002651734984314611, 0.002651734984314611, 0.002651734984314611, 0.002651734984314611, 0.002651734984314611, 0.002651734984314611, 0.002651734984314611, 0.002651734984314611, 0.002651734984314611, 0.002651734984314611, 0.002651734984314611, 0.002651734984314611, 0.002651734984314611, 0.002651734984314611, 0.002651734984314611, 0.002651734984314611, 0.002651734984314611, 0.002651734984314611, 0.002651734984314611, 0.002651734984314611, 0.002651734984314611, 0.002651734984314611, 0.002651734984314611, 0.002651734984314611, 0.002651734984314611, 0.002651734984314611, 0.002651734984314611, 0.002651734984314611, 0.002651734984314611, 0.002651734984314611, 0.002651734984314611, 0.002651734984314611, 0.002651734984314611, 0.002651734984314611, 0.002651734984314611, 0.002651734984314611, 0.002651734984314611, 0.002651734984314611, 0.002651734984314611, 0.002651734984314611, 0.002651734984314611, 0.002651734984314611, 0.002651734984314611, 0.002651734984314611, 0.002651734984314611, 0.002651734984314611, 0.002651734984314611, 0.002651734984314611, 0.002651734984314611, 0.002651734984314611, 0.002651734984314611, 0.002651734984314611, 0.002651734984314611, 0.002651734984314611, 0.002651734984314611, 0.002651734984314611, 0.002651734984314611, 0.002651734984314611, 0.002651734984314611, 0.002651734984314611, 0.002651734984314611, 0.002651734984314611, 0.002651734984314611, 0.002651734984314611, 0.002651734984314611, 0.002651734984314611, 0.002651734984314611, 0.002651734984314611, 0.002651734984314611, 0.002651734984314611, 0.002651734984314611, 0.002651734984314611, 0.002651734984314611, 0.002651734984314611, 0.002651734984314611, 0.002651734984314611, 0.002651734984314611, 0.002651734984314611, 0.002651734984314611, 0.002651734984314611, 0.002651734984314611, 0.002651734984314611, 0.002651734984314611, 0.002651734984314611, 0.002651734984314611, 0.002651734984314611, 0.002651734984314611, 0.002651734984314611, 0.002651734984314611, 0.002651734984314611, 0.002651734984314611, 0.002651734984314611, 0.002651734984314611, 0.002651734984314611, 0.002651734984314611, 0.002651734984314611, 0.002651734984314611, 0.002651734984314611, 0.002651734984314611, 0.002651734984314611, 0.002651734984314611, 0.002651734984314611, 0.002651734984314611, 0.002651734984314611, 0.002651734984314611, 0.002651734984314611, 0.002651734984314611, 0.002651734984314611, 0.002651734984314611, 0.002651734984314611, 0.002651734984314611, 0.002651734984314611, 0.002651734984314611, 0.002651734984314611, 0.002651734984314611, 0.002651734984314611, 0.002651734984314611, 0.002651734984314611, 0.002651734984314611, 0.002651734984314611, 0.002651734984314611, 0.002651734984314611, 0.002651734984314611, 0.002651734984314611, 0.002651734984314611, 0.002651734984314611, 0.002651734984314611, 0.002651734984314611, 0.002651734984314611, 0.002651734984314611, 0.002651734984314611, 0.002651734984314611, 0.002651734984314611, 0.002651734984314611, 0.002651734984314611, 0.002651734984314611, 0.002651734984314611, 0.002651734984314611, 0.002651734984314611, 0.002651734984314611, 0.002651734984314611, 0.002651734984314611, 0.002651734984314611, 0.002651734984314611, 0.002651734984314611, 0.002651734984314611, 0.002651734984314611, 0.002651734984314611, 0.002651734984314611, 0.002651734984314611, 0.002651734984314611, 0.002651734984314611, 0.002651734984314611, 0.002651734984314611, 0.002651734984314611, 0.002651734984314611, 0.002651734984314611, 0.002651734984314611, 0.002651734984314611, 0.002651734984314611, 0.002651734984314611, 0.002651734984314611, 0.002651734984314611, 0.002651734984314611, 0.002651734984314611, 0.002651734984314611, 0.002651734984314611, 0.002651734984314611, 0.002651734984314611, 0.002651734984314611, 0.002651734984314611, 0.002651734984314611, 0.002651734984314611, 0.002651734984314611, 0.002651734984314611, 0.002651734984314611, 0.002651734984314611, 0.002651734984314611, 0.002651734984314611, 0.002651734984314611, 0.002651734984314611, 0.002651734984314611, 0.002651734984314611, 0.002651734984314611, 0.002651734984314611, 0.002651734984314611, 0.002651734984314611, 0.002651734984314611, 0.002651734984314611, 0.002651734984314611, 0.002651734984314611, 0.002651734984314611, 0.002651734984314611, 0.002651734984314611, 0.002651734984314611, 0.002651734984314611, 0.002651734984314611, 0.002651734984314611, 0.002651734984314611, 0.002651734984314611, 0.002651734984314611, 0.002651734984314611, 0.002651734984314611, 0.002651734984314611, 0.002651734984314611, 0.002651734984314611, 0.002651734984314611, 0.002651734984314611, 0.002651734984314611, 0.002651734984314611, 0.002651734984314611, 0.002651734984314611, 0.002651734984314611, 0.002651734984314611, 0.002651734984314611, 0.002651734984314611, 0.002651734984314611, 0.002651734984314611, 0.002651734984314611, 0.002651734984314611, 0.002651734984314611, 0.002651734984314611, 0.002651734984314611, 0.002651734984314611, 0.002651734984314611, 0.002651734984314611, 0.002651734984314611, 0.002651734984314611, 0.002651734984314611, 0.002651734984314611, 0.002651734984314611, 0.002651734984314611, 0.002651734984314611, 0.002651734984314611, 0.002651734984314611, 0.002651734984314611, 0.002651734984314611, 0.002651734984314611, 0.002651734984314611, 0.002651734984314611, 0.002651734984314611, 0.002651734984314611, 0.002651734984314611, 0.002651734984314611, 0.002651734984314611, 0.002651734984314611, 0.002651734984314611, 0.002651734984314611, 0.002651734984314611, 0.002651734984314611, 0.002651734984314611, 0.002651734984314611, 0.002651734984314611, 0.002651734984314611, 0.002651734984314611, 0.002651734984314611, 0.002651734984314611, 0.002651734984314611, 0.002651734984314611, 0.002651734984314611, 0.002651734984314611, 0.002651734984314611, 0.002651734984314611, 0.002651734984314611, 0.002651734984314611, 0.002651734984314611, 0.002651734984314611, 0.002651734984314611, 0.002651734984314611, 0.002651734984314611, 0.002651734984314611, 0.002651734984314611, 0.002651734984314611, 0.002651734984314611, 0.002651734984314611, 0.002651734984314611, 0.002651734984314611, 0.002651734984314611, 0.002651734984314611, 0.002651734984314611, 0.002651734984314611, 0.002651734984314611, 0.002651734984314611, 0.002651734984314611, 0.002651734984314611, 0.002651734984314611, 0.002651734984314611, 0.002651734984314611, 0.002651734984314611, 0.002651734984314611, 0.002651734984314611, 0.002651734984314611, 0.002651734984314611, 0.002651734984314611, 0.002651734984314611, 0.002651734984314611, 0.002651734984314611, 0.002651734984314611, 0.002651734984314611, 0.002651734984314611, 0.002651734984314611, 0.002651734984314611, 0.002651734984314611, 0.002651734984314611, 0.002651734984314611, 0.002651734984314611, 0.002651734984314611, 0.002651734984314611, 0.002651734984314611, 0.002651734984314611, 0.002651734984314611, 0.002651734984314611, 0.002651734984314611, 0.002651734984314611, 0.002651734984314611, 0.002651734984314611, 0.002651734984314611, 0.002651734984314611, 0.002651734984314611, 0.002651734984314611, 0.002651734984314611, 0.002651734984314611, 0.002651734984314611, 0.002651734984314611, 0.002651734984314611, 0.002651734984314611, 0.002651734984314611, 0.002651734984314611, 0.002651734984314611, 0.002651734984314611, 0.002651734984314611, 0.002651734984314611, 0.002651734984314611, 0.002651734984314611, 0.002651734984314611, 0.002651734984314611, 0.002651734984314611, 0.002651734984314611, 0.002651734984314611, 0.002651734984314611, 0.002651734984314611, 0.002651734984314611, 0.002651734984314611, 0.002651734984314611, 0.002651734984314611, 0.002651734984314611, 0.002651734984314611, 0.002651734984314611, 0.002651734984314611, 0.002651734984314611, 0.002651734984314611, 0.002651734984314611, 0.002651734984314611, 0.002651734984314611, 0.002651734984314611, 0.002651734984314611, 0.002651734984314611, 0.002651734984314611, 0.002651734984314611, 0.002651734984314611, 0.002651734984314611, 0.002651734984314611, 0.002651734984314611, 0.002651734984314611, 0.002651734984314611, 0.002651734984314611, 0.002651734984314611, 0.002651734984314611, 0.002651734984314611, 0.002651734984314611, 0.002651734984314611, 0.002651734984314611, 0.002651734984314611, 0.002651734984314611, 0.002651734984314611, 0.002651734984314611, 0.002651734984314611, 0.002651734984314611, 0.002651734984314611, 0.002651734984314611, 0.002651734984314611, 0.002651734984314611, 0.002651734984314611, 0.002651734984314611, 0.002651734984314611, 0.002651734984314611, 0.002651734984314611, 0.002651734984314611, 0.002651734984314611, 0.002651734984314611, 0.002651734984314611, 0.002651734984314611, 0.002651734984314611, 0.002651734984314611, 0.002651734984314611, 0.002651734984314611, 0.002651734984314611, 0.002651734984314611, 0.002651734984314611, 0.002651734984314611, 0.002651734984314611, 0.002651734984314611, 0.002651734984314611, 0.002651734984314611, 0.002651734984314611, 0.002651734984314611, 0.002651734984314611, 0.002651734984314611, 0.002651734984314611, 0.002651734984314611, 0.002651734984314611, 0.002651734984314611, 0.002651734984314611, 0.002651734984314611, 0.002651734984314611, 0.002651734984314611, 0.002651734984314611, 0.002651734984314611, 0.002651734984314611, 0.002651734984314611, 0.002651734984314611, 0.002651734984314611, 0.002651734984314611, 0.002651734984314611, 0.002651734984314611, 0.002651734984314611, 0.002651734984314611, 0.002651734984314611, 0.002651734984314611, 0.002651734984314611, 0.002651734984314611, 0.002651734984314611, 0.002651734984314611, 0.002651734984314611, 0.002651734984314611, 0.002651734984314611, 0.002651734984314611, 0.002651734984314611, 0.002651734984314611, 0.002651734984314611, 0.002651734984314611, 0.002651734984314611, 0.002651734984314611, 0.002651734984314611, 0.002651734984314611, 0.002651734984314611, 0.002651734984314611, 0.002651734984314611, 0.002651734984314611, 0.002651734984314611, 0.002651734984314611, 0.002651734984314611, 0.002651734984314611, 0.002651734984314611, 0.002651734984314611, 0.002651734984314611, 0.002651734984314611, 0.002651734984314611, 0.002651734984314611, 0.002651734984314611, 0.002651734984314611, 0.002651734984314611, 0.002651734984314611, 0.002651734984314611, 0.002651734984314611, 0.002651734984314611, 0.002651734984314611, 0.002651734984314611, 0.002651734984314611, 0.002651734984314611, 0.002651734984314611, 0.002651734984314611, 0.002651734984314611, 0.002651734984314611, 0.002651734984314611, 0.002651734984314611, 0.002651734984314611, 0.002651734984314611, 0.002651734984314611, 0.002651734984314611, 0.002651734984314611, 0.002651734984314611, 0.002651734984314611, 0.002651734984314611, 0.002651734984314611, 0.002651734984314611, 0.002651734984314611, 0.002651734984314611, 0.002651734984314611, 0.002651734984314611, 0.002651734984314611, 0.002651734984314611, 0.002651734984314611, 0.002651734984314611, 0.002651734984314611, 0.002651734984314611, 0.002651734984314611, 0.002651734984314611, 0.002651734984314611, 0.002651734984314611, 0.002651734984314611, 0.002651734984314611, 0.002651734984314611, 0.002651734984314611, 0.002651734984314611, 0.002651734984314611, 0.002651734984314611, 0.002651734984314611, 0.002651734984314611, 0.002651734984314611, 0.002651734984314611], \"Total\": [10790.0, 4595.0, 12542.0, 4546.0, 5086.0, 3328.0, 2979.0, 4230.0, 2301.0, 3418.0, 4915.0, 3256.0, 2420.0, 2800.0, 3258.0, 2486.0, 2947.0, 1905.0, 1809.0, 1122.0, 1376.0, 3347.0, 1632.0, 3894.0, 1418.0, 2927.0, 1844.0, 668.0, 975.0, 1113.0, 12542.26454796282, 3347.593879438088, 2927.9492118651224, 2447.63287243677, 2114.3899917425933, 2089.119649164365, 2043.7734207407645, 1760.907964227434, 1650.4196795746398, 1592.1435063190213, 1260.8873344167591, 1246.9181596613314, 1166.3342015962808, 1138.8414704359386, 943.6464626045263, 894.959177686089, 832.033426858584, 809.2678483043162, 752.9965175117857, 670.2587170642197, 643.8011666535424, 610.8213515679516, 608.3080710913956, 590.0107913323345, 573.9414039852961, 518.9616192996756, 464.57314871893993, 453.0734218832048, 403.6589608205168, 397.63304919359933, 3894.288953600253, 1962.7268727005696, 1239.8033958953993, 1424.0558080374192, 893.1274490169769, 2411.4723790830762, 1141.9419606039814, 4915.763096272359, 3258.491658977826, 2947.177899667236, 1844.000842500752, 1431.1344752473383, 1321.3693449840728, 1223.7367942662218, 1061.0167860681097, 991.7557700854062, 843.1729320197809, 770.4664056872073, 744.7549928278388, 606.4474607196734, 578.1666408331313, 534.3724132961393, 461.5817371413494, 437.65968479378597, 404.4871769136158, 357.1834101346711, 329.2667279286655, 327.59330881971096, 321.5123829130468, 300.869672725383, 283.15504100204157, 233.29217894579097, 198.90364787482721, 193.2074210794237, 151.74658200175384, 131.10475281526826, 129.80178049206214, 927.598770537186, 2411.4723790830762, 1141.9419606039814, 1962.7268727005696, 10790.8786118981, 4230.3563273104955, 1384.0538290350742, 882.7169864422593, 506.43267002414075, 409.609834691017, 404.74360642026346, 366.85879426494637, 342.36831703803125, 221.33455392987548, 182.55882492652563, 171.44423841341612, 117.44172298123216, 77.99817700533434, 22.146349826712072, 378.98572165548654, 1239.8033958953993, 0.9968014602827356, 0.9968015146233087, 0.9968013998612354, 0.9968014002777904, 0.9968014020194731, 0.9968014032006681, 0.9968014070686745, 0.9968014087146846, 0.996801412621207, 0.9968014146137092, 0.9968014163857523, 0.9968014193664375, 0.9968014200796408, 0.9968016605132158, 3894.288953600253, 1283.8707736603997, 1092.6687685083127, 1246.9181596613314, 0.9968014557316937, 0.9968014523737022, 0.9968014447366397, 0.9968014504903387, 0.9968014614853927, 0.9968014429453039, 5086.458600285011, 2800.2028904509934, 2486.1981946725855, 1174.801589929927, 1027.3131338180995, 955.5571069391843, 809.0898835133165, 731.3236998358053, 686.2125389638676, 573.1724207090921, 525.0167687724681, 257.16742147330456, 223.61761545967462, 192.49536981081516, 101.57498032355184, 88.34014605306034, 68.26207466339164, 333.9728733404882, 599.2869157688953, 1424.0558080374192, 893.1274490169769, 0.9968013879836193, 0.9968013949104437, 0.9968015146233087, 0.9968014081070318, 0.9968014095391322, 0.9968014114310182, 0.9968014115648397, 0.9968014165106659, 0.9968014165981828, 0.9968016605132158, 217.50985165999526, 453.0734218832048, 1962.7268727005696, 744.7549928278388, 0.9968014557316937, 0.9968014523737022, 0.9968014447366397, 1632.8427476050774, 1253.589616407644, 1013.2839977226554, 932.5732245116928, 913.3028089560921, 901.20161052666, 858.3559114578467, 803.8942140151269, 794.3327442839816, 553.1126007554825, 524.3166264537377, 492.38950476182214, 440.82123758652864, 301.538009901907, 296.82285430498564, 180.5374911630386, 163.71772219361924, 135.1904776423728, 114.08710298529068, 1092.6687685083127, 73.25139922930117, 66.82744320752745, 37.065101827039946, 1283.8707736603997, 7.527606826582994, 1199.010378263852, 242.6739903667506, 0.9968013809138233, 0.9968013809138233, 0.996801400823326, 0.9968016605132158, 744.7549928278388, 859.1921449682493, 4546.987383553163, 3418.645230989758, 1418.971493774045, 775.3234068529645, 618.174897090703, 342.33671777927725, 321.9532408261134, 303.139740270033, 160.12981319677286, 110.0396746884901, 38.162072508516175, 23.07369741038914, 20.130997425946482, 10.719691779576221, 378.98572165548654, 927.598770537186, 0.9968013792678131, 0.9968013792678131, 0.9968013792678131, 0.9968013792678131, 0.9968016605132158, 0.9968013879836193, 0.9968013932782913, 0.9968013998612354, 0.996801400823326, 0.9968014070686745, 0.9968014081070318, 0.9968014095391322, 0.9968014114310182, 0.9968014115648397, 1283.8707736603997, 0.9968014557316937, 0.9968014523737022, 0.9968014447366397, 0.9968014504903387, 0.9968014614853927, 0.9968014429453039, 0.9968014713942447, 0.9968014699828612, 0.9968014200796408, 0.9968014471951275, 0.9968014471951275, 3256.7674636849756, 2420.6855657776414, 1905.5010082853203, 1809.2484763061368, 864.8475964418516, 340.1865834317842, 274.7878429931439, 235.91267599745754, 155.58684382681537, 104.81437708068877, 103.93442396214432, 54.19259657401784, 41.221442955335085, 29.903194540496298, 24.027389919894645, 1199.010378263852, 0.9968016605132158, 0.9968013847625371, 0.9968014020194731, 0.9968014081070318, 0.996801412621207, 0.9968014163857523, 0.9968014165106659, 0.9968014165981828, 0.9968014193664375, 0.9968014272360377, 0.9968014272360377, 0.9968014312488126, 0.9968014320976942, 0.9968014340655943, 1321.3693449840728, 0.9968014557316937, 0.9968014523737022, 0.9968014447366397, 0.9968014504903387, 0.9968014614853927, 0.9968014429453039, 0.9968014713942447, 0.9968014699828612, 0.9968014471951275, 0.9968014471951275, 0.9968014504903387, 1376.9332747750732, 1113.8672921460475, 859.1921449682493, 699.6794497174109, 693.9989370765684, 551.4406578994968, 431.1750275888712, 413.4463735178824, 350.11782940180774, 330.1953163489495, 321.73740636204536, 308.2116017174703, 253.4110046756774, 173.45299405602242, 166.4896553195824, 158.2387907511442, 148.28614428866797, 136.40803785283205, 128.15810038083225, 109.0551497587125, 101.00845752769845, 79.8465266867408, 72.09743241246048, 53.05964932662372, 49.38625916868967, 40.735380024589986, 37.362190118838114, 30.34417105087653, 599.2869157688953, 0.9968013823328243, 0.9968014699828612, 0.9968016605132158, 3328.757167375375, 750.0485338398414, 587.5708835763558, 490.6416222331091, 440.1622039454378, 438.6910210139787, 372.5455406175222, 183.7750896615982, 181.6721199181542, 172.07429128544828, 148.289520607286, 140.1155334683756, 120.25079523684813, 46.60646517307202, 21.11984422151609, 0.9968013805992973, 0.9968013875376257, 0.9968015146233087, 0.9968013998612354, 0.9968014020194731, 0.996801412621207, 0.9968014165106659, 0.996801416769641, 0.9968014193664375, 0.9968016605132158, 0.9968014253062071, 0.9968014272360377, 0.9968014272360377, 0.9968014320976942, 0.9968014362000736, 0.9968014557316937, 0.9968014523737022, 0.9968014447366397, 0.9968014504903387, 0.9968014614853927, 0.9968014429453039, 0.9968014713942447, 0.9968014699828612, 0.9968014471951275, 0.9968014471951275, 0.9968014390965901, 0.9968014504903387, 4595.686126135436, 711.0360687149972, 407.7451659728633, 120.7177422789738, 0.9968013791224877, 0.9968013791224877, 0.9968013847625371, 0.9968013949104437, 0.9968014193664375, 0.9968014320976942, 0.9968014381732831, 0.9968014429453039, 0.996801447847174, 0.9968014504903387, 0.9968014504903387, 0.9968014504903387, 0.9968014529488266, 0.9968014563837401, 0.9968014614853927, 0.9968014614853927, 0.9968014655008434, 0.9968014699828612, 0.9968014713942447, 0.9968013733687886, 0.9968013733687886, 0.9968013733687886, 0.9968013733687886, 0.9968013733687886, 0.9968013733687886, 0.9968013733687886, 0.9968015146233087, 0.9968016605132158, 257.16742147330456, 49.38625916868967, 2420.6855657776414, 699.6794497174109, 794.3327442839816, 2979.1499064804375, 975.4664502243324, 572.2813638741376, 417.2685223514111, 292.9788609047261, 179.76550360107194, 0.9968016605132158, 0.9968013843638426, 0.9968013843638426, 0.9968013843638426, 0.9968013843638426, 0.9968014002777904, 0.9968014032006681, 0.9968014163857523, 0.9968014312488126, 0.9968014340655943, 0.9968015146233087, 0.9968014381732831, 0.9968014471951275, 0.9968014471951275, 0.9968014523737022, 0.9968014529488266, 0.9968014557316937, 0.9968014557316937, 0.9968014614853927, 0.9968014614853927, 0.9968014655008434, 0.9968014699828612, 0.9968014713942447, 0.9968013733687886, 257.16742147330456, 1122.175413491809, 686.0129699994784, 469.1226825375988, 403.03450127191553, 321.7586560645622, 319.4067531648607, 185.69548054117482, 171.52360731861077, 109.28913519780622, 90.66877626227031, 86.5272113776566, 61.834796544504925, 38.72122629950903, 30.507597563464106, 16.1359441094453, 8.319797558079612, 0.9968013819053546, 0.9968013819053546, 0.9968013959158329, 0.9968013978077187, 0.9968013998612354, 0.9968014193664375, 0.9968014200796408, 0.9968014253062071, 0.9968014320976942, 0.9968014390965901, 0.9968014429453039, 0.9968014447366397, 0.9968014447366397, 0.9968014447366397, 0.9968016605132158, 0.9968014557316937, 0.9968014504903387, 0.9968014614853927, 0.9968014713942447, 0.9968014699828612, 0.9968014504903387, 2301.3727028238177, 275.97793726015806, 50.41265124510354, 238.37421844253595, 0.9968013792621899, 0.9968013792621899, 0.9968013792621899, 0.9968014200796408, 0.996801447847174, 0.9968014563837401, 0.9968014602827356, 0.9968013733687886, 0.9968013733687886, 0.9968013733687886, 0.9968013733687886, 0.9968013733687886, 0.9968013733687886, 0.9968013733687886, 0.9968013733687886, 0.9968013733687886, 0.9968013733687886, 0.9968013733687886, 0.9968013733687886, 0.9968013733687886, 0.9968013733687886, 0.9968013733687886, 0.9968013733687886, 0.9968013733687886, 0.9968013733687886, 0.9968013733687886, 0.9968014713942447, 0.9968016605132158, 257.16742147330456, 49.38625916868967, 2420.6855657776414, 699.6794497174109, 794.3327442839816, 492.38950476182214, 809.0898835133165, 29.903194540496298, 5086.458600285011, 155.58684382681537, 1199.010378263852, 109.0551497587125, 832.033426858584, 340.1865834317842, 524.3166264537377, 668.5716147218806, 66.00267053538046, 0.9968013773842392, 0.9968013773842392, 0.9968014002777904, 0.9968014020194731, 0.9968015146233087, 0.9968014320976942, 0.9968014655008434, 0.9968013733687886, 0.9968013733687886, 0.9968013733687886, 0.9968013733687886, 0.9968013733687886, 0.9968013733687886, 0.9968013733687886, 0.9968013733687886, 0.9968013733687886, 0.9968013733687886, 0.9968013733687886, 0.9968013733687886, 0.9968013733687886, 0.9968013733687886, 0.9968013733687886, 0.9968013733687886, 0.9968013733687886, 0.9968013733687886, 0.9968013733687886, 0.9968013733687886, 0.9968013733687886, 0.9968014699828612, 0.9968014713942447, 0.9968016605132158, 257.16742147330456, 49.38625916868967, 2420.6855657776414, 699.6794497174109, 794.3327442839816, 492.38950476182214, 809.0898835133165, 29.903194540496298, 5086.458600285011, 155.58684382681537, 1199.010378263852, 109.0551497587125, 832.033426858584, 340.1865834317842, 524.3166264537377, 3256.7674636849756, 307.74591011050643, 0.9968014523737022, 0.9968013733687886, 0.9968013733687886, 0.9968013733687886, 0.9968013733687886, 0.9968013733687886, 0.9968013733687886, 0.9968013733687886, 0.9968013733687886, 0.9968013733687886, 0.9968013733687886, 0.9968013733687886, 0.9968013733687886, 0.9968013733687886, 0.9968013733687886, 0.9968013733687886, 0.9968013733687886, 0.9968013733687886, 0.9968013733687886, 0.9968013733687886, 0.9968013733687886, 0.9968013733687886, 0.9968013733687886, 0.9968013733687886, 0.9968013733687886, 0.9968013733687886, 0.9968013733687886, 0.9968013733687886, 0.9968013733687886, 257.16742147330456, 49.38625916868967, 2420.6855657776414, 699.6794497174109, 794.3327442839816, 492.38950476182214, 809.0898835133165, 29.903194540496298, 5086.458600285011, 155.58684382681537, 1199.010378263852, 109.0551497587125, 832.033426858584, 340.1865834317842, 524.3166264537377, 3256.7674636849756, 216.81427682412954, 54.19259657401784, 41.221442955335085, 1321.3693449840728, 590.0107913323345, 104.81437708068877, 235.91267599745754, 1809.2484763061368, 0.9968013733687886, 0.9968013733687886, 0.9968013733687886, 0.9968013733687886, 0.9968013733687886, 0.9968013733687886, 0.9968013733687886, 0.9968013733687886, 0.9968013733687886, 0.9968013733687886, 0.9968013733687886, 0.9968013733687886, 0.9968013733687886, 0.9968013733687886, 0.9968013733687886, 0.9968013733687886, 0.9968013733687886, 0.9968013733687886, 0.9968013733687886, 0.9968013733687886, 0.9968013733687886, 0.9968013733687886, 0.9968013733687886, 0.9968013733687886, 0.9968013733687886, 0.9968013733687886, 0.9968013733687886, 0.9968013733687886, 0.9968013733687886, 0.9968013733687886, 257.16742147330456, 49.38625916868967, 2420.6855657776414, 699.6794497174109, 794.3327442839816, 492.38950476182214, 809.0898835133165, 29.903194540496298, 5086.458600285011, 155.58684382681537, 1199.010378263852, 109.0551497587125, 832.033426858584, 340.1865834317842, 524.3166264537377, 3256.7674636849756, 216.81427682412954, 54.19259657401784, 41.221442955335085, 1321.3693449840728, 590.0107913323345, 104.81437708068877, 235.91267599745754, 1809.2484763061368, 274.7878429931439, 0.9968013733687886, 0.9968013733687886, 0.9968013733687886, 0.9968013733687886, 0.9968013733687886, 0.9968013733687886, 0.9968013733687886, 0.9968013733687886, 0.9968013733687886, 0.9968013733687886, 0.9968013733687886, 0.9968013733687886, 0.9968013733687886, 0.9968013733687886, 0.9968013733687886, 0.9968013733687886, 0.9968013733687886, 0.9968013733687886, 0.9968013733687886, 0.9968013733687886, 0.9968013733687886, 0.9968013733687886, 0.9968013733687886, 0.9968013733687886, 0.9968013733687886, 0.9968013733687886, 0.9968013733687886, 0.9968013733687886, 0.9968013733687886, 0.9968013733687886, 257.16742147330456, 49.38625916868967, 2420.6855657776414, 699.6794497174109, 794.3327442839816, 492.38950476182214, 809.0898835133165, 29.903194540496298, 5086.458600285011, 155.58684382681537, 1199.010378263852, 109.0551497587125, 832.033426858584, 340.1865834317842, 524.3166264537377, 3256.7674636849756, 216.81427682412954, 54.19259657401784, 41.221442955335085, 1321.3693449840728, 590.0107913323345, 104.81437708068877, 235.91267599745754, 1809.2484763061368, 274.7878429931439, 0.9968013733687886, 0.9968013733687886, 0.9968013733687886, 0.9968013733687886, 0.9968013733687886, 0.9968013733687886, 0.9968013733687886, 0.9968013733687886, 0.9968013733687886, 0.9968013733687886, 0.9968013733687886, 0.9968013733687886, 0.9968013733687886, 0.9968013733687886, 0.9968013733687886, 0.9968013733687886, 0.9968013733687886, 0.9968013733687886, 0.9968013733687886, 0.9968013733687886, 0.9968013733687886, 0.9968013733687886, 0.9968013733687886, 0.9968013733687886, 0.9968013733687886, 0.9968013733687886, 0.9968013733687886, 0.9968013733687886, 0.9968013733687886, 0.9968013733687886, 257.16742147330456, 49.38625916868967, 2420.6855657776414, 699.6794497174109, 794.3327442839816, 492.38950476182214, 809.0898835133165, 29.903194540496298, 5086.458600285011, 155.58684382681537, 1199.010378263852, 109.0551497587125, 832.033426858584, 340.1865834317842, 524.3166264537377, 3256.7674636849756, 216.81427682412954, 54.19259657401784, 41.221442955335085, 1321.3693449840728, 590.0107913323345, 104.81437708068877, 235.91267599745754, 1809.2484763061368, 274.7878429931439, 0.9968013733687886, 0.9968013733687886, 0.9968013733687886, 0.9968013733687886, 0.9968013733687886, 0.9968013733687886, 0.9968013733687886, 0.9968013733687886, 0.9968013733687886, 0.9968013733687886, 0.9968013733687886, 0.9968013733687886, 0.9968013733687886, 0.9968013733687886, 0.9968013733687886, 0.9968013733687886, 0.9968013733687886, 0.9968013733687886, 0.9968013733687886, 0.9968013733687886, 0.9968013733687886, 0.9968013733687886, 0.9968013733687886, 0.9968013733687886, 0.9968013733687886, 0.9968013733687886, 0.9968013733687886, 0.9968013733687886, 0.9968013733687886, 0.9968013733687886, 257.16742147330456, 49.38625916868967, 2420.6855657776414, 699.6794497174109, 794.3327442839816, 492.38950476182214, 809.0898835133165, 29.903194540496298, 5086.458600285011, 155.58684382681537, 1199.010378263852, 109.0551497587125, 832.033426858584, 340.1865834317842, 524.3166264537377, 3256.7674636849756, 216.81427682412954, 54.19259657401784, 41.221442955335085, 1321.3693449840728, 590.0107913323345, 104.81437708068877, 235.91267599745754, 1809.2484763061368, 274.7878429931439, 0.9968013733687886, 0.9968013733687886, 0.9968013733687886, 0.9968013733687886, 0.9968013733687886, 0.9968013733687886, 0.9968013733687886, 0.9968013733687886, 0.9968013733687886, 0.9968013733687886, 0.9968013733687886, 0.9968013733687886, 0.9968013733687886, 0.9968013733687886, 0.9968013733687886, 0.9968013733687886, 0.9968013733687886, 0.9968013733687886, 0.9968013733687886, 0.9968013733687886, 0.9968013733687886, 0.9968013733687886, 0.9968013733687886, 0.9968013733687886, 0.9968013733687886, 0.9968013733687886, 0.9968013733687886, 0.9968013733687886, 0.9968013733687886, 0.9968013733687886, 257.16742147330456, 49.38625916868967, 2420.6855657776414, 699.6794497174109, 794.3327442839816, 492.38950476182214, 809.0898835133165, 29.903194540496298, 5086.458600285011, 155.58684382681537, 1199.010378263852, 109.0551497587125, 832.033426858584, 340.1865834317842, 524.3166264537377, 3256.7674636849756, 216.81427682412954, 54.19259657401784, 41.221442955335085, 1321.3693449840728, 590.0107913323345, 104.81437708068877, 235.91267599745754, 1809.2484763061368, 274.7878429931439, 0.9968013733687886, 0.9968013733687886, 0.9968013733687886, 0.9968013733687886, 0.9968013733687886, 0.9968013733687886, 0.9968013733687886, 0.9968013733687886, 0.9968013733687886, 0.9968013733687886, 0.9968013733687886, 0.9968013733687886, 0.9968013733687886, 0.9968013733687886, 0.9968013733687886, 0.9968013733687886, 0.9968013733687886, 0.9968013733687886, 0.9968013733687886, 0.9968013733687886, 0.9968013733687886, 0.9968013733687886, 0.9968013733687886, 0.9968013733687886, 0.9968013733687886, 0.9968013733687886, 0.9968013733687886, 0.9968013733687886, 0.9968013733687886, 0.9968013733687886, 257.16742147330456, 49.38625916868967, 2420.6855657776414, 699.6794497174109, 794.3327442839816, 492.38950476182214, 809.0898835133165, 29.903194540496298, 5086.458600285011, 155.58684382681537, 1199.010378263852, 109.0551497587125, 832.033426858584, 340.1865834317842, 524.3166264537377, 3256.7674636849756, 216.81427682412954, 54.19259657401784, 41.221442955335085, 1321.3693449840728, 590.0107913323345, 104.81437708068877, 235.91267599745754, 1809.2484763061368, 274.7878429931439, 0.9968013733687886, 0.9968013733687886, 0.9968013733687886, 0.9968013733687886, 0.9968013733687886, 0.9968013733687886, 0.9968013733687886, 0.9968013733687886, 0.9968013733687886, 0.9968013733687886, 0.9968013733687886, 0.9968013733687886, 0.9968013733687886, 0.9968013733687886, 0.9968013733687886, 0.9968013733687886, 0.9968013733687886, 0.9968013733687886, 0.9968013733687886, 0.9968013733687886, 0.9968013733687886, 0.9968013733687886, 0.9968013733687886, 0.9968013733687886, 0.9968013733687886, 0.9968013733687886, 0.9968013733687886, 0.9968013733687886, 0.9968013733687886, 0.9968013733687886, 257.16742147330456, 49.38625916868967, 2420.6855657776414, 699.6794497174109, 794.3327442839816, 492.38950476182214, 809.0898835133165, 29.903194540496298, 5086.458600285011, 155.58684382681537, 1199.010378263852, 109.0551497587125, 832.033426858584, 340.1865834317842, 524.3166264537377, 3256.7674636849756, 216.81427682412954, 54.19259657401784, 41.221442955335085, 1321.3693449840728, 590.0107913323345, 104.81437708068877, 235.91267599745754, 1809.2484763061368, 274.7878429931439, 0.9968013733687886, 0.9968013733687886, 0.9968013733687886, 0.9968013733687886, 0.9968013733687886, 0.9968013733687886, 0.9968013733687886, 0.9968013733687886, 0.9968013733687886, 0.9968013733687886, 0.9968013733687886, 0.9968013733687886, 0.9968013733687886, 0.9968013733687886, 0.9968013733687886, 0.9968013733687886, 0.9968013733687886, 0.9968013733687886, 0.9968013733687886, 0.9968013733687886, 0.9968013733687886, 0.9968013733687886, 0.9968013733687886, 0.9968013733687886, 0.9968013733687886, 0.9968013733687886, 0.9968013733687886, 0.9968013733687886, 0.9968013733687886, 0.9968013733687886, 257.16742147330456, 49.38625916868967, 2420.6855657776414, 699.6794497174109, 794.3327442839816, 492.38950476182214, 809.0898835133165, 29.903194540496298, 5086.458600285011, 155.58684382681537, 1199.010378263852, 109.0551497587125, 832.033426858584, 340.1865834317842, 524.3166264537377, 3256.7674636849756, 216.81427682412954, 54.19259657401784, 41.221442955335085, 1321.3693449840728, 590.0107913323345, 104.81437708068877, 235.91267599745754, 1809.2484763061368, 274.7878429931439, 0.9968013733687886, 0.9968013733687886, 0.9968013733687886, 0.9968013733687886, 0.9968013733687886, 0.9968013733687886, 0.9968013733687886, 0.9968013733687886, 0.9968013733687886, 0.9968013733687886, 0.9968013733687886, 0.9968013733687886, 0.9968013733687886, 0.9968013733687886, 0.9968013733687886, 0.9968013733687886, 0.9968013733687886, 0.9968013733687886, 0.9968013733687886, 0.9968013733687886, 0.9968013733687886, 0.9968013733687886, 0.9968013733687886, 0.9968013733687886, 0.9968013733687886, 0.9968013733687886, 0.9968013733687886, 0.9968013733687886, 0.9968013733687886, 0.9968013733687886, 257.16742147330456, 49.38625916868967, 2420.6855657776414, 699.6794497174109, 794.3327442839816, 492.38950476182214, 809.0898835133165, 29.903194540496298, 5086.458600285011, 155.58684382681537, 1199.010378263852, 109.0551497587125, 832.033426858584, 340.1865834317842, 524.3166264537377, 3256.7674636849756, 216.81427682412954, 54.19259657401784, 41.221442955335085, 1321.3693449840728, 590.0107913323345, 104.81437708068877, 235.91267599745754, 1809.2484763061368, 274.7878429931439, 0.9968013733687886, 0.9968013733687886, 0.9968013733687886, 0.9968013733687886, 0.9968013733687886, 0.9968013733687886, 0.9968013733687886, 0.9968013733687886, 0.9968013733687886, 0.9968013733687886, 0.9968013733687886, 0.9968013733687886, 0.9968013733687886, 0.9968013733687886, 0.9968013733687886, 0.9968013733687886, 0.9968013733687886, 0.9968013733687886, 0.9968013733687886, 0.9968013733687886, 0.9968013733687886, 0.9968013733687886, 0.9968013733687886, 0.9968013733687886, 0.9968013733687886, 0.9968013733687886, 0.9968013733687886, 0.9968013733687886, 0.9968013733687886, 0.9968013733687886, 257.16742147330456, 49.38625916868967, 2420.6855657776414, 699.6794497174109, 794.3327442839816, 492.38950476182214, 809.0898835133165, 29.903194540496298, 5086.458600285011, 155.58684382681537, 1199.010378263852, 109.0551497587125, 832.033426858584, 340.1865834317842, 524.3166264537377, 3256.7674636849756, 216.81427682412954, 54.19259657401784, 41.221442955335085, 1321.3693449840728, 590.0107913323345, 104.81437708068877, 235.91267599745754, 1809.2484763061368, 274.7878429931439, 0.9968013733687886, 0.9968013733687886, 0.9968013733687886, 0.9968013733687886, 0.9968013733687886, 0.9968013733687886, 0.9968013733687886, 0.9968013733687886, 0.9968013733687886, 0.9968013733687886, 0.9968013733687886, 0.9968013733687886, 0.9968013733687886, 0.9968013733687886, 0.9968013733687886, 0.9968013733687886, 0.9968013733687886, 0.9968013733687886, 0.9968013733687886, 0.9968013733687886, 0.9968013733687886, 0.9968013733687886, 0.9968013733687886, 0.9968013733687886, 0.9968013733687886, 0.9968013733687886, 0.9968013733687886, 0.9968013733687886, 0.9968013733687886, 0.9968013733687886, 257.16742147330456, 49.38625916868967, 2420.6855657776414, 699.6794497174109, 794.3327442839816, 492.38950476182214, 809.0898835133165, 29.903194540496298, 5086.458600285011, 155.58684382681537, 1199.010378263852, 109.0551497587125, 832.033426858584, 340.1865834317842, 524.3166264537377, 3256.7674636849756, 216.81427682412954, 54.19259657401784, 41.221442955335085, 1321.3693449840728, 590.0107913323345, 104.81437708068877, 235.91267599745754, 1809.2484763061368, 274.7878429931439, 0.9968013733687886, 0.9968013733687886, 0.9968013733687886, 0.9968013733687886, 0.9968013733687886, 0.9968013733687886, 0.9968013733687886, 0.9968013733687886, 0.9968013733687886, 0.9968013733687886, 0.9968013733687886, 0.9968013733687886, 0.9968013733687886, 0.9968013733687886, 0.9968013733687886, 0.9968013733687886, 0.9968013733687886, 0.9968013733687886, 0.9968013733687886, 0.9968013733687886, 0.9968013733687886, 0.9968013733687886, 0.9968013733687886, 0.9968013733687886, 0.9968013733687886, 0.9968013733687886, 0.9968013733687886, 0.9968013733687886, 0.9968013733687886, 0.9968013733687886, 257.16742147330456, 49.38625916868967, 2420.6855657776414, 699.6794497174109, 794.3327442839816, 492.38950476182214, 809.0898835133165, 29.903194540496298, 5086.458600285011, 155.58684382681537, 1199.010378263852, 109.0551497587125, 832.033426858584, 340.1865834317842, 524.3166264537377, 3256.7674636849756, 216.81427682412954, 54.19259657401784, 41.221442955335085, 1321.3693449840728, 590.0107913323345, 104.81437708068877, 235.91267599745754, 1809.2484763061368, 274.7878429931439, 0.9968013733687886, 0.9968013733687886, 0.9968013733687886, 0.9968013733687886, 0.9968013733687886, 0.9968013733687886, 0.9968013733687886, 0.9968013733687886, 0.9968013733687886, 0.9968013733687886, 0.9968013733687886, 0.9968013733687886, 0.9968013733687886, 0.9968013733687886, 0.9968013733687886, 0.9968013733687886, 0.9968013733687886, 0.9968013733687886, 0.9968013733687886, 0.9968013733687886, 0.9968013733687886, 0.9968013733687886, 0.9968013733687886, 0.9968013733687886, 0.9968013733687886, 0.9968013733687886, 0.9968013733687886, 0.9968013733687886, 0.9968013733687886, 0.9968013733687886, 257.16742147330456, 49.38625916868967, 2420.6855657776414, 699.6794497174109, 794.3327442839816, 492.38950476182214, 809.0898835133165, 29.903194540496298, 5086.458600285011, 155.58684382681537, 1199.010378263852, 109.0551497587125, 832.033426858584, 340.1865834317842, 524.3166264537377, 3256.7674636849756, 216.81427682412954, 54.19259657401784, 41.221442955335085, 1321.3693449840728, 590.0107913323345, 104.81437708068877, 235.91267599745754, 1809.2484763061368, 274.7878429931439, 0.9968013733687886, 0.9968013733687886, 0.9968013733687886, 0.9968013733687886, 0.9968013733687886, 0.9968013733687886, 0.9968013733687886, 0.9968013733687886, 0.9968013733687886, 0.9968013733687886, 0.9968013733687886, 0.9968013733687886, 0.9968013733687886, 0.9968013733687886, 0.9968013733687886, 0.9968013733687886, 0.9968013733687886, 0.9968013733687886, 0.9968013733687886, 0.9968013733687886, 0.9968013733687886, 0.9968013733687886, 0.9968013733687886, 0.9968013733687886, 0.9968013733687886, 0.9968013733687886, 0.9968013733687886, 0.9968013733687886, 0.9968013733687886, 0.9968013733687886, 257.16742147330456, 49.38625916868967, 2420.6855657776414, 699.6794497174109, 794.3327442839816, 492.38950476182214, 809.0898835133165, 29.903194540496298, 5086.458600285011, 155.58684382681537, 1199.010378263852, 109.0551497587125, 832.033426858584, 340.1865834317842, 524.3166264537377, 3256.7674636849756, 216.81427682412954, 54.19259657401784, 41.221442955335085, 1321.3693449840728, 590.0107913323345, 104.81437708068877, 235.91267599745754, 1809.2484763061368, 274.7878429931439, 0.9968013733687886, 0.9968013733687886, 0.9968013733687886, 0.9968013733687886, 0.9968013733687886, 0.9968013733687886, 0.9968013733687886, 0.9968013733687886, 0.9968013733687886, 0.9968013733687886, 0.9968013733687886, 0.9968013733687886, 0.9968013733687886, 0.9968013733687886, 0.9968013733687886, 0.9968013733687886, 0.9968013733687886, 0.9968013733687886, 0.9968013733687886, 0.9968013733687886, 0.9968013733687886, 0.9968013733687886, 0.9968013733687886, 0.9968013733687886, 0.9968013733687886, 0.9968013733687886, 0.9968013733687886, 0.9968013733687886, 0.9968013733687886, 0.9968013733687886, 257.16742147330456, 49.38625916868967, 2420.6855657776414, 699.6794497174109, 794.3327442839816, 492.38950476182214, 809.0898835133165, 29.903194540496298, 5086.458600285011, 155.58684382681537, 1199.010378263852, 109.0551497587125, 832.033426858584, 340.1865834317842, 524.3166264537377, 3256.7674636849756, 216.81427682412954, 54.19259657401784, 41.221442955335085, 1321.3693449840728, 590.0107913323345, 104.81437708068877, 235.91267599745754, 1809.2484763061368, 274.7878429931439], \"Category\": [\"Default\", \"Default\", \"Default\", \"Default\", \"Default\", \"Default\", \"Default\", \"Default\", \"Default\", \"Default\", \"Default\", \"Default\", \"Default\", \"Default\", \"Default\", \"Default\", \"Default\", \"Default\", \"Default\", \"Default\", \"Default\", \"Default\", \"Default\", \"Default\", \"Default\", \"Default\", \"Default\", \"Default\", \"Default\", \"Default\", \"Topic1\", \"Topic1\", \"Topic1\", \"Topic1\", \"Topic1\", \"Topic1\", \"Topic1\", \"Topic1\", \"Topic1\", \"Topic1\", \"Topic1\", \"Topic1\", \"Topic1\", \"Topic1\", \"Topic1\", \"Topic1\", \"Topic1\", \"Topic1\", \"Topic1\", \"Topic1\", \"Topic1\", \"Topic1\", \"Topic1\", \"Topic1\", \"Topic1\", \"Topic1\", \"Topic1\", \"Topic1\", \"Topic1\", \"Topic1\", \"Topic1\", \"Topic1\", \"Topic1\", \"Topic1\", \"Topic1\", \"Topic1\", \"Topic1\", \"Topic2\", \"Topic2\", \"Topic2\", \"Topic2\", \"Topic2\", \"Topic2\", \"Topic2\", \"Topic2\", \"Topic2\", \"Topic2\", \"Topic2\", \"Topic2\", \"Topic2\", \"Topic2\", \"Topic2\", \"Topic2\", \"Topic2\", \"Topic2\", \"Topic2\", \"Topic2\", \"Topic2\", \"Topic2\", \"Topic2\", \"Topic2\", \"Topic2\", \"Topic2\", \"Topic2\", \"Topic2\", \"Topic2\", \"Topic2\", \"Topic2\", \"Topic2\", \"Topic2\", \"Topic2\", \"Topic3\", \"Topic3\", \"Topic3\", \"Topic3\", \"Topic3\", \"Topic3\", \"Topic3\", \"Topic3\", \"Topic3\", \"Topic3\", \"Topic3\", \"Topic3\", \"Topic3\", \"Topic3\", \"Topic3\", \"Topic3\", \"Topic3\", \"Topic3\", \"Topic3\", \"Topic3\", \"Topic3\", \"Topic3\", \"Topic3\", \"Topic3\", \"Topic3\", \"Topic3\", \"Topic3\", \"Topic3\", \"Topic3\", \"Topic3\", \"Topic3\", \"Topic3\", \"Topic3\", \"Topic3\", \"Topic3\", \"Topic3\", \"Topic3\", \"Topic3\", \"Topic3\", \"Topic3\", \"Topic3\", \"Topic4\", \"Topic4\", \"Topic4\", \"Topic4\", \"Topic4\", \"Topic4\", \"Topic4\", \"Topic4\", \"Topic4\", \"Topic4\", \"Topic4\", \"Topic4\", \"Topic4\", \"Topic4\", \"Topic4\", \"Topic4\", \"Topic4\", \"Topic4\", \"Topic4\", \"Topic4\", \"Topic4\", \"Topic4\", \"Topic4\", \"Topic4\", \"Topic4\", \"Topic4\", \"Topic4\", \"Topic4\", \"Topic4\", \"Topic4\", \"Topic4\", \"Topic4\", \"Topic4\", \"Topic4\", \"Topic4\", \"Topic4\", \"Topic4\", \"Topic4\", \"Topic5\", \"Topic5\", \"Topic5\", \"Topic5\", \"Topic5\", \"Topic5\", \"Topic5\", \"Topic5\", \"Topic5\", \"Topic5\", \"Topic5\", \"Topic5\", \"Topic5\", \"Topic5\", \"Topic5\", \"Topic5\", \"Topic5\", \"Topic5\", \"Topic5\", \"Topic5\", \"Topic5\", \"Topic5\", \"Topic5\", \"Topic5\", \"Topic5\", \"Topic5\", \"Topic5\", \"Topic5\", \"Topic5\", \"Topic5\", \"Topic5\", \"Topic5\", \"Topic5\", \"Topic6\", \"Topic6\", \"Topic6\", \"Topic6\", \"Topic6\", \"Topic6\", \"Topic6\", \"Topic6\", \"Topic6\", \"Topic6\", \"Topic6\", \"Topic6\", \"Topic6\", \"Topic6\", \"Topic6\", \"Topic6\", \"Topic6\", \"Topic6\", \"Topic6\", \"Topic6\", \"Topic6\", \"Topic6\", \"Topic6\", \"Topic6\", \"Topic6\", \"Topic6\", \"Topic6\", \"Topic6\", \"Topic6\", \"Topic6\", \"Topic6\", \"Topic6\", \"Topic6\", \"Topic6\", \"Topic6\", \"Topic6\", \"Topic6\", \"Topic6\", \"Topic6\", \"Topic6\", \"Topic6\", \"Topic6\", \"Topic7\", \"Topic7\", \"Topic7\", \"Topic7\", \"Topic7\", \"Topic7\", \"Topic7\", \"Topic7\", \"Topic7\", \"Topic7\", \"Topic7\", \"Topic7\", \"Topic7\", \"Topic7\", \"Topic7\", \"Topic7\", \"Topic7\", \"Topic7\", \"Topic7\", \"Topic7\", \"Topic7\", \"Topic7\", \"Topic7\", \"Topic7\", \"Topic7\", \"Topic7\", \"Topic7\", \"Topic7\", \"Topic7\", \"Topic7\", \"Topic7\", \"Topic7\", \"Topic7\", \"Topic7\", \"Topic7\", \"Topic7\", \"Topic7\", \"Topic7\", \"Topic7\", \"Topic7\", \"Topic7\", \"Topic7\", \"Topic8\", \"Topic8\", \"Topic8\", \"Topic8\", \"Topic8\", \"Topic8\", \"Topic8\", \"Topic8\", \"Topic8\", \"Topic8\", \"Topic8\", \"Topic8\", \"Topic8\", \"Topic8\", \"Topic8\", \"Topic8\", \"Topic8\", \"Topic8\", \"Topic8\", \"Topic8\", \"Topic8\", \"Topic8\", \"Topic8\", \"Topic8\", \"Topic8\", \"Topic8\", \"Topic8\", \"Topic8\", \"Topic8\", \"Topic8\", \"Topic8\", \"Topic8\", \"Topic9\", \"Topic9\", \"Topic9\", \"Topic9\", \"Topic9\", \"Topic9\", \"Topic9\", \"Topic9\", \"Topic9\", \"Topic9\", \"Topic9\", \"Topic9\", \"Topic9\", \"Topic9\", \"Topic9\", \"Topic9\", \"Topic9\", \"Topic9\", \"Topic9\", \"Topic9\", \"Topic9\", \"Topic9\", \"Topic9\", \"Topic9\", \"Topic9\", \"Topic9\", \"Topic9\", \"Topic9\", \"Topic9\", \"Topic9\", \"Topic9\", \"Topic9\", \"Topic9\", \"Topic9\", \"Topic9\", \"Topic9\", \"Topic9\", \"Topic9\", \"Topic9\", \"Topic9\", \"Topic9\", \"Topic9\", \"Topic10\", \"Topic10\", \"Topic10\", \"Topic10\", \"Topic10\", \"Topic10\", \"Topic10\", \"Topic10\", \"Topic10\", \"Topic10\", \"Topic10\", \"Topic10\", \"Topic10\", \"Topic10\", \"Topic10\", \"Topic10\", \"Topic10\", \"Topic10\", \"Topic10\", \"Topic10\", \"Topic10\", \"Topic10\", \"Topic10\", \"Topic10\", \"Topic10\", \"Topic10\", \"Topic10\", \"Topic10\", \"Topic10\", \"Topic10\", \"Topic10\", \"Topic10\", \"Topic10\", \"Topic10\", \"Topic10\", \"Topic10\", \"Topic10\", \"Topic11\", \"Topic11\", \"Topic11\", \"Topic11\", \"Topic11\", \"Topic11\", \"Topic11\", \"Topic11\", \"Topic11\", \"Topic11\", \"Topic11\", \"Topic11\", \"Topic11\", \"Topic11\", \"Topic11\", \"Topic11\", \"Topic11\", \"Topic11\", \"Topic11\", \"Topic11\", \"Topic11\", \"Topic11\", \"Topic11\", \"Topic11\", \"Topic11\", \"Topic11\", \"Topic11\", \"Topic11\", \"Topic11\", \"Topic11\", \"Topic11\", \"Topic12\", \"Topic12\", \"Topic12\", \"Topic12\", \"Topic12\", \"Topic12\", \"Topic12\", \"Topic12\", \"Topic12\", \"Topic12\", \"Topic12\", \"Topic12\", \"Topic12\", \"Topic12\", \"Topic12\", \"Topic12\", \"Topic12\", \"Topic12\", \"Topic12\", \"Topic12\", \"Topic12\", \"Topic12\", \"Topic12\", \"Topic12\", \"Topic12\", \"Topic12\", \"Topic12\", \"Topic12\", \"Topic12\", \"Topic12\", \"Topic12\", \"Topic12\", \"Topic12\", \"Topic12\", \"Topic12\", \"Topic12\", \"Topic12\", \"Topic13\", \"Topic13\", \"Topic13\", \"Topic13\", \"Topic13\", \"Topic13\", \"Topic13\", \"Topic13\", \"Topic13\", \"Topic13\", \"Topic13\", \"Topic13\", \"Topic13\", \"Topic13\", \"Topic13\", \"Topic13\", \"Topic13\", \"Topic13\", \"Topic13\", \"Topic13\", \"Topic13\", \"Topic13\", \"Topic13\", \"Topic13\", \"Topic13\", \"Topic13\", \"Topic13\", \"Topic13\", \"Topic13\", \"Topic13\", \"Topic13\", \"Topic13\", \"Topic13\", \"Topic13\", \"Topic13\", \"Topic13\", \"Topic13\", \"Topic13\", \"Topic13\", \"Topic13\", \"Topic13\", \"Topic13\", \"Topic13\", \"Topic13\", \"Topic13\", \"Topic13\", \"Topic13\", \"Topic14\", \"Topic14\", \"Topic14\", \"Topic14\", \"Topic14\", \"Topic14\", \"Topic14\", \"Topic14\", \"Topic14\", \"Topic14\", \"Topic14\", \"Topic14\", \"Topic14\", \"Topic14\", \"Topic14\", \"Topic14\", \"Topic14\", \"Topic14\", \"Topic14\", \"Topic14\", \"Topic14\", \"Topic14\", \"Topic14\", \"Topic14\", \"Topic14\", \"Topic14\", \"Topic14\", \"Topic14\", \"Topic14\", \"Topic14\", \"Topic14\", \"Topic14\", \"Topic14\", \"Topic14\", \"Topic14\", \"Topic14\", \"Topic14\", \"Topic14\", \"Topic14\", \"Topic14\", \"Topic14\", \"Topic14\", \"Topic14\", \"Topic14\", \"Topic14\", \"Topic14\", \"Topic14\", \"Topic14\", \"Topic14\", \"Topic15\", \"Topic15\", \"Topic15\", \"Topic15\", \"Topic15\", \"Topic15\", \"Topic15\", \"Topic15\", \"Topic15\", \"Topic15\", \"Topic15\", \"Topic15\", \"Topic15\", \"Topic15\", \"Topic15\", \"Topic15\", \"Topic15\", \"Topic15\", \"Topic15\", \"Topic15\", \"Topic15\", \"Topic15\", \"Topic15\", \"Topic15\", \"Topic15\", \"Topic15\", \"Topic15\", \"Topic15\", \"Topic15\", \"Topic15\", \"Topic15\", \"Topic15\", \"Topic15\", \"Topic15\", \"Topic15\", \"Topic15\", \"Topic15\", \"Topic15\", \"Topic15\", \"Topic15\", \"Topic15\", \"Topic15\", \"Topic15\", \"Topic15\", \"Topic15\", \"Topic15\", \"Topic15\", \"Topic15\", \"Topic15\", \"Topic15\", \"Topic15\", \"Topic15\", \"Topic15\", \"Topic15\", \"Topic16\", \"Topic16\", \"Topic16\", \"Topic16\", \"Topic16\", \"Topic16\", \"Topic16\", \"Topic16\", \"Topic16\", \"Topic16\", \"Topic16\", \"Topic16\", \"Topic16\", \"Topic16\", \"Topic16\", \"Topic16\", \"Topic16\", \"Topic16\", \"Topic16\", \"Topic16\", \"Topic16\", \"Topic16\", \"Topic16\", \"Topic16\", \"Topic16\", \"Topic16\", \"Topic16\", \"Topic16\", \"Topic16\", \"Topic16\", \"Topic16\", \"Topic16\", \"Topic16\", \"Topic16\", \"Topic16\", \"Topic16\", \"Topic16\", \"Topic16\", \"Topic16\", \"Topic16\", \"Topic16\", \"Topic16\", \"Topic16\", \"Topic16\", \"Topic16\", \"Topic16\", \"Topic16\", \"Topic16\", \"Topic16\", \"Topic16\", \"Topic16\", \"Topic16\", \"Topic16\", \"Topic16\", \"Topic16\", \"Topic17\", \"Topic17\", \"Topic17\", \"Topic17\", \"Topic17\", \"Topic17\", \"Topic17\", \"Topic17\", \"Topic17\", \"Topic17\", \"Topic17\", \"Topic17\", \"Topic17\", \"Topic17\", \"Topic17\", \"Topic17\", \"Topic17\", \"Topic17\", \"Topic17\", \"Topic17\", \"Topic17\", \"Topic17\", \"Topic17\", \"Topic17\", \"Topic17\", \"Topic17\", \"Topic17\", \"Topic17\", \"Topic17\", \"Topic17\", \"Topic17\", \"Topic17\", \"Topic17\", \"Topic17\", \"Topic17\", \"Topic17\", \"Topic17\", \"Topic17\", \"Topic17\", \"Topic17\", \"Topic17\", \"Topic17\", \"Topic17\", \"Topic17\", \"Topic17\", \"Topic17\", \"Topic17\", \"Topic17\", \"Topic17\", \"Topic17\", \"Topic17\", \"Topic17\", \"Topic17\", \"Topic17\", \"Topic17\", \"Topic18\", \"Topic18\", \"Topic18\", \"Topic18\", \"Topic18\", \"Topic18\", \"Topic18\", \"Topic18\", \"Topic18\", \"Topic18\", \"Topic18\", \"Topic18\", \"Topic18\", \"Topic18\", \"Topic18\", \"Topic18\", \"Topic18\", \"Topic18\", \"Topic18\", \"Topic18\", \"Topic18\", \"Topic18\", \"Topic18\", \"Topic18\", \"Topic18\", \"Topic18\", \"Topic18\", \"Topic18\", \"Topic18\", \"Topic18\", \"Topic18\", \"Topic18\", \"Topic18\", \"Topic18\", \"Topic18\", \"Topic18\", \"Topic18\", \"Topic18\", \"Topic18\", \"Topic18\", \"Topic18\", \"Topic18\", \"Topic18\", \"Topic18\", \"Topic18\", \"Topic18\", \"Topic18\", \"Topic18\", \"Topic18\", \"Topic18\", \"Topic18\", \"Topic18\", \"Topic18\", \"Topic18\", \"Topic18\", \"Topic19\", \"Topic19\", \"Topic19\", \"Topic19\", \"Topic19\", \"Topic19\", \"Topic19\", \"Topic19\", \"Topic19\", \"Topic19\", \"Topic19\", \"Topic19\", \"Topic19\", \"Topic19\", \"Topic19\", \"Topic19\", \"Topic19\", \"Topic19\", \"Topic19\", \"Topic19\", \"Topic19\", \"Topic19\", \"Topic19\", \"Topic19\", \"Topic19\", \"Topic19\", \"Topic19\", \"Topic19\", \"Topic19\", \"Topic19\", \"Topic19\", \"Topic19\", \"Topic19\", \"Topic19\", \"Topic19\", \"Topic19\", \"Topic19\", \"Topic19\", \"Topic19\", \"Topic19\", \"Topic19\", \"Topic19\", \"Topic19\", \"Topic19\", \"Topic19\", \"Topic19\", \"Topic19\", \"Topic19\", \"Topic19\", \"Topic19\", \"Topic19\", \"Topic19\", \"Topic19\", \"Topic19\", \"Topic19\", \"Topic20\", \"Topic20\", \"Topic20\", \"Topic20\", \"Topic20\", \"Topic20\", \"Topic20\", \"Topic20\", \"Topic20\", \"Topic20\", \"Topic20\", \"Topic20\", \"Topic20\", \"Topic20\", \"Topic20\", \"Topic20\", \"Topic20\", \"Topic20\", \"Topic20\", \"Topic20\", \"Topic20\", \"Topic20\", \"Topic20\", \"Topic20\", \"Topic20\", \"Topic20\", \"Topic20\", \"Topic20\", \"Topic20\", \"Topic20\", \"Topic20\", \"Topic20\", \"Topic20\", \"Topic20\", \"Topic20\", \"Topic20\", \"Topic20\", \"Topic20\", \"Topic20\", \"Topic20\", \"Topic20\", \"Topic20\", \"Topic20\", \"Topic20\", \"Topic20\", \"Topic20\", \"Topic20\", \"Topic20\", \"Topic20\", \"Topic20\", \"Topic20\", \"Topic20\", \"Topic20\", \"Topic20\", \"Topic20\", \"Topic21\", \"Topic21\", \"Topic21\", \"Topic21\", \"Topic21\", \"Topic21\", \"Topic21\", \"Topic21\", \"Topic21\", \"Topic21\", \"Topic21\", \"Topic21\", \"Topic21\", \"Topic21\", \"Topic21\", \"Topic21\", \"Topic21\", \"Topic21\", \"Topic21\", \"Topic21\", \"Topic21\", \"Topic21\", \"Topic21\", \"Topic21\", \"Topic21\", \"Topic21\", \"Topic21\", \"Topic21\", \"Topic21\", \"Topic21\", \"Topic21\", \"Topic21\", \"Topic21\", \"Topic21\", \"Topic21\", \"Topic21\", \"Topic21\", \"Topic21\", \"Topic21\", \"Topic21\", \"Topic21\", \"Topic21\", \"Topic21\", \"Topic21\", \"Topic21\", \"Topic21\", \"Topic21\", \"Topic21\", \"Topic21\", \"Topic21\", \"Topic21\", \"Topic21\", \"Topic21\", \"Topic21\", \"Topic21\", \"Topic22\", \"Topic22\", \"Topic22\", \"Topic22\", \"Topic22\", \"Topic22\", \"Topic22\", \"Topic22\", \"Topic22\", \"Topic22\", \"Topic22\", \"Topic22\", \"Topic22\", \"Topic22\", \"Topic22\", \"Topic22\", \"Topic22\", \"Topic22\", \"Topic22\", \"Topic22\", \"Topic22\", \"Topic22\", \"Topic22\", \"Topic22\", \"Topic22\", \"Topic22\", \"Topic22\", \"Topic22\", \"Topic22\", \"Topic22\", \"Topic22\", \"Topic22\", \"Topic22\", \"Topic22\", \"Topic22\", \"Topic22\", \"Topic22\", \"Topic22\", \"Topic22\", \"Topic22\", \"Topic22\", \"Topic22\", \"Topic22\", \"Topic22\", \"Topic22\", \"Topic22\", \"Topic22\", \"Topic22\", \"Topic22\", \"Topic22\", \"Topic22\", \"Topic22\", \"Topic22\", \"Topic22\", \"Topic22\", \"Topic23\", \"Topic23\", \"Topic23\", \"Topic23\", \"Topic23\", \"Topic23\", \"Topic23\", \"Topic23\", \"Topic23\", \"Topic23\", \"Topic23\", \"Topic23\", \"Topic23\", \"Topic23\", \"Topic23\", \"Topic23\", \"Topic23\", \"Topic23\", \"Topic23\", \"Topic23\", \"Topic23\", \"Topic23\", \"Topic23\", \"Topic23\", \"Topic23\", \"Topic23\", \"Topic23\", \"Topic23\", \"Topic23\", \"Topic23\", \"Topic23\", \"Topic23\", \"Topic23\", \"Topic23\", \"Topic23\", \"Topic23\", \"Topic23\", \"Topic23\", \"Topic23\", \"Topic23\", \"Topic23\", \"Topic23\", \"Topic23\", \"Topic23\", \"Topic23\", \"Topic23\", \"Topic23\", \"Topic23\", \"Topic23\", \"Topic23\", \"Topic23\", \"Topic23\", \"Topic23\", \"Topic23\", \"Topic23\", \"Topic24\", \"Topic24\", \"Topic24\", \"Topic24\", \"Topic24\", \"Topic24\", \"Topic24\", \"Topic24\", \"Topic24\", \"Topic24\", \"Topic24\", \"Topic24\", \"Topic24\", \"Topic24\", \"Topic24\", \"Topic24\", \"Topic24\", \"Topic24\", \"Topic24\", \"Topic24\", \"Topic24\", \"Topic24\", \"Topic24\", \"Topic24\", \"Topic24\", \"Topic24\", \"Topic24\", \"Topic24\", \"Topic24\", \"Topic24\", \"Topic24\", \"Topic24\", \"Topic24\", \"Topic24\", \"Topic24\", \"Topic24\", \"Topic24\", \"Topic24\", \"Topic24\", \"Topic24\", \"Topic24\", \"Topic24\", \"Topic24\", \"Topic24\", \"Topic24\", \"Topic24\", \"Topic24\", \"Topic24\", \"Topic24\", \"Topic24\", \"Topic24\", \"Topic24\", \"Topic24\", \"Topic24\", \"Topic24\", \"Topic25\", \"Topic25\", \"Topic25\", \"Topic25\", \"Topic25\", \"Topic25\", \"Topic25\", \"Topic25\", \"Topic25\", \"Topic25\", \"Topic25\", \"Topic25\", \"Topic25\", \"Topic25\", \"Topic25\", \"Topic25\", \"Topic25\", \"Topic25\", \"Topic25\", \"Topic25\", \"Topic25\", \"Topic25\", \"Topic25\", \"Topic25\", \"Topic25\", \"Topic25\", \"Topic25\", \"Topic25\", \"Topic25\", \"Topic25\", \"Topic25\", \"Topic25\", \"Topic25\", \"Topic25\", \"Topic25\", \"Topic25\", \"Topic25\", \"Topic25\", \"Topic25\", \"Topic25\", \"Topic25\", \"Topic25\", \"Topic25\", \"Topic25\", \"Topic25\", \"Topic25\", \"Topic25\", \"Topic25\", \"Topic25\", \"Topic25\", \"Topic25\", \"Topic25\", \"Topic25\", \"Topic25\", \"Topic25\", \"Topic26\", \"Topic26\", \"Topic26\", \"Topic26\", \"Topic26\", \"Topic26\", \"Topic26\", \"Topic26\", \"Topic26\", \"Topic26\", \"Topic26\", \"Topic26\", \"Topic26\", \"Topic26\", \"Topic26\", \"Topic26\", \"Topic26\", \"Topic26\", \"Topic26\", \"Topic26\", \"Topic26\", \"Topic26\", \"Topic26\", \"Topic26\", \"Topic26\", \"Topic26\", \"Topic26\", \"Topic26\", \"Topic26\", \"Topic26\", \"Topic26\", \"Topic26\", \"Topic26\", \"Topic26\", \"Topic26\", \"Topic26\", \"Topic26\", \"Topic26\", \"Topic26\", \"Topic26\", \"Topic26\", \"Topic26\", \"Topic26\", \"Topic26\", \"Topic26\", \"Topic26\", \"Topic26\", \"Topic26\", \"Topic26\", \"Topic26\", \"Topic26\", \"Topic26\", \"Topic26\", \"Topic26\", \"Topic26\", \"Topic27\", \"Topic27\", \"Topic27\", \"Topic27\", \"Topic27\", \"Topic27\", \"Topic27\", \"Topic27\", \"Topic27\", \"Topic27\", \"Topic27\", \"Topic27\", \"Topic27\", \"Topic27\", \"Topic27\", \"Topic27\", \"Topic27\", \"Topic27\", \"Topic27\", \"Topic27\", \"Topic27\", \"Topic27\", \"Topic27\", \"Topic27\", \"Topic27\", \"Topic27\", \"Topic27\", \"Topic27\", \"Topic27\", \"Topic27\", \"Topic27\", \"Topic27\", \"Topic27\", \"Topic27\", \"Topic27\", \"Topic27\", \"Topic27\", \"Topic27\", \"Topic27\", \"Topic27\", \"Topic27\", \"Topic27\", \"Topic27\", \"Topic27\", \"Topic27\", \"Topic27\", \"Topic27\", \"Topic27\", \"Topic27\", \"Topic27\", \"Topic27\", \"Topic27\", \"Topic27\", \"Topic27\", \"Topic27\", \"Topic28\", \"Topic28\", \"Topic28\", \"Topic28\", \"Topic28\", \"Topic28\", \"Topic28\", \"Topic28\", \"Topic28\", \"Topic28\", \"Topic28\", \"Topic28\", \"Topic28\", \"Topic28\", \"Topic28\", \"Topic28\", \"Topic28\", \"Topic28\", \"Topic28\", \"Topic28\", \"Topic28\", \"Topic28\", \"Topic28\", \"Topic28\", \"Topic28\", \"Topic28\", \"Topic28\", \"Topic28\", \"Topic28\", \"Topic28\", \"Topic28\", \"Topic28\", \"Topic28\", \"Topic28\", \"Topic28\", \"Topic28\", \"Topic28\", \"Topic28\", \"Topic28\", \"Topic28\", \"Topic28\", \"Topic28\", \"Topic28\", \"Topic28\", \"Topic28\", \"Topic28\", \"Topic28\", \"Topic28\", \"Topic28\", \"Topic28\", \"Topic28\", \"Topic28\", \"Topic28\", \"Topic28\", \"Topic28\", \"Topic29\", \"Topic29\", \"Topic29\", \"Topic29\", \"Topic29\", \"Topic29\", \"Topic29\", \"Topic29\", \"Topic29\", \"Topic29\", \"Topic29\", \"Topic29\", \"Topic29\", \"Topic29\", \"Topic29\", \"Topic29\", \"Topic29\", \"Topic29\", \"Topic29\", \"Topic29\", \"Topic29\", \"Topic29\", \"Topic29\", \"Topic29\", \"Topic29\", \"Topic29\", \"Topic29\", \"Topic29\", \"Topic29\", \"Topic29\", \"Topic29\", \"Topic29\", \"Topic29\", \"Topic29\", \"Topic29\", \"Topic29\", \"Topic29\", \"Topic29\", \"Topic29\", \"Topic29\", \"Topic29\", \"Topic29\", \"Topic29\", \"Topic29\", \"Topic29\", \"Topic29\", \"Topic29\", \"Topic29\", \"Topic29\", \"Topic29\", \"Topic29\", \"Topic29\", \"Topic29\", \"Topic29\", \"Topic29\", \"Topic30\", \"Topic30\", \"Topic30\", \"Topic30\", \"Topic30\", \"Topic30\", \"Topic30\", \"Topic30\", \"Topic30\", \"Topic30\", \"Topic30\", \"Topic30\", \"Topic30\", \"Topic30\", \"Topic30\", \"Topic30\", \"Topic30\", \"Topic30\", \"Topic30\", \"Topic30\", \"Topic30\", \"Topic30\", \"Topic30\", \"Topic30\", \"Topic30\", \"Topic30\", \"Topic30\", \"Topic30\", \"Topic30\", \"Topic30\", \"Topic30\", \"Topic30\", \"Topic30\", \"Topic30\", \"Topic30\", \"Topic30\", \"Topic30\", \"Topic30\", \"Topic30\", \"Topic30\", \"Topic30\", \"Topic30\", \"Topic30\", \"Topic30\", \"Topic30\", \"Topic30\", \"Topic30\", \"Topic30\", \"Topic30\", \"Topic30\", \"Topic30\", \"Topic30\", \"Topic30\", \"Topic30\", \"Topic30\"], \"logprob\": [30.0, 29.0, 28.0, 27.0, 26.0, 25.0, 24.0, 23.0, 22.0, 21.0, 20.0, 19.0, 18.0, 17.0, 16.0, 15.0, 14.0, 13.0, 12.0, 11.0, 10.0, 9.0, 8.0, 7.0, 6.0, 5.0, 4.0, 3.0, 2.0, 1.0, -1.6014, -2.9225, -3.0565, -3.2357, -3.3821, -3.3942, -3.4161, -3.5652, -3.63, -3.666, -3.8994, -3.9105, -3.9774, -4.0013, -4.1895, -4.2425, -4.3155, -4.3432, -4.4154, -4.5319, -4.5723, -4.6249, -4.6291, -4.6597, -4.6873, -4.7882, -4.8991, -4.9242, -5.04, -5.055, -2.7984, -3.5922, -4.0315, -3.9354, -4.3582, -3.6685, -4.241, -1.826, -2.2372, -2.3377, -2.8068, -3.0604, -3.1403, -3.2171, -3.3599, -3.4274, -3.5899, -3.6802, -3.7142, -3.9199, -3.9677, -4.0466, -4.1933, -4.2467, -4.3257, -4.4503, -4.5319, -4.5371, -4.5558, -4.6224, -4.6833, -4.8777, -5.0379, -5.067, -5.3099, -5.4571, -5.4672, -3.709, -3.6126, -4.8217, -4.8091, -0.6766, -1.6132, -2.7309, -3.1811, -3.7375, -3.9501, -3.9621, -4.0606, -4.1298, -4.5676, -4.7611, -4.8242, -5.205, -5.6183, -6.9083, -4.3465, -5.0582, -12.7034, -12.7034, -12.7034, -12.7034, -12.7034, -12.7034, -12.7034, -12.7034, -12.7034, -12.7034, -12.7034, -12.7034, -12.7034, -12.7034, -5.314, -6.6767, -7.5143, -12.6961, -12.7034, -12.7034, -12.7034, -12.7034, -12.7034, -12.7034, -1.3268, -1.9238, -2.0428, -2.7928, -2.9271, -2.9996, -3.1661, -3.2673, -3.3311, -3.5113, -3.5992, -4.3148, -4.4551, -4.6056, -5.2492, -5.3902, -5.6512, -4.0827, -5.0816, -4.5244, -5.2968, -12.4831, -12.4831, -12.4831, -12.4831, -12.4831, -12.4831, -12.4831, -12.4831, -12.4831, -12.4831, -12.4791, -12.4819, -12.4819, -12.4831, -12.4831, -12.4831, -12.4831, -2.3191, -2.5836, -2.7966, -2.8797, -2.9006, -2.914, -2.9627, -3.0283, -3.0403, -3.4028, -3.4563, -3.5193, -3.6301, -4.0108, -4.0266, -4.5258, -4.6242, -4.8168, -4.9878, -2.7317, -5.4354, -5.5285, -6.1292, -2.6036, -7.8289, -2.7812, -4.8656, -12.3245, -12.3245, -12.3245, -12.3245, -11.9217, -12.3199, -1.0485, -1.3338, -2.2135, -2.8185, -3.0453, -3.6375, -3.6991, -3.7594, -4.4004, -4.7782, -5.8535, -6.3732, -6.5158, -7.1896, -4.8339, -4.2827, -12.2291, -12.2291, -12.2291, -12.2291, -12.2291, -12.2291, -12.2291, -12.2291, -12.2291, -12.2291, -12.2291, -12.2291, -12.2291, -12.2291, -6.1243, -12.2291, -12.2291, -12.2291, -12.2291, -12.2291, -12.2291, -12.2291, -12.2291, -12.2291, -12.2291, -12.2291, -1.3375, -1.6342, -1.8736, -1.9255, -2.6642, -3.5989, -3.813, -3.9661, -4.3844, -4.7824, -4.7909, -5.4504, -5.7294, -6.0592, -6.2858, -4.2895, -12.0867, -12.0867, -12.0867, -12.0867, -12.0867, -12.0867, -12.0867, -12.0867, -12.0867, -12.0867, -12.0867, -12.0867, -12.0867, -12.0867, -12.0867, -12.0867, -12.0867, -12.0867, -12.0867, -12.0867, -12.0867, -12.0867, -12.0867, -12.0867, -12.0867, -12.0867, -1.9689, -2.1811, -2.4409, -2.6465, -2.6547, -2.885, -3.1315, -3.1736, -3.3402, -3.399, -3.425, -3.4681, -3.6645, -4.0453, -4.0865, -4.1376, -4.203, -4.287, -4.3498, -4.5125, -4.5898, -4.8274, -4.9307, -5.242, -5.3151, -5.5117, -5.6002, -5.8142, -5.2297, -11.8286, -11.8286, -11.8286, -0.8709, -2.362, -2.6065, -2.7871, -2.8959, -2.8993, -3.0631, -3.7723, -3.7839, -3.8385, -3.9881, -4.0452, -4.1992, -5.1595, -5.9761, -11.7848, -11.7848, -11.7848, -11.7848, -11.7848, -11.7848, -11.7848, -11.7848, -11.7848, -11.7848, -11.7848, -11.7848, -11.7848, -11.7848, -11.7848, -11.7848, -11.7848, -11.7848, -11.7848, -11.7848, -11.7848, -11.7848, -11.7848, -11.7848, -11.7848, -11.7848, -11.7848, -0.3198, -2.1871, -2.7441, -3.9668, -11.6481, -11.6481, -11.6481, -11.6481, -11.6481, -11.6481, -11.6481, -11.6481, -11.6481, -11.6481, -11.6481, -11.6481, -11.6481, -11.6481, -11.6481, -11.6481, -11.6481, -11.6481, -11.6481, -11.6481, -11.6481, -11.6481, -11.6481, -11.6481, -11.6481, -11.6481, -11.6481, -11.6481, -11.6481, -11.6481, -11.6481, -11.6481, -11.6481, -0.7078, -1.825, -2.3589, -2.6754, -3.03, -3.5204, -11.3557, -11.3557, -11.3557, -11.3557, -11.3557, -11.3557, -11.3557, -11.3557, -11.3557, -11.3557, -11.3557, -11.3557, -11.3557, -11.3557, -11.3557, -11.3557, -11.3557, -11.3557, -11.3557, -11.3557, -11.3557, -11.3557, -11.3557, -11.3557, -11.3557, -1.4316, -1.9243, -2.305, -2.4571, -2.6829, -2.6903, -3.2348, -3.3146, -3.7684, -3.9569, -4.0042, -4.3445, -4.8218, -5.0669, -5.7322, -6.4539, -11.177, -11.177, -11.177, -11.177, -11.177, -11.177, -11.177, -11.177, -11.177, -11.177, -11.177, -11.177, -11.177, -11.177, -11.177, -11.177, -11.177, -11.177, -11.177, -11.177, -11.177, -0.3425, -2.4664, -4.1817, -4.7968, -10.8061, -10.8061, -10.8061, -10.8061, -10.8061, -10.8061, -10.8061, -10.8061, -10.8061, -10.8061, -10.8061, -10.8061, -10.8061, -10.8061, -10.8061, -10.8061, -10.8061, -10.8061, -10.8061, -10.8061, -10.8061, -10.8061, -10.8061, -10.8061, -10.8061, -10.8061, -10.8061, -10.8061, -10.8061, -10.8061, -10.8061, -10.8061, -10.8061, -10.8061, -10.8061, -10.8061, -10.8061, -10.8061, -10.8061, -10.8061, -10.8061, -10.8061, -10.8061, -0.5028, -2.8314, -10.1901, -10.1901, -10.1901, -10.1901, -10.1901, -10.1901, -10.1901, -10.1901, -10.1901, -10.1901, -10.1901, -10.1901, -10.1901, -10.1901, -10.1901, -10.1901, -10.1901, -10.1901, -10.1901, -10.1901, -10.1901, -10.1901, -10.1901, -10.1901, -10.1901, -10.1901, -10.1901, -10.1901, -10.1901, -10.1901, -10.1901, -10.1901, -10.1901, -10.1901, -10.1901, -10.1901, -10.1901, -10.1901, -10.1901, -10.1901, -10.1901, -10.1901, -10.1901, -10.1901, -10.1901, -10.1901, -10.1901, -0.8415, -9.6642, -9.6642, -9.6642, -9.6642, -9.6642, -9.6642, -9.6642, -9.6642, -9.6642, -9.6642, -9.6642, -9.6642, -9.6642, -9.6642, -9.6642, -9.6642, -9.6642, -9.6642, -9.6642, -9.6642, -9.6642, -9.6642, -9.6642, -9.6642, -9.6642, -9.6642, -9.6642, -9.6642, -9.6642, -9.6642, -9.6642, -9.6642, -9.6642, -9.6642, -9.6642, -9.6642, -9.6642, -9.6642, -9.6642, -9.6642, -9.6642, -9.6642, -9.6642, -9.6642, -9.6642, -9.6642, -9.6642, -9.6642, -9.6642, -9.6642, -9.6642, -9.6642, -9.6642, -9.1003, -9.1003, -9.1003, -9.1003, -9.1003, -9.1003, -9.1003, -9.1003, -9.1003, -9.1003, -9.1003, -9.1003, -9.1003, -9.1003, -9.1003, -9.1003, -9.1003, -9.1003, -9.1003, -9.1003, -9.1003, -9.1003, -9.1003, -9.1003, -9.1003, -9.1003, -9.1003, -9.1003, -9.1003, -9.1003, -9.1003, -9.1003, -9.1003, -9.1003, -9.1003, -9.1003, -9.1003, -9.1003, -9.1003, -9.1003, -9.1003, -9.1003, -9.1003, -9.1003, -9.1003, -9.1003, -9.1003, -9.1003, -9.1003, -9.1003, -9.1003, -9.1003, -9.1003, -9.1003, -9.1003, -9.1003, -9.1003, -9.1003, -9.1003, -9.1003, -9.1003, -9.1003, -9.1003, -9.1003, -9.1003, -9.1003, -9.1003, -9.1003, -9.1003, -9.1003, -9.1003, -9.1003, -9.1003, -9.1003, -9.1003, -9.1003, -9.1003, -9.1003, -9.1003, -9.1003, -9.1003, -9.1003, -9.1003, -9.1003, -9.1003, -9.1003, -9.1003, -9.1003, -9.1003, -9.1003, -9.1003, -9.1003, -9.1003, -9.1003, -9.1003, -9.1003, -9.1003, -9.1003, -9.1003, -9.1003, -9.1003, -9.1003, -9.1003, -9.1003, -9.1003, -9.1003, -9.1003, -9.1003, -9.1003, -9.1003, -9.1003, -9.1003, -9.1003, -9.1003, -9.1003, -9.1003, -9.1003, -9.1003, -9.1003, -9.1003, -9.1003, -9.1003, -9.1003, -9.1003, -9.1003, -9.1003, -9.1003, -9.1003, -9.1003, -9.1003, -9.1003, -9.1003, -9.1003, -9.1003, -9.1003, -9.1003, -9.1003, -9.1003, -9.1003, -9.1003, -9.1003, -9.1003, -9.1003, -9.1003, -9.1003, -9.1003, -9.1003, -9.1003, -9.1003, -9.1003, -9.1003, -9.1003, -9.1003, -9.1003, -9.1003, -9.1003, -9.1003, -9.1003, -9.1003, -9.1003, -9.1003, -9.1003, -9.1003, -9.1003, -9.1003, -9.1003, -9.1003, -9.1003, -9.1003, -9.1003, -9.1003, -9.1003, -9.1003, -9.1003, -9.1003, -9.1003, -9.1003, -9.1003, -9.1003, -9.1003, -9.1003, -9.1003, -9.1003, -9.1003, -9.1003, -9.1003, -9.1003, -9.1003, -9.1003, -9.1003, -9.1003, -9.1003, -9.1003, -9.1003, -9.1003, -9.1003, -9.1003, -9.1003, -9.1003, -9.1003, -9.1003, -9.1003, -9.1003, -9.1003, -9.1003, -9.1003, -9.1003, -9.1003, -9.1003, -9.1003, -9.1003, -9.1003, -9.1003, -9.1003, -9.1003, -9.1003, -9.1003, -9.1003, -9.1003, -9.1003, -9.1003, -9.1003, -9.1003, -9.1003, -9.1003, -9.1003, -9.1003, -9.1003, -9.1003, -9.1003, -9.1003, -9.1003, -9.1003, -9.1003, -9.1003, -9.1003, -9.1003, -9.1003, -9.1003, -9.1003, -9.1003, -9.1003, -9.1003, -9.1003, -9.1003, -9.1003, -9.1003, -9.1003, -9.1003, -9.1003, -9.1003, -9.1003, -9.1003, -9.1003, -9.1003, -9.1003, -9.1003, -9.1003, -9.1003, -9.1003, -9.1003, -9.1003, -9.1003, -9.1003, -9.1003, -9.1003, -9.1003, -9.1003, -9.1003, -9.1003, -9.1003, -9.1003, -9.1003, -9.1003, -9.1003, -9.1003, -9.1003, -9.1003, -9.1003, -9.1003, -9.1003, -9.1003, -9.1003, -9.1003, -9.1003, -9.1003, -9.1003, -9.1003, -9.1003, -9.1003, -9.1003, -9.1003, -9.1003, -9.1003, -9.1003, -9.1003, -9.1003, -9.1003, -9.1003, -9.1003, -9.1003, -9.1003, -9.1003, -9.1003, -9.1003, -9.1003, -9.1003, -9.1003, -9.1003, -9.1003, -9.1003, -9.1003, -9.1003, -9.1003, -9.1003, -9.1003, -9.1003, -9.1003, -9.1003, -9.1003, -9.1003, -9.1003, -9.1003, -9.1003, -9.1003, -9.1003, -9.1003, -9.1003, -9.1003, -9.1003, -9.1003, -9.1003, -9.1003, -9.1003, -9.1003, -9.1003, -9.1003, -9.1003, -9.1003, -9.1003, -9.1003, -9.1003, -9.1003, -9.1003, -9.1003, -9.1003, -9.1003, -9.1003, -9.1003, -9.1003, -9.1003, -9.1003, -9.1003, -9.1003, -9.1003, -9.1003, -9.1003, -9.1003, -9.1003, -9.1003, -9.1003, -9.1003, -9.1003, -9.1003, -9.1003, -9.1003, -9.1003, -9.1003, -9.1003, -9.1003, -9.1003, -9.1003, -9.1003, -9.1003, -9.1003, -9.1003, -9.1003, -9.1003, -9.1003, -9.1003, -9.1003, -9.1003, -9.1003, -9.1003, -9.1003, -9.1003, -9.1003, -9.1003, -9.1003, -9.1003, -9.1003, -9.1003, -9.1003, -9.1003, -9.1003, -9.1003, -9.1003, -9.1003, -9.1003, -9.1003, -9.1003, -9.1003, -9.1003, -9.1003, -9.1003, -9.1003, -9.1003, -9.1003, -9.1003, -9.1003, -9.1003, -9.1003, -9.1003, -9.1003, -9.1003, -9.1003, -9.1003, -9.1003, -9.1003, -9.1003, -9.1003, -9.1003, -9.1003, -9.1003, -9.1003, -9.1003, -9.1003, -9.1003, -9.1003, -9.1003, -9.1003, -9.1003, -9.1003, -9.1003, -9.1003, -9.1003, -9.1003, -9.1003, -9.1003, -9.1003, -9.1003, -9.1003, -9.1003, -9.1003, -9.1003, -9.1003, -9.1003, -9.1003, -9.1003, -9.1003, -9.1003, -9.1003, -9.1003, -9.1003, -9.1003, -9.1003, -9.1003, -9.1003, -9.1003, -9.1003, -9.1003, -9.1003, -9.1003, -9.1003, -9.1003, -9.1003, -9.1003, -9.1003, -9.1003, -9.1003, -9.1003, -9.1003, -9.1003, -9.1003, -9.1003, -9.1003, -9.1003, -9.1003, -9.1003, -9.1003, -9.1003, -9.1003, -9.1003, -9.1003, -9.1003, -9.1003, -9.1003, -9.1003, -9.1003, -9.1003, -9.1003, -9.1003, -9.1003, -9.1003, -9.1003, -9.1003, -9.1003, -9.1003, -9.1003, -9.1003, -9.1003, -9.1003, -9.1003, -9.1003, -9.1003, -9.1003, -9.1003, -9.1003, -9.1003, -9.1003, -9.1003, -9.1003, -9.1003, -9.1003, -9.1003, -9.1003, -9.1003, -9.1003, -9.1003, -9.1003, -9.1003, -9.1003, -9.1003, -9.1003, -9.1003, -9.1003, -9.1003, -9.1003, -9.1003, -9.1003, -9.1003, -9.1003, -9.1003, -9.1003, -9.1003, -9.1003, -9.1003, -9.1003, -9.1003, -9.1003, -9.1003, -9.1003, -9.1003, -9.1003, -9.1003, -9.1003, -9.1003, -9.1003, -9.1003, -9.1003, -9.1003, -9.1003, -9.1003, -9.1003, -9.1003, -9.1003, -9.1003, -9.1003, -9.1003, -9.1003, -9.1003, -9.1003, -9.1003, -9.1003, -9.1003, -9.1003, -9.1003, -9.1003, -9.1003, -9.1003, -9.1003, -9.1003, -9.1003, -9.1003, -9.1003, -9.1003, -9.1003, -9.1003, -9.1003, -9.1003, -9.1003, -9.1003, -9.1003, -9.1003, -9.1003, -9.1003, -9.1003, -9.1003, -9.1003, -9.1003, -9.1003, -9.1003, -9.1003, -9.1003, -9.1003, -9.1003, -9.1003, -9.1003, -9.1003, -9.1003, -9.1003, -9.1003, -9.1003, -9.1003, -9.1003, -9.1003, -9.1003, -9.1003, -9.1003, -9.1003, -9.1003, -9.1003, -9.1003, -9.1003, -9.1003, -9.1003, -9.1003, -9.1003, -9.1003, -9.1003, -9.1003, -9.1003, -9.1003, -9.1003, -9.1003, -9.1003, -9.1003, -9.1003, -9.1003, -9.1003, -9.1003, -9.1003, -9.1003, -9.1003, -9.1003, -9.1003, -9.1003, -9.1003, -9.1003, -9.1003, -9.1003, -9.1003, -9.1003, -9.1003, -9.1003, -9.1003, -9.1003, -9.1003, -9.1003, -9.1003, -9.1003, -9.1003, -9.1003, -9.1003, -9.1003, -9.1003, -9.1003, -9.1003, -9.1003, -9.1003, -9.1003, -9.1003, -9.1003, -9.1003, -9.1003, -9.1003, -9.1003, -9.1003, -9.1003, -9.1003, -9.1003, -9.1003, -9.1003, -9.1003, -9.1003, -9.1003, -9.1003, -9.1003, -9.1003, -9.1003, -9.1003, -9.1003, -9.1003, -9.1003, -9.1003, -9.1003, -9.1003, -9.1003, -9.1003, -9.1003, -9.1003, -9.1003, -9.1003, -9.1003, -9.1003, -9.1003, -9.1003, -9.1003, -9.1003, -9.1003, -9.1003, -9.1003, -9.1003, -9.1003, -9.1003, -9.1003, -9.1003, -9.1003, -9.1003, -9.1003, -9.1003, -9.1003, -9.1003, -9.1003, -9.1003, -9.1003, -9.1003, -9.1003, -9.1003, -9.1003, -9.1003, -9.1003, -9.1003, -9.1003, -9.1003, -9.1003, -9.1003, -9.1003, -9.1003, -9.1003, -9.1003, -9.1003, -9.1003, -9.1003, -9.1003, -9.1003, -9.1003, -9.1003, -9.1003, -9.1003, -9.1003, -9.1003, -9.1003, -9.1003, -9.1003, -9.1003, -9.1003, -9.1003, -9.1003, -9.1003, -9.1003, -9.1003, -9.1003, -9.1003, -9.1003, -9.1003, -9.1003, -9.1003, -9.1003, -9.1003, -9.1003, -9.1003, -9.1003, -9.1003, -9.1003, -9.1003, -9.1003, -9.1003, -9.1003, -9.1003, -9.1003, -9.1003, -9.1003, -9.1003, -9.1003, -9.1003, -9.1003, -9.1003, -9.1003, -9.1003, -9.1003, -9.1003, -9.1003, -9.1003, -9.1003, -9.1003, -9.1003, -9.1003, -9.1003, -9.1003, -9.1003, -9.1003, -9.1003, -9.1003, -9.1003, -9.1003, -9.1003, -9.1003, -9.1003, -9.1003, -9.1003, -9.1003, -9.1003, -9.1003, -9.1003, -9.1003, -9.1003, -9.1003, -9.1003, -9.1003, -9.1003, -9.1003, -9.1003, -9.1003, -9.1003, -9.1003, -9.1003, -9.1003, -9.1003, -9.1003, -9.1003, -9.1003, -9.1003, -9.1003, -9.1003], \"loglift\": [30.0, 29.0, 28.0, 27.0, 26.0, 25.0, 24.0, 23.0, 22.0, 21.0, 20.0, 19.0, 18.0, 17.0, 16.0, 15.0, 14.0, 13.0, 12.0, 11.0, 10.0, 9.0, 8.0, 7.0, 6.0, 5.0, 4.0, 3.0, 2.0, 1.0, 1.2418, 1.2416, 1.2415, 1.2415, 1.2414, 1.2414, 1.2414, 1.2413, 1.2413, 1.2413, 1.2411, 1.2411, 1.2411, 1.241, 1.2409, 1.2408, 1.2407, 1.2407, 1.2406, 1.2405, 1.2404, 1.2403, 1.2403, 1.2403, 1.2402, 1.2401, 1.2399, 1.2398, 1.2396, 1.2395, 1.2144, 1.1058, 1.1258, 1.0834, 1.1271, 0.8236, 0.9986, 1.9539, 1.9538, 1.9538, 1.9536, 1.9535, 1.9534, 1.9533, 1.9532, 1.9532, 1.953, 1.9529, 1.9528, 1.9526, 1.9525, 1.9524, 1.9521, 1.952, 1.9518, 1.9515, 1.9513, 1.9513, 1.9512, 1.951, 1.9508, 1.9501, 1.9494, 1.9493, 1.9479, 1.947, 1.9469, 1.7384, 0.8795, 0.4179, -0.1111, 2.317, 2.3169, 2.3164, 2.316, 2.3152, 2.3148, 2.3148, 2.3145, 2.3144, 2.3129, 2.312, 2.3116, 2.3091, 2.3051, 2.2741, 1.9961, 0.0992, -0.4201, -0.4201, -0.4201, -0.4201, -0.4201, -0.4201, -0.4201, -0.4201, -0.4201, -0.4201, -0.4201, -0.4201, -0.4201, -0.4201, -1.3012, -1.5542, -2.2305, -7.5445, -0.4201, -0.4201, -0.4201, -0.4201, -0.4201, -0.4201, 2.419, 2.4188, 2.4188, 2.4184, 2.4183, 2.4182, 2.418, 2.4179, 2.4178, 2.4176, 2.4174, 2.4156, 2.415, 2.4144, 2.41, 2.4087, 2.4055, 2.3864, 0.8028, 0.4944, 0.1885, -0.1999, -0.1999, -0.1999, -0.1999, -0.1999, -0.1999, -0.1999, -0.1999, -0.1999, -0.1999, -5.5812, -6.3179, -7.7839, -6.8161, -0.1999, -0.1999, -0.1999, 2.5629, 2.5627, 2.5625, 2.5624, 2.5624, 2.5624, 2.5624, 2.5623, 2.5623, 2.5618, 2.5617, 2.5616, 2.5613, 2.5604, 2.5603, 2.5583, 2.5578, 2.5566, 2.5553, 2.552, 2.5507, 2.5495, 2.5382, 2.5189, 2.4326, 2.4096, 1.9227, -0.0412, -0.0412, -0.0412, -0.0412, -6.2547, -6.7958, 2.8093, 2.8093, 2.8089, 2.8083, 2.808, 2.8068, 2.8066, 2.8064, 2.8037, 2.801, 2.7848, 2.7682, 2.7621, 2.7184, 1.5087, 1.1648, 0.0542, 0.0542, 0.0542, 0.0542, 0.0542, 0.0542, 0.0542, 0.0542, 0.0542, 0.0542, 0.0542, 0.0542, 0.0542, 0.0542, -1.0019, 0.0542, 0.0542, 0.0542, 0.0542, 0.0542, 0.0542, 0.0542, 0.0542, 0.0542, 0.0542, 0.0542, 2.8541, 2.854, 2.8539, 2.8539, 2.8534, 2.8517, 2.851, 2.8505, 2.8484, 2.8455, 2.8455, 2.8372, 2.8317, 2.8229, 2.8151, 0.9013, 0.1966, 0.1966, 0.1966, 0.1966, 0.1966, 0.1966, 0.1966, 0.1966, 0.1966, 0.1966, 0.1966, 0.1966, 0.1966, 0.1966, -6.993, 0.1966, 0.1966, 0.1966, 0.1966, 0.1966, 0.1966, 0.1966, 0.1966, 0.1966, 0.1966, 0.1966, 3.0836, 3.0834, 3.0832, 3.0829, 3.0829, 3.0826, 3.0821, 3.082, 3.0816, 3.0814, 3.0814, 3.0812, 3.0806, 3.0789, 3.0787, 3.0784, 3.078, 3.0774, 3.077, 3.0757, 3.075, 3.0726, 3.0713, 3.0667, 3.0653, 3.0613, 3.0592, 3.0533, 0.6546, 0.4547, 0.4547, 0.4547, 3.2989, 3.2979, 3.2976, 3.2972, 3.297, 3.297, 3.2966, 3.294, 3.294, 3.2937, 3.2928, 3.2924, 3.2913, 3.2789, 3.2538, 0.4985, 0.4985, 0.4985, 0.4985, 0.4985, 0.4985, 0.4985, 0.4985, 0.4985, 0.4985, 0.4985, 0.4985, 0.4985, 0.4985, 0.4985, 0.4985, 0.4985, 0.4985, 0.4985, 0.4985, 0.4985, 0.4985, 0.4985, 0.4985, 0.4985, 0.4985, 0.4985, 3.5274, 3.5263, 3.5253, 3.5198, 0.6352, 0.6352, 0.6352, 0.6352, 0.6352, 0.6352, 0.6352, 0.6352, 0.6352, 0.6352, 0.6352, 0.6352, 0.6352, 0.6352, 0.6352, 0.6352, 0.6352, 0.6352, 0.6352, 0.6352, 0.6352, 0.6352, 0.6352, 0.6352, 0.6352, 0.6352, 0.6352, 0.6352, -4.9177, -3.2677, -7.1598, -5.9186, -6.0455, 3.5729, 3.5722, 3.5715, 3.5709, 3.57, 3.568, 0.9276, 0.9276, 0.9276, 0.9276, 0.9276, 0.9276, 0.9276, 0.9276, 0.9276, 0.9276, 0.9276, 0.9276, 0.9276, 0.9276, 0.9276, 0.9276, 0.9276, 0.9276, 0.9276, 0.9276, 0.9276, 0.9276, 0.9276, 0.9276, -4.6253, 3.8254, 3.8249, 3.8243, 3.8239, 3.8234, 3.8233, 3.8212, 3.8208, 3.8177, 3.8159, 3.8154, 3.8111, 3.8019, 3.7953, 3.7668, 3.7076, 1.1063, 1.1063, 1.1063, 1.1063, 1.1063, 1.1063, 1.1063, 1.1063, 1.1063, 1.1063, 1.1063, 1.1063, 1.1063, 1.1063, 1.1063, 1.1063, 1.1063, 1.1063, 1.1063, 1.1063, 1.1063, 4.1964, 4.1934, 4.1781, 2.0095, 1.4772, 1.4772, 1.4772, 1.4772, 1.4772, 1.4772, 1.4772, 1.4772, 1.4772, 1.4772, 1.4772, 1.4772, 1.4772, 1.4772, 1.4772, 1.4772, 1.4772, 1.4772, 1.4772, 1.4772, 1.4772, 1.4772, 1.4772, 1.4772, 1.4772, 1.4772, 1.4772, 1.4772, -4.0757, -2.4257, -6.3178, -5.0766, -5.2035, -4.7253, -5.2219, -1.924, -7.0603, -3.5732, -5.6152, -3.2178, -5.2499, -4.3555, -4.7881, 5.2722, 5.259, 2.0932, 2.0932, 2.0932, 2.0932, 2.0932, 2.0932, 2.0932, 2.0932, 2.0932, 2.0932, 2.0932, 2.0932, 2.0932, 2.0932, 2.0932, 2.0932, 2.0932, 2.0932, 2.0932, 2.0932, 2.0932, 2.0932, 2.0932, 2.0932, 2.0932, 2.0932, 2.0932, 2.0932, 2.0932, 2.0932, 2.0932, -3.4597, -1.8097, -5.7018, -4.4606, -4.5875, -4.1093, -4.6059, -1.308, -6.4443, -2.9572, -4.9993, -2.6019, -4.6339, -3.7395, -4.1721, -5.9985, 5.7093, 2.6191, 2.6191, 2.6191, 2.6191, 2.6191, 2.6191, 2.6191, 2.6191, 2.6191, 2.6191, 2.6191, 2.6191, 2.6191, 2.6191, 2.6191, 2.6191, 2.6191, 2.6191, 2.6191, 2.6191, 2.6191, 2.6191, 2.6191, 2.6191, 2.6191, 2.6191, 2.6191, 2.6191, 2.6191, -2.9338, -1.2837, -5.1759, -3.9347, -4.0616, -3.5833, -4.08, -0.782, -5.9184, -2.4313, -4.4733, -2.0759, -4.1079, -3.2136, -3.6462, -5.4726, -2.7631, -1.3766, -1.103, -4.5705, -3.7642, -2.0363, -2.8475, -4.8847, 3.183, 3.183, 3.183, 3.183, 3.183, 3.183, 3.183, 3.183, 3.183, 3.183, 3.183, 3.183, 3.183, 3.183, 3.183, 3.183, 3.183, 3.183, 3.183, 3.183, 3.183, 3.183, 3.183, 3.183, 3.183, 3.183, 3.183, 3.183, 3.183, 3.183, -2.3699, -0.7199, -4.612, -3.3708, -3.4977, -3.0195, -3.5161, -0.2182, -5.3546, -1.8674, -3.9095, -1.5121, -3.5441, -2.6497, -3.0823, -4.9087, -2.1993, -0.8128, -0.5392, -4.0066, -3.2004, -1.4724, -2.2837, -4.3209, -2.4362, 3.183, 3.183, 3.183, 3.183, 3.183, 3.183, 3.183, 3.183, 3.183, 3.183, 3.183, 3.183, 3.183, 3.183, 3.183, 3.183, 3.183, 3.183, 3.183, 3.183, 3.183, 3.183, 3.183, 3.183, 3.183, 3.183, 3.183, 3.183, 3.183, 3.183, -2.3699, -0.7199, -4.612, -3.3708, -3.4977, -3.0195, -3.5161, -0.2182, -5.3546, -1.8674, -3.9095, -1.5121, -3.5441, -2.6497, -3.0823, -4.9087, -2.1993, -0.8128, -0.5392, -4.0066, -3.2004, -1.4724, -2.2837, -4.3209, -2.4362, 3.183, 3.183, 3.183, 3.183, 3.183, 3.183, 3.183, 3.183, 3.183, 3.183, 3.183, 3.183, 3.183, 3.183, 3.183, 3.183, 3.183, 3.183, 3.183, 3.183, 3.183, 3.183, 3.183, 3.183, 3.183, 3.183, 3.183, 3.183, 3.183, 3.183, -2.3699, -0.7199, -4.612, -3.3708, -3.4977, -3.0195, -3.5161, -0.2182, -5.3546, -1.8674, -3.9095, -1.5121, -3.5441, -2.6497, -3.0823, -4.9087, -2.1993, -0.8128, -0.5392, -4.0066, -3.2004, -1.4724, -2.2837, -4.3209, -2.4362, 3.183, 3.183, 3.183, 3.183, 3.183, 3.183, 3.183, 3.183, 3.183, 3.183, 3.183, 3.183, 3.183, 3.183, 3.183, 3.183, 3.183, 3.183, 3.183, 3.183, 3.183, 3.183, 3.183, 3.183, 3.183, 3.183, 3.183, 3.183, 3.183, 3.183, -2.3699, -0.7199, -4.612, -3.3708, -3.4977, -3.0195, -3.5161, -0.2182, -5.3546, -1.8674, -3.9095, -1.5121, -3.5441, -2.6497, -3.0823, -4.9087, -2.1993, -0.8128, -0.5392, -4.0066, -3.2004, -1.4724, -2.2837, -4.3209, -2.4362, 3.183, 3.183, 3.183, 3.183, 3.183, 3.183, 3.183, 3.183, 3.183, 3.183, 3.183, 3.183, 3.183, 3.183, 3.183, 3.183, 3.183, 3.183, 3.183, 3.183, 3.183, 3.183, 3.183, 3.183, 3.183, 3.183, 3.183, 3.183, 3.183, 3.183, -2.3699, -0.7199, -4.612, -3.3708, -3.4977, -3.0195, -3.5161, -0.2182, -5.3546, -1.8674, -3.9095, -1.5121, -3.5441, -2.6497, -3.0823, -4.9087, -2.1993, -0.8128, -0.5392, -4.0066, -3.2004, -1.4724, -2.2837, -4.3209, -2.4362, 3.183, 3.183, 3.183, 3.183, 3.183, 3.183, 3.183, 3.183, 3.183, 3.183, 3.183, 3.183, 3.183, 3.183, 3.183, 3.183, 3.183, 3.183, 3.183, 3.183, 3.183, 3.183, 3.183, 3.183, 3.183, 3.183, 3.183, 3.183, 3.183, 3.183, -2.3699, -0.7199, -4.612, -3.3708, -3.4977, -3.0195, -3.5161, -0.2182, -5.3546, -1.8674, -3.9095, -1.5121, -3.5441, -2.6497, -3.0823, -4.9087, -2.1993, -0.8128, -0.5392, -4.0066, -3.2004, -1.4724, -2.2837, -4.3209, -2.4362, 3.183, 3.183, 3.183, 3.183, 3.183, 3.183, 3.183, 3.183, 3.183, 3.183, 3.183, 3.183, 3.183, 3.183, 3.183, 3.183, 3.183, 3.183, 3.183, 3.183, 3.183, 3.183, 3.183, 3.183, 3.183, 3.183, 3.183, 3.183, 3.183, 3.183, -2.3699, -0.7199, -4.612, -3.3708, -3.4977, -3.0195, -3.5161, -0.2182, -5.3546, -1.8674, -3.9095, -1.5121, -3.5441, -2.6497, -3.0823, -4.9087, -2.1993, -0.8128, -0.5392, -4.0066, -3.2004, -1.4724, -2.2837, -4.3209, -2.4362, 3.183, 3.183, 3.183, 3.183, 3.183, 3.183, 3.183, 3.183, 3.183, 3.183, 3.183, 3.183, 3.183, 3.183, 3.183, 3.183, 3.183, 3.183, 3.183, 3.183, 3.183, 3.183, 3.183, 3.183, 3.183, 3.183, 3.183, 3.183, 3.183, 3.183, -2.3699, -0.7199, -4.612, -3.3708, -3.4977, -3.0195, -3.5161, -0.2182, -5.3546, -1.8674, -3.9095, -1.5121, -3.5441, -2.6497, -3.0823, -4.9087, -2.1993, -0.8128, -0.5392, -4.0066, -3.2004, -1.4724, -2.2837, -4.3209, -2.4362, 3.183, 3.183, 3.183, 3.183, 3.183, 3.183, 3.183, 3.183, 3.183, 3.183, 3.183, 3.183, 3.183, 3.183, 3.183, 3.183, 3.183, 3.183, 3.183, 3.183, 3.183, 3.183, 3.183, 3.183, 3.183, 3.183, 3.183, 3.183, 3.183, 3.183, -2.3699, -0.7199, -4.612, -3.3708, -3.4977, -3.0195, -3.5161, -0.2182, -5.3546, -1.8674, -3.9095, -1.5121, -3.5441, -2.6497, -3.0823, -4.9087, -2.1993, -0.8128, -0.5392, -4.0066, -3.2004, -1.4724, -2.2837, -4.3209, -2.4362, 3.183, 3.183, 3.183, 3.183, 3.183, 3.183, 3.183, 3.183, 3.183, 3.183, 3.183, 3.183, 3.183, 3.183, 3.183, 3.183, 3.183, 3.183, 3.183, 3.183, 3.183, 3.183, 3.183, 3.183, 3.183, 3.183, 3.183, 3.183, 3.183, 3.183, -2.3699, -0.7199, -4.612, -3.3708, -3.4977, -3.0195, -3.5161, -0.2182, -5.3546, -1.8674, -3.9095, -1.5121, -3.5441, -2.6497, -3.0823, -4.9087, -2.1993, -0.8128, -0.5392, -4.0066, -3.2004, -1.4724, -2.2837, -4.3209, -2.4362, 3.183, 3.183, 3.183, 3.183, 3.183, 3.183, 3.183, 3.183, 3.183, 3.183, 3.183, 3.183, 3.183, 3.183, 3.183, 3.183, 3.183, 3.183, 3.183, 3.183, 3.183, 3.183, 3.183, 3.183, 3.183, 3.183, 3.183, 3.183, 3.183, 3.183, -2.3699, -0.7199, -4.612, -3.3708, -3.4977, -3.0195, -3.5161, -0.2182, -5.3546, -1.8674, -3.9095, -1.5121, -3.5441, -2.6497, -3.0823, -4.9087, -2.1993, -0.8128, -0.5392, -4.0066, -3.2004, -1.4724, -2.2837, -4.3209, -2.4362, 3.183, 3.183, 3.183, 3.183, 3.183, 3.183, 3.183, 3.183, 3.183, 3.183, 3.183, 3.183, 3.183, 3.183, 3.183, 3.183, 3.183, 3.183, 3.183, 3.183, 3.183, 3.183, 3.183, 3.183, 3.183, 3.183, 3.183, 3.183, 3.183, 3.183, -2.3699, -0.7199, -4.612, -3.3708, -3.4977, -3.0195, -3.5161, -0.2182, -5.3546, -1.8674, -3.9095, -1.5121, -3.5441, -2.6497, -3.0823, -4.9087, -2.1993, -0.8128, -0.5392, -4.0066, -3.2004, -1.4724, -2.2837, -4.3209, -2.4362, 3.183, 3.183, 3.183, 3.183, 3.183, 3.183, 3.183, 3.183, 3.183, 3.183, 3.183, 3.183, 3.183, 3.183, 3.183, 3.183, 3.183, 3.183, 3.183, 3.183, 3.183, 3.183, 3.183, 3.183, 3.183, 3.183, 3.183, 3.183, 3.183, 3.183, -2.3699, -0.7199, -4.612, -3.3708, -3.4977, -3.0195, -3.5161, -0.2182, -5.3546, -1.8674, -3.9095, -1.5121, -3.5441, -2.6497, -3.0823, -4.9087, -2.1993, -0.8128, -0.5392, -4.0066, -3.2004, -1.4724, -2.2837, -4.3209, -2.4362, 3.183, 3.183, 3.183, 3.183, 3.183, 3.183, 3.183, 3.183, 3.183, 3.183, 3.183, 3.183, 3.183, 3.183, 3.183, 3.183, 3.183, 3.183, 3.183, 3.183, 3.183, 3.183, 3.183, 3.183, 3.183, 3.183, 3.183, 3.183, 3.183, 3.183, -2.3699, -0.7199, -4.612, -3.3708, -3.4977, -3.0195, -3.5161, -0.2182, -5.3546, -1.8674, -3.9095, -1.5121, -3.5441, -2.6497, -3.0823, -4.9087, -2.1993, -0.8128, -0.5392, -4.0066, -3.2004, -1.4724, -2.2837, -4.3209, -2.4362, 3.183, 3.183, 3.183, 3.183, 3.183, 3.183, 3.183, 3.183, 3.183, 3.183, 3.183, 3.183, 3.183, 3.183, 3.183, 3.183, 3.183, 3.183, 3.183, 3.183, 3.183, 3.183, 3.183, 3.183, 3.183, 3.183, 3.183, 3.183, 3.183, 3.183, -2.3699, -0.7199, -4.612, -3.3708, -3.4977, -3.0195, -3.5161, -0.2182, -5.3546, -1.8674, -3.9095, -1.5121, -3.5441, -2.6497, -3.0823, -4.9087, -2.1993, -0.8128, -0.5392, -4.0066, -3.2004, -1.4724, -2.2837, -4.3209, -2.4362]}, \"token.table\": {\"Topic\": [1, 2, 12, 12, 4, 12, 2, 1, 2, 1, 1, 2, 9, 8, 5, 4, 2, 1, 8, 8, 2, 1, 3, 4, 2, 8, 7, 10, 3, 5, 3, 9, 9, 5, 12, 1, 8, 6, 5, 2, 6, 6, 5, 8, 6, 12, 4, 9, 15, 1, 10, 8, 8, 7, 3, 1, 8, 12, 5, 2, 4, 1, 9, 5, 4, 6, 7, 12, 1, 1, 4, 8, 3, 1, 6, 8, 2, 9, 1, 6, 1, 4, 1, 2, 2, 8, 5, 1, 9, 9, 1, 2, 1, 12, 2, 8, 3, 8, 5, 7, 9, 8, 13, 6, 2, 2, 3, 6, 3, 8, 9, 1, 1, 1, 1, 4, 2, 4, 11, 5, 1, 8, 1, 4, 5, 7, 11, 2, 2, 5, 6, 11, 5, 2, 12, 8, 5, 2, 6, 2, 7, 4, 1, 4, 8, 7, 7, 8, 3, 2, 1, 3, 1, 2, 11, 10, 6, 3, 5, 6, 2, 2, 8, 12, 1, 4, 7, 6, 7, 3, 4, 8, 1, 3, 2, 11, 13, 8, 7, 5, 1, 11, 9, 6, 5, 7, 5, 3, 9, 7, 6, 1, 1, 14, 12, 3, 12, 4, 2, 10, 1, 14, 8, 2, 7, 5, 1, 2, 5, 8, 9, 12, 2, 1, 1, 13, 2, 12, 8, 5, 5, 1, 3, 3, 3, 7, 4, 1, 8, 3, 5, 4, 2, 1, 13, 5, 4, 12, 9, 1, 5, 9, 7, 4, 3, 12, 2, 1, 4, 8, 8, 5, 6, 2, 5], \"Freq\": [0.9983675308008093, 0.9992379473775674, 0.9882043608866246, 0.9939069875330255, 0.9974265884353374, 0.8413666259465753, 0.9993946450049418, 0.8727653469395038, 0.12686431487912228, 0.9994640569462774, 0.9992636568372854, 0.9954568561990583, 0.999772537515564, 0.9896777501165206, 0.998573519162192, 0.9954604612566537, 0.9979821720058941, 0.9981470319501213, 0.9973883756894038, 0.9719302657859832, 0.9961528820824559, 0.9729632405672122, 0.026705773823961484, 0.9979545060670546, 0.9992072895545737, 0.9970589444813104, 0.999716788587773, 0.99985070213313, 0.9960033771528011, 0.9956160995645271, 0.9974088460625612, 0.9986020453443546, 0.9986922792440869, 0.9712640253354726, 0.9989525581493971, 0.9998991770618467, 0.999028912857616, 0.9328626424737865, 0.9983221838787687, 0.8063831300324193, 0.1929713640050843, 0.9962402149285419, 0.9971780374106587, 0.9557024955922234, 0.9905518196829162, 0.9974332190702017, 0.9986529512535939, 0.9469766817515048, 0.9975762143833574, 0.9986553325848168, 0.9981724713496349, 0.9913266050928923, 0.980029092915772, 0.9697960517471419, 0.9991456514365076, 0.9991398069277715, 0.9968072765568163, 0.997642158026636, 0.9995296575530567, 0.9993979144292515, 0.9999098389820797, 0.9993426038961489, 0.9920384739595816, 0.9982157808162161, 0.9972380733136563, 0.9980994098980202, 0.9962281911993242, 0.9985233952654289, 0.9988560726467125, 0.9978496568538886, 0.998063359433556, 0.9992008969719872, 0.9962387900141524, 0.9998225951356478, 0.9997828488469673, 0.999322207697228, 0.999262160782828, 0.991304034148839, 0.9984079562931624, 0.9993153535653764, 0.029942551620966276, 0.9671444173572107, 0.9981220429780713, 0.9944611133059406, 0.997431728768194, 0.9921713838606591, 0.9979884733163503, 0.9983597559284637, 0.9957824008519031, 0.9937568170269772, 0.7837526169251439, 0.21542250699841944, 0.9984333390891869, 0.9813738776264384, 0.9989862534187625, 0.9819473876481312, 0.9981627716696003, 0.9635409456858555, 0.8573737297324545, 0.14178359343824637, 0.9984248115851985, 0.9903246223489028, 0.9994035286756755, 0.9960953128605413, 0.9938230393371902, 0.999849114550755, 0.725621004397591, 0.271778048919825, 0.9482375273721456, 0.9847784813447696, 0.9869875312186855, 0.9996758099965409, 0.9987555681862044, 0.9976307992670523, 0.9987579503115809, 0.9987217784189918, 0.9996003296348792, 0.9943393508743952, 0.9969599375858437, 0.9984203388830354, 0.9992817818780262, 0.9972748245754353, 0.891250180336658, 0.10748745893507433, 0.9911940717783242, 0.9965119628769189, 0.995741654623733, 0.9959208178037231, 0.4697660422021867, 0.5274566087884202, 0.9534666078308845, 0.9966589367516027, 0.9974888714427332, 0.9990416871048029, 0.9296016333633452, 0.9909635022882607, 0.998666657368757, 0.9987396876987548, 0.9998112612025638, 0.9986089069332774, 0.9997643480249869, 0.9995180614823255, 0.9962443579082662, 0.998189994613736, 0.9944319518503815, 0.9779933671864393, 0.9703687482105233, 0.9986124815325292, 0.9872025598076981, 0.9989636924836566, 0.9982868256866082, 0.9992385924499708, 0.9997414349006761, 0.996686827828244, 0.9995218182806541, 0.9940543762215571, 0.9970391948108134, 0.021030153932876928, 0.956482556650847, 0.021809048522983484, 0.9987955689539204, 0.9984063353690941, 0.9963799718234455, 0.9976068466109421, 0.8531968994069606, 0.1460616914211093, 0.9922302922235388, 0.9695490199528118, 0.9961312973387348, 0.9969389322770316, 0.9994169820567095, 0.9989203593344298, 0.890463765186479, 0.1088882321559553, 0.9937506485378356, 0.9977609547418018, 0.9964564657962633, 0.9992213685129613, 0.9993099475707805, 0.9299104165855471, 0.9976559606100406, 0.999614015233696, 0.9990284005005814, 0.9438181128328614, 0.9993853302918996, 0.9971329044816457, 0.9876182124017839, 0.997659060438589, 0.996300368386426, 0.991009485341597, 0.9982930905461295, 0.9996215721699305, 0.9992962619319437, 0.9848086368741249, 0.9926239628476313, 0.9939704221226194, 0.9969473163094211, 0.9815113345204481, 0.9994572440111281, 0.9985428746014676, 0.9993149313539077, 0.9991450209531879, 0.9900161080331128, 0.9981888860250272, 0.9997370726737264, 0.9829163778102876, 0.6581041581755257, 0.34128526917357127, 0.9988876471561343, 0.9893980775136036, 0.9985356404572232, 0.9864995667301324, 0.9915735105589581, 0.9994843772384026, 0.9992611171459918, 0.9719782393860757, 0.9971094702982018, 0.9962547255369492, 0.9960689289088446, 0.9981370280818935, 0.9994838770565546, 0.9987662896133356, 0.9991877504871078, 0.9996793822539867, 0.9985111815211248, 0.9572408853679122, 0.9848297052593121, 0.9986765974495093, 0.9977080490254976, 0.010982285158916123, 0.9884056643024511, 0.9995704273947094, 0.9950800736866336, 0.8851628392475046, 0.11326728274731102, 0.9987328352904604, 0.9982329979488593, 0.9955957313021038, 0.9973596007675801, 0.9989282442037536, 0.9904712894197091, 0.9895984451962705, 0.99901994704577, 0.9993176805881111, 0.999918578279888, 0.9833616015679975, 0.9998447654499588, 0.7125134702000824, 0.19856932776067868, 0.08843844009509219, 0.9985606071951978, 0.9972277933014546, 0.9929443919641341, 0.9984926991982439, 0.9970228280033359], \"Term\": [\"accord\", \"achieve\", \"actual\", \"advance\", \"advantage\", \"advice\", \"affect\", \"also\", \"also\", \"analysis\", \"analyze\", \"application\", \"area\", \"article\", \"as_well\", \"aspect\", \"assess\", \"assessment\", \"attention\", \"background\", \"balance\", \"base\", \"base\", \"build\", \"building\", \"call\", \"carbon\", \"carbon_emission\", \"carbon_emission_reduction\", \"carbon_neutrality\", \"carry\", \"case\", \"challenge\", \"chapter\", \"characteristic\", \"city\", \"climate_change\", \"collaboration\", \"community\", \"compare\", \"compare\", \"complex\", \"concept\", \"connotation\", \"consequently\", \"construct\", \"construction\", \"contemporary\", \"context\", \"contribute\", \"control\", \"core\", \"creation\", \"crisis\", \"current\", \"datum\", \"define\", \"demonstrate\", \"design\", \"develop\", \"development\", \"different\", \"dimension\", \"discuss\", \"discussion\", \"district\", \"domestic\", \"ecological\", \"economic\", \"economic_development\", \"economic_growth\", \"economy\", \"ecosystem\", \"effect\", \"energy\", \"energy_consumption\", \"energy_efficiency\", \"energy_transition\", \"enhance\", \"environmental\", \"establish\", \"establish\", \"estimate\", \"european\", \"evidence\", \"example\", \"exist\", \"experience\", \"face\", \"field\", \"find\", \"find\", \"first\", \"firstly\", \"focus\", \"foundation\", \"function\", \"further_research\", \"future\", \"future\", \"give\", \"global_warming\", \"green\", \"greenhouse_gas_emission\", \"guideline\", \"high\", \"highlight\", \"highlight\", \"hotspot\", \"idea\", \"illustrate\", \"impact\", \"implementation\", \"importance\", \"important\", \"include\", \"increase\", \"index_system\", \"indicate\", \"indicator\", \"industrial\", \"industrial_structure\", \"industry\", \"industry\", \"initiative\", \"innovation\", \"institutional\", \"interest\", \"introduce\", \"introduce\", \"involvement\", \"issue\", \"key\", \"large\", \"lastly\", \"layout\", \"lead\", \"less\", \"level\", \"local\", \"low\", \"low_carbon\", \"low_carbon_city\", \"low_carbon_development\", \"low_carbon_economy\", \"low_carbon_technology\", \"low_carbon_urban\", \"make\", \"meanwhile\", \"measure\", \"mechanism\", \"method\", \"model\", \"municipality\", \"national\", \"necessary\", \"neighbourhood\", \"new\", \"new\", \"new\", \"northern\", \"obtain\", \"opportunity\", \"order\", \"paper\", \"paper\", \"paper_analyze\", \"paper_examine\", \"path\", \"pathway\", \"pattern\", \"people\", \"perspective\", \"perspective\", \"phase\", \"pilot\", \"pilot_policy\", \"plan\", \"planning\", \"planning_design\", \"play\", \"policy\", \"positive\", \"positive_energy\", \"potential\", \"practice\", \"principle\", \"problem\", \"program\", \"progress\", \"project\", \"promote\", \"provide\", \"put\", \"put_forward\", \"rapid\", \"rapidly\", \"rational\", \"reduce\", \"regional\", \"relate\", \"relationship\", \"rely\", \"require\", \"research\", \"researcher\", \"result\", \"result\", \"role\", \"seek\", \"select\", \"sense\", \"series\", \"show\", \"significant\", \"significantly_improve\", \"similar\", \"situation\", \"solution\", \"standard\", \"strategy\", \"strong\", \"structure\", \"study\", \"suggest\", \"sum\", \"summarize\", \"support\", \"sustainability\", \"sustainable\", \"sustainable\", \"system\", \"technique\", \"technological_innovation\", \"technological_innovation\", \"technology\", \"then\", \"theory\", \"thus\", \"time\", \"together\", \"topic\", \"trend\", \"type\", \"urban\", \"urbanism\", \"use\", \"way\", \"way\", \"way\", \"well\", \"whole\", \"wide\", \"work\", \"worldwide\"]}, \"R\": 30, \"lambda.step\": 0.01, \"plot.opts\": {\"xlab\": \"PC1\", \"ylab\": \"PC2\"}, \"topic.order\": [15, 11, 13, 4, 3, 23, 8, 1, 30, 22, 12, 20, 2, 21, 18, 16, 17, 6, 19, 9, 14, 7, 5, 24, 25, 26, 27, 28, 29, 10]};\n",
       "\n",
       "function LDAvis_load_lib(url, callback){\n",
       "  var s = document.createElement('script');\n",
       "  s.src = url;\n",
       "  s.async = true;\n",
       "  s.onreadystatechange = s.onload = callback;\n",
       "  s.onerror = function(){console.warn(\"failed to load library \" + url);};\n",
       "  document.getElementsByTagName(\"head\")[0].appendChild(s);\n",
       "}\n",
       "\n",
       "if(typeof(LDAvis) !== \"undefined\"){\n",
       "   // already loaded: just create the visualization\n",
       "   !function(LDAvis){\n",
       "       new LDAvis(\"#\" + \"ldavis_el1722022498031022881024204624\", ldavis_el1722022498031022881024204624_data);\n",
       "   }(LDAvis);\n",
       "}else if(typeof define === \"function\" && define.amd){\n",
       "   // require.js is available: use it to load d3/LDAvis\n",
       "   require.config({paths: {d3: \"https://d3js.org/d3.v5\"}});\n",
       "   require([\"d3\"], function(d3){\n",
       "      window.d3 = d3;\n",
       "      LDAvis_load_lib(\"https://cdn.jsdelivr.net/gh/bmabey/pyLDAvis@3.4.0/pyLDAvis/js/ldavis.v3.0.0.js\", function(){\n",
       "        new LDAvis(\"#\" + \"ldavis_el1722022498031022881024204624\", ldavis_el1722022498031022881024204624_data);\n",
       "      });\n",
       "    });\n",
       "}else{\n",
       "    // require.js not available: dynamically load d3 & LDAvis\n",
       "    LDAvis_load_lib(\"https://d3js.org/d3.v5.js\", function(){\n",
       "         LDAvis_load_lib(\"https://cdn.jsdelivr.net/gh/bmabey/pyLDAvis@3.4.0/pyLDAvis/js/ldavis.v3.0.0.js\", function(){\n",
       "                 new LDAvis(\"#\" + \"ldavis_el1722022498031022881024204624\", ldavis_el1722022498031022881024204624_data);\n",
       "            })\n",
       "         });\n",
       "}\n",
       "</script>"
      ],
      "text/plain": [
       "PreparedData(topic_coordinates=              x         y  topics  cluster       Freq\n",
       "topic                                                \n",
       "14    -0.437563 -0.356539       1        1  28.884722\n",
       "10     0.026586 -0.543181       2        1  14.169078\n",
       "12    -0.535057 -0.087773       3        1   9.856105\n",
       "3      0.349826 -0.379945       4        1   8.899473\n",
       "2      0.453655 -0.214068       5        1   7.704030\n",
       "22     0.514118 -0.022484       6        1   6.023334\n",
       "7      0.476254  0.239191       7        1   5.758902\n",
       "0      0.180078 -0.396281       8        1   4.576467\n",
       "29    -0.294192 -0.308478       9        1   3.691438\n",
       "21    -0.140652 -0.405058      10        1   2.937473\n",
       "11    -0.431237  0.088637      11        1   2.806688\n",
       "19    -0.342583  0.317710      12        1   2.179114\n",
       "1      0.051681 -0.236839      13        1   1.504398\n",
       "20    -0.087274 -0.078609      14        1   0.512508\n",
       "17     0.019492  0.273985      15        1   0.330481\n",
       "15     0.013125  0.140649      16        1   0.011371\n",
       "16     0.013125  0.140649      17        1   0.011030\n",
       "5      0.013125  0.140649      18        1   0.011030\n",
       "18     0.013125  0.140649      19        1   0.011030\n",
       "8      0.013125  0.140649      20        1   0.011030\n",
       "13     0.013125  0.140649      21        1   0.011030\n",
       "6      0.013125  0.140649      22        1   0.011030\n",
       "4      0.013125  0.140649      23        1   0.011030\n",
       "23     0.013125  0.140649      24        1   0.011030\n",
       "24     0.013125  0.140649      25        1   0.011030\n",
       "25     0.013125  0.140649      26        1   0.011030\n",
       "26     0.013125  0.140649      27        1   0.011030\n",
       "27     0.013125  0.140649      28        1   0.011030\n",
       "28     0.013125  0.140649      29        1   0.011030\n",
       "9      0.013125  0.140649      30        1   0.011030, topic_info=                Term          Freq         Total Category  logprob  loglift\n",
       "93             urban  10790.000000  10790.000000  Default  30.0000  30.0000\n",
       "43   carbon_emission   4595.000000   4595.000000  Default  29.0000  29.0000\n",
       "44              city  12542.000000  12542.000000  Default  28.0000  28.0000\n",
       "102           energy   4546.000000   4546.000000  Default  27.0000  27.0000\n",
       "9        development   5086.000000   5086.000000  Default  26.0000  26.0000\n",
       "..               ...           ...           ...      ...      ...      ...\n",
       "22         mechanism      0.002652    590.010791  Topic30  -9.1003  -3.2004\n",
       "25     paper_analyze      0.002652    104.814377  Topic30  -9.1003  -1.4724\n",
       "26              path      0.002652    235.912676  Topic30  -9.1003  -2.2837\n",
       "27          planning      0.002652   1809.248476  Topic30  -9.1003  -4.3209\n",
       "29          practice      0.002652    274.787843  Topic30  -9.1003  -2.4362\n",
       "\n",
       "[1451 rows x 6 columns], token_table=      Topic      Freq       Term\n",
       "term                            \n",
       "165       1  0.998368     accord\n",
       "256       2  0.999238    achieve\n",
       "240      12  0.988204     actual\n",
       "241      12  0.993907    advance\n",
       "299       4  0.997427  advantage\n",
       "...     ...       ...        ...\n",
       "65        8  0.998561       well\n",
       "297       5  0.997228      whole\n",
       "298       6  0.992944       wide\n",
       "238       2  0.998493       work\n",
       "239       5  0.997023  worldwide\n",
       "\n",
       "[255 rows x 3 columns], R=30, lambda_step=0.01, plot_opts={'xlab': 'PC1', 'ylab': 'PC2'}, topic_order=[15, 11, 13, 4, 3, 23, 8, 1, 30, 22, 12, 20, 2, 21, 18, 16, 17, 6, 19, 9, 14, 7, 5, 24, 25, 26, 27, 28, 29, 10])"
      ]
     },
     "execution_count": 102,
     "metadata": {},
     "output_type": "execute_result"
    }
   ],
   "source": [
    "pyLDAvis.enable_notebook()\n",
    "vis = pyLDAvis.gensim.prepare(lda_model, corpus, id2word, mds=\"mmds\", R=30)\n",
    "vis"
   ]
  },
  {
   "cell_type": "markdown",
   "metadata": {},
   "source": [
    "## Topic modelling \"Scale and Resources\" > "
   ]
  },
  {
   "cell_type": "code",
   "execution_count": null,
   "metadata": {},
   "outputs": [],
   "source": []
  },
  {
   "cell_type": "markdown",
   "metadata": {},
   "source": [
    "## Data analysis"
   ]
  },
  {
   "cell_type": "code",
   "execution_count": 64,
   "metadata": {},
   "outputs": [
    {
     "name": "stdout",
     "output_type": "stream",
     "text": [
      "<gensim.interfaces.TransformedCorpus object at 0x0000020BF42976B0>\n"
     ]
    }
   ],
   "source": [
    "# description of topics' space\n",
    "doc_topics = lda_model.get_document_topics(corpus[:-1])\n",
    "print(doc_topics)"
   ]
  },
  {
   "cell_type": "code",
   "execution_count": 65,
   "metadata": {},
   "outputs": [
    {
     "name": "stdout",
     "output_type": "stream",
     "text": [
      "  (5, 0)\t0.026408571749925613\n",
      "  (6, 0)\t0.017804166302084923\n",
      "  (10, 0)\t0.08102951943874359\n",
      "  (15, 0)\t0.028569821268320084\n",
      "  (17, 0)\t0.014475645497441292\n",
      "  (21, 0)\t0.013427573256194592\n",
      "  (26, 0)\t0.16010437905788422\n",
      "  (29, 0)\t0.018302064388990402\n",
      "  (32, 0)\t0.015604554675519466\n",
      "  (33, 0)\t0.05355236306786537\n",
      "  (34, 0)\t0.05800873786211014\n",
      "  (39, 0)\t0.03783108666539192\n",
      "  (42, 0)\t0.08864591270685196\n",
      "  (46, 0)\t0.19876927137374878\n",
      "  (47, 0)\t0.017536601051688194\n",
      "  (49, 0)\t0.10699625313282013\n",
      "  (5, 1)\t0.04468901455402374\n",
      "  (6, 1)\t0.041244301944971085\n",
      "  (13, 1)\t0.021645143628120422\n",
      "  (15, 1)\t0.023561712354421616\n",
      "  (18, 1)\t0.013892151415348053\n",
      "  (21, 1)\t0.013131385669112206\n",
      "  (24, 1)\t0.04393310099840164\n",
      "  (26, 1)\t0.06432025879621506\n",
      "  (29, 1)\t0.03627924993634224\n",
      "  :\t:\n",
      "  (20, 2025)\t0.015533776953816414\n",
      "  (24, 2025)\t0.011222349479794502\n",
      "  (27, 2025)\t0.014651557430624962\n",
      "  (29, 2025)\t0.12063784152269363\n",
      "  (33, 2025)\t0.20882399380207062\n",
      "  (34, 2025)\t0.023475809022784233\n",
      "  (38, 2025)\t0.02848108299076557\n",
      "  (42, 2025)\t0.08983273059129715\n",
      "  (46, 2025)\t0.1562516987323761\n",
      "  (47, 2025)\t0.05243334919214249\n",
      "  (49, 2025)\t0.1466837078332901\n",
      "  (5, 2026)\t0.10544271022081375\n",
      "  (9, 2026)\t0.04902021586894989\n",
      "  (10, 2026)\t0.027849677950143814\n",
      "  (15, 2026)\t0.023631054908037186\n",
      "  (20, 2026)\t0.018884988501667976\n",
      "  (24, 2026)\t0.019076911732554436\n",
      "  (30, 2026)\t0.03960289806127548\n",
      "  (33, 2026)\t0.10127735137939453\n",
      "  (34, 2026)\t0.11384562402963638\n",
      "  (38, 2026)\t0.010788566432893276\n",
      "  (39, 2026)\t0.09462624043226242\n",
      "  (42, 2026)\t0.012512251734733582\n",
      "  (46, 2026)\t0.14840377867221832\n",
      "  (49, 2026)\t0.15873880684375763\n"
     ]
    }
   ],
   "source": [
    "# \"sparce\" matrix transformation\n",
    "from gensim.matutils import corpus2csc\n",
    "mat_sparce = corpus2csc(doc_topics)\n",
    "\n",
    "print(mat_sparce)"
   ]
  },
  {
   "cell_type": "code",
   "execution_count": 66,
   "metadata": {},
   "outputs": [
    {
     "data": {
      "text/plain": [
       "array([[0.        , 0.        , 0.        , ..., 0.0175366 , 0.        ,\n",
       "        0.10699625],\n",
       "       [0.        , 0.        , 0.        , ..., 0.        , 0.        ,\n",
       "        0.08628862],\n",
       "       [0.        , 0.        , 0.02039475, ..., 0.        , 0.        ,\n",
       "        0.20102744],\n",
       "       ...,\n",
       "       [0.02747214, 0.01926056, 0.        , ..., 0.01365835, 0.        ,\n",
       "        0.21855922],\n",
       "       [0.02381448, 0.        , 0.        , ..., 0.05243335, 0.        ,\n",
       "        0.14668371],\n",
       "       [0.        , 0.        , 0.        , ..., 0.        , 0.        ,\n",
       "        0.15873881]])"
      ]
     },
     "execution_count": 66,
     "metadata": {},
     "output_type": "execute_result"
    }
   ],
   "source": [
    "# data frame\n",
    "mat_dt = mat_sparce.T.toarray()\n",
    "mat_dt"
   ]
  },
  {
   "cell_type": "code",
   "execution_count": 74,
   "metadata": {},
   "outputs": [
    {
     "name": "stdout",
     "output_type": "stream",
     "text": [
      "    T0        T1        T2   T3   T4        T5        T6   T7        T8   T9  \\\n",
      "0  0.0  0.000000  0.000000  0.0  0.0  0.026409  0.017804  0.0  0.000000  0.0   \n",
      "1  0.0  0.000000  0.000000  0.0  0.0  0.044689  0.041244  0.0  0.000000  0.0   \n",
      "2  0.0  0.000000  0.020395  0.0  0.0  0.028749  0.000000  0.0  0.097484  0.0   \n",
      "3  0.0  0.000000  0.000000  0.0  0.0  0.010393  0.000000  0.0  0.000000  0.0   \n",
      "4  0.0  0.067151  0.000000  0.0  0.0  0.000000  0.000000  0.0  0.000000  0.0   \n",
      "\n",
      "   ...  T41       T42  T43  T44       T45       T46       T47  T48       T49  \\\n",
      "0  ...  0.0  0.088646  0.0  0.0  0.000000  0.198769  0.017537  0.0  0.106996   \n",
      "1  ...  0.0  0.054272  0.0  0.0  0.017556  0.205746  0.000000  0.0  0.086289   \n",
      "2  ...  0.0  0.016196  0.0  0.0  0.000000  0.262996  0.000000  0.0  0.201027   \n",
      "3  ...  0.0  0.015630  0.0  0.0  0.000000  0.135810  0.000000  0.0  0.265583   \n",
      "4  ...  0.0  0.000000  0.0  0.0  0.000000  0.125462  0.000000  0.0  0.047965   \n",
      "\n",
      "   id  \n",
      "0   0  \n",
      "1   1  \n",
      "2   2  \n",
      "3   3  \n",
      "4   4  \n",
      "\n",
      "[5 rows x 51 columns]\n"
     ]
    }
   ],
   "source": [
    "# data frame with polarities\n",
    "dfTopic = pd.DataFrame(mat_dt, columns = [\"T\" + str(i) for i in range(mat_dt.shape[1])])\n",
    "df_Topic_treatment = dfTopic\n",
    "df_Topic_treatment['id'] = db_init['index']\n",
    "\n",
    "print(df_Topic_treatment.head())"
   ]
  },
  {
   "cell_type": "code",
   "execution_count": null,
   "metadata": {},
   "outputs": [],
   "source": []
  }
 ],
 "metadata": {
  "kernelspec": {
   "display_name": "base",
   "language": "python",
   "name": "python3"
  },
  "language_info": {
   "codemirror_mode": {
    "name": "ipython",
    "version": 3
   },
   "file_extension": ".py",
   "mimetype": "text/x-python",
   "name": "python",
   "nbconvert_exporter": "python",
   "pygments_lexer": "ipython3",
   "version": "3.12.3"
  }
 },
 "nbformat": 4,
 "nbformat_minor": 2
}
