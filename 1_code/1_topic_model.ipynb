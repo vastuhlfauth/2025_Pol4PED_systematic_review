{
 "cells": [
  {
   "cell_type": "markdown",
   "metadata": {},
   "source": [
    "# Code for the topic modelling"
   ]
  },
  {
   "cell_type": "markdown",
   "metadata": {},
   "source": [
    "Tuto - https://www.youtube.com/watch?v=arMTVXEbV9Q"
   ]
  },
  {
   "cell_type": "markdown",
   "metadata": {},
   "source": [
    "## Import packages"
   ]
  },
  {
   "cell_type": "code",
   "execution_count": 4,
   "metadata": {},
   "outputs": [],
   "source": [
    "# nltk\n",
    "import nltk\n",
    "# gensim\n",
    "import gensim\n",
    "import gensim.corpora as corpora\n",
    "# spacy\n",
    "import spacy\n",
    "#vis\n",
    "import pyLDAvis\n",
    "import pyLDAvis.gensim"
   ]
  },
  {
   "cell_type": "code",
   "execution_count": 17,
   "metadata": {},
   "outputs": [],
   "source": [
    "import pandas as pd"
   ]
  },
  {
   "cell_type": "markdown",
   "metadata": {},
   "source": [
    "## Import data"
   ]
  },
  {
   "cell_type": "code",
   "execution_count": null,
   "metadata": {},
   "outputs": [],
   "source": [
    "db_init = pd.read_csv(\"C:/Users/valentin.stuhlfauth/OneDrive - univ-lyon2.fr/2_2025-DUT systematic review/2_Topic modelling/0_code/2025_Pol4PED_systematic_review/2025-02-27_Screening_result.csv\",sep=';',encoding='ISO-8859-1')"
   ]
  },
  {
   "cell_type": "code",
   "execution_count": 14,
   "metadata": {},
   "outputs": [
    {
     "data": {
      "text/plain": [
       "array(['Conceptual', 'Methodological', 'Qualitative', nan, 'Reviews',\n",
       "       'Quantitative', 'Modelling', 'Ingineering'], dtype=object)"
      ]
     },
     "execution_count": 14,
     "metadata": {},
     "output_type": "execute_result"
    }
   ],
   "source": [
    "db_init[\"Approach\"].unique()"
   ]
  },
  {
   "cell_type": "code",
   "execution_count": 72,
   "metadata": {},
   "outputs": [],
   "source": [
    "db_init=db_init.reset_index()"
   ]
  },
  {
   "cell_type": "code",
   "execution_count": 42,
   "metadata": {},
   "outputs": [],
   "source": [
    "df_text = pd.DataFrame()\n",
    "df_text[\"text_topic\"] = data[\"Article Title\"] + \" \" + data[\"Abstract\"]\n",
    "df_text = df_text[\"text_topic\"]"
   ]
  },
  {
   "cell_type": "markdown",
   "metadata": {},
   "source": [
    "## Pretreatment"
   ]
  },
  {
   "cell_type": "markdown",
   "metadata": {},
   "source": [
    "### Lemmatisation, generation and bigrams"
   ]
  },
  {
   "cell_type": "code",
   "execution_count": 44,
   "metadata": {},
   "outputs": [],
   "source": [
    "def lemmatization(texts, allowed_postags=[\"NOUN\", \"ADJ\", \"VERB\", \"ADV\"]):\n",
    "    nlp = spacy.load(\"en_core_web_sm\", disable=[\"parser\", \"ner\"])\n",
    "    texts_out = []\n",
    "    for text in texts:\n",
    "        doc = nlp(text)\n",
    "        new_text = []\n",
    "        for token in doc:\n",
    "            if token.pos_ in allowed_postags:\n",
    "                new_text.append(token.lemma_)\n",
    "        final = \" \".join(new_text)\n",
    "        texts_out.append(final)\n",
    "    return (texts_out)"
   ]
  },
  {
   "cell_type": "code",
   "execution_count": 46,
   "metadata": {},
   "outputs": [],
   "source": [
    "def gen_words(texts):\n",
    "    final = []\n",
    "    for text in texts:\n",
    "        new = gensim.utils.simple_preprocess(text, deacc=True)\n",
    "        final.append(new)\n",
    "    return (final)"
   ]
  },
  {
   "cell_type": "code",
   "execution_count": 47,
   "metadata": {},
   "outputs": [],
   "source": [
    "data_words = gen_words(lemmatization(df_text))"
   ]
  },
  {
   "cell_type": "code",
   "execution_count": 93,
   "metadata": {},
   "outputs": [
    {
     "name": "stdout",
     "output_type": "stream",
     "text": [
      "['theory', 'paper_analyze', 'relationship', 'low_carbon_city', 'climate_change', 'background', 'global_warming', 'low_carbon_city', 'construction', 'important', 'measure', 'mitigate_climate_change', 'crisis', 'low_carbon_urban', 'planning', 'key', 'technology', 'low_carbon_urban', 'construction', 'research', 'aspect', 'low_carbon_urban', 'planning', 'theory', 'concept', 'practice', 'low', 'zero', 'carbon', 'community', 'low_carbon_city', 'development', 'future', 'sum', 'low_carbon_urban', 'planning', 'research', 'progress', 'domestic', 'overseas', 'put', 'future', 'trend', 'low_carbon_urban', 'planning', 'research', 'aspect', 'demarcation', 'path', 'low_carbon_city', 'low_carbon_urban', 'planning', 'construction', 'popularity', 'low_carbon_technology', 'enforcement', 'mechanism', 'innovation', 'low_carbon_city', 'construction']\n"
     ]
    }
   ],
   "source": [
    "#BIGRAMS AND TRIGRAMS\n",
    "## threshold (float, optional) – Represent a score threshold for forming the phrases (higher means fewer phrases) (init = 100)\n",
    "bigram_phrases = gensim.models.Phrases(data_words, min_count=5, threshold=10)\n",
    "trigram_phrases = gensim.models.Phrases(bigram_phrases[data_words], threshold=10)\n",
    "\n",
    "bigram = gensim.models.phrases.Phraser(bigram_phrases)\n",
    "trigram = gensim.models.phrases.Phraser(trigram_phrases)\n",
    "\n",
    "def make_bigrams(texts):\n",
    "    return([bigram[doc] for doc in texts])\n",
    "\n",
    "def make_trigrams(texts):\n",
    "    return ([trigram[bigram[doc]] for doc in texts])\n",
    "\n",
    "data_bigrams = make_bigrams(data_words)\n",
    "data_bigrams_trigrams = make_trigrams(data_bigrams)\n",
    "\n",
    "print (data_bigrams_trigrams[0])"
   ]
  },
  {
   "cell_type": "markdown",
   "metadata": {},
   "source": [
    "### TF-IDF (play with hypervalue)"
   ]
  },
  {
   "cell_type": "code",
   "execution_count": 94,
   "metadata": {},
   "outputs": [],
   "source": [
    "#TF-IDF REMOVAL\n",
    "from gensim.models import TfidfModel\n",
    "\n",
    "id2word = corpora.Dictionary(data_bigrams_trigrams)\n",
    "\n",
    "texts = data_bigrams_trigrams\n",
    "\n",
    "corpus = [id2word.doc2bow(text) for text in texts]\n",
    "# print (corpus[0][0:20])\n",
    "\n",
    "tfidf = TfidfModel(corpus, id2word=id2word)\n",
    "\n",
    "low_value = 0.02\n",
    "words  = []\n",
    "words_missing_in_tfidf = []\n",
    "for i in range(0, len(corpus)):\n",
    "    bow = corpus[i]\n",
    "    low_value_words = [] #reinitialize to be safe. You can skip this.\n",
    "    tfidf_ids = [id for id, value in tfidf[bow]]\n",
    "    bow_ids = [id for id, value in bow]\n",
    "    low_value_words = [id for id, value in tfidf[bow] if value < low_value]\n",
    "    drops = low_value_words+words_missing_in_tfidf\n",
    "    for item in drops:\n",
    "        words.append(id2word[item])\n",
    "    words_missing_in_tfidf = [id for id in bow_ids if id not in tfidf_ids] # The words with tf-idf socre 0 will be missing\n",
    "\n",
    "    new_bow = [b for b in bow if b[0] not in low_value_words and b[0] not in words_missing_in_tfidf]\n",
    "    corpus[i] = new_bow"
   ]
  },
  {
   "cell_type": "code",
   "execution_count": 95,
   "metadata": {},
   "outputs": [
    {
     "data": {
      "text/plain": [
       "['use',\n",
       " 'urban',\n",
       " 'base',\n",
       " 'low_carbon',\n",
       " 'impact',\n",
       " 'level',\n",
       " 'city',\n",
       " 'study',\n",
       " 'development',\n",
       " 'policy',\n",
       " 'model',\n",
       " 'analysis',\n",
       " 'paper',\n",
       " 'promote',\n",
       " 'carbon_emission',\n",
       " 'energy',\n",
       " 'high',\n",
       " 'reduce',\n",
       " 'effect',\n",
       " 'research',\n",
       " 'challenge',\n",
       " 'focus',\n",
       " 'provide',\n",
       " 'method',\n",
       " 'also',\n",
       " 'find',\n",
       " 'build',\n",
       " 'potential',\n",
       " 'role',\n",
       " 'affect',\n",
       " 'approach',\n",
       " 'goal',\n",
       " 'need',\n",
       " 'improve',\n",
       " 'low_carbon_city',\n",
       " 'datum',\n",
       " 'different',\n",
       " 'result',\n",
       " 'increase',\n",
       " 'area',\n",
       " 'system',\n",
       " 'low',\n",
       " 'show',\n",
       " 'such',\n",
       " 'carbon',\n",
       " 'develop',\n",
       " 'more',\n",
       " 'important',\n",
       " 'sustainable',\n",
       " 'large',\n",
       " 'design',\n",
       " 'local',\n",
       " 'contribute',\n",
       " 'include',\n",
       " 'however',\n",
       " 'apply',\n",
       " 'emission',\n",
       " 'consider',\n",
       " 'construction',\n",
       " 'analyze',\n",
       " 'economic',\n",
       " 'green',\n",
       " 'strategy',\n",
       " 'explore',\n",
       " 'support',\n",
       " 'evidence',\n",
       " 'achieve',\n",
       " 'implementation',\n",
       " 'result_show',\n",
       " 'take',\n",
       " 'evaluate',\n",
       " 'community',\n",
       " 'concept',\n",
       " 'innovation',\n",
       " 'finally',\n",
       " 'finding',\n",
       " 'term',\n",
       " 'transition',\n",
       " 'comprehensive',\n",
       " 'reveal',\n",
       " 'decrease',\n",
       " 'value',\n",
       " 'measure',\n",
       " 'environmental',\n",
       " 'change',\n",
       " 'construct',\n",
       " 'district',\n",
       " 'illustrate',\n",
       " 'structure',\n",
       " 'estimate',\n",
       " 'enhance',\n",
       " 'issue',\n",
       " 'use_difference_difference',\n",
       " 'further_research',\n",
       " 'demonstrate',\n",
       " 'implication',\n",
       " 'social',\n",
       " 'geographical_location',\n",
       " 'cause',\n",
       " 'inevitably',\n",
       " 'index',\n",
       " 'empirical_evidence',\n",
       " 'resident',\n",
       " 'empirical_analysis',\n",
       " 'remarkable',\n",
       " 'theoretical',\n",
       " 'base_panel',\n",
       " 'finding_provide',\n",
       " 'transformation',\n",
       " 'significantly_reduce',\n",
       " 'economic_social',\n",
       " 'mainly',\n",
       " 'consist',\n",
       " 'heterogeneous',\n",
       " 'heterogeneity',\n",
       " 'empirically',\n",
       " 'technological_progress',\n",
       " 'mechanism_analysis',\n",
       " 'profound',\n",
       " 'useful',\n",
       " 'welfare',\n",
       " 'resource_endowment',\n",
       " 'distribution',\n",
       " 'modelling',\n",
       " 'systemic',\n",
       " 'demand_side',\n",
       " 'nighttime_light_datum',\n",
       " 'bias',\n",
       " 'equity',\n",
       " 'key',\n",
       " 'planning',\n",
       " 'government',\n",
       " 'urbanization',\n",
       " 'process',\n",
       " 'resource',\n",
       " 'case_study',\n",
       " 'factor',\n",
       " 'other',\n",
       " 'significant',\n",
       " 'new',\n",
       " 'perspective',\n",
       " 'time',\n",
       " 'order',\n",
       " 'then',\n",
       " 'sustainable_development',\n",
       " 'great',\n",
       " 'only',\n",
       " 'main',\n",
       " 'therefore',\n",
       " 'various',\n",
       " 'identify',\n",
       " 'region',\n",
       " 'make',\n",
       " 'propose',\n",
       " 'present',\n",
       " 'environment',\n",
       " 'influence',\n",
       " 'characteristic',\n",
       " 'low_carbon_development',\n",
       " 'establish',\n",
       " 'spatial',\n",
       " 'well',\n",
       " 'as_well',\n",
       " 'less',\n",
       " 'work',\n",
       " 'become',\n",
       " 'many',\n",
       " 'far',\n",
       " 'conduct',\n",
       " 'transport',\n",
       " 'follow',\n",
       " 'average',\n",
       " 'understand',\n",
       " 'relationship',\n",
       " 'aim',\n",
       " 'implement']"
      ]
     },
     "execution_count": 95,
     "metadata": {},
     "output_type": "execute_result"
    }
   ],
   "source": [
    "list(dict.fromkeys(words))"
   ]
  },
  {
   "cell_type": "markdown",
   "metadata": {},
   "source": [
    "### Manual Thesaurus"
   ]
  },
  {
   "cell_type": "code",
   "execution_count": 84,
   "metadata": {},
   "outputs": [
    {
     "name": "stdout",
     "output_type": "stream",
     "text": [
      "[['CO2']]\n"
     ]
    }
   ],
   "source": [
    "# Stop words \n",
    "stop_words=[]\n",
    "stop_words.append(['CO2'])\n",
    "\n",
    "print(stop_words)"
   ]
  },
  {
   "cell_type": "code",
   "execution_count": 85,
   "metadata": {},
   "outputs": [],
   "source": [
    "# Stop words suppression \n",
    "data_bigrams_trigrams_stop = [[mot for mot in doc if not mot in stop_words] for doc in data_bigrams_trigrams]"
   ]
  },
  {
   "cell_type": "markdown",
   "metadata": {},
   "source": [
    "## Topic modelling global"
   ]
  },
  {
   "cell_type": "markdown",
   "metadata": {},
   "source": [
    "### Dictionary"
   ]
  },
  {
   "cell_type": "code",
   "execution_count": 96,
   "metadata": {},
   "outputs": [
    {
     "name": "stdout",
     "output_type": "stream",
     "text": [
      "Dictionary<8958 unique tokens: ['aspect', 'background', 'carbon', 'climate_change', 'community']...>\n"
     ]
    }
   ],
   "source": [
    "from gensim.corpora import Dictionary\n",
    "dico = Dictionary(data_bigrams_trigrams)\n",
    "print(dico)"
   ]
  },
  {
   "cell_type": "code",
   "execution_count": 97,
   "metadata": {},
   "outputs": [
    {
     "name": "stdout",
     "output_type": "stream",
     "text": [
      "[(0, 2), (1, 1), (2, 1), (3, 1), (4, 1), (5, 1), (6, 4), (7, 1), (8, 1), (9, 1), (10, 1), (11, 1), (12, 2), (13, 1), (14, 1), (15, 1), (16, 1), (17, 1), (18, 5), (19, 1)]\n",
      "aspect\n"
     ]
    }
   ],
   "source": [
    "id2word = corpora.Dictionary(data_bigrams_trigrams)\n",
    "\n",
    "corpus = []\n",
    "for text in data_bigrams_trigrams:\n",
    "    new = id2word.doc2bow(text)\n",
    "    corpus.append(new)\n",
    "\n",
    "print (corpus[0][0:20])\n",
    "\n",
    "word = id2word[[0][:1][0]]\n",
    "print (word)"
   ]
  },
  {
   "cell_type": "markdown",
   "metadata": {},
   "source": [
    "### LDA (init passes=10)"
   ]
  },
  {
   "cell_type": "markdown",
   "metadata": {},
   "source": [
    "alpha: Controls the sparsity of the document-topic distribution.\n",
    "- A small alpha will lead to fewer topics being assigned to each document (sparse document-topic distribution).\n",
    "- A larger alpha will assign more topics to each document (denser document-topic distribution).\n",
    "\n",
    "beta (or eta): Controls the sparsity of the topic-term distribution.\n",
    "- A small beta means that topics will have fewer terms associated with them.\n",
    "- A large beta allows more terms per topic."
   ]
  },
  {
   "cell_type": "code",
   "execution_count": 136,
   "metadata": {},
   "outputs": [],
   "source": [
    "# lissing topic appartenance = alpha (close to 0 = crisp (binary) / more than 10 = lissing of the results) (deffault = 1/num_topics // \"auto\")\n",
    "lda_model = gensim.models.ldamodel.LdaModel(corpus=corpus[:-1],\n",
    "                                           id2word=id2word,\n",
    "                                           num_topics=30,\n",
    "                                           #random_state=100,\n",
    "                                           update_every=1,\n",
    "                                           chunksize=100,\n",
    "                                           passes=5,\n",
    "                                           alpha=0.05,\n",
    "                                           eta= 0.05)"
   ]
  },
  {
   "cell_type": "code",
   "execution_count": 129,
   "metadata": {},
   "outputs": [
    {
     "data": {
      "text/plain": [
       "[(1,\n",
       "  '0.130*\"climate\" + 0.066*\"traffic\" + 0.063*\"travel\" + 0.060*\"decouple\" + 0.038*\"choice\" + 0.037*\"public_transport\" + 0.036*\"currently\" + 0.033*\"big\" + 0.032*\"geographical_location\" + 0.025*\"characteristic\"'),\n",
       " (9,\n",
       "  '0.065*\"carbon_emission\" + 0.042*\"city\" + 0.029*\"effect\" + 0.023*\"study\" + 0.023*\"impact\" + 0.021*\"spatial\" + 0.020*\"green\" + 0.019*\"increase\" + 0.017*\"high\" + 0.016*\"carbon\"')]"
      ]
     },
     "execution_count": 129,
     "metadata": {},
     "output_type": "execute_result"
    }
   ],
   "source": [
    "lda_model.print_topics()[0:2]"
   ]
  },
  {
   "cell_type": "code",
   "execution_count": 130,
   "metadata": {},
   "outputs": [
    {
     "data": {
      "text/plain": [
       "[('sector', 0.064044744),\n",
       " ('industrial', 0.060455568),\n",
       " ('account', 0.045405537),\n",
       " ('co', 0.03962339),\n",
       " ('generate', 0.028427742),\n",
       " ('global', 0.027625723),\n",
       " ('material', 0.02548007),\n",
       " ('multi', 0.024007201),\n",
       " ('small', 0.023523958),\n",
       " ('city', 0.022285305)]"
      ]
     },
     "execution_count": 130,
     "metadata": {},
     "output_type": "execute_result"
    }
   ],
   "source": [
    "lda_model.show_topic(0)"
   ]
  },
  {
   "cell_type": "code",
   "execution_count": 131,
   "metadata": {},
   "outputs": [
    {
     "data": {
      "text/plain": [
       "[(22, 0.0014820119)]"
      ]
     },
     "execution_count": 131,
     "metadata": {},
     "output_type": "execute_result"
    }
   ],
   "source": [
    "# serach terms in topic\n",
    "lda_model.get_term_topics(\"sharing\", minimum_probability=0)"
   ]
  },
  {
   "cell_type": "markdown",
   "metadata": {},
   "source": [
    "### Tuning of the parameters"
   ]
  },
  {
   "cell_type": "markdown",
   "metadata": {},
   "source": [
    "List of hyperparameters to test\n",
    "- num_topics_list = [5, 10, 15, 25, 30]  # Example list of num_topics values \n",
    "- alpha_list = ['symmetric', 'asymmetric', 0.01, 0.05, 0.1]  # Different alpha values \n",
    "- beta_list = [0.01, 0.05, 0.1, 'auto']  # Different beta values \n",
    "\n",
    "*Results*\n",
    "Best Coherence: 0.4889965028444934\n",
    "Best Parameters: num_topics=30, alpha=0.1, beta=0.1"
   ]
  },
  {
   "cell_type": "markdown",
   "metadata": {},
   "source": [
    "List of hyperparameters to test\n",
    "- num_topics_list = [25, 30, 35, 40, 45]  # Example list of num_topics values\n",
    "- alpha_list = [0.1, 0.2, 0.5, 1, 1.5, 2]  # Different alpha values\n",
    "- beta_list = [0.1, 0.2, 0.5, 1, 1.5, 2]  # Different beta values\n",
    "\n",
    "Best Coherence: 0.7895028923161037\n",
    "Best Parameters: num_topics=30, alpha=0.1, beta=2"
   ]
  },
  {
   "cell_type": "code",
   "execution_count": null,
   "metadata": {},
   "outputs": [],
   "source": [
    "import gensim\n",
    "from gensim.models.coherencemodel import CoherenceModel\n",
    "from gensim.models import LdaModel\n",
    "from gensim.corpora import Dictionary\n",
    "\n",
    "# Define a function to compute coherence\n",
    "def compute_coherence(model, corpus, dictionary, texts):\n",
    "    coherence_model_lda = CoherenceModel(model=model, texts=texts, dictionary=dictionary, coherence='c_v')\n",
    "    return coherence_model_lda.get_coherence()\n",
    "\n",
    "# List of hyperparameters to test\n",
    "num_topics_list = [25,28, 30,32, 35]  # Example list of num_topics values\n",
    "alpha_list = [0.05,0.075,0.1, 0.15, 0.2]  # Different alpha values\n",
    "beta_list = [1.5, 1.8, 2,2.2,2.5,3,4]  # Different beta values\n",
    "\n",
    "# Initialize variables for tracking the best model and coherence score\n",
    "best_coherence = -1\n",
    "best_params = None\n",
    "best_model = None\n",
    "\n",
    "# Perform grid search\n",
    "for num_topics in num_topics_list:\n",
    "    for alpha in alpha_list:\n",
    "        for beta in beta_list:\n",
    "            # Initialize and train the LDA model with current hyperparameters\n",
    "            lda_model = LdaModel(corpus=corpus[:-1], \n",
    "                                 id2word=id2word, \n",
    "                                 num_topics=num_topics, \n",
    "                                 alpha=alpha, \n",
    "                                 eta=beta, \n",
    "                                 update_every=1, \n",
    "                                 chunksize=100, \n",
    "                                 passes=5)\n",
    "            \n",
    "            # Calculate the coherence score for this model\n",
    "            coherence = compute_coherence(lda_model, corpus, id2word, texts)\n",
    "            \n",
    "            # Update the best model if we get a higher coherence score\n",
    "            if coherence > best_coherence:\n",
    "                best_coherence = coherence\n",
    "                best_params = (num_topics, alpha, beta)\n",
    "                best_model = lda_model\n",
    "\n",
    "# Output the best results\n",
    "print(f\"Best Coherence: {best_coherence}\")\n",
    "print(f\"Best Parameters: num_topics={best_params[0]}, alpha={best_params[1]}, beta={best_params[2]}\")"
   ]
  },
  {
   "cell_type": "markdown",
   "metadata": {},
   "source": [
    "### Vizualizing the Data"
   ]
  },
  {
   "cell_type": "code",
   "execution_count": 137,
   "metadata": {},
   "outputs": [
    {
     "data": {
      "text/html": [
       "\n",
       "<link rel=\"stylesheet\" type=\"text/css\" href=\"https://cdn.jsdelivr.net/gh/bmabey/pyLDAvis@3.4.0/pyLDAvis/js/ldavis.v1.0.0.css\">\n",
       "\n",
       "\n",
       "<div id=\"ldavis_el1722022497476087842781246725\" style=\"background-color:white;\"></div>\n",
       "<script type=\"text/javascript\">\n",
       "\n",
       "var ldavis_el1722022497476087842781246725_data = {\"mdsDat\": {\"x\": [0.40030155568257964, 0.44390942531739325, 0.45649495989668043, 0.39978533391814053, 0.48150896128873066, 0.33337273033228415, 0.11881710267040253, 0.22609976921330738, 0.03626205344845233, -0.36049892832251434, -0.1807312656921003, 0.15442813037831513, -0.3164218733647284, 0.043496482804354544, -0.10359455190080132, -0.052625514339293786, -0.18345260867263125, -0.31831509699641536, -0.3276466341669985, -0.2047642549330513, -0.08848665885027265, -0.16105925118002073, -0.2336919963300391, -0.042607484004069336, 0.021508377780912406, -0.13565042019958717, -0.09342332781388932, -0.10341865807676719, -0.1049001699817312, -0.10469618790664104], \"y\": [0.2554130802575892, -0.1349301876661464, 0.053487926001573066, 0.16320375941394796, -0.06690533270826213, -0.2918954743680801, 0.43538704825522595, 0.3263297998135727, -0.49099967665508343, 0.2993661588868357, 0.38153909533152064, -0.3529544783938442, -0.267410162082981, 0.18132480465508044, 0.2892739488560513, -0.30543508597702845, -0.23973307258753587, 0.05481183847233431, -0.08915838546659179, 0.09340404622401624, 0.13185586881567818, -0.01626078849219605, -0.04283988848537436, -0.13678945634609294, -0.05096183724564677, -0.09748908768574287, -0.015778326225892935, -0.023631583825372095, -0.02079854421923507, -0.02142600655231935], \"topics\": [1, 2, 3, 4, 5, 6, 7, 8, 9, 10, 11, 12, 13, 14, 15, 16, 17, 18, 19, 20, 21, 22, 23, 24, 25, 26, 27, 28, 29, 30], \"cluster\": [1, 1, 1, 1, 1, 1, 1, 1, 1, 1, 1, 1, 1, 1, 1, 1, 1, 1, 1, 1, 1, 1, 1, 1, 1, 1, 1, 1, 1, 1], \"Freq\": [28.447913722595235, 18.367795270035604, 12.32192258855026, 11.563895123550603, 5.585966476590106, 4.098571509148024, 3.3306357941258606, 3.2956420792803227, 2.5740559563982286, 2.240577961672031, 1.1929221901466585, 1.1512244858050469, 0.6314826497603426, 0.5629616731802856, 0.5509679570055905, 0.5248940857075574, 0.43876464742758764, 0.40318209593684756, 0.3651955619893771, 0.340065762295238, 0.32148500609299063, 0.3196355827296167, 0.31681245730175905, 0.28202265289470746, 0.2740440020419128, 0.19943791851843176, 0.09643445142237678, 0.07351637016337785, 0.06618791851478817, 0.0617860491192308]}, \"tinfo\": {\"Term\": [\"energy\", \"urban\", \"green\", \"emission\", \"policy\", \"urbanization\", \"carbon\", \"carbon_emission\", \"system\", \"effect\", \"low_carbon\", \"co_emission\", \"development\", \"project\", \"use\", \"building\", \"high\", \"impact\", \"low\", \"area\", \"sector\", \"spatial\", \"city\", \"cost\", \"land_use\", \"performance\", \"health\", \"resident\", \"infrastructure\", \"increase\", \"community\", \"density\", \"case\", \"climate\", \"many\", \"waste\", \"integration\", \"water\", \"human\", \"current\", \"opportunity\", \"sustainability\", \"greenhouse_gas_emission\", \"cluster\", \"small\", \"transfer\", \"interest\", \"elsevi_right_reserve\", \"rather\", \"question\", \"mode\", \"even\", \"expect\", \"traditional\", \"access\", \"wide\", \"data\", \"component\", \"survey\", \"review\", \"future\", \"housing\", \"plan\", \"climate_change\", \"co\", \"world\", \"relate\", \"municipality\", \"need\", \"potential\", \"network\", \"case_study\", \"sustainable\", \"framework\", \"such\", \"approach\", \"design\", \"scenario\", \"project\", \"consider\", \"technology\", \"develop\", \"transition\", \"social\", \"city\", \"also\", \"more\", \"environmental\", \"focus\", \"include\", \"strategy\", \"use\", \"base\", \"however\", \"urban\", \"planning\", \"research\", \"study\", \"low_carbon\", \"development\", \"analysis\", \"urban_agglomeration\", \"pollution\", \"quality\", \"temperature\", \"industrial_structure\", \"people\", \"northern\", \"air_quality\", \"peak\", \"decouple\", \"decrease\", \"high_quality\", \"influence_factor\", \"second\", \"variation\", \"rural\", \"concentration\", \"internal\", \"provincial\", \"manage\", \"great_significance\", \"more_obvious\", \"finding_study\", \"gradually\", \"matter\", \"gross_domestic_product\", \"comparable\", \"fourth\", \"own\", \"comprehensively\", \"carbon_emission\", \"efficiency\", \"region\", \"energy_consumption\", \"regional\", \"calculate\", \"low_carbon_development\", \"increase\", \"show\", \"high\", \"intensity\", \"level\", \"characteristic\", \"city\", \"economic\", \"pattern\", \"study\", \"economic_development\", \"datum\", \"reduce\", \"low\", \"model\", \"measure\", \"trend\", \"development\", \"relationship\", \"effect\", \"use\", \"impact\", \"reduction\", \"analyze\", \"result\", \"different\", \"base\", \"carbon\", \"urban\", \"transportation\", \"value\", \"good\", \"solution\", \"quantify\", \"optimization\", \"operation\", \"traffic\", \"spatial_distribution\", \"possible\", \"travel\", \"sample\", \"multi\", \"relevant\", \"rapid\", \"very\", \"certain\", \"emit\", \"globalization\", \"public_transport\", \"temporal\", \"consideration\", \"logistic\", \"fintech\", \"energy_efficient\", \"evaluation_index_system\", \"layout\", \"light\", \"aggregation\", \"together\", \"element\", \"standard\", \"space\", \"form\", \"evaluation\", \"urban\", \"transport\", \"range\", \"tool\", \"management\", \"efficient\", \"evaluate\", \"area\", \"system\", \"planning\", \"method\", \"development\", \"model\", \"use\", \"indicator\", \"integrate\", \"research\", \"new\", \"as_well\", \"study\", \"level\", \"city\", \"base\", \"promote\", \"pilot_policy\", \"heterogeneity\", \"agglomeration\", \"negative\", \"technological_innovation\", \"highly\", \"spatial_spillover_effect\", \"prefecture_level_city\", \"collect\", \"more_significant\", \"environmental_regulation\", \"mixed\", \"small_medium\", \"dataset\", \"low_carbon_transformation\", \"sized_city\", \"quantity\", \"contributor\", \"map\", \"eastern\", \"green_finance\", \"qualitative\", \"quasi_natural_experiment\", \"match\", \"resource_base\", \"heterogeneous\", \"finding_provide\", \"climate_action\", \"examine_impact\", \"significantly_improve\", \"behavior\", \"lower\", \"validate\", \"carbon_emission_reduction\", \"effect\", \"carbon_reduction\", \"energy_efficiency\", \"impact\", \"enhance\", \"pilot\", \"mechanism\", \"evidence\", \"promote\", \"policy\", \"spatial\", \"investigate\", \"period\", \"city\", \"affect\", \"demonstrate\", \"study\", \"urban\", \"significant\", \"low_carbon_city\", \"reduce\", \"level\", \"influence\", \"improve\", \"environmental\", \"implementation\", \"co_emission\", \"conduct\", \"population_density\", \"low_carbon_transition\", \"conclusion\", \"serve\", \"verify\", \"tailor\", \"human_activity\", \"first_time\", \"substantial\", \"position\", \"simultaneously\", \"stable\", \"gain\", \"absolute\", \"dual\", \"south\", \"unified\", \"represent\", \"prerequisite\", \"holistic\", \"concrete\", \"enormous\", \"societal\", \"emission\", \"outline\", \"environmental_quality\", \"action_plan\", \"total\", \"unit\", \"scale\", \"consumption\", \"spatial\", \"industrial\", \"essential\", \"low\", \"cause\", \"group\", \"high\", \"area\", \"production\", \"population\", \"indicator\", \"global\", \"urban\", \"base\", \"intensity\", \"increase\", \"different\", \"city\", \"use\", \"result\", \"level\", \"change\", \"analysis\", \"result_show\", \"factor\", \"urbanization\", \"index\", \"difference\", \"low_carbon_economy\", \"utilization\", \"ecosystem\", \"modern\", \"gdp\", \"solve\", \"adapt\", \"also_find\", \"weight\", \"put_forward\", \"very_important\", \"st_century\", \"decompose\", \"era\", \"fundamental\", \"low_carbon_ecological\", \"take_example\", \"similarity\", \"countermeasure\", \"shortcoming\", \"concerned\", \"ecological\", \"natural_environment\", \"kilometer\", \"comparative_study\", \"big\", \"marine\", \"construction\", \"basic\", \"industry\", \"carbon_dioxide\", \"service\", \"low_carbon\", \"industrial\", \"development\", \"then\", \"trend\", \"province\", \"sustainable_development\", \"chinese\", \"resource\", \"economic_development\", \"country\", \"base\", \"low_carbon_city\", \"promote\", \"analyze\", \"stage\", \"capacity\", \"energy_transition\", \"increasingly\", \"carbon_neutral\", \"robust\", \"currently\", \"eco\", \"priority\", \"geographical_location\", \"thereby\", \"diverse\", \"detailed\", \"recommend\", \"achieve_goal\", \"step\", \"functional\", \"well_being\", \"responsibility\", \"illustrate\", \"scope\", \"solar_energy\", \"surface\", \"shed_light\", \"rapid_development\", \"pathway\", \"constitute\", \"carbon_peak\", \"variety\", \"short_term\", \"particularly\", \"carbon_neutrality\", \"often\", \"emission_reduction\", \"long_term\", \"target\", \"period\", \"share\", \"observe\", \"finding\", \"power\", \"emerge\", \"aim\", \"scale\", \"strategy\", \"sector\", \"policy_instrument\", \"capital\", \"actor\", \"program\", \"firm\", \"largely\", \"manufacturing\", \"interview\", \"document\", \"urbanization_process\", \"special\", \"empirical_evidence\", \"trajectory\", \"layer\", \"diffusion\", \"paradigm\", \"discourse\", \"policy_making\", \"enrich\", \"initiate\", \"voluntary\", \"more_pronounced\", \"intensify\", \"incentivize\", \"financial\", \"sectoral\", \"shock\", \"civil_society\", \"staggered\", \"local_government\", \"non\", \"market\", \"policy\", \"difficult\", \"labor\", \"regulation\", \"government\", \"initiative\", \"innovation\", \"risk\", \"national\", \"develop_country\", \"positive_effect\", \"evidence\", \"implement\", \"pilot\", \"local\", \"public\", \"promote\", \"energy\", \"renewable_energy\", \"european\", \"solar\", \"renewable_energy_source\", \"storage\", \"individual_building\", \"building_sector\", \"necessity\", \"flexibility\", \"ambition\", \"district\", \"positive_energy\", \"renewable_energy_generation\", \"building\", \"responsive\", \"handle\", \"grid\", \"system\", \"optimal\", \"require\", \"energy_consumption\", \"performance\", \"balance\", \"build\", \"energy_efficiency\", \"scenario\", \"define\", \"exist\", \"achieve\", \"use\", \"new\", \"measure\", \"reduce\", \"governance\", \"intervention\", \"knowledge\", \"smart\", \"political\", \"technological\", \"urbanisation\", \"emphasize\", \"reality\", \"climate_change_mitigation\", \"argue\", \"inform\", \"regional_disparity\", \"phenomenon\", \"obstacle\", \"reform\", \"dependency\", \"sharing\", \"software\", \"paper_conclude\", \"evolve\", \"sustain\", \"fix_effect_model\", \"emergence\", \"address_challenge\", \"pollute\", \"optimize_industrial_structure\", \"provide_valuable\", \"overlook\", \"paper_analyse\", \"incentive\", \"performance\", \"economic_growth\", \"subject\", \"innovation\", \"service\", \"perspective\", \"study_examine\", \"move\", \"consistent\", \"urban_planner\", \"advance\", \"offer\", \"emerge\", \"process\", \"government\", \"transition\", \"policy\", \"suggest\", \"flow\", \"attribute\", \"total_factor_productivity\", \"programming\", \"conservation\", \"critically\", \"investor\", \"well_understand\", \"material_flow\", \"natural_experiment\", \"investment\", \"hotspot\", \"however_lack\", \"tension\", \"character\", \"green\", \"micro_level\", \"technical_progress\", \"actively_promote\", \"entry\", \"heavily_pollute\", \"provide_useful\", \"non_state_own_enterprise\", \"citizen_participation\", \"alleviate_financing_constraint\", \"social_economic\", \"adopt_difference_difference\", \"positive_effect\", \"attract\", \"link\", \"hinder\", \"methodology\", \"environmental\", \"large_scale\", \"seek\", \"background\", \"land_use\", \"land\", \"source\", \"carbon_sink\", \"belong\", \"accounting\", \"call\", \"output\", \"relatively_low\", \"applicable\", \"achieve_carbon_neutrality\", \"acceptance\", \"land_use_type\", \"first_step\", \"land_cover\", \"experimentation\", \"selection\", \"rationally\", \"move\", \"carbon\", \"control\", \"ecological\", \"optimize\", \"associate\", \"policymaker\", \"represent\", \"relationship\", \"core\", \"green_space\", \"sink\", \"include\", \"type\", \"area\", \"base\", \"generation\", \"annual\", \"complexity\", \"pv\", \"shape\", \"alternative\", \"renewable\", \"primary_energy\", \"definition\", \"seem\", \"historical\", \"insufficient\", \"equivalent\", \"co_emission_reduction\", \"parallel\", \"explicit\", \"procedure\", \"decision_make_process\", \"recognition\", \"climate_neutrality\", \"barrier\", \"ex\", \"consume\", \"ante\", \"energy_supply\", \"common\", \"lack\", \"extend\", \"exergy\", \"electricity\", \"publish\", \"energy_efficiency\", \"ratio\", \"dominate\", \"hypothesis\", \"serious\", \"population_size\", \"capture\", \"dependent\", \"factor_influence\", \"unclear\", \"global_climate\", \"positively\", \"low_carbon_governance\", \"gas_emission\", \"select_case\", \"reduce_greenhouse\", \"manifest\", \"energy_security\", \"energy_poverty\", \"asymmetry\", \"global_greenhouse_gas\", \"internal_external\", \"response_climate_change\", \"variable\", \"crisis\", \"fiscal_expenditure\", \"concurrent\", \"non\", \"selection\", \"labor\", \"demographic_structure\", \"long_run\", \"tv\", \"relationship\", \"road\", \"landscape\", \"few\", \"urban_rural\", \"environmental_problem\", \"regression_model\", \"input\", \"content\", \"scarce\", \"viewpoint\", \"century\", \"important_role\", \"paper_discuss\", \"lot\", \"mediating\", \"publish_peer_review_responsibility\", \"infrastructure\", \"actual\", \"direct\", \"green_space\", \"household\", \"scheme\", \"street\", \"vehicle\", \"inequality\", \"cargo_bike\", \"spatio_temporal\", \"landscape_planning\", \"socio_economic\", \"maintain\", \"planning\", \"park\", \"propose\", \"technical\", \"urban\", \"mode\", \"construction\", \"nature\", \"thermal\", \"load\", \"commercial\", \"net_energy\", \"finance\", \"biomass\", \"trade_off\", \"achieve_net\", \"financial_support\", \"independence\", \"novelty\", \"campus\", \"cost\", \"net\", \"grid\", \"home_abroad\", \"paper_describe\", \"site\", \"exergy\", \"electricity\", \"produce\", \"district_heating\", \"site_renewable\", \"heat_pump\", \"average\", \"hydrogen\", \"resolution\", \"grade\", \"heat\", \"distribute\", \"scenario\", \"one\", \"outcome\", \"operate\", \"topic\", \"drive_force\", \"lesson\", \"west\", \"academic\", \"distinct\", \"organizational\", \"urgent\", \"property\", \"list\", \"research_object\", \"department\", \"contemporary\", \"manager\", \"industrial_structure_adjustment\", \"varying\", \"dimension\", \"put\", \"income_household\", \"relative\", \"sub_centre\", \"household_consumption\", \"cargo_bike\", \"closed\", \"hypothetical\", \"extraction\", \"semi\", \"draw\", \"validate\", \"household\", \"chinese\", \"condition\", \"complex\", \"stakeholder\", \"mechanism\", \"multiple\", \"generate\", \"resident\", \"productivity\", \"corporate\", \"health\", \"night\", \"intention\", \"human_health\", \"exposure\", \"digital_finance\", \"mortality\", \"tv\", \"extreme\", \"cardiovascular\", \"low_carbon_travel\", \"nocturnal\", \"surface_temperature\", \"voice_opportunity\", \"vulnerable\", \"cool\", \"tree\", \"cancer_mortality\", \"voice\", \"town\", \"main_objective\", \"heat\", \"metric\", \"psychological\", \"inhabitant\", \"green_space\", \"disease\", \"live\", \"paper_explore\", \"neighborhood\", \"stress\", \"relation\", \"structural\", \"kind\", \"empirical_analysis\", \"class\", \"sense\", \"become_focus\", \"culture\", \"conflict\", \"neglect\", \"accordingly\", \"think\", \"thinking\", \"energy_crisis\", \"interpret\", \"path_dependence\", \"key_issue\", \"update\", \"lay\", \"explanation\", \"absence\", \"speculation\", \"beach\", \"rate\", \"heart\", \"mood\", \"week\", \"precedent\", \"tone\", \"participant\", \"form\", \"individual\", \"second\", \"economic_growth\", \"neighbourhood\", \"configuration\", \"environmental_pollution\", \"economically\", \"directly\", \"effectively_reduce\", \"theme\", \"achieve_dual\", \"threaten\", \"lie\", \"failure\", \"human_survival\", \"deal_climate_change\", \"survival\", \"green_space\", \"tree\", \"park\", \"cardiovascular\", \"low_income\", \"street\", \"sub_centre\", \"scheme\", \"high_density\", \"correlation\", \"hypertension\", \"facility\", \"injustice\", \"town\", \"overweight\", \"obesity\", \"maintain\", \"historic\", \"socioeconomic\", \"beach\", \"household\", \"citizen\", \"assume\", \"differentiate\", \"monitor\", \"collaborative\", \"engage\", \"preliminary\", \"successfully\", \"citizenship\", \"deploy\", \"gather\", \"project\", \"positive_energy\", \"neutral_behavior\", \"voice_opportunity\", \"voice\", \"campaign\", \"circular_economy\", \"likelihood\", \"inclined\", \"genuine\", \"onshore\", \"pseudo\", \"gasifier\", \"interactive\", \"polish\", \"biofuel\", \"norm\", \"formation\", \"participant\", \"individual\", \"predict\", \"demonstrate\", \"aim\", \"form\", \"conclusion\", \"plant\", \"electricity\", \"district_heating\", \"approach\", \"innovation\", \"goal\", \"enterprise\", \"company\", \"robust_series\", \"datum_share_list\", \"list_enterprise\", \"enlightenment\", \"cargo_bike\", \"winter_road\", \"wage\", \"financing_constraint\", \"cyclist\", \"interest_litigation\", \"procuratorial_public\", \"state_own_enterprise\", \"industrial_land\", \"cargo\", \"sulfur_dioxide_emission\", \"entity\", \"government_subsidy\", \"delivery\", \"ice\", \"snow\", \"velocity\", \"game\", \"list_company\", \"freight\", \"observation\", \"winter\", \"managerial\", \"fairness\", \"trip\", \"emission_intensity\", \"perform\", \"low_temperature\", \"test\", \"pilot_policy\", \"transmission_mechanism\", \"total_factor_productivity\", \"green_innovation\", \"medium\", \"spatial_planning\", \"last\", \"external\", \"urbanized\", \"mediating_role\", \"quantity_quality\", \"traditional_culture\", \"patent\", \"interest_litigation\", \"procuratorial_public\", \"intention\", \"biogas\", \"neighboring_city\", \"pledge\", \"express\", \"managerial\", \"digital_economy\", \"cabinet\", \"patch\", \"industrial_upgrading\", \"mile\", \"low_carbon_orient\", \"talent\", \"preference\", \"inheritance\", \"farm\", \"conclusion_remain\", \"industrial_enterprise\", \"imbalance\", \"marginal\", \"green_space\", \"scheme\", \"delivery\", \"street\", \"allocation\", \"self\", \"number\", \"disparity\", \"produce\", \"distribution\", \"park\", \"socioeconomic\", \"plant\", \"respectively\", \"speed\", \"institution\", \"choose\", \"low_carbon_tourism\", \"frequency\", \"economical\", \"law\", \"main_driver\", \"recently\", \"practitioner\", \"forestry\", \"frequently\", \"tourist\", \"provider\", \"pole\", \"vehicle\", \"niche\", \"tourism\", \"suitability\", \"profession\", \"empowerment\", \"behaviour\", \"individual\", \"car\", \"intelligent\", \"relational\", \"promote_high_quality\", \"convergence\", \"sulfur_dioxide_emission\", \"emitting\", \"interaction\", \"determinant\", \"average\", \"sub_centre\", \"beach\", \"capita\", \"material\", \"consumer\", \"greenhouse_gas\", \"emitter\", \"start\", \"text\", \"wealth\", \"express\", \"cabinet\", \"delivery\", \"purchase\", \"preference\", \"self\", \"campaign\", \"decarbonisation\", \"mile\", \"politic\", \"subway\", \"gee\", \"tv\", \"wood\", \"cancer_mortality\", \"socio\", \"revetment\", \"timber\", \"carbon_footprint\", \"neoliberal\", \"distribution\", \"lifestyle_change\", \"bioeconomy\", \"stock\", \"cargo_bike\", \"river\", \"station\", \"year\", \"average\", \"neighborhood\", \"weather\", \"carrier\", \"end\", \"helpful\", \"researcher\", \"green_building\", \"huge\", \"installation\", \"momentum\", \"require_further\", \"status_quo\", \"central_heating\", \"exergy\", \"profession\", \"decarbonization\", \"intelligent\", \"catalyze\", \"unintended\", \"suitability\", \"emerge_frontier\", \"systemic_change\", \"instrumental\", \"commercial_sector\", \"discipline\", \"curriculum\", \"polish\", \"procurement\", \"market_segmentation\", \"trigger\", \"door_door\", \"comprise\", \"soi\", \"available\", \"residential_building\", \"demographic\", \"build_environment\", \"micro\", \"electricity\", \"bring\", \"possibility\", \"live\", \"distribute\", \"produce\", \"mobility\", \"district_heating\", \"understand\", \"respectively\", \"distribution\", \"architecture\", \"urbanism\", \"profession\", \"build_environment\", \"discipline\", \"comprise\", \"curriculum\", \"body\", \"university\", \"attendant\", \"dive\", \"laudable\", \"lasting\", \"community_regeneration\", \"tandem\", \"architect\", \"player\", \"council\", \"agency\", \"academia\", \"decentralise\", \"interact\", \"landscape_planning\", \"emerge_economy\", \"regenerative\", \"anticipation\", \"prize\", \"information_communication\", \"preserve\", \"participate\", \"maximize\", \"pose\", \"landscape_design\", \"broad\", \"private\", \"deep\", \"understand\", \"generally\", \"bring\", \"rapid_urbanization\", \"realistic\", \"inevitable\", \"low_carbon_awareness\", \"wood\", \"deficit\", \"main_driving\", \"carry_capacity\", \"economic_output\", \"flat\", \"coke\", \"crude\", \"eighth\", \"finish\", \"lab\", \"irrational\", \"erect\", \"relief\", \"jiaxe\", \"magazine\", \"purse\", \"television\", \"sustainably\", \"cf\", \"somehow\", \"inhabit\", \"optimally\", \"fast_grow\", \"component_analysis\", \"cd\", \"gdd\", \"node\", \"partial_least_square\", \"satisfaction\", \"plot\", \"carbon_metabolism\", \"drive_factor\", \"fluctuate\", \"environmentally\", \"income_group\", \"bus\", \"decline\", \"carbon_storage\", \"wooden\", \"hybrid\", \"entire\", \"carbon_footprint\", \"purchase\", \"sale\", \"neighborhood\", \"zone\", \"interaction\", \"energy_demand\", \"explain\", \"residential_building\", \"body\", \"life_cycle\", \"year\", \"appraisal\", \"sub_saharan\", \"preclude\", \"african\", \"expensive\", \"political_will\", \"validity\", \"business_usual\", \"stay\", \"theoretically\", \"cost_benefit\", \"plausible\", \"epitome\", \"expurgation\", \"committee\", \"responsibility_scientific\", \"castell\", \"chaotic\", \"energise\", \"piecemeal\", \"rejuvenated\", \"rejuvenation\", \"tired\", \"closeness\", \"euclid\", \"destine\", \"develepment\", \"vikor\", \"prosperous\", \"bib\", \"year_year\", \"applied\", \"however_few\", \"contexts\", \"realise\", \"peer_review\", \"innovation_ability\", \"mitigation_potential\", \"copyright\", \"constrain\", \"fossil_energy\", \"potentially\", \"promising\", \"perception\", \"unique\", \"budget\", \"capability\", \"sufficient\", \"short\", \"invest\", \"intensive\", \"relative\", \"mitigation\", \"simulation\", \"castell\", \"chaotic\", \"energise\", \"piecemeal\", \"rejuvenated\", \"rejuvenation\", \"tired\", \"closeness\", \"euclid\", \"destine\", \"develepment\", \"vikor\", \"prosperous\", \"bib\", \"cpii\", \"dispersedly\", \"liometric\", \"inhalable\", \"multistage\", \"authorize\", \"pointcut\", \"cognitional\", \"pursuant\", \"incorrect\", \"ahp\", \"impartial\", \"hierarchy_process\", \"asusual\", \"ecovillage\", \"localisation\", \"aspect\", \"background\", \"carbon\", \"climate_change\", \"community\", \"concept\", \"construction\", \"crisis\", \"demarcation\", \"development\", \"domestic\", \"enforcement\", \"future\", \"global_warming\", \"important\", \"innovation\", \"key\", \"low\", \"low_carbon_city\", \"low_carbon_technology\", \"low_carbon_urban\", \"measure\", \"mechanism\", \"mitigate_climate_change\", \"overseas\", \"paper_analyze\", \"path\", \"planning\", \"popularity\", \"practice\"], \"Freq\": [2135.0, 4980.0, 1112.0, 1752.0, 1882.0, 1305.0, 954.0, 2589.0, 1316.0, 1954.0, 1413.0, 955.0, 2277.0, 476.0, 2274.0, 669.0, 1308.0, 1649.0, 1101.0, 1421.0, 509.0, 852.0, 5729.0, 293.0, 327.0, 469.0, 257.0, 251.0, 257.0, 1305.0, 408.8972226468432, 394.16163962515213, 386.0230675463013, 356.8121758162002, 265.76603567345444, 252.77460152191946, 247.90022823228762, 235.45998335320562, 189.37737914073625, 306.37427767319036, 170.44098924390505, 212.56045129314782, 162.81882901912624, 159.1148770494936, 152.79134956243678, 132.70466588347983, 128.48317514588996, 124.59837489478323, 120.69652828807139, 113.96978673347334, 113.65942894359858, 106.98905448035917, 105.35072852991566, 103.80992342473937, 99.55558814005262, 98.7054742610031, 92.6437902078269, 91.87903648939744, 91.00835999812635, 90.97590773117939, 558.6817377278663, 214.83533380903074, 442.7970746706304, 288.8749882746324, 310.03512162053124, 223.88044391722067, 426.6622069571173, 160.12139659049475, 469.2181840924453, 458.90580939379333, 403.90770443466374, 365.96648245339185, 559.1022049896371, 289.1021398785284, 553.6340194061731, 461.7375585457534, 536.6002738247937, 379.53595210436634, 405.15244501215466, 440.10697431461904, 421.59913978301313, 550.1485746124058, 372.7948388315489, 294.48125647086414, 2317.061618779701, 572.8895256387716, 585.9091754316346, 492.42262481447733, 353.2471338138333, 377.9521958889583, 481.2719973620358, 651.1356358136721, 565.5239023673001, 388.4766301042843, 683.3708505875065, 405.9354932503026, 411.096102666773, 455.8090500372879, 422.9671276512389, 411.9618292957889, 390.62509855876766, 225.96961348221964, 170.36002400703094, 169.32910508624065, 166.98254234456616, 160.37917932550275, 155.97715221804717, 142.22635055000353, 136.38036276496103, 136.375619499012, 123.40811063854379, 332.21702079774906, 114.02072681415316, 108.60381578788255, 128.4645518731383, 106.85399274349682, 103.44354768524255, 99.28236796529605, 87.10484774608275, 71.37381083123219, 67.68052436392593, 56.960660427088335, 55.36316069124251, 53.46501157602924, 53.405863510156074, 47.77137473020207, 44.67221225624372, 44.28758404401555, 41.00746367154536, 39.33773735012225, 38.24490038824681, 2509.1733190864657, 546.8291188257538, 467.6159143407166, 472.6244716147887, 340.9648189574822, 163.2419383455839, 251.6329479818657, 841.2044928252811, 471.15934583982147, 817.1324273441712, 293.395645510086, 851.0129405125687, 351.69598384057116, 1873.294806890254, 328.76046014220003, 251.8146288830513, 837.9211580842358, 209.77138789695232, 370.7242721466593, 441.9368119356244, 477.47439197098487, 474.125222540612, 304.7168910976848, 247.76730596633183, 640.7693627929465, 263.7701458353996, 540.6684729089002, 560.7934779842055, 469.93014919213647, 225.88134268444193, 276.2048339610767, 307.2612526345465, 296.2352131832552, 331.5593738815847, 270.3090372784568, 290.363492029161, 444.3188630000023, 375.3547790243609, 220.55143252217042, 205.15259885145113, 194.73767723320182, 183.4600715653366, 179.0017378947818, 172.80111905538078, 170.46017475246458, 162.67887880588114, 132.89045245023624, 130.42102986186973, 135.59672637045097, 116.26359275535665, 95.04976663889842, 89.77551491577368, 87.89414276588617, 84.62955611941098, 78.2270693112578, 78.07303624132051, 71.40366381519935, 71.33999928440778, 70.70873555707433, 69.61572480143667, 68.4662228962428, 63.33815121329641, 62.841186034224364, 58.791951345887306, 56.05558753194636, 54.82182774569613, 123.54453145887302, 162.74841302846735, 255.76839699441794, 137.98562914464088, 210.0970047888317, 3030.2070603775674, 285.6352918614228, 111.61777495025805, 143.4219399689042, 179.3197886893302, 162.48039672250104, 238.59244307870694, 689.0243614737801, 612.8721417112071, 417.62661874393285, 349.3685289401051, 649.4998093735101, 390.9154431871699, 543.7314232629076, 179.0363258260096, 182.45003971580635, 253.50200395591665, 223.02770102475637, 178.91136935563608, 308.30515372445996, 266.8909810126752, 331.00289353421016, 235.17378629055682, 191.73697957256783, 295.43672571414174, 278.0526155269286, 196.99942734157995, 169.5825972268012, 160.09775651406144, 137.14689058939248, 136.7781509345314, 122.21546272341098, 113.31708459547198, 112.72785031682571, 126.80784630519395, 96.25886877896832, 93.69421118608267, 92.58331281368909, 98.84302100513557, 86.69748176820647, 84.93574561211497, 84.41084594270703, 83.73090537363126, 80.93354726669934, 76.04626821650413, 69.58445251672039, 69.1507694077386, 65.57137614273952, 64.34274456566142, 66.09337075228011, 62.69487979814336, 56.53799680954711, 54.79918221364662, 54.64860037792691, 168.1498518525353, 64.71232500631245, 75.52763675012338, 237.8386081953917, 1413.0393964293173, 181.63844491477147, 324.4214995582113, 955.4539419347551, 212.32097981410087, 209.23475090383093, 263.294238772088, 232.21694044806776, 519.960580557524, 728.3445026301014, 349.24376909859535, 174.1365366031538, 184.76671311453916, 905.2062637179316, 216.78382439900378, 125.22772567825555, 405.97368541211455, 546.0152913043931, 214.7327245651457, 186.79858504715935, 224.11206695607544, 250.2727515036151, 183.67134898443035, 183.4075046050196, 176.65607589099363, 170.0684786370325, 953.839238432609, 143.92916812171597, 124.4515885889815, 91.37127614139865, 98.35982995233401, 68.61773165639067, 49.2940217023987, 43.78334858634726, 43.46127956457333, 39.626416293153866, 38.72786153670034, 34.362020213381136, 32.217960485487026, 30.838058417035075, 30.456445952131062, 27.54480015316665, 24.335806869217585, 23.845639240048367, 17.387450064226336, 68.78417207776974, 16.481787795921143, 15.355093813236353, 14.776914880166863, 12.719726453286874, 12.072584348079557, 1590.685296934489, 11.882238878464833, 10.021274498735991, 8.206519449755039, 257.6666006420607, 224.88361327154337, 347.9636803538306, 191.44768154525687, 482.1598903701351, 283.7214758438066, 82.49474310347088, 407.3192778977829, 127.99091941686649, 91.196920122584, 353.4025080791451, 354.1482436280657, 134.15273865317627, 115.57955394082072, 98.68746734201378, 103.61363548932403, 426.1294263550253, 229.78066232793347, 119.12733255422084, 192.08883933555933, 143.29817232274272, 271.6140737908711, 156.7794823257607, 126.83211628655155, 136.33578535938102, 108.38703764790932, 109.40183628588235, 102.94106179638975, 101.76987829075094, 1304.1990333516567, 312.5853335556825, 244.64812478418253, 181.8795623345012, 167.5536636160659, 76.1887108552083, 73.27022682599791, 71.92304449001324, 60.50560061779913, 58.99895427228646, 55.280815533166425, 53.88410383037043, 45.65208055739396, 37.60222259626077, 37.15497446911488, 36.06855500116986, 33.41126542369333, 32.55707292095911, 24.66645084654413, 23.92123939207843, 22.967090050605503, 13.18648693832307, 11.704724475522083, 11.231098364018376, 311.32941678489937, 6.979215446161986, 6.48245079695757, 5.908861167443699, 73.52883177556652, 3.1664029151314383, 332.2011001798369, 56.66420157561368, 260.0128166823269, 146.8288337661438, 111.27422917963968, 597.164979236968, 224.20485191571902, 469.78376708771566, 114.63449871952356, 132.1954583826721, 81.20557946757673, 97.6898734542693, 63.10749951086492, 100.7248604189901, 76.16963074560347, 84.03100583167438, 106.71723971053424, 78.33817850647682, 91.53402670064328, 67.47855450386433, 285.0109308165833, 153.31914993258346, 105.16931912383255, 101.55334977487402, 100.23316887373629, 91.00964562179064, 91.00813585874089, 84.94769312302985, 81.93591624977785, 80.40851702987646, 78.54514876883059, 77.66134283201406, 72.63156055136261, 69.90903690948967, 62.48496416257164, 58.97237350031699, 53.02700343457801, 47.30901637683149, 47.20615207842333, 45.408732405108665, 43.522306855716515, 43.40317252231855, 42.13738651336087, 40.55399579345248, 40.48519802899239, 140.33374474525047, 34.376873759391216, 60.08935098354464, 27.95506990575626, 27.18472667034987, 151.72211456210366, 99.04038926074911, 84.68583607867325, 173.16430382422968, 99.23568312356662, 132.2560982462372, 119.48259431526911, 92.64903452207352, 78.4457515811429, 117.40586847774837, 79.3897275878232, 76.96701215794272, 70.13841400717395, 75.63524081923269, 74.26917247389666, 508.67525169878337, 195.35717629795994, 170.09305735750027, 166.75495641453412, 136.10951685389884, 95.06195523814894, 81.93012654314832, 73.01403231190343, 67.71228503151289, 67.6038384280477, 67.42254764744082, 62.52917725124385, 59.57715705730804, 33.678368350597786, 30.306429899211654, 30.07636590979898, 29.1775467639877, 27.493299490031966, 27.045651529940145, 26.389665587624428, 23.985287190320054, 19.432772348148056, 16.69685213961296, 16.24727235458741, 15.835130973217597, 276.01311804709667, 14.622987670640432, 12.585300713600432, 8.454764852311053, 8.293577279846838, 103.4398156106133, 146.82509361682278, 142.30764412389692, 887.659946687527, 78.5538782547843, 29.038957742394913, 91.6594909782292, 151.8787873045256, 72.21080958077664, 134.42665771762003, 105.50012260160781, 136.27637100266566, 77.72995244173302, 66.51157238168729, 86.77056923277782, 81.41681306075836, 72.65105413992484, 75.22927529818143, 65.98333311418064, 67.11468515141571, 2126.753025892169, 162.90879796046465, 97.76114324328144, 93.67833530439094, 85.57681129505919, 57.913069516153186, 38.163114303980315, 38.07736935866013, 25.728019177369692, 19.317005967176698, 13.899113399332967, 315.2536823577139, 23.811941296265896, 6.548015129088493, 546.3700958170357, 2.0171096005391314, 1.3239283121951242, 58.20618113589445, 418.70640449012376, 33.154097808939134, 39.71302853597098, 112.79280833420437, 89.21038758762262, 31.234867995687097, 60.1002780978809, 75.14368871810318, 52.26492068964723, 16.49514384372801, 32.379837680396726, 59.35139863836512, 218.3519814354627, 56.03184875200081, 24.3208144170835, 17.172682765284122, 325.61619142452923, 154.9673923293224, 126.26699639433984, 117.54881214373194, 115.66896209094848, 113.64359625122371, 102.15876051987897, 87.13254330339998, 86.73687338538079, 86.37479163881308, 75.83954753230698, 61.57455135001089, 58.01793969187034, 51.555214186836366, 37.35161056678257, 36.71049173785003, 36.48421423975607, 34.904698345134705, 30.504310834833728, 28.07769577352312, 24.97697590810551, 23.8211118353758, 22.37074681916744, 20.901810339415693, 20.506980799783094, 20.458315251395582, 17.732182816798634, 17.355005717286648, 16.037083436005645, 15.922259436183401, 67.38665770574191, 334.49091075514764, 163.48697764056925, 26.693498196753634, 141.72609386595582, 71.33569910641108, 111.78951480629453, 50.45202206533722, 45.4749372457394, 48.01476296013006, 36.756532789030196, 34.847125684649676, 47.81983112645598, 44.33781091462957, 55.70010869160343, 50.05348497399904, 45.93910923727146, 49.023369820117345, 195.61521116735318, 69.81375919660468, 64.50586754238229, 45.50013818062537, 35.201225177521614, 29.655558169244205, 28.13273211603543, 27.94131022694285, 27.15172932926685, 22.09039417896849, 20.975207287076337, 213.19826026003406, 15.987991501918854, 15.578465709356534, 14.116178147540282, 13.442964234415772, 989.2479180222557, 7.0637411912845955, 6.540259641358928, 6.466200691486225, 6.161876424111993, 6.021887667876108, 5.103162853686632, 5.006943762899625, 3.4487846476311006, 3.3844639211826046, 21.33192774257219, 1.4840526108035483, 73.1538980505909, 17.534432148760356, 15.854903246015994, 8.737930819932862, 14.407435968202083, 27.495711135742926, 8.877592974818034, 7.407572258675729, 6.445416642893013, 326.1286607981555, 282.503827250333, 241.70815187333216, 210.58334806733353, 52.248172527539054, 48.485414881392465, 43.24738247705844, 39.657614194568524, 30.235110905194222, 25.24427378538815, 19.49888088146536, 18.772964237173973, 16.277471787689834, 12.46195813516099, 11.310601446229075, 8.32479389989669, 26.67429810229873, 1.4525920999449549, 51.9591164862673, 485.2210937098758, 25.572763772474378, 36.60377397096101, 15.296492927532514, 16.2940669257955, 7.520507541386442, 3.7886674895699497, 19.382809585751463, 2.449938945472289, 0.041703177651190214, 0.0416817603159452, 10.08151291797766, 4.93236506161074, 7.406968695612351, 3.020142533788456, 131.48181444963026, 99.58993266150067, 98.5313708746927, 84.1265103113987, 75.95686948051402, 59.06519933316283, 45.13897649479895, 39.366693889170456, 36.913165114807626, 36.78472571048934, 36.66988183864401, 32.88733720173722, 30.676954912266616, 21.796896212943253, 15.536090179855167, 13.01692312718547, 10.947836088371938, 8.362158079747347, 7.253113347575028, 7.045756145645541, 62.36111408845009, 1.5174208238105205, 20.889051808902114, 0.8527465739846093, 7.811478218472053, 5.669920937297326, 15.58477014026746, 3.298948861681792, 0.038702133552909086, 0.038687162112399094, 2.309512105691999, 3.3296974496231755, 107.02634593406582, 100.30671392898391, 72.93520760023692, 59.51630444152578, 38.659724068528654, 36.69830968116904, 34.00587613921985, 32.502580909545046, 27.40468078613825, 25.799079956140872, 20.57369416434394, 18.836715482340786, 18.154107549200916, 17.102580002642302, 16.38316626238448, 11.918695027964434, 11.721327331205094, 10.381041990614305, 6.807640295006644, 5.435715577855896, 4.126474268942168, 4.034168712468177, 87.73903708568463, 15.728964381817509, 1.7243886479693733, 0.7718176397652429, 42.512026069638004, 6.838652428166984, 5.648578049685062, 0.0415737576294412, 0.0415755086956938, 0.04157560573211082, 0.04214405388450908, 149.48403916732744, 149.40231519392526, 81.30126136581822, 78.98746684019635, 45.83866195028066, 42.103574011852956, 41.574070030788015, 19.232438432753522, 13.591867514255322, 9.688999657261322, 8.544890551906708, 8.217929457702537, 7.353138045382387, 7.246866047813577, 6.667770383380914, 1.6862988844665792, 143.28557990687028, 18.26804537530203, 20.95714226368749, 0.036744662344212434, 0.03672551743951292, 0.03671739326574865, 0.036715899661007724, 0.036717043606835316, 0.03671469959708293, 0.03671746665095269, 0.036710339652607955, 0.0367100892795589, 0.036711315244143936, 0.036711440430668464, 4.996161386448664, 0.03671238148799079, 0.15390887177213314, 0.03874102048442951, 0.0375036423417714, 0.036969173584013394, 0.03678947048644039, 67.11387211265028, 62.216889344266676, 60.79327537018066, 35.75050934582722, 24.023238931663684, 22.949899142318472, 20.420957176532138, 19.326489844899463, 17.0644941864117, 12.45722026229085, 6.802799100378006, 5.871739116627202, 4.818067165693558, 225.9926237408336, 129.44816944555052, 70.41197116207955, 1.1274592449020955, 1.5731988790449376, 4.589372153687517, 0.037832109122120115, 0.037801429941984044, 0.03779778216279092, 0.037798172849401235, 0.037792213850471316, 0.03779344348517114, 0.0377971899641395, 0.037792616874553535, 0.0377882247345555, 0.03778835222176518, 0.03778883338316946, 0.03778887450807581, 0.03793031951097126, 79.82227001002533, 69.25987946482573, 66.63010814101962, 46.316492606426955, 40.15033121179318, 30.65446357392426, 30.116590684925843, 25.6049366039372, 21.20246265468367, 19.74067637607484, 17.77778724493449, 15.048393077125562, 14.57506884220636, 14.469526816132873, 12.574820044508813, 10.5436455885976, 9.437447616549163, 4.512505084417476, 3.748736987421769, 32.14245054962018, 13.63595179671537, 0.04046504253229877, 0.04046041542116572, 0.04045887878024709, 0.04045380133363229, 0.040458146555379826, 0.04044814635754473, 0.04044809135473779, 0.04044834574271985, 0.04044809135473779, 2.9928536528052008, 1.8217859202906859, 0.040455293284770294, 0.8691189883151093, 0.056238843758816, 0.05047042094427647, 0.04168175618673881, 0.04058360452031347, 0.04051272652823231, 0.04048177026095659, 250.4232944574238, 45.64252574338642, 37.49216378764467, 166.0245055608148, 0.04119440954168663, 0.04118640807372544, 0.04118313230496281, 0.04118266794815654, 0.04118087369872821, 0.04117816021235685, 0.041178893074799404, 0.04117686822641286, 0.04117609745729224, 0.04117669764636158, 0.04117621749510611, 0.04117621749510611, 0.04117573734385064, 0.04117642914072529, 0.04117698510533689, 0.04117781273447461, 0.041176381757377714, 0.041174107356693926, 0.041175127678111795, 0.041172951203012995, 0.041176675534132706, 0.04117326077421718, 0.04117253738844414, 0.041172802735190576, 0.04118788327528007, 0.04117152970258562, 0.041175415137087105, 0.18014855604576116, 0.041173655635447004, 101.58307395578954, 83.37308819185508, 65.7567551011581, 31.836406005731753, 27.92490127459429, 19.668467289450064, 17.827275568270654, 17.662598304385696, 14.502923439025997, 13.510561634096854, 13.271534219009256, 8.259002809823727, 7.037161530980993, 6.506942053421973, 6.409225632679564, 5.093825517605634, 4.531585094715404, 4.497942793972712, 3.969773175514226, 3.805570561869452, 3.624036988336101, 2.572638362329654, 0.5302007991930865, 0.03577451861850454, 0.03575604340269117, 0.03573540220602436, 0.03573514183051886, 0.03572631767602476, 0.03572535056700432, 0.03572548218539172, 0.035726749727687725, 3.746485030543734, 0.03572828622929711, 0.03695681225724967, 0.0359384579038139, 111.16313731767177, 43.599799121718874, 38.30774343622169, 33.58216987862024, 33.233850077511576, 28.85815146629116, 17.294130781718675, 16.367983113038623, 12.540278135085591, 11.299171941795338, 10.497016414929483, 4.752644339681336, 1.2483986650794896, 0.5639152003346072, 0.041315396417898984, 0.041287636243500785, 0.04128435372743796, 0.041275627883196275, 0.04127617408108011, 0.04127674692276315, 0.04127671228582417, 0.041275955601926574, 0.041271500758698454, 0.041273256585066476, 0.04126992078140523, 0.041271820484288985, 0.041269710295391455, 0.0412712929370646, 0.04126855395450569, 0.04126855395450569, 0.04127092791701541, 0.04127028047269458, 0.041271018505932726, 0.041270610855804794, 0.041271082451050836, 100.66102774976511, 52.64800352557588, 40.08293589999005, 33.57797505783432, 29.012400871805635, 20.93477412519366, 13.66970875319916, 12.183042877037543, 10.88093415004092, 8.035186430336475, 0.9566963922725737, 54.09093043164421, 2.330889836549459, 0.034412756957843516, 0.03440976210270964, 0.03440800901677762, 0.03440537686907795, 0.034407361684759614, 0.03440318803046455, 0.03440305453397834, 0.03440274975898154, 0.03440274975898154, 0.03440274975898154, 0.03440452047652495, 0.03440288073666612, 0.0344044776568973, 0.03440452047652495, 0.03440229385588715, 0.03440259107447907, 0.03440391344533297, 0.03440661108187493, 0.03440462374739164, 1.9321637808837941, 2.0467314527134897, 1.3329943934429096, 0.4277526450074835, 0.03440608213353336, 0.034405467545936506, 0.034404873108752655, 0.04349840438754344, 0.03458352918931674, 0.03441356549316561, 134.95041433539484, 88.02212127823769, 1.3696415844890457, 1.220630877915374, 0.9712035274831267, 0.5412413565017705, 0.05157316673532949, 0.05154723208453927, 0.051540806021008204, 0.05154024505521282, 0.05154204315093196, 0.051541351960934075, 0.051541351960934075, 0.05153851207159493, 0.051539078046013494, 0.05153978927050407, 0.051537034527758874, 0.051535056121605506, 0.05153440500059301, 0.0515372348726858, 0.051534259750520985, 0.051534259750520985, 0.051534259750520985, 0.051534430043708876, 0.05153330310349493, 0.051534650423128485, 0.051534259750520985, 0.051534259750520985, 0.05153281726704714, 0.05153242659443964, 0.051534259750520985, 0.05153413453494166, 0.051534645414505316, 0.051534259750520985, 0.05769782634970723, 0.05825037765816165, 0.05388464132108369, 0.05159788929931182, 99.65963911860457, 81.7919541448239, 42.70560214022385, 37.30423900457604, 18.35792923012061, 15.636736887073642, 4.709211527331675, 1.5533137709971858, 0.04253717730390412, 0.04252939314762175, 0.04253103139479852, 0.04253103139479852, 0.042529834977920934, 0.04252956690111019, 0.04252698542071042, 0.04252660812742123, 0.042527948511474956, 0.042526290406756644, 0.0425293137174556, 0.04252610672449743, 0.042526762023368136, 0.042526131546424345, 0.042525312422835956, 0.04252571950243746, 0.04252508406110829, 0.042526240762902796, 0.04252471669658986, 0.0425251436337329, 0.042524845770609845, 0.042525530855792866, 0.042525461354397484, 0.04252570460928131, 0.042538125501512494, 0.042527576182571136, 0.042526806702836595, 0.04252712442350118, 0.04252592304223821, 0.04252669748635814, 0.042526747130211984, 0.04252615140396589, 0.04252684145353428, 0.042526806702836595, 0.04252647408901585, 0.04252637480130817, 0.042526553519182005, 0.04252647905340124, 49.5060456718421, 40.51097950386225, 33.17427442319141, 25.601117994100782, 25.03561412326044, 20.153077731757573, 19.240680350933857, 17.96758730107372, 16.277412237147455, 13.542324358269632, 9.550925497350754, 7.28940100882783, 4.999810056135454, 1.5542078172950902, 0.889848315594162, 0.03605803667401003, 0.03602430685236162, 0.03602371025545071, 0.03602241320957402, 0.036021257579261404, 0.036020521776404614, 0.03602187848197239, 0.03602531222863742, 0.03602257009246541, 0.03601985447171167, 0.0360191341361822, 0.03601863255285339, 0.036020040079639506, 0.036019103201527555, 0.03601821272539756, 0.036023268331813, 0.036019416967310335, 0.036022494965447, 0.03602014172207618, 0.036020230106803726, 0.0360199450660574, 100.60054577403199, 61.18652857736729, 56.72793931545551, 30.018661544027957, 22.074362232311696, 5.22568101283332, 4.279861798450064, 0.034653685709545134, 0.03464964485551118, 0.034651587986701794, 0.03465014942548886, 0.0346498380950771, 0.034650548787258414, 0.034648504742072275, 0.03464892128069214, 0.03464787349282362, 0.0346485004478597, 0.03464762228138792, 0.0346456276196464, 0.03464773178380861, 0.034645659826240724, 0.03464704470979646, 0.03464571565100421, 0.03464513378520017, 0.03464534634872268, 0.034646995326351834, 0.034644788101087814, 0.03465032763531076, 0.034644564802033866, 0.034644161146051726, 0.03464547517509996, 0.03465023960395295, 0.03464626316310764, 0.034645741416279664, 0.03464685147023054, 0.03464702968005245, 0.034646123601198925, 0.034645741416279664, 0.03529035640158351, 44.492002154509805, 26.59303796466766, 21.504813324684534, 17.295995904544963, 14.686362824037605, 12.452998293543875, 10.00781794572007, 4.334349075392537, 2.5084417993576276, 0.030812514423965816, 0.03080897987847044, 0.030804910932197244, 0.03080581410076326, 0.03080492655795098, 0.030803473362853412, 0.030802826456648686, 0.030804539039258297, 0.03080295771298008, 0.03080267332426206, 0.03080269832546804, 0.030802723326674022, 0.03080292333632186, 0.030802517066724686, 0.03080443590928363, 0.030802595195493374, 0.03080249206551871, 0.03080245456370974, 0.030802460814011234, 0.030802607696096364, 0.030802732702126263, 0.030803801503681894, 0.030805182820312273, 0.030803701498857975, 0.030803754626420682, 0.030804876555539023, 0.030806789147796467, 0.030803588993431066, 0.030803567117375835, 0.030804235899635792, 0.030804342154761206, 0.030804651544685206, 0.030803779627626662, 0.030804370281117932, 0.0308038546312446, 0.030803726500063956, 0.030803620244938542, 12.308899187127759, 6.41425646423057, 0.021106856318122643, 0.0211036452140087, 0.02110243783886186, 0.02110174121815761, 0.021101555351895958, 0.021101680773844878, 0.021100671353822237, 0.021099788866856335, 0.021099788866856335, 0.021099788866856335, 0.021099788866856335, 0.021099936955422532, 0.021099788866856335, 0.021099788866856335, 0.02109980095571888, 0.021099788866856335, 0.021099867444462888, 0.021099788866856335, 0.021099645311613596, 0.021099788866856335, 0.021099837222306524, 0.021099788866856335, 0.021099275090198107, 0.02109921615699319, 0.02109921615699319, 0.021099264512443375, 0.021099266023551194, 0.02109938842328448, 0.021099788866856335, 0.021099879533325434, 0.021099463978675397, 0.021099867444462888, 0.021099813044581427, 0.02109988557775671, 0.021100671353822237, 0.02109989162218798, 0.02109988406664889, 0.021099799444611066, 2.3177571051595023, 1.678436809641044, 0.01723249775038097, 0.017232726995644026, 0.017232459734834834, 0.017232365271962622, 0.017232371031893852, 0.017232367575935114, 0.017232301912719062, 0.01723228348093912, 0.01723228348093912, 0.01723228348093912, 0.017232301912719062, 0.017232301912719062, 0.017232277721007886, 0.017232301912719062, 0.01723228348093912, 0.01723226965710416, 0.01723226965710416, 0.01723226965710416, 0.01723226965710416, 0.017232301912719062, 0.01723228348093912, 0.017232248921351723, 0.01723228348093912, 0.01723224661737923, 0.017232360664017635, 0.017232248921351723, 0.017232238553475505, 0.017232238553475505, 0.017232463190793575, 0.01723228348093912, 0.017232396375591277, 0.017232301912719062, 0.017232409047439987, 0.017232365271962622, 0.017232305368677803, 0.017232301912719062, 0.01723229615278783, 0.01723245167093111, 0.01723244821497237, 0.01723240789545374, 0.017232301912719062, 0.01723235260011391, 0.01723235260011391, 0.017232459734834834, 0.01723234568819643, 0.017232301912719062, 0.017232412503398728, 0.017232386007715057, 0.017232365271962622, 0.017232307672650295, 0.01723230652066405, 0.017232303064705308, 0.017232303064705308, 0.017232301912719062, 0.017232301912719062, 1.1328817217679372, 0.015788370244201436, 0.01578804146735607, 0.015788206374354217, 0.01578804146735607, 0.01578804146735607, 0.01578804146735607, 0.01578804146735607, 0.01578804146735607, 0.01578804146735607, 0.01578804146735607, 0.015787914934942394, 0.01578790663773494, 0.01578788382041444, 0.015787914934942394, 0.015787914934942394, 0.01578787863465978, 0.01578787863465978, 0.01578787863465978, 0.01578787863465978, 0.01578787863465978, 0.01578787863465978, 0.01578787863465978, 0.01578787863465978, 0.01578787863465978, 0.01578787863465978, 0.01578787863465978, 0.01578787863465978, 0.01578787863465978, 0.01578787863465978, 0.01578804146735607, 0.015787914934942394, 0.01578804146735607, 0.01578804146735607, 0.01578804146735607, 0.015787914934942394, 0.015787913897791463, 0.01578804146735607, 0.015787914934942394, 0.01578804146735607, 0.015787914934942394, 0.01578804146735607, 0.01578804146735607, 0.015788206374354217, 0.01578804146735607, 0.01578804146735607, 0.01578804146735607, 0.01578804146735607, 0.01578804146735607, 0.01578804146735607, 0.01578804872741259, 0.01578804146735607, 0.01578804146735607, 0.015787987535507617, 0.01485430618134884, 0.01485430618134884, 0.01485430618134884, 0.01485430618134884, 0.01485430618134884, 0.01485430618134884, 0.01485430618134884, 0.01485430618134884, 0.01485430618134884, 0.01485430618134884, 0.01485430618134884, 0.01485430618134884, 0.01485430618134884, 0.01485430618134884, 0.01485430618134884, 0.01485430618134884, 0.01485430618134884, 0.01485430618134884, 0.01485430618134884, 0.01485430618134884, 0.01485430618134884, 0.01485430618134884, 0.01485430618134884, 0.01485430618134884, 0.01485430618134884, 0.01485430618134884, 0.01485430618134884, 0.01485430618134884, 0.01485430618134884, 0.01485430618134884, 0.01485430618134884, 0.01485430618134884, 0.01485430618134884, 0.01485430618134884, 0.01485430618134884, 0.01485430618134884, 0.01485430618134884, 0.01485430618134884, 0.01485430618134884, 0.01485430618134884, 0.01485430618134884, 0.01485430618134884, 0.01485430618134884, 0.01485430618134884, 0.01485430618134884, 0.01485430618134884, 0.01485430618134884, 0.01485430618134884, 0.01485430618134884, 0.01485430618134884, 0.01485430618134884, 0.01485430618134884, 0.01485430618134884, 0.01485430618134884, 0.01485430618134884, 0.01485430618134884, 0.01485430618134884, 0.01485430618134884, 0.01485430618134884, 0.01485430618134884], \"Total\": [2135.0, 4980.0, 1112.0, 1752.0, 1882.0, 1305.0, 954.0, 2589.0, 1316.0, 1954.0, 1413.0, 955.0, 2277.0, 476.0, 2274.0, 669.0, 1308.0, 1649.0, 1101.0, 1421.0, 509.0, 852.0, 5729.0, 293.0, 327.0, 469.0, 257.0, 251.0, 257.0, 1305.0, 410.10947772248886, 395.3738946796285, 387.23539908144375, 358.16271649611275, 266.9786537408941, 253.98685656628408, 249.11248329400877, 236.67230673553894, 190.58963618384496, 308.537942441345, 171.65377923898052, 214.1404123099263, 164.0310840531786, 160.3271321193392, 154.00360461872592, 133.9169209769116, 129.69543051369524, 125.81062994036523, 121.90878336856798, 115.18204220090833, 114.87195201956614, 108.20130951919184, 106.56298358165866, 105.02217846209018, 100.76784318302398, 99.91773257098755, 93.85604525159432, 93.09129178000168, 92.22061502944335, 92.18816277001206, 566.9702740896034, 218.67776936924497, 454.83350911013616, 295.6553189738331, 318.34353616052255, 229.87098845870625, 447.2311747035624, 163.5772281764907, 496.4444548056768, 487.124139860362, 439.865247803634, 397.4721197057001, 640.4393511498732, 315.7508776984409, 649.9183407227839, 538.1260084205966, 646.887990737333, 435.76169123150623, 476.7816522278798, 530.625198219727, 506.9167580417019, 724.0949328093628, 441.35595658151374, 329.8113674346756, 5729.721683939523, 855.4725500788782, 950.5785342783745, 733.10042331038, 447.89896773838166, 505.7212766098914, 822.4187890434104, 2274.7377784238824, 1572.3498280932129, 626.7133373360573, 4980.995705288011, 829.6866020457002, 924.2200362518922, 2094.945924570688, 1413.6935328753368, 2277.1296323216993, 894.9028728144895, 227.19057270251847, 171.58098388125654, 170.55010350760463, 168.2035016069415, 161.60014136479595, 157.19811147602206, 143.44730982929798, 137.60132200533005, 137.59657876085058, 124.62906986157795, 335.6162136232011, 115.24175564687604, 109.82533446591589, 129.90964660050867, 108.07495197974283, 104.66450691603116, 100.50332719622355, 88.32580699011953, 72.59482326946657, 68.90148363672316, 58.181624713365814, 56.58412000629873, 54.686025389986774, 54.626822730454926, 48.99233402800124, 45.893171491689856, 45.508567140739274, 42.228422933544415, 40.55869662112504, 39.465968794430616, 2589.6564025655575, 610.7610692278105, 535.5128904161713, 591.0374940108369, 427.62358808950086, 191.4479521539258, 315.3268905541839, 1305.9892549925473, 677.3796394167701, 1308.59944670783, 413.70628056464557, 1616.4554649206827, 541.1324705566398, 5729.721683939523, 521.0539395352953, 360.6748962150767, 2094.945924570688, 287.1011584070438, 686.3378919714966, 911.8938372192204, 1101.2848398481162, 1128.1274215356334, 544.7300381451405, 392.82001563174526, 2277.1296323216993, 444.3961359732889, 1954.859153749174, 2274.7377784238824, 1649.2238322449145, 343.18144343340396, 584.8413839844378, 981.8423978314119, 854.7536385146163, 1572.3498280932129, 954.214789124577, 4980.995705288011, 445.590436483196, 376.5744258664418, 221.7711614254291, 206.37224538503062, 195.95732377763395, 184.67971812421553, 180.221395004635, 174.02076558823518, 171.67982131511474, 163.8985253681709, 134.11009897877386, 131.64067642246098, 136.98193170641437, 117.48324888470043, 96.26941317612776, 90.9951614602145, 89.1137893213393, 85.8492026659577, 79.44671613721653, 79.29268277737377, 72.62331036719517, 72.55964581991635, 71.92838208561193, 70.8353713503614, 69.68586943229606, 64.55779986666398, 64.06083277412948, 60.01159789606028, 57.27523409909238, 56.041474288896445, 127.47410693631396, 174.03641278567048, 296.67643815875107, 152.16730632252325, 245.57740405727313, 4980.995705288011, 384.69992717226864, 125.04066343669913, 170.28243680268784, 229.48695587810712, 203.50109589769824, 345.25618323041766, 1421.6057121227063, 1316.3047366141816, 829.6866020457002, 708.2733037225005, 2277.1296323216993, 1128.1274215356334, 2274.7377784238824, 278.9119289637266, 317.36445028735676, 924.2200362518922, 641.4479508110342, 340.3162124391771, 2094.945924570688, 1616.4554649206827, 5729.721683939523, 1572.3498280932129, 1072.5505350479468, 296.64227228115544, 279.2514642023428, 198.19825147865714, 170.78142138392909, 161.2988592919933, 138.34571475441427, 137.9769750648593, 123.41456948097631, 114.51590876332214, 114.06476316385228, 128.31275485544882, 97.45769296527757, 94.89303533467081, 93.78213697462496, 100.135056783741, 87.89630592123802, 86.1345698393763, 85.60967016121518, 84.92972954678791, 82.1323714010412, 77.24509234683201, 70.78327682385311, 70.3495970801825, 66.77020037570493, 65.5415686959893, 67.32921491884512, 63.89370394376422, 57.73682097031217, 55.998010724623555, 55.84749980706248, 174.62096505328472, 66.59087025196094, 78.50780993408975, 266.47281320198493, 1954.859153749174, 208.3293019001398, 420.7709997217912, 1649.2238322449145, 286.89215254442905, 283.0613876480542, 390.63204617133897, 348.9462414756046, 1072.5505350479468, 1882.7231087640018, 852.5431902640489, 290.9579782107706, 334.3890544107609, 5729.721683939523, 469.1645923074829, 169.53488742853185, 2094.945924570688, 4980.995705288011, 584.0096962553608, 426.1417349624197, 911.8938372192204, 1616.4554649206827, 544.7438249137482, 568.4945398810311, 733.10042331038, 441.36053817978063, 955.0708312838293, 145.1607612574658, 125.68318176942158, 92.60286900049009, 99.98477797934154, 69.84932455141329, 50.52561462642765, 45.014941460707014, 44.69287243190068, 40.858009188772094, 39.95945442008148, 35.593613070279005, 33.44955337569443, 32.06965127793793, 31.688038844472224, 28.77639304242947, 25.5701583085918, 25.077232101775227, 18.6190429905202, 73.7627790844377, 17.713380706797857, 16.586686667581674, 16.008507754009766, 13.951319332839054, 13.304177243985004, 1752.9868303378723, 13.113831740993945, 11.252867395121372, 9.438112304457801, 299.86183282968454, 289.63174601026446, 478.308046502033, 284.54029131177435, 852.5431902640489, 590.8692494504442, 132.7738858688841, 1101.2848398481162, 252.93228719682278, 174.80827291794245, 1308.59944670783, 1421.6057121227063, 340.91894168590545, 299.54865341518024, 278.9119289637266, 312.6620945395371, 4980.995705288011, 1572.3498280932129, 413.70628056464557, 1305.9892549925473, 854.7536385146163, 5729.721683939523, 2274.7377784238824, 981.8423978314119, 1616.4554649206827, 639.0861523048927, 894.9028728144895, 496.9467505310499, 499.7156037137965, 1305.4044523595924, 313.79690892990214, 245.8535432230163, 183.08498207532244, 168.7590820646155, 77.39412926756049, 74.47564527980873, 73.1284756377941, 61.71101905196299, 60.20437282936496, 56.48623398828272, 55.089522246659506, 46.857500908666815, 38.80764104432179, 38.36039291312375, 37.27397343058061, 34.61668383530842, 33.762491335680735, 25.871869249014, 25.12665779728364, 24.172508453075373, 14.391905340792928, 12.91014288362165, 12.436516807954007, 356.0858248786968, 8.184633848631847, 7.687869224487894, 7.1142795699135615, 92.39314703809202, 4.37182143781056, 474.7930434691544, 80.85698904478669, 434.6120161326789, 237.74074883915637, 183.7578349873722, 1413.6935328753368, 590.8692494504442, 2277.1296323216993, 302.0042185614031, 392.82001563174526, 182.56955306662078, 379.90655452610764, 153.84749453527724, 540.4126936072306, 287.1011584070438, 460.9049421334663, 1572.3498280932129, 426.1417349624197, 1072.5505350479468, 584.8413839844378, 286.2208338458739, 154.52905296043863, 106.37922214018849, 102.7632527954149, 101.44315278054388, 92.21954867821347, 92.2180712255369, 86.15759613665045, 83.14581983391787, 81.61842020407518, 79.75505180665228, 78.8712654049062, 73.8414635761981, 71.1189399361962, 63.69486727704148, 60.182276513937616, 54.23690660398428, 48.51891941924496, 48.41605511932401, 46.61863542943632, 44.732209873747884, 44.613075568047584, 43.34728957178725, 41.76389884668107, 41.695101067639285, 144.63063524765727, 35.58677677901325, 62.634993162101914, 29.164972929840644, 28.3946296839705, 165.6298317469325, 118.05983835103768, 116.60963698402298, 312.80831486358534, 165.43318776134421, 370.79817201200774, 334.3890544107609, 211.52127583751346, 153.67430253970926, 382.3683957629094, 164.51751898197062, 172.41368068434886, 233.58122179907332, 478.308046502033, 822.4187890434104, 509.8748042445687, 196.55672892373184, 171.29260992275653, 167.95450895254217, 137.30915441342339, 96.2615077796396, 83.12967912418742, 74.2135848595881, 68.91183761057624, 68.80339096921463, 68.62210023173313, 63.72872984231338, 60.776709769446164, 34.87792088860587, 31.505982491502987, 31.27591871596732, 30.37709934976988, 28.692852035911322, 28.24520493588753, 27.589218142899618, 25.18483972832814, 20.63233481925247, 17.896405736975318, 17.44682490457589, 17.034684016202792, 298.5388243083543, 15.822540208648501, 13.784853261944333, 9.654317390319122, 9.493130876565539, 121.73771459552982, 190.49510875264727, 222.32263101107114, 1882.7231087640018, 119.97700332101675, 35.84552485917392, 171.0406609337784, 336.5285466319636, 130.8458185121024, 348.10676768631396, 250.45195582195524, 451.7831952370323, 179.52198083436022, 140.81317954130083, 348.9462414756046, 332.1534540983349, 283.0613876480542, 490.71275384665745, 228.873567265965, 1072.5505350479468, 2135.3641695026045, 164.12949595943587, 98.98014873633845, 94.89734377265927, 86.79581675087785, 59.13208411686353, 39.382119784022485, 39.30749322288712, 26.947024664758942, 20.536011422995387, 15.118118848186437, 359.35735069925954, 27.32744036865751, 7.767020577941969, 669.8775686891067, 3.2361150493926063, 2.5429337610485994, 129.79938195277495, 1316.3047366141816, 110.08749513910372, 188.46901069931306, 591.0374940108369, 469.4191873428867, 165.86094343344197, 336.1769796968364, 420.7709997217912, 435.76169123150623, 144.40644380076327, 287.37135347091083, 554.3580795944695, 2274.7377784238824, 641.4479508110342, 544.7300381451405, 911.8938372192204, 328.1488637368818, 156.17913027821197, 127.47874173423048, 118.76055008798069, 116.88070003015537, 114.8553341982627, 103.37049848731311, 88.34506561356548, 87.9486114992984, 87.58652958075531, 77.05128547151386, 62.78628928921779, 59.229677649481594, 52.766952164992055, 38.56334853796075, 37.92222983284488, 37.695952201756846, 36.1164362843416, 31.71604885778004, 29.28943376180618, 26.18871384731241, 25.032849789795, 23.58248477520312, 22.113548278622595, 21.718718770061535, 21.67005337312032, 18.943920774715746, 18.566743667031332, 17.248821399958107, 17.13399738363373, 81.5868114704923, 469.4191873428867, 273.692126642556, 33.33035633146397, 348.10676768631396, 183.7578349873722, 509.85731662131394, 114.8848343438598, 98.6041383802066, 114.52297993546597, 64.83520024692474, 65.01640465674559, 221.5958798808567, 172.41368068434886, 509.3951264101134, 336.5285466319636, 441.35595658151374, 1882.7231087640018, 196.83261733620705, 71.03116536272324, 65.7232737112362, 46.717613160217724, 36.41863153998007, 30.872964359430966, 29.35013830779541, 29.158716407433655, 28.36913550762354, 23.307800362911685, 22.192613542512667, 226.61067824195268, 17.2053976789717, 16.795871896526293, 15.33358434765347, 14.660370400534344, 1112.1782636471444, 8.281147357403167, 7.757665807477502, 7.683606878961547, 7.37928263187101, 7.239293833994682, 6.320569523489394, 6.224349929018199, 4.666190816268476, 4.601870092963799, 30.75464474603876, 2.7014587769221228, 140.81317954130083, 41.40423577720933, 72.85888418485348, 33.59939005591748, 120.17759445756974, 733.10042331038, 84.61386446830106, 44.32455361515058, 36.4350676784968, 327.35625710841606, 283.7314235640761, 242.93575035458554, 211.81094459708456, 53.47576887328401, 49.7130112044067, 44.474978792948654, 40.88521055140922, 31.462707250778372, 26.47187015037105, 20.726477191725873, 20.000560569351865, 17.505068097950346, 13.689554467409636, 12.538197756489575, 9.55239021015719, 34.69898336414947, 2.680188410205458, 98.6041383802066, 954.214789124577, 231.74611998583873, 356.0858248786968, 161.7886217107631, 184.65953247820073, 104.64553005914368, 73.7627790844377, 444.3961359732889, 58.45582727747578, 1.2697745771422138, 1.26932086067548, 505.7212766098914, 402.69254216454283, 1421.6057121227063, 1572.3498280932129, 132.71240519428335, 100.82052340304234, 99.76196161355666, 85.35710104087276, 77.18746038679144, 60.295790063628836, 46.369567271611686, 40.597284618644515, 38.143755844281685, 38.01531645353823, 37.90047256709018, 34.11792795347183, 31.90754568197263, 23.027486955258084, 16.766680944562907, 14.247513851617658, 12.178426823879803, 9.592748810213347, 8.483704083050485, 8.27634687611154, 76.84629568460653, 2.748011548242712, 46.05796465859941, 2.083337298416801, 27.623519414443084, 41.729739643977034, 143.133499298996, 41.72238327880723, 1.2694528005868606, 1.2695086615116, 81.5422648129585, 420.7709997217912, 108.25403211643, 101.53440011809742, 74.1628938081942, 60.7439906353796, 39.887410253102445, 37.9259958690039, 35.233562321584024, 33.73026709464456, 28.63236699069827, 27.026766147274213, 21.80138034670813, 20.06440168364929, 19.381793731565104, 18.33026628008098, 17.61085244474867, 13.146381210328606, 12.9490135463253, 11.608728182132833, 8.035326531664996, 6.663401760220071, 5.354160461312741, 5.261854905493, 124.6597896653475, 24.932090391924707, 2.952074830333549, 1.9995038221294184, 190.49510875264727, 34.69898336414947, 35.84552485917392, 1.2692701833168143, 1.2693242076597644, 1.2693412094993237, 444.3961359732889, 150.71658762664626, 150.63487040693838, 82.5338098342823, 80.22001529348138, 47.07121050713404, 43.33612248204356, 42.86703628749925, 20.46498690920279, 14.824415972213563, 10.921548110546352, 9.777439005191738, 9.450477910987567, 8.585686498667418, 8.479414501098608, 7.900318842328568, 2.9188473377516138, 257.7711132311939, 46.603176393042595, 98.02515606228741, 1.2697745771422138, 1.2695652859674673, 1.269367158900995, 1.2693577847097126, 1.2694300294231389, 1.2693645226320498, 1.2694944182974333, 1.2692812192074499, 1.2692758958409052, 1.2693311778660552, 1.269336114986153, 829.6866020457002, 1.2693879113040585, 464.8030089916549, 115.54086651105499, 4980.995705288011, 114.87195201956614, 474.7930434691544, 68.34534602409114, 63.448363218634476, 62.024749254939046, 36.98198321631104, 25.25471279783074, 24.18137300848553, 21.65243104774106, 20.55796371106652, 18.295968052578758, 13.688694133131104, 8.034272999793009, 7.103213019397403, 6.049541036902471, 293.19918061081535, 190.95380614546426, 129.79938195277495, 2.358933111069144, 13.975377046481928, 124.82053578262618, 1.2694528005868606, 1.2695086615116, 1.2694490109073253, 1.269466654854911, 1.2692943444629194, 1.269337604228255, 1.269491807597648, 1.269345326117739, 1.269320271847641, 1.269326544817182, 1.2694022149324449, 1.2694070924920038, 435.76169123150623, 81.05108437913219, 70.48869221230873, 67.8589209055797, 47.5453053663848, 41.37914396201152, 31.88327632140727, 31.34540343240885, 26.83374935142021, 22.43127540216668, 20.96948915650216, 19.006600005465092, 16.277205828091173, 15.803881595723167, 15.698339570788745, 13.803633914123122, 11.772458341122462, 10.66626037006597, 5.74131783628915, 4.977549798371087, 109.80743485877404, 67.87868553463319, 1.2693438121191456, 1.2693816113707865, 1.2693609588049142, 1.2693072659068823, 1.2694944182974333, 1.2692820337894388, 1.2692807342748675, 1.2692902090554563, 1.2692835704190335, 94.87099638605856, 78.50780993408975, 1.2695652859674673, 153.84749453527724, 215.69510385700372, 155.3483455353689, 76.8116579674288, 390.63204617133897, 132.18420814173575, 184.00710455698123, 251.6513798400824, 46.87061106756685, 38.72024922699976, 257.1361982225219, 1.2693465935956887, 1.2693113185919715, 1.2693146938949051, 1.269360143611153, 1.2693117558680922, 1.2692984394560771, 1.2693412094993237, 1.2692949277015975, 1.2692783423306315, 1.2693007247183477, 1.26928597660644, 1.2692889503579834, 1.2692839462704155, 1.2693076071943543, 1.2693367245387401, 1.2693654226860387, 1.269328153334859, 1.2692791121141214, 1.2693346410086794, 1.2692801246004393, 1.2694022149324449, 1.2692993042562943, 1.2692878333166648, 1.269306260493162, 1.2697745771422138, 1.269274276359946, 1.2693974339861334, 68.25054622599352, 1.2694210976797493, 102.81661800130243, 84.60663223269475, 66.9902994420164, 33.06995004657141, 29.158445357205537, 20.902011330289735, 19.060819612592926, 18.89614235929065, 15.736467479865658, 14.744105674936515, 14.505078273690202, 9.492546850663388, 8.27070557613743, 7.740486108008953, 7.642769677533213, 6.32736957415969, 5.7651291439577275, 5.731486834812376, 5.20331721635389, 5.039114602709116, 4.8575810291757655, 3.806182403169318, 1.7637448400327498, 1.2693994856311661, 1.2694893089723622, 1.2693160415792073, 1.2693148267659522, 1.2692984129231368, 1.269292839751941, 1.2692980038315167, 1.2693431655835274, 152.16730632252325, 1.2694507913455806, 129.90964660050867, 273.692126642556, 112.39112716116303, 44.8277843391931, 39.53572865369592, 34.81015509609447, 34.46183539351659, 30.086136701970883, 18.522115999192923, 17.595968333031674, 13.768263352559826, 12.52715716457557, 11.725001632403718, 5.980629560314464, 2.4763838825537277, 1.791900417808845, 1.2697745771422138, 1.2693654226860387, 1.2693879113040585, 1.2692783423306315, 1.2693366437738698, 1.2693577847097126, 1.2693609588049142, 1.269367158900995, 1.269295035047309, 1.2693603989499664, 1.2692629095635806, 1.2693341321822924, 1.2692811063266813, 1.2693346410086794, 1.2692595972032013, 1.2692607477775848, 1.269336114986153, 1.2693183113399245, 1.269369282177708, 1.2693994856311661, 1.2695652859674673, 101.89587992221884, 53.88285573226942, 41.31778809128628, 34.81282724341912, 30.247253044259363, 22.16962954996866, 14.904560925652877, 13.417895054533126, 12.115786322494637, 9.270038602790192, 2.1915485647262933, 476.7816522278798, 27.32744036865751, 1.2692923261083116, 1.2692839462704155, 1.2692791121141214, 1.2692805920647785, 1.2693950733320147, 1.2692682143062433, 1.2692661247013979, 1.2692643517628184, 1.2692643517628184, 1.2692659155710102, 1.2693331653682065, 1.2692739030463205, 1.2693426175549085, 1.2693545028975681, 1.2692731993422535, 1.269285104979358, 1.2693431655835274, 1.2694507913455806, 1.2693717387047738, 169.53488742853185, 233.58122179907332, 152.16730632252325, 99.98477797934154, 1.269494732501439, 1.2695086615116, 1.269466654854911, 538.1260084205966, 348.10676768631396, 272.383560676404, 136.16813494687966, 89.23984186975574, 2.587362171618414, 2.4383514650447426, 2.188924114612495, 6.993513646855328, 1.2694944182974333, 1.2693453745451246, 1.2692774105222864, 1.2692695980696886, 1.2693185388375352, 1.2693411344723056, 1.2693411344723056, 1.2692719037262183, 1.2692863769126885, 1.2693089094424335, 1.2692874477528304, 1.2692721697350213, 1.269264297365238, 1.269342248210327, 1.269277944369077, 1.269279192432241, 1.2692792289901034, 1.269284449852214, 1.2692628074016064, 1.2692961779315752, 1.2692917399195676, 1.2692942200796995, 1.2692680213890029, 1.2692661610939806, 1.2693123579633645, 1.2693219446680162, 1.2693449727476016, 1.2693315589514564, 142.46870699169526, 296.64227228115544, 15.518459930423885, 46.717613160217724, 100.88636585145927, 83.01868086833218, 43.93232886646747, 38.53097853849265, 19.584655960820914, 16.863463645494495, 5.935938257001049, 2.780040494505469, 1.2692773748089012, 1.2692677078445889, 1.2693411344723056, 1.2693411344723056, 1.2693113185919715, 1.2693447739951598, 1.269272449060209, 1.2692631568242851, 1.2693039982593601, 1.2692680213890029, 1.2693593714278515, 1.2692677659715672, 1.2692910376980138, 1.2692769419780894, 1.269266204852921, 1.2692784408377256, 1.2692595913341544, 1.2692944613785053, 1.2692532835180967, 1.269266937839275, 1.2692580604639443, 1.269279015775671, 1.2692793697647144, 1.269288014547265, 1.2697745771422138, 1.269367158900995, 1.269342248210327, 1.2693577847097126, 1.269302332335654, 1.2693541114946045, 1.2693955011319809, 1.2693321112398468, 1.2694490109073253, 1.269465800322638, 1.2693879113040585, 1.269369282177708, 1.269494732501439, 1.2694552641820314, 50.73928048721765, 41.74421431492102, 34.40750923676898, 26.83435280515956, 26.268848958248864, 21.386312561872494, 20.473915161992636, 19.200822133803584, 17.510647048206234, 14.775559169328403, 10.784160312726302, 8.5226358198866, 6.233044867194226, 2.7874426283538627, 2.123083126652934, 1.2694300294231389, 1.2692853182365806, 1.2693204222718117, 1.269326822055363, 1.2692867301907984, 1.2692671840088363, 1.2693172042273617, 1.2694507913455806, 1.2693676031707868, 1.2693026090977053, 1.2692775821952258, 1.269268826355483, 1.2693203374009936, 1.2692874477528304, 1.2692561626387047, 1.2694392023066015, 1.2693081560782833, 1.269491807597648, 1.2693609588049142, 1.2693994856311661, 1.269394106371204, 101.83515387598655, 62.421136679321855, 57.962547419883876, 31.253269648717872, 23.30897033426627, 6.460289126097801, 5.514469938704807, 1.2693039982593601, 1.2692677659715672, 1.269342248210327, 1.2692917663832302, 1.2692944613785053, 1.2693541114946045, 1.2692805920647785, 1.2693008110673716, 1.269266204852921, 1.2693124732385315, 1.2692931807687526, 1.2692576993871447, 1.2693412094993237, 1.2692754955890864, 1.269328153334859, 1.269279888693113, 1.269260606603758, 1.269268871557204, 1.2693390525896378, 1.2692612397429408, 1.269465800322638, 1.2692654874694207, 1.2692556579748424, 1.2693058198009075, 1.2694944182974333, 1.269339406622678, 1.2693224873954851, 1.2694389376446154, 1.269491807597648, 1.2694210976797493, 1.269328190545355, 10.715509255578807, 45.73045050573522, 27.83148630709877, 22.743261664380302, 18.53444424424073, 15.92481116373337, 13.691446696269812, 11.24626628980451, 5.572797422008579, 3.7468901430673784, 1.269397080339769, 1.2694528005868606, 1.2692867301907984, 1.2693330696315017, 1.2693026090977053, 1.2692578986741834, 1.2692561607755501, 1.269326822055363, 1.269266218678496, 1.2692602659390992, 1.2692627862421566, 1.2692655644114081, 1.269275891347921, 1.2692619355485708, 1.2693426175549085, 1.2692679964047082, 1.269264262186584, 1.269262993009337, 1.2692637047371678, 1.269273057630831, 1.2692791843816742, 1.2693251354961566, 1.2693935852642293, 1.2693260421162615, 1.2693326679882095, 1.2693981505204606, 1.2695086615116, 1.2693292392373297, 1.269336228293536, 1.2693974339861334, 1.2694070924920038, 1.2694490109073253, 1.2693812359772416, 1.269466654854911, 1.269420200984788, 1.2694552641820314, 1.269465800322638, 13.55704994869648, 7.662407222316692, 1.2692867301907984, 1.2693326679882095, 1.269275891347921, 1.269273057630831, 1.2692619355485708, 1.269291541590224, 1.2692734595164075, 1.2692537446045833, 1.2692537446045833, 1.2692537446045833, 1.2692551303097837, 1.26926567856896, 1.269256774619058, 1.269257045385116, 1.2692589451519716, 1.2692610702433198, 1.2692674638823138, 1.269265047054959, 1.2692564272265368, 1.269268255889279, 1.2692758958409052, 1.2692808567566964, 1.2692537954322343, 1.2692504400767026, 1.2692504400767026, 1.269255086015065, 1.2692571954745648, 1.269266186659054, 1.2692923172721249, 1.2693080765765274, 1.2692726852576195, 1.269308611527431, 1.2693043403389863, 1.269315308804764, 1.269420200984788, 1.2693269185438152, 1.2693292392373297, 1.269321684302708, 3.5697745773503944, 2.930454277817951, 1.2692576230270476, 1.2692754955890864, 1.2692564468900762, 1.2692532594572665, 1.269255149723477, 1.2692558918690606, 1.2692520614976905, 1.2692507389555356, 1.2692507389555356, 1.2692507389555356, 1.2692522367593342, 1.2692526316256179, 1.2692513964386274, 1.2692534327416005, 1.2692524504266043, 1.2692514476601942, 1.2692514476601942, 1.2692514476601942, 1.2692514476601942, 1.269253827956845, 1.269252635187095, 1.2692505293570377, 1.2692530974070693, 1.2692505605853937, 1.2692590926189409, 1.269251018600454, 1.269250314985452, 1.269250314985452, 1.2692683896210772, 1.2692541307346537, 1.2692710143363362, 1.2692581789677786, 1.2692739346247632, 1.2692722519690143, 1.2692603554843223, 1.269259670627079, 1.2692583522195136, 1.269299801863724, 1.2693135952072383, 1.2692993568925268, 1.2692604386772242, 1.269281636308145, 1.269285343738377, 1.2693390525896378, 1.2692917663832302, 1.2692628202677416, 1.2694210976797493, 1.2694041124677422, 1.2694392023066015, 1.269307684854817, 1.2693098482987417, 1.2693935852642293, 1.269291541590224, 1.2693029996988054, 1.2694389376446154, 2.3863435060881826, 1.2692569246767182, 1.2692510967805346, 1.2692652894181884, 1.2692554809699568, 1.2692566364687026, 1.2692567070038505, 1.2692576708781163, 1.2692579414665466, 1.269259552159514, 1.2692600499762252, 1.269250282350075, 1.26924972879821, 1.2692497366323818, 1.269252414589499, 1.269252414589499, 1.269249662954905, 1.269249662954905, 1.269249662954905, 1.269249662954905, 1.269249662954905, 1.269249662954905, 1.269249662954905, 1.2692496734858967, 1.2692496734858967, 1.2692496755827263, 1.2692496755827263, 1.269249677668242, 1.2692496795022081, 1.2692496816165377, 1.2692628973391735, 1.2692528490448227, 1.2692649676727106, 1.2692651754394932, 1.269267105068741, 1.269253566552606, 1.2692535282482376, 1.2692695293097038, 1.2692542491606678, 1.2692712575605078, 1.2692545843878165, 1.2692746384303584, 1.2692775169761916, 1.269309067663524, 1.2692822700442847, 1.2692853056940485, 1.269287958718122, 1.2693006913647678, 1.2693124965838332, 1.2693131644646658, 1.2693235061512016, 1.2693816113707865, 1.269411308985686, 1.2693554859601184, 1.269249662954905, 1.269249662954905, 1.269249662954905, 1.269249662954905, 1.269249662954905, 1.269249662954905, 1.269249662954905, 1.2692496734858967, 1.2692496734858967, 1.2692496755827263, 1.2692496755827263, 1.269249677668242, 1.2692496795022081, 1.2692496816165377, 1.2692496816165377, 1.2692496816165377, 1.2692496816165377, 1.2692496816258705, 1.2692496816258705, 1.2692496830990296, 1.2692496830990296, 1.2692496832820952, 1.269249686990627, 1.2692496885272582, 1.2692496892684408, 1.2692496892684408, 1.2692496900813894, 1.2692496905416186, 1.2692496905416186, 1.2692496905416186, 136.219384251074, 36.4350676784968, 954.214789124577, 295.6553189738331, 410.10947772248886, 274.27190627806294, 474.7930434691544, 24.932090391924707, 1.2692497840002253, 2277.1296323216993, 58.91557028552594, 8.665520004360232, 566.9702740896034, 66.57562650073842, 391.0201258170106, 348.10676768631396, 301.2316781074215, 1101.2848398481162, 426.1417349624197, 27.540572398539236, 90.17094410653615, 544.7300381451405, 390.63204617133897, 33.88841766131934, 2.736287943017487, 54.365868019797034, 122.39811899896365, 829.6866020457002, 4.067367588761542, 170.3047071570264], \"Category\": [\"Default\", \"Default\", \"Default\", \"Default\", \"Default\", \"Default\", \"Default\", \"Default\", \"Default\", \"Default\", \"Default\", \"Default\", \"Default\", \"Default\", \"Default\", \"Default\", \"Default\", \"Default\", \"Default\", \"Default\", \"Default\", \"Default\", \"Default\", \"Default\", \"Default\", \"Default\", \"Default\", \"Default\", \"Default\", \"Default\", \"Topic1\", \"Topic1\", \"Topic1\", \"Topic1\", \"Topic1\", \"Topic1\", \"Topic1\", \"Topic1\", \"Topic1\", \"Topic1\", \"Topic1\", \"Topic1\", \"Topic1\", \"Topic1\", \"Topic1\", \"Topic1\", \"Topic1\", \"Topic1\", \"Topic1\", \"Topic1\", \"Topic1\", \"Topic1\", \"Topic1\", \"Topic1\", \"Topic1\", \"Topic1\", \"Topic1\", \"Topic1\", \"Topic1\", \"Topic1\", \"Topic1\", \"Topic1\", \"Topic1\", \"Topic1\", \"Topic1\", \"Topic1\", \"Topic1\", \"Topic1\", \"Topic1\", \"Topic1\", \"Topic1\", \"Topic1\", \"Topic1\", \"Topic1\", \"Topic1\", \"Topic1\", \"Topic1\", \"Topic1\", \"Topic1\", \"Topic1\", \"Topic1\", \"Topic1\", \"Topic1\", \"Topic1\", \"Topic1\", \"Topic1\", \"Topic1\", \"Topic1\", \"Topic1\", \"Topic1\", \"Topic1\", \"Topic1\", \"Topic1\", \"Topic1\", \"Topic1\", \"Topic1\", \"Topic1\", \"Topic1\", \"Topic1\", \"Topic1\", \"Topic1\", \"Topic2\", \"Topic2\", \"Topic2\", \"Topic2\", \"Topic2\", \"Topic2\", \"Topic2\", \"Topic2\", \"Topic2\", \"Topic2\", \"Topic2\", \"Topic2\", \"Topic2\", \"Topic2\", \"Topic2\", \"Topic2\", \"Topic2\", \"Topic2\", \"Topic2\", \"Topic2\", \"Topic2\", \"Topic2\", \"Topic2\", \"Topic2\", \"Topic2\", \"Topic2\", \"Topic2\", \"Topic2\", \"Topic2\", \"Topic2\", \"Topic2\", \"Topic2\", \"Topic2\", \"Topic2\", \"Topic2\", \"Topic2\", \"Topic2\", \"Topic2\", \"Topic2\", \"Topic2\", \"Topic2\", \"Topic2\", \"Topic2\", \"Topic2\", \"Topic2\", \"Topic2\", \"Topic2\", \"Topic2\", \"Topic2\", \"Topic2\", \"Topic2\", \"Topic2\", \"Topic2\", \"Topic2\", \"Topic2\", \"Topic2\", \"Topic2\", \"Topic2\", \"Topic2\", \"Topic2\", \"Topic2\", \"Topic2\", \"Topic2\", \"Topic2\", \"Topic2\", \"Topic2\", \"Topic3\", \"Topic3\", \"Topic3\", \"Topic3\", \"Topic3\", \"Topic3\", \"Topic3\", \"Topic3\", \"Topic3\", \"Topic3\", \"Topic3\", \"Topic3\", \"Topic3\", \"Topic3\", \"Topic3\", \"Topic3\", \"Topic3\", \"Topic3\", \"Topic3\", \"Topic3\", \"Topic3\", \"Topic3\", \"Topic3\", \"Topic3\", \"Topic3\", \"Topic3\", \"Topic3\", \"Topic3\", \"Topic3\", \"Topic3\", \"Topic3\", \"Topic3\", \"Topic3\", \"Topic3\", \"Topic3\", \"Topic3\", \"Topic3\", \"Topic3\", \"Topic3\", \"Topic3\", \"Topic3\", \"Topic3\", \"Topic3\", \"Topic3\", \"Topic3\", \"Topic3\", \"Topic3\", \"Topic3\", \"Topic3\", \"Topic3\", \"Topic3\", \"Topic3\", \"Topic3\", \"Topic3\", \"Topic3\", \"Topic3\", \"Topic3\", \"Topic3\", \"Topic3\", \"Topic4\", \"Topic4\", \"Topic4\", \"Topic4\", \"Topic4\", \"Topic4\", \"Topic4\", \"Topic4\", \"Topic4\", \"Topic4\", \"Topic4\", \"Topic4\", \"Topic4\", \"Topic4\", \"Topic4\", \"Topic4\", \"Topic4\", \"Topic4\", \"Topic4\", \"Topic4\", \"Topic4\", \"Topic4\", \"Topic4\", \"Topic4\", \"Topic4\", \"Topic4\", \"Topic4\", \"Topic4\", \"Topic4\", \"Topic4\", \"Topic4\", \"Topic4\", \"Topic4\", \"Topic4\", \"Topic4\", \"Topic4\", \"Topic4\", \"Topic4\", \"Topic4\", \"Topic4\", \"Topic4\", \"Topic4\", \"Topic4\", \"Topic4\", \"Topic4\", \"Topic4\", \"Topic4\", \"Topic4\", \"Topic4\", \"Topic4\", \"Topic4\", \"Topic4\", \"Topic4\", \"Topic4\", \"Topic4\", \"Topic4\", \"Topic4\", \"Topic4\", \"Topic4\", \"Topic4\", \"Topic5\", \"Topic5\", \"Topic5\", \"Topic5\", \"Topic5\", \"Topic5\", \"Topic5\", \"Topic5\", \"Topic5\", \"Topic5\", \"Topic5\", \"Topic5\", \"Topic5\", \"Topic5\", \"Topic5\", \"Topic5\", \"Topic5\", \"Topic5\", \"Topic5\", \"Topic5\", \"Topic5\", \"Topic5\", \"Topic5\", \"Topic5\", \"Topic5\", \"Topic5\", \"Topic5\", \"Topic5\", \"Topic5\", \"Topic5\", \"Topic5\", \"Topic5\", \"Topic5\", \"Topic5\", \"Topic5\", \"Topic5\", \"Topic5\", \"Topic5\", \"Topic5\", \"Topic5\", \"Topic5\", \"Topic5\", \"Topic5\", \"Topic5\", \"Topic5\", \"Topic5\", \"Topic5\", \"Topic5\", \"Topic5\", \"Topic5\", \"Topic5\", \"Topic5\", \"Topic5\", \"Topic5\", \"Topic5\", \"Topic5\", \"Topic5\", \"Topic5\", \"Topic6\", \"Topic6\", \"Topic6\", \"Topic6\", \"Topic6\", \"Topic6\", \"Topic6\", \"Topic6\", \"Topic6\", \"Topic6\", \"Topic6\", \"Topic6\", \"Topic6\", \"Topic6\", \"Topic6\", \"Topic6\", \"Topic6\", \"Topic6\", \"Topic6\", \"Topic6\", \"Topic6\", \"Topic6\", \"Topic6\", \"Topic6\", \"Topic6\", \"Topic6\", \"Topic6\", \"Topic6\", \"Topic6\", \"Topic6\", \"Topic6\", \"Topic6\", \"Topic6\", \"Topic6\", \"Topic6\", \"Topic6\", \"Topic6\", \"Topic6\", \"Topic6\", \"Topic6\", \"Topic6\", \"Topic6\", \"Topic6\", \"Topic6\", \"Topic6\", \"Topic6\", \"Topic6\", \"Topic6\", \"Topic6\", \"Topic6\", \"Topic7\", \"Topic7\", \"Topic7\", \"Topic7\", \"Topic7\", \"Topic7\", \"Topic7\", \"Topic7\", \"Topic7\", \"Topic7\", \"Topic7\", \"Topic7\", \"Topic7\", \"Topic7\", \"Topic7\", \"Topic7\", \"Topic7\", \"Topic7\", \"Topic7\", \"Topic7\", \"Topic7\", \"Topic7\", \"Topic7\", \"Topic7\", \"Topic7\", \"Topic7\", \"Topic7\", \"Topic7\", \"Topic7\", \"Topic7\", \"Topic7\", \"Topic7\", \"Topic7\", \"Topic7\", \"Topic7\", \"Topic7\", \"Topic7\", \"Topic7\", \"Topic7\", \"Topic7\", \"Topic7\", \"Topic7\", \"Topic7\", \"Topic7\", \"Topic7\", \"Topic8\", \"Topic8\", \"Topic8\", \"Topic8\", \"Topic8\", \"Topic8\", \"Topic8\", \"Topic8\", \"Topic8\", \"Topic8\", \"Topic8\", \"Topic8\", \"Topic8\", \"Topic8\", \"Topic8\", \"Topic8\", \"Topic8\", \"Topic8\", \"Topic8\", \"Topic8\", \"Topic8\", \"Topic8\", \"Topic8\", \"Topic8\", \"Topic8\", \"Topic8\", \"Topic8\", \"Topic8\", \"Topic8\", \"Topic8\", \"Topic8\", \"Topic8\", \"Topic8\", \"Topic8\", \"Topic8\", \"Topic8\", \"Topic8\", \"Topic8\", \"Topic8\", \"Topic8\", \"Topic8\", \"Topic8\", \"Topic8\", \"Topic8\", \"Topic8\", \"Topic8\", \"Topic8\", \"Topic8\", \"Topic8\", \"Topic8\", \"Topic9\", \"Topic9\", \"Topic9\", \"Topic9\", \"Topic9\", \"Topic9\", \"Topic9\", \"Topic9\", \"Topic9\", \"Topic9\", \"Topic9\", \"Topic9\", \"Topic9\", \"Topic9\", \"Topic9\", \"Topic9\", \"Topic9\", \"Topic9\", \"Topic9\", \"Topic9\", \"Topic9\", \"Topic9\", \"Topic9\", \"Topic9\", \"Topic9\", \"Topic9\", \"Topic9\", \"Topic9\", \"Topic9\", \"Topic9\", \"Topic9\", \"Topic9\", \"Topic9\", \"Topic9\", \"Topic10\", \"Topic10\", \"Topic10\", \"Topic10\", \"Topic10\", \"Topic10\", \"Topic10\", \"Topic10\", \"Topic10\", \"Topic10\", \"Topic10\", \"Topic10\", \"Topic10\", \"Topic10\", \"Topic10\", \"Topic10\", \"Topic10\", \"Topic10\", \"Topic10\", \"Topic10\", \"Topic10\", \"Topic10\", \"Topic10\", \"Topic10\", \"Topic10\", \"Topic10\", \"Topic10\", \"Topic10\", \"Topic10\", \"Topic10\", \"Topic10\", \"Topic10\", \"Topic10\", \"Topic10\", \"Topic10\", \"Topic10\", \"Topic10\", \"Topic10\", \"Topic10\", \"Topic10\", \"Topic10\", \"Topic10\", \"Topic10\", \"Topic10\", \"Topic10\", \"Topic10\", \"Topic10\", \"Topic10\", \"Topic11\", \"Topic11\", \"Topic11\", \"Topic11\", \"Topic11\", \"Topic11\", \"Topic11\", \"Topic11\", \"Topic11\", \"Topic11\", \"Topic11\", \"Topic11\", \"Topic11\", \"Topic11\", \"Topic11\", \"Topic11\", \"Topic11\", \"Topic11\", \"Topic11\", \"Topic11\", \"Topic11\", \"Topic11\", \"Topic11\", \"Topic11\", \"Topic11\", \"Topic11\", \"Topic11\", \"Topic11\", \"Topic11\", \"Topic11\", \"Topic11\", \"Topic11\", \"Topic11\", \"Topic11\", \"Topic11\", \"Topic11\", \"Topic11\", \"Topic12\", \"Topic12\", \"Topic12\", \"Topic12\", \"Topic12\", \"Topic12\", \"Topic12\", \"Topic12\", \"Topic12\", \"Topic12\", \"Topic12\", \"Topic12\", \"Topic12\", \"Topic12\", \"Topic12\", \"Topic12\", \"Topic12\", \"Topic12\", \"Topic12\", \"Topic12\", \"Topic12\", \"Topic12\", \"Topic12\", \"Topic12\", \"Topic12\", \"Topic12\", \"Topic12\", \"Topic12\", \"Topic12\", \"Topic12\", \"Topic12\", \"Topic12\", \"Topic12\", \"Topic12\", \"Topic13\", \"Topic13\", \"Topic13\", \"Topic13\", \"Topic13\", \"Topic13\", \"Topic13\", \"Topic13\", \"Topic13\", \"Topic13\", \"Topic13\", \"Topic13\", \"Topic13\", \"Topic13\", \"Topic13\", \"Topic13\", \"Topic13\", \"Topic13\", \"Topic13\", \"Topic13\", \"Topic13\", \"Topic13\", \"Topic13\", \"Topic13\", \"Topic13\", \"Topic13\", \"Topic13\", \"Topic13\", \"Topic13\", \"Topic13\", \"Topic13\", \"Topic13\", \"Topic14\", \"Topic14\", \"Topic14\", \"Topic14\", \"Topic14\", \"Topic14\", \"Topic14\", \"Topic14\", \"Topic14\", \"Topic14\", \"Topic14\", \"Topic14\", \"Topic14\", \"Topic14\", \"Topic14\", \"Topic14\", \"Topic14\", \"Topic14\", \"Topic14\", \"Topic14\", \"Topic14\", \"Topic14\", \"Topic14\", \"Topic14\", \"Topic14\", \"Topic14\", \"Topic14\", \"Topic14\", \"Topic14\", \"Topic14\", \"Topic14\", \"Topic14\", \"Topic14\", \"Topic15\", \"Topic15\", \"Topic15\", \"Topic15\", \"Topic15\", \"Topic15\", \"Topic15\", \"Topic15\", \"Topic15\", \"Topic15\", \"Topic15\", \"Topic15\", \"Topic15\", \"Topic15\", \"Topic15\", \"Topic15\", \"Topic15\", \"Topic15\", \"Topic15\", \"Topic15\", \"Topic15\", \"Topic15\", \"Topic15\", \"Topic15\", \"Topic15\", \"Topic15\", \"Topic15\", \"Topic15\", \"Topic15\", \"Topic15\", \"Topic15\", \"Topic15\", \"Topic15\", \"Topic15\", \"Topic15\", \"Topic15\", \"Topic15\", \"Topic16\", \"Topic16\", \"Topic16\", \"Topic16\", \"Topic16\", \"Topic16\", \"Topic16\", \"Topic16\", \"Topic16\", \"Topic16\", \"Topic16\", \"Topic16\", \"Topic16\", \"Topic16\", \"Topic16\", \"Topic16\", \"Topic16\", \"Topic16\", \"Topic16\", \"Topic16\", \"Topic16\", \"Topic16\", \"Topic16\", \"Topic16\", \"Topic16\", \"Topic16\", \"Topic16\", \"Topic16\", \"Topic16\", \"Topic16\", \"Topic16\", \"Topic16\", \"Topic17\", \"Topic17\", \"Topic17\", \"Topic17\", \"Topic17\", \"Topic17\", \"Topic17\", \"Topic17\", \"Topic17\", \"Topic17\", \"Topic17\", \"Topic17\", \"Topic17\", \"Topic17\", \"Topic17\", \"Topic17\", \"Topic17\", \"Topic17\", \"Topic17\", \"Topic17\", \"Topic17\", \"Topic17\", \"Topic17\", \"Topic17\", \"Topic17\", \"Topic17\", \"Topic17\", \"Topic17\", \"Topic17\", \"Topic17\", \"Topic17\", \"Topic17\", \"Topic17\", \"Topic17\", \"Topic17\", \"Topic17\", \"Topic17\", \"Topic17\", \"Topic17\", \"Topic17\", \"Topic18\", \"Topic18\", \"Topic18\", \"Topic18\", \"Topic18\", \"Topic18\", \"Topic18\", \"Topic18\", \"Topic18\", \"Topic18\", \"Topic18\", \"Topic18\", \"Topic18\", \"Topic18\", \"Topic18\", \"Topic18\", \"Topic18\", \"Topic18\", \"Topic18\", \"Topic18\", \"Topic18\", \"Topic18\", \"Topic18\", \"Topic18\", \"Topic18\", \"Topic18\", \"Topic18\", \"Topic18\", \"Topic18\", \"Topic18\", \"Topic18\", \"Topic18\", \"Topic18\", \"Topic19\", \"Topic19\", \"Topic19\", \"Topic19\", \"Topic19\", \"Topic19\", \"Topic19\", \"Topic19\", \"Topic19\", \"Topic19\", \"Topic19\", \"Topic19\", \"Topic19\", \"Topic19\", \"Topic19\", \"Topic19\", \"Topic19\", \"Topic19\", \"Topic19\", \"Topic19\", \"Topic19\", \"Topic19\", \"Topic19\", \"Topic19\", \"Topic19\", \"Topic19\", \"Topic19\", \"Topic19\", \"Topic19\", \"Topic19\", \"Topic19\", \"Topic19\", \"Topic19\", \"Topic19\", \"Topic19\", \"Topic20\", \"Topic20\", \"Topic20\", \"Topic20\", \"Topic20\", \"Topic20\", \"Topic20\", \"Topic20\", \"Topic20\", \"Topic20\", \"Topic20\", \"Topic20\", \"Topic20\", \"Topic20\", \"Topic20\", \"Topic20\", \"Topic20\", \"Topic20\", \"Topic20\", \"Topic20\", \"Topic20\", \"Topic20\", \"Topic20\", \"Topic20\", \"Topic20\", \"Topic20\", \"Topic20\", \"Topic20\", \"Topic20\", \"Topic20\", \"Topic20\", \"Topic20\", \"Topic20\", \"Topic20\", \"Topic20\", \"Topic21\", \"Topic21\", \"Topic21\", \"Topic21\", \"Topic21\", \"Topic21\", \"Topic21\", \"Topic21\", \"Topic21\", \"Topic21\", \"Topic21\", \"Topic21\", \"Topic21\", \"Topic21\", \"Topic21\", \"Topic21\", \"Topic21\", \"Topic21\", \"Topic21\", \"Topic21\", \"Topic21\", \"Topic21\", \"Topic21\", \"Topic21\", \"Topic21\", \"Topic21\", \"Topic21\", \"Topic21\", \"Topic21\", \"Topic21\", \"Topic21\", \"Topic21\", \"Topic21\", \"Topic21\", \"Topic21\", \"Topic21\", \"Topic21\", \"Topic21\", \"Topic21\", \"Topic21\", \"Topic21\", \"Topic21\", \"Topic22\", \"Topic22\", \"Topic22\", \"Topic22\", \"Topic22\", \"Topic22\", \"Topic22\", \"Topic22\", \"Topic22\", \"Topic22\", \"Topic22\", \"Topic22\", \"Topic22\", \"Topic22\", \"Topic22\", \"Topic22\", \"Topic22\", \"Topic22\", \"Topic22\", \"Topic22\", \"Topic22\", \"Topic22\", \"Topic22\", \"Topic22\", \"Topic22\", \"Topic22\", \"Topic22\", \"Topic22\", \"Topic22\", \"Topic22\", \"Topic22\", \"Topic22\", \"Topic22\", \"Topic22\", \"Topic22\", \"Topic22\", \"Topic22\", \"Topic22\", \"Topic23\", \"Topic23\", \"Topic23\", \"Topic23\", \"Topic23\", \"Topic23\", \"Topic23\", \"Topic23\", \"Topic23\", \"Topic23\", \"Topic23\", \"Topic23\", \"Topic23\", \"Topic23\", \"Topic23\", \"Topic23\", \"Topic23\", \"Topic23\", \"Topic23\", \"Topic23\", \"Topic23\", \"Topic23\", \"Topic23\", \"Topic23\", \"Topic23\", \"Topic23\", \"Topic23\", \"Topic23\", \"Topic23\", \"Topic23\", \"Topic23\", \"Topic23\", \"Topic23\", \"Topic23\", \"Topic23\", \"Topic23\", \"Topic23\", \"Topic23\", \"Topic23\", \"Topic23\", \"Topic23\", \"Topic23\", \"Topic23\", \"Topic23\", \"Topic23\", \"Topic23\", \"Topic24\", \"Topic24\", \"Topic24\", \"Topic24\", \"Topic24\", \"Topic24\", \"Topic24\", \"Topic24\", \"Topic24\", \"Topic24\", \"Topic24\", \"Topic24\", \"Topic24\", \"Topic24\", \"Topic24\", \"Topic24\", \"Topic24\", \"Topic24\", \"Topic24\", \"Topic24\", \"Topic24\", \"Topic24\", \"Topic24\", \"Topic24\", \"Topic24\", \"Topic24\", \"Topic24\", \"Topic24\", \"Topic24\", \"Topic24\", \"Topic24\", \"Topic24\", \"Topic24\", \"Topic24\", \"Topic24\", \"Topic24\", \"Topic25\", \"Topic25\", \"Topic25\", \"Topic25\", \"Topic25\", \"Topic25\", \"Topic25\", \"Topic25\", \"Topic25\", \"Topic25\", \"Topic25\", \"Topic25\", \"Topic25\", \"Topic25\", \"Topic25\", \"Topic25\", \"Topic25\", \"Topic25\", \"Topic25\", \"Topic25\", \"Topic25\", \"Topic25\", \"Topic25\", \"Topic25\", \"Topic25\", \"Topic25\", \"Topic25\", \"Topic25\", \"Topic25\", \"Topic25\", \"Topic25\", \"Topic25\", \"Topic25\", \"Topic25\", \"Topic25\", \"Topic25\", \"Topic25\", \"Topic25\", \"Topic25\", \"Topic26\", \"Topic26\", \"Topic26\", \"Topic26\", \"Topic26\", \"Topic26\", \"Topic26\", \"Topic26\", \"Topic26\", \"Topic26\", \"Topic26\", \"Topic26\", \"Topic26\", \"Topic26\", \"Topic26\", \"Topic26\", \"Topic26\", \"Topic26\", \"Topic26\", \"Topic26\", \"Topic26\", \"Topic26\", \"Topic26\", \"Topic26\", \"Topic26\", \"Topic26\", \"Topic26\", \"Topic26\", \"Topic26\", \"Topic26\", \"Topic26\", \"Topic26\", \"Topic26\", \"Topic26\", \"Topic26\", \"Topic26\", \"Topic26\", \"Topic26\", \"Topic26\", \"Topic26\", \"Topic26\", \"Topic26\", \"Topic26\", \"Topic26\", \"Topic26\", \"Topic26\", \"Topic27\", \"Topic27\", \"Topic27\", \"Topic27\", \"Topic27\", \"Topic27\", \"Topic27\", \"Topic27\", \"Topic27\", \"Topic27\", \"Topic27\", \"Topic27\", \"Topic27\", \"Topic27\", \"Topic27\", \"Topic27\", \"Topic27\", \"Topic27\", \"Topic27\", \"Topic27\", \"Topic27\", \"Topic27\", \"Topic27\", \"Topic27\", \"Topic27\", \"Topic27\", \"Topic27\", \"Topic27\", \"Topic27\", \"Topic27\", \"Topic27\", \"Topic27\", \"Topic27\", \"Topic27\", \"Topic27\", \"Topic27\", \"Topic27\", \"Topic27\", \"Topic27\", \"Topic27\", \"Topic28\", \"Topic28\", \"Topic28\", \"Topic28\", \"Topic28\", \"Topic28\", \"Topic28\", \"Topic28\", \"Topic28\", \"Topic28\", \"Topic28\", \"Topic28\", \"Topic28\", \"Topic28\", \"Topic28\", \"Topic28\", \"Topic28\", \"Topic28\", \"Topic28\", \"Topic28\", \"Topic28\", \"Topic28\", \"Topic28\", \"Topic28\", \"Topic28\", \"Topic28\", \"Topic28\", \"Topic28\", \"Topic28\", \"Topic28\", \"Topic28\", \"Topic28\", \"Topic28\", \"Topic28\", \"Topic28\", \"Topic28\", \"Topic28\", \"Topic28\", \"Topic28\", \"Topic28\", \"Topic28\", \"Topic28\", \"Topic28\", \"Topic28\", \"Topic28\", \"Topic28\", \"Topic28\", \"Topic28\", \"Topic28\", \"Topic28\", \"Topic28\", \"Topic28\", \"Topic28\", \"Topic28\", \"Topic28\", \"Topic28\", \"Topic28\", \"Topic29\", \"Topic29\", \"Topic29\", \"Topic29\", \"Topic29\", \"Topic29\", \"Topic29\", \"Topic29\", \"Topic29\", \"Topic29\", \"Topic29\", \"Topic29\", \"Topic29\", \"Topic29\", \"Topic29\", \"Topic29\", \"Topic29\", \"Topic29\", \"Topic29\", \"Topic29\", \"Topic29\", \"Topic29\", \"Topic29\", \"Topic29\", \"Topic29\", \"Topic29\", \"Topic29\", \"Topic29\", \"Topic29\", \"Topic29\", \"Topic29\", \"Topic29\", \"Topic29\", \"Topic29\", \"Topic29\", \"Topic29\", \"Topic29\", \"Topic29\", \"Topic29\", \"Topic29\", \"Topic29\", \"Topic29\", \"Topic29\", \"Topic29\", \"Topic29\", \"Topic29\", \"Topic29\", \"Topic29\", \"Topic29\", \"Topic29\", \"Topic29\", \"Topic29\", \"Topic29\", \"Topic29\", \"Topic30\", \"Topic30\", \"Topic30\", \"Topic30\", \"Topic30\", \"Topic30\", \"Topic30\", \"Topic30\", \"Topic30\", \"Topic30\", \"Topic30\", \"Topic30\", \"Topic30\", \"Topic30\", \"Topic30\", \"Topic30\", \"Topic30\", \"Topic30\", \"Topic30\", \"Topic30\", \"Topic30\", \"Topic30\", \"Topic30\", \"Topic30\", \"Topic30\", \"Topic30\", \"Topic30\", \"Topic30\", \"Topic30\", \"Topic30\", \"Topic30\", \"Topic30\", \"Topic30\", \"Topic30\", \"Topic30\", \"Topic30\", \"Topic30\", \"Topic30\", \"Topic30\", \"Topic30\", \"Topic30\", \"Topic30\", \"Topic30\", \"Topic30\", \"Topic30\", \"Topic30\", \"Topic30\", \"Topic30\", \"Topic30\", \"Topic30\", \"Topic30\", \"Topic30\", \"Topic30\", \"Topic30\", \"Topic30\", \"Topic30\", \"Topic30\", \"Topic30\", \"Topic30\", \"Topic30\"], \"logprob\": [30.0, 29.0, 28.0, 27.0, 26.0, 25.0, 24.0, 23.0, 22.0, 21.0, 20.0, 19.0, 18.0, 17.0, 16.0, 15.0, 14.0, 13.0, 12.0, 11.0, 10.0, 9.0, 8.0, 7.0, 6.0, 5.0, 4.0, 3.0, 2.0, 1.0, -5.0095, -5.0462, -5.0671, -5.1458, -5.4404, -5.4905, -5.51, -5.5614, -5.7792, -5.2982, -5.8846, -5.6638, -5.9304, -5.9534, -5.9939, -6.1349, -6.1672, -6.1979, -6.2297, -6.2871, -6.2898, -6.3503, -6.3657, -6.3804, -6.4223, -6.4308, -6.4942, -6.5025, -6.512, -6.5124, -4.6974, -5.6531, -4.9299, -5.357, -5.2863, -5.6119, -4.967, -5.9471, -4.8719, -4.8941, -5.0218, -5.1204, -4.6967, -5.3562, -4.7065, -4.888, -4.7377, -5.084, -5.0187, -4.936, -4.9789, -4.7128, -5.102, -5.3378, -3.2749, -4.6723, -4.6498, -4.8237, -5.1558, -5.0882, -4.8466, -4.5443, -4.6852, -5.0608, -4.496, -5.0168, -5.0042, -4.9009, -4.9757, -5.0021, -5.0552, -5.1651, -5.4476, -5.4537, -5.4676, -5.508, -5.5358, -5.6281, -5.6701, -5.6701, -5.77, -4.7797, -5.8491, -5.8978, -5.7299, -5.9141, -5.9465, -5.9875, -6.1184, -6.3176, -6.3707, -6.5432, -6.5716, -6.6065, -6.6076, -6.7191, -6.7862, -6.7948, -6.8718, -6.9133, -6.9415, -2.7578, -4.2814, -4.4379, -4.4272, -4.7537, -5.4903, -5.0575, -3.8507, -4.4303, -3.8797, -4.904, -3.8391, -4.7227, -3.0501, -4.7902, -5.0568, -3.8546, -5.2395, -4.6701, -4.4943, -4.417, -4.424, -4.8661, -5.073, -4.1228, -5.0104, -4.2927, -4.2562, -4.4329, -5.1655, -4.9644, -4.8578, -4.8944, -4.7817, -4.9859, -4.9144, -4.0898, -4.2584, -4.7902, -4.8625, -4.9146, -4.9743, -4.9989, -5.0342, -5.0478, -5.0945, -5.2968, -5.3155, -5.2766, -5.4304, -5.6319, -5.689, -5.7102, -5.748, -5.8267, -5.8286, -5.9179, -5.9188, -5.9277, -5.9433, -5.96, -6.0378, -6.0457, -6.1123, -6.16, -6.1822, -5.3697, -5.0941, -4.642, -5.2591, -4.8387, -2.1699, -4.5316, -5.4712, -5.2205, -4.9971, -5.0957, -4.7115, -3.651, -3.7681, -4.1517, -4.3302, -3.7101, -4.2178, -3.8878, -4.9987, -4.9798, -4.6509, -4.779, -4.9994, -4.4552, -4.5995, -4.3842, -4.726, -4.9302, -4.4343, -4.495, -4.8396, -4.9895, -5.047, -5.2017, -5.2044, -5.317, -5.3926, -5.3978, -5.2801, -5.5558, -5.5828, -5.5947, -5.5293, -5.6604, -5.6809, -5.6871, -5.6952, -5.7292, -5.7915, -5.8803, -5.8865, -5.9397, -5.9586, -5.9317, -5.9845, -6.0879, -6.1191, -6.1219, -4.9979, -5.9529, -5.7983, -4.6512, -2.8693, -4.9208, -4.3408, -3.2606, -4.7647, -4.7793, -4.5495, -4.6751, -3.869, -3.532, -4.267, -4.963, -4.9037, -3.3146, -4.7439, -5.2927, -4.1165, -3.8202, -4.7534, -4.8928, -4.7107, -4.6003, -4.9097, -4.9111, -4.9486, -4.9866, -2.5347, -4.4259, -4.5713, -4.8802, -4.8065, -5.1666, -5.4974, -5.6159, -5.6233, -5.7157, -5.7386, -5.8582, -5.9226, -5.9664, -5.9789, -6.0794, -6.2032, -6.2236, -6.5394, -5.1642, -6.5929, -6.6637, -6.7021, -6.852, -6.9042, -2.0233, -6.9201, -7.0905, -7.2902, -3.8435, -3.9796, -3.5431, -4.1406, -3.2169, -3.7472, -4.9824, -3.3856, -4.5432, -4.8822, -3.5276, -3.5255, -4.4962, -4.6452, -4.8032, -4.7545, -3.3404, -3.958, -4.615, -4.1372, -4.4302, -3.7908, -4.3403, -4.5523, -4.4801, -4.7095, -4.7001, -4.761, -4.7725, -1.9122, -3.3407, -3.5857, -3.8822, -3.9642, -4.7523, -4.7914, -4.81, -4.9828, -5.008, -5.0731, -5.0987, -5.2645, -5.4585, -5.4705, -5.5001, -5.5767, -5.6026, -5.8801, -5.9108, -5.9515, -6.5064, -6.6256, -6.6669, -3.3447, -7.1426, -7.2165, -7.3091, -4.7879, -7.933, -3.2798, -5.0484, -3.5248, -4.0963, -4.3736, -2.6934, -3.673, -2.9333, -4.3438, -4.2013, -4.6886, -4.5038, -4.9407, -4.4732, -4.7526, -4.6544, -4.4154, -4.7245, -4.5688, -4.8737, -3.2256, -3.8456, -4.2225, -4.2575, -4.2706, -4.3671, -4.3671, -4.436, -4.4721, -4.491, -4.5144, -4.5257, -4.5927, -4.6309, -4.7432, -4.801, -4.9073, -5.0214, -5.0236, -5.0624, -5.1048, -5.1075, -5.1371, -5.1754, -5.1771, -3.9341, -5.3407, -4.7822, -5.5475, -5.5754, -3.856, -4.2826, -4.4391, -3.7238, -4.2806, -3.9933, -4.0949, -4.3493, -4.5157, -4.1124, -4.5037, -4.5347, -4.6276, -4.5522, -4.5704, -2.6357, -3.5927, -3.7312, -3.751, -3.9541, -4.313, -4.4616, -4.5769, -4.6522, -4.6539, -4.6565, -4.7319, -4.7802, -5.3507, -5.4562, -5.4638, -5.4941, -5.5536, -5.57, -5.5945, -5.6901, -5.9006, -6.0523, -6.0796, -6.1053, -3.2471, -6.1849, -6.335, -6.7328, -6.752, -4.2285, -3.8783, -3.9095, -2.0789, -4.5037, -5.4989, -4.3494, -3.8444, -4.5879, -3.9665, -4.2088, -3.9528, -4.5143, -4.6701, -4.4042, -4.4679, -4.5818, -4.547, -4.6781, -4.6611, -0.958, -3.5272, -4.0379, -4.0805, -4.171, -4.5615, -4.9785, -4.9808, -5.3728, -5.6594, -5.9886, -2.867, -5.4502, -6.7412, -2.3171, -7.9187, -8.3398, -4.5564, -2.5832, -5.1192, -4.9387, -3.8948, -4.1294, -5.1789, -4.5244, -4.301, -4.6641, -5.8173, -5.1429, -4.5369, -3.2343, -4.5945, -5.4291, -5.7771, -2.6959, -3.4384, -3.6432, -3.7148, -3.7309, -3.7486, -3.8551, -4.0142, -4.0188, -4.023, -4.153, -4.3614, -4.4209, -4.539, -4.8613, -4.8786, -4.8848, -4.929, -5.0638, -5.1467, -5.2637, -5.3111, -5.3739, -5.4418, -5.4609, -5.4633, -5.6063, -5.6278, -5.7067, -5.7139, -4.2712, -2.669, -3.3849, -5.1972, -3.5278, -4.2143, -3.765, -4.5606, -4.6645, -4.6101, -4.8773, -4.9307, -4.6142, -4.6898, -4.4617, -4.5686, -4.6543, -4.5894, -2.5752, -3.6055, -3.6846, -4.0336, -4.2902, -4.4617, -4.5144, -4.5212, -4.5499, -4.7562, -4.808, -2.4891, -5.0795, -5.1054, -5.204, -5.2529, -0.9544, -5.8963, -5.9733, -5.9847, -6.0329, -6.0559, -6.2215, -6.2405, -6.6133, -6.6321, -4.7911, -7.4565, -3.5588, -4.9872, -5.0878, -5.6836, -5.1836, -4.5373, -5.6678, -5.8488, -5.988, -2.0284, -2.172, -2.328, -2.4659, -3.8597, -3.9345, -4.0488, -4.1355, -4.4067, -4.5871, -4.8454, -4.8833, -5.026, -5.2931, -5.39, -5.6965, -4.532, -7.4424, -3.8653, -1.6311, -4.5742, -4.2156, -5.0881, -5.0249, -5.7981, -6.4837, -4.8514, -6.9197, -10.9929, -10.9934, -5.505, -6.2199, -5.8133, -6.7104, -2.3364, -2.6142, -2.6249, -2.7829, -2.8851, -3.1366, -3.4055, -3.5423, -3.6067, -3.6101, -3.6133, -3.7221, -3.7917, -4.1335, -4.4721, -4.649, -4.8221, -5.0915, -5.2338, -5.2628, -3.0823, -6.7982, -4.176, -7.3745, -5.1596, -5.4801, -4.4689, -6.0216, -10.4671, -10.4675, -6.3782, -6.0123, -2.4273, -2.4921, -2.8108, -3.0141, -3.4456, -3.4976, -3.5738, -3.6191, -3.7897, -3.85, -4.0764, -4.1646, -4.2015, -4.2611, -4.3041, -4.6223, -4.639, -4.7604, -5.1823, -5.4074, -5.6829, -5.7056, -2.626, -4.3449, -6.5555, -7.3594, -3.3506, -5.1778, -5.369, -10.2807, -10.2806, -10.2806, -10.267, -2.0716, -2.0722, -2.6807, -2.7095, -3.2537, -3.3387, -3.3514, -4.1222, -4.4694, -4.8078, -4.9335, -4.9725, -5.0837, -5.0983, -5.1816, -6.5563, -2.114, -4.1737, -4.0364, -10.3826, -10.3831, -10.3833, -10.3834, -10.3834, -10.3834, -10.3833, -10.3835, -10.3835, -10.3835, -10.3835, -5.4702, -10.3835, -8.9502, -10.3297, -10.3622, -10.3765, -10.3814, -2.824, -2.8997, -2.9229, -3.4538, -3.8513, -3.897, -4.0138, -4.0689, -4.1934, -4.5081, -5.113, -5.2602, -5.458, -1.6099, -2.1671, -2.776, -6.9104, -6.5772, -5.5066, -10.305, -10.3058, -10.3059, -10.3059, -10.306, -10.306, -10.3059, -10.306, -10.3061, -10.3061, -10.3061, -10.3061, -10.3024, -2.4713, -2.6133, -2.652, -3.0156, -3.1585, -3.4283, -3.446, -3.6083, -3.797, -3.8684, -3.9732, -4.1399, -4.1718, -4.1791, -4.3194, -4.4956, -4.6064, -5.3443, -5.5297, -3.3809, -4.2384, -10.0584, -10.0586, -10.0586, -10.0587, -10.0586, -10.0589, -10.0589, -10.0589, -10.0589, -5.7549, -6.2513, -10.0587, -6.9914, -9.7293, -9.8375, -10.0288, -10.0555, -10.0573, -10.058, -1.2434, -2.9457, -3.1424, -1.6544, -9.956, -9.9562, -9.9563, -9.9563, -9.9563, -9.9564, -9.9564, -9.9564, -9.9564, -9.9564, -9.9564, -9.9564, -9.9565, -9.9564, -9.9564, -9.9564, -9.9564, -9.9565, -9.9565, -9.9565, -9.9564, -9.9565, -9.9565, -9.9565, -9.9562, -9.9566, -9.9565, -8.4805, -9.9565, -2.0467, -2.2443, -2.4816, -3.207, -3.3381, -3.6886, -3.7869, -3.7961, -3.9932, -4.0641, -4.082, -4.5563, -4.7164, -4.7947, -4.8099, -5.0396, -5.1565, -5.164, -5.2889, -5.3311, -5.38, -5.7227, -7.3021, -9.9981, -9.9986, -9.9992, -9.9992, -9.9995, -9.9995, -9.9995, -9.9994, -5.3468, -9.9994, -9.9656, -9.9935, -1.8853, -2.8212, -2.9506, -3.0823, -3.0927, -3.2339, -3.7459, -3.801, -4.0674, -4.1716, -4.2452, -5.0376, -6.3744, -7.1691, -9.7828, -9.7835, -9.7836, -9.7838, -9.7838, -9.7838, -9.7838, -9.7838, -9.7839, -9.7838, -9.7839, -9.7839, -9.7839, -9.7839, -9.784, -9.784, -9.7839, -9.7839, -9.7839, -9.7839, -9.7839, -1.9284, -2.5765, -2.8492, -3.0262, -3.1724, -3.4987, -3.9249, -4.0401, -4.1531, -4.4563, -6.5844, -2.5494, -5.6939, -9.9094, -9.9095, -9.9096, -9.9097, -9.9096, -9.9097, -9.9097, -9.9097, -9.9097, -9.9097, -9.9097, -9.9097, -9.9097, -9.9097, -9.9097, -9.9097, -9.9097, -9.9096, -9.9097, -5.8815, -5.8239, -6.2527, -7.3893, -9.9096, -9.9097, -9.9097, -9.6751, -9.9045, -9.9094, -1.6294, -2.0568, -6.2198, -6.335, -6.5636, -7.1482, -9.4991, -9.4996, -9.4997, -9.4997, -9.4997, -9.4997, -9.4997, -9.4998, -9.4998, -9.4997, -9.4998, -9.4998, -9.4998, -9.4998, -9.4998, -9.4998, -9.4998, -9.4998, -9.4999, -9.4998, -9.4998, -9.4998, -9.4999, -9.4999, -9.4998, -9.4999, -9.4998, -9.4998, -9.3869, -9.3773, -9.4553, -9.4986, -1.9237, -2.1213, -2.7711, -2.9064, -3.6154, -3.7758, -4.9759, -6.0851, -9.6828, -9.683, -9.683, -9.683, -9.683, -9.683, -9.6831, -9.6831, -9.6831, -9.6831, -9.683, -9.6831, -9.6831, -9.6831, -9.6831, -9.6831, -9.6831, -9.6831, -9.6831, -9.6831, -9.6831, -9.6831, -9.6831, -9.6831, -9.6828, -9.6831, -9.6831, -9.6831, -9.6831, -9.6831, -9.6831, -9.6831, -9.6831, -9.6831, -9.6831, -9.6831, -9.6831, -9.6831, -2.5071, -2.7076, -2.9074, -3.1665, -3.1888, -3.4058, -3.4521, -3.5206, -3.6194, -3.8033, -4.1525, -4.4227, -4.7997, -5.9682, -6.5259, -9.7318, -9.7327, -9.7327, -9.7328, -9.7328, -9.7328, -9.7328, -9.7327, -9.7328, -9.7328, -9.7329, -9.7329, -9.7328, -9.7329, -9.7329, -9.7327, -9.7328, -9.7328, -9.7328, -9.7328, -9.7328, -1.7693, -2.2665, -2.3422, -2.9786, -3.286, -4.7269, -4.9265, -9.7428, -9.7429, -9.7429, -9.7429, -9.7429, -9.7429, -9.7429, -9.7429, -9.743, -9.7429, -9.743, -9.743, -9.743, -9.743, -9.743, -9.743, -9.743, -9.743, -9.743, -9.7431, -9.7429, -9.7431, -9.7431, -9.743, -9.7429, -9.743, -9.743, -9.743, -9.743, -9.743, -9.743, -9.7246, -2.2674, -2.782, -2.9944, -3.2122, -3.3757, -3.5407, -3.7593, -4.5961, -5.143, -9.5425, -9.5426, -9.5427, -9.5427, -9.5427, -9.5428, -9.5428, -9.5428, -9.5428, -9.5428, -9.5428, -9.5428, -9.5428, -9.5428, -9.5428, -9.5428, -9.5428, -9.5428, -9.5428, -9.5428, -9.5428, -9.5428, -9.5427, -9.5428, -9.5428, -9.5427, -9.5427, -9.5428, -9.5428, -9.5428, -9.5428, -9.5428, -9.5428, -9.5428, -9.5428, -9.5428, -9.5428, -2.8257, -3.4775, -9.1942, -9.1943, -9.1944, -9.1944, -9.1944, -9.1944, -9.1945, -9.1945, -9.1945, -9.1945, -9.1945, -9.1945, -9.1945, -9.1945, -9.1945, -9.1945, -9.1945, -9.1945, -9.1945, -9.1945, -9.1945, -9.1945, -9.1945, -9.1945, -9.1945, -9.1945, -9.1945, -9.1945, -9.1945, -9.1945, -9.1945, -9.1945, -9.1945, -9.1945, -9.1945, -9.1945, -9.1945, -9.1945, -4.2241, -4.5468, -9.1256, -9.1256, -9.1256, -9.1256, -9.1256, -9.1256, -9.1256, -9.1256, -9.1256, -9.1256, -9.1256, -9.1256, -9.1256, -9.1256, -9.1256, -9.1256, -9.1256, -9.1256, -9.1256, -9.1256, -9.1256, -9.1256, -9.1256, -9.1256, -9.1256, -9.1256, -9.1256, -9.1256, -9.1256, -9.1256, -9.1256, -9.1256, -9.1256, -9.1256, -9.1256, -9.1256, -9.1256, -9.1256, -9.1256, -9.1256, -9.1256, -9.1256, -9.1256, -9.1256, -9.1256, -9.1256, -9.1256, -9.1256, -9.1256, -9.1256, -9.1256, -9.1256, -9.1256, -9.1256, -9.1256, -4.8349, -9.1081, -9.1082, -9.1081, -9.1082, -9.1082, -9.1082, -9.1082, -9.1082, -9.1082, -9.1082, -9.1082, -9.1082, -9.1082, -9.1082, -9.1082, -9.1082, -9.1082, -9.1082, -9.1082, -9.1082, -9.1082, -9.1082, -9.1082, -9.1082, -9.1082, -9.1082, -9.1082, -9.1082, -9.1082, -9.1082, -9.1082, -9.1082, -9.1082, -9.1082, -9.1082, -9.1082, -9.1082, -9.1082, -9.1082, -9.1082, -9.1082, -9.1082, -9.1081, -9.1082, -9.1082, -9.1082, -9.1082, -9.1082, -9.1082, -9.1082, -9.1082, -9.1082, -9.1082, -9.1003, -9.1003, -9.1003, -9.1003, -9.1003, -9.1003, -9.1003, -9.1003, -9.1003, -9.1003, -9.1003, -9.1003, -9.1003, -9.1003, -9.1003, -9.1003, -9.1003, -9.1003, -9.1003, -9.1003, -9.1003, -9.1003, -9.1003, -9.1003, -9.1003, -9.1003, -9.1003, -9.1003, -9.1003, -9.1003, -9.1003, -9.1003, -9.1003, -9.1003, -9.1003, -9.1003, -9.1003, -9.1003, -9.1003, -9.1003, -9.1003, -9.1003, -9.1003, -9.1003, -9.1003, -9.1003, -9.1003, -9.1003, -9.1003, -9.1003, -9.1003, -9.1003, -9.1003, -9.1003, -9.1003, -9.1003, -9.1003, -9.1003, -9.1003, -9.1003], \"loglift\": [30.0, 29.0, 28.0, 27.0, 26.0, 25.0, 24.0, 23.0, 22.0, 21.0, 20.0, 19.0, 18.0, 17.0, 16.0, 15.0, 14.0, 13.0, 12.0, 11.0, 10.0, 9.0, 8.0, 7.0, 6.0, 5.0, 4.0, 3.0, 2.0, 1.0, 1.2541, 1.254, 1.254, 1.2533, 1.2525, 1.2523, 1.2522, 1.252, 1.2507, 1.2501, 1.25, 1.2497, 1.2497, 1.2495, 1.2492, 1.248, 1.2477, 1.2474, 1.2471, 1.2465, 1.2465, 1.2458, 1.2457, 1.2455, 1.245, 1.2449, 1.2441, 1.244, 1.2439, 1.2439, 1.2424, 1.2394, 1.2303, 1.2339, 1.2306, 1.2307, 1.21, 1.2357, 1.2007, 1.1974, 1.1718, 1.1745, 1.1213, 1.1689, 1.0968, 1.104, 1.0702, 1.1189, 1.0943, 1.0701, 1.0728, 0.9824, 1.0883, 1.1438, 0.3517, 0.8561, 0.7732, 0.8592, 1.0197, 0.9659, 0.7213, 0.0062, 0.2345, 0.7788, -0.7293, 0.5422, 0.447, -0.2681, 0.0504, -0.4526, 0.4281, 1.6892, 1.6874, 1.6874, 1.6873, 1.687, 1.6868, 1.686, 1.6857, 1.6857, 1.6847, 1.6844, 1.6839, 1.6834, 1.6834, 1.6832, 1.6828, 1.6823, 1.6807, 1.6776, 1.6767, 1.6734, 1.6728, 1.672, 1.672, 1.6693, 1.6676, 1.6674, 1.6652, 1.664, 1.6631, 1.663, 1.584, 1.559, 1.471, 1.4681, 1.5352, 1.4689, 1.2547, 1.3315, 1.2237, 1.3509, 1.053, 1.2637, 0.5766, 1.234, 1.3353, 0.7782, 1.3808, 1.0787, 0.9702, 0.8588, 0.8277, 1.1137, 1.2337, 0.4266, 1.1729, 0.4093, 0.2943, 0.4391, 1.2763, 0.9444, 0.5328, 0.6349, 0.1381, 0.4332, -1.1477, 2.0909, 2.0905, 2.0883, 2.0879, 2.0875, 2.0872, 2.087, 2.0868, 2.0867, 2.0863, 2.0847, 2.0845, 2.0836, 2.0834, 2.081, 2.0803, 2.08, 2.0795, 2.0783, 2.0783, 2.0769, 2.0768, 2.0767, 2.0764, 2.0761, 2.0747, 2.0746, 2.0733, 2.0723, 2.0718, 2.0625, 2.0267, 1.9454, 1.996, 1.9377, 1.5968, 1.796, 1.9802, 1.9221, 1.8471, 1.8687, 1.7243, 1.3695, 1.3294, 1.4073, 1.3871, 0.8393, 1.034, 0.6626, 1.6505, 1.5402, 0.8002, 1.0374, 1.4508, 0.1776, 0.2926, -0.7575, 0.1938, 0.3721, 2.1532, 2.153, 2.1512, 2.1502, 2.1498, 2.1486, 2.1486, 2.1475, 2.1468, 2.1455, 2.1455, 2.1449, 2.1446, 2.1444, 2.1443, 2.1435, 2.1433, 2.1432, 2.1431, 2.1426, 2.1416, 2.1402, 2.1401, 2.1392, 2.1388, 2.1388, 2.1383, 2.1363, 2.1356, 2.1356, 2.1195, 2.1287, 2.1186, 2.0436, 1.8327, 2.0202, 1.8972, 1.6114, 1.8563, 1.8551, 1.7628, 1.75, 1.4332, 1.2076, 1.2648, 1.6439, 1.5641, 0.312, 1.3852, 1.8544, 0.5163, -0.0535, 1.1568, 1.3325, 0.7539, 0.2918, 1.0701, 1.026, 0.7342, 1.2036, 2.8836, 2.8764, 2.8751, 2.8715, 2.8685, 2.8671, 2.8602, 2.8572, 2.857, 2.8543, 2.8536, 2.8497, 2.8474, 2.8458, 2.8453, 2.8412, 2.8354, 2.8346, 2.8165, 2.815, 2.8128, 2.8078, 2.8049, 2.7925, 2.7878, 2.7878, 2.7863, 2.769, 2.7451, 2.7333, 2.6319, 2.5668, 2.4887, 2.315, 2.1513, 2.409, 1.8903, 2.2038, 2.2342, 1.5758, 1.4951, 1.9522, 1.9326, 1.846, 1.7805, 0.4263, 0.9617, 1.6399, 0.9682, 1.099, -0.1641, 0.2101, 0.8383, 0.412, 1.1106, 0.7832, 1.3106, 1.2936, 3.1936, 3.1907, 3.1896, 3.1879, 3.1874, 3.1788, 3.1782, 3.1779, 3.1748, 3.1743, 3.173, 3.1724, 3.1685, 3.163, 3.1626, 3.1617, 3.1591, 3.1582, 3.1468, 3.1454, 3.1434, 3.1071, 3.0965, 3.0926, 3.0602, 3.0352, 3.024, 3.0089, 2.9662, 2.8719, 2.8374, 2.839, 2.6808, 2.7126, 2.6929, 2.3328, 2.2255, 1.6161, 2.2258, 2.1055, 2.3844, 1.8364, 2.3034, 1.5146, 1.8677, 1.4925, 0.5044, 1.5008, 0.7334, 1.035, 3.3978, 3.3941, 3.3906, 3.3902, 3.39, 3.3888, 3.3888, 3.3879, 3.3873, 3.3871, 3.3867, 3.3865, 3.3855, 3.3848, 3.3828, 3.3817, 3.3794, 3.3768, 3.3767, 3.3757, 3.3746, 3.3745, 3.3737, 3.3726, 3.3726, 3.3718, 3.3674, 3.3605, 3.3596, 3.3585, 3.3143, 3.2263, 3.0821, 2.8107, 2.8909, 2.3711, 2.3729, 2.5765, 2.7296, 2.2213, 2.6734, 2.5955, 2.1989, 1.5577, 0.9975, 3.4102, 3.4064, 3.4055, 3.4054, 3.4038, 3.4, 3.398, 3.3963, 3.395, 3.395, 3.3949, 3.3936, 3.3926, 3.3776, 3.3738, 3.3735, 3.3723, 3.3699, 3.3692, 3.3681, 3.3638, 3.3527, 3.3432, 3.3413, 3.3395, 3.3341, 3.3337, 3.3215, 3.2799, 3.2775, 3.2497, 3.1522, 2.9664, 2.6607, 2.9891, 3.202, 2.7887, 2.617, 2.8181, 2.4611, 2.548, 2.2141, 2.5755, 2.6625, 2.0209, 2.0066, 2.0526, 1.5373, 2.1688, 0.6412, 3.6556, 3.6522, 3.6473, 3.6468, 3.6455, 3.6389, 3.6282, 3.6279, 3.6134, 3.5985, 3.5756, 3.5287, 3.522, 3.489, 3.4559, 3.187, 3.007, 2.8577, 2.5143, 2.4596, 2.1024, 2.0034, 1.9992, 1.9901, 1.9381, 1.937, 1.5389, 1.4901, 1.4764, 1.4254, 1.3162, 1.2219, 0.5507, -0.3125, 3.7907, 3.7906, 3.7889, 3.7882, 3.788, 3.7878, 3.7866, 3.7846, 3.7846, 3.7845, 3.7826, 3.7789, 3.7778, 3.7752, 3.7665, 3.766, 3.7658, 3.7643, 3.7595, 3.7562, 3.7511, 3.7488, 3.7457, 3.7421, 3.741, 3.7409, 3.7323, 3.7309, 3.7256, 3.7251, 3.6072, 3.4595, 3.2832, 3.5764, 2.8998, 2.8522, 2.2809, 2.9755, 3.0245, 2.9292, 3.2309, 3.1748, 2.265, 2.4404, 1.5852, 1.8928, 1.5359, 0.1503, 4.4226, 4.4115, 4.4101, 4.4024, 4.3948, 4.3885, 4.3864, 4.3861, 4.3849, 4.3751, 4.3723, 4.3678, 4.3554, 4.3535, 4.346, 4.3421, 4.3116, 4.2698, 4.2581, 4.2563, 4.2485, 4.2446, 4.2148, 4.2111, 4.1264, 4.1215, 4.0629, 3.8297, 3.7739, 3.5695, 2.9037, 3.0819, 2.3075, 1.1455, 2.1742, 2.6397, 2.6966, 4.4606, 4.46, 4.4593, 4.4585, 4.4411, 4.4393, 4.4364, 4.4339, 4.4245, 4.4169, 4.4033, 4.401, 4.3916, 4.3704, 4.3613, 4.3268, 4.2013, 3.8518, 3.8237, 3.7881, 2.2602, 2.1893, 2.1057, 2.0366, 1.8314, 1.4955, 1.332, 1.2921, 1.0483, 1.0482, 0.5491, 0.062, -0.7928, -1.7907, 5.0555, 5.0526, 5.0524, 5.0503, 5.0488, 5.0442, 5.038, 5.0341, 5.0321, 5.0319, 5.0318, 5.0281, 5.0255, 5.0099, 4.9886, 4.9745, 4.9583, 4.9276, 4.9081, 4.9039, 4.856, 4.471, 4.2742, 4.1716, 3.8018, 3.0688, 2.8474, 2.5274, 1.5744, 1.574, 1.5008, 0.2256, 5.1683, 5.1675, 5.163, 5.1593, 5.1485, 5.1468, 5.1442, 5.1426, 5.1359, 5.1332, 5.1218, 5.1166, 5.1143, 5.1104, 5.1075, 5.0817, 5.0801, 5.0679, 5.0139, 4.9761, 4.9193, 4.914, 4.8285, 4.7191, 4.6421, 4.2278, 3.6799, 3.5556, 3.3319, 1.761, 1.761, 1.761, -4.0837, 5.193, 5.193, 5.1862, 5.1858, 5.1747, 5.1724, 5.1706, 5.1391, 5.1144, 5.0815, 5.0665, 5.0615, 5.0463, 5.0442, 5.0316, 4.6526, 4.614, 4.2647, 3.6585, 1.6586, 1.6583, 1.6582, 1.6582, 1.6582, 1.6582, 1.6581, 1.6581, 1.6581, 1.6581, 1.6581, 0.0889, 1.6581, -2.8118, -2.7992, -6.5955, -2.8402, -4.2642, 5.2315, 5.2301, 5.2297, 5.2159, 5.1997, 5.1975, 5.1912, 5.188, 5.18, 5.1555, 5.0833, 5.0593, 5.0221, 4.9894, 4.861, 4.6381, 4.5115, 3.0655, 1.9466, 1.7365, 1.7357, 1.7356, 1.7356, 1.7356, 1.7356, 1.7356, 1.7356, 1.7355, 1.7355, 1.7354, 1.7354, -4.0994, 5.4137, 5.4114, 5.4107, 5.4028, 5.3988, 5.3897, 5.389, 5.3821, 5.3726, 5.3686, 5.3621, 5.3505, 5.348, 5.3475, 5.3357, 5.3187, 5.3066, 5.1881, 5.1454, 4.2004, 3.824, 1.9831, 1.983, 1.983, 1.9829, 1.9829, 1.9828, 1.9828, 1.9828, 1.9828, 1.9727, 1.6656, 1.9827, 0.2527, -2.8231, -2.6031, -2.0901, -3.7432, -2.6614, -2.9929, 5.5086, 5.487, 5.4813, 5.0761, 2.0856, 2.0854, 2.0853, 2.0853, 2.0853, 2.0852, 2.0852, 2.0852, 2.0852, 2.0852, 2.0852, 2.0852, 2.0852, 2.0852, 2.0852, 2.0852, 2.0852, 2.0851, 2.0851, 2.0851, 2.0851, 2.0851, 2.0851, 2.0851, 2.0851, 2.0851, 2.0851, -0.4236, 2.085, 5.6004, 5.5978, 5.5939, 5.5745, 5.5693, 5.5517, 5.5456, 5.545, 5.5309, 5.5251, 5.5236, 5.4733, 5.451, 5.4389, 5.4365, 5.3956, 5.3717, 5.3701, 5.3419, 5.3317, 5.3195, 5.2208, 4.4106, 2.0434, 2.0428, 2.0424, 2.0424, 2.0422, 2.0421, 2.0421, 2.0421, 1.9083, 2.0421, -2.5524, -3.3255, 5.6728, 5.656, 5.6522, 5.6479, 5.6475, 5.6421, 5.6152, 5.6114, 5.5904, 5.5806, 5.5732, 5.454, 4.9988, 4.5277, 2.2584, 2.2581, 2.258, 2.2579, 2.2578, 2.2578, 2.2578, 2.2578, 2.2577, 2.2577, 2.2577, 2.2577, 2.2577, 2.2577, 2.2577, 2.2577, 2.2577, 2.2577, 2.2577, 2.2576, 2.2575, 5.7278, 5.7168, 5.7096, 5.7039, 5.6983, 5.6827, 5.6535, 5.6434, 5.6325, 5.597, 4.9111, 3.5636, 3.2783, 2.1322, 2.1321, 2.1321, 2.132, 2.1319, 2.1319, 2.1319, 2.1319, 2.1319, 2.1319, 2.1319, 2.1319, 2.1319, 2.1319, 2.1319, 2.1319, 2.1319, 2.1319, 2.1319, 1.2656, 1.0027, 1.0024, 0.2857, 2.1318, 2.1318, 2.1318, -3.6831, -3.4769, -3.2365, 5.7368, 5.732, 5.1097, 5.0538, 4.9331, 3.1869, 2.5424, 2.542, 2.5419, 2.5419, 2.5419, 2.5419, 2.5419, 2.5419, 2.5419, 2.5419, 2.5418, 2.5418, 2.5418, 2.5418, 2.5418, 2.5418, 2.5418, 2.5418, 2.5418, 2.5418, 2.5418, 2.5418, 2.5418, 2.5418, 2.5418, 2.5418, 2.5417, 2.5417, -2.0659, -2.7898, 0.0828, -1.0627, 5.7424, 5.7397, 5.7263, 5.7223, 5.6899, 5.6791, 5.5231, 5.1725, 2.3588, 2.3586, 2.3586, 2.3586, 2.3586, 2.3586, 2.3586, 2.3586, 2.3586, 2.3585, 2.3585, 2.3585, 2.3585, 2.3585, 2.3585, 2.3585, 2.3585, 2.3585, 2.3585, 2.3585, 2.3585, 2.3585, 2.3585, 2.3585, 2.3584, 2.3585, 2.3585, 2.3585, 2.3585, 2.3585, 2.3585, 2.3585, 2.3584, 2.3584, 2.3585, 2.3585, 2.3584, 2.3584, 5.8463, 5.841, 5.8344, 5.8239, 5.8229, 5.8115, 5.8088, 5.8046, 5.7979, 5.7838, 5.7495, 5.7146, 5.6505, 5.2868, 5.0014, 2.3097, 2.3089, 2.3089, 2.3088, 2.3088, 2.3088, 2.3088, 2.3088, 2.3088, 2.3088, 2.3088, 2.3088, 2.3088, 2.3088, 2.3088, 2.3088, 2.3088, 2.3087, 2.3087, 2.3087, 2.3087, 5.8874, 5.8797, 5.8781, 5.8593, 5.8452, 5.6875, 5.6462, 2.2988, 2.2987, 2.2987, 2.2987, 2.2987, 2.2987, 2.2987, 2.2987, 2.2987, 2.2987, 2.2987, 2.2986, 2.2986, 2.2986, 2.2986, 2.2986, 2.2986, 2.2986, 2.2986, 2.2986, 2.2986, 2.2986, 2.2986, 2.2986, 2.2986, 2.2986, 2.2986, 2.2985, 2.2985, 2.2985, 2.2986, 0.1838, 6.19, 6.1719, 6.1614, 6.1483, 6.1365, 6.1226, 6.1008, 5.9661, 5.8162, 2.499, 2.4989, 2.4989, 2.4989, 2.4989, 2.4989, 2.4988, 2.4988, 2.4988, 2.4988, 2.4988, 2.4988, 2.4988, 2.4988, 2.4988, 2.4988, 2.4988, 2.4988, 2.4988, 2.4988, 2.4988, 2.4988, 2.4988, 2.4988, 2.4988, 2.4988, 2.4988, 2.4988, 2.4988, 2.4988, 2.4988, 2.4987, 2.4988, 2.4987, 2.4987, 2.4987, 2.4987, 6.8475, 6.7663, 2.8474, 2.8473, 2.8472, 2.8472, 2.8472, 2.8472, 2.8472, 2.8471, 2.8471, 2.8471, 2.8471, 2.8471, 2.8471, 2.8471, 2.8471, 2.8471, 2.8471, 2.8471, 2.8471, 2.8471, 2.8471, 2.8471, 2.8471, 2.8471, 2.8471, 2.8471, 2.8471, 2.8471, 2.8471, 2.8471, 2.8471, 2.8471, 2.8471, 2.8471, 2.8471, 2.8471, 2.8471, 2.8471, 6.7835, 6.6581, 2.916, 2.916, 2.916, 2.916, 2.916, 2.916, 2.916, 2.916, 2.916, 2.916, 2.916, 2.916, 2.916, 2.916, 2.916, 2.916, 2.916, 2.916, 2.916, 2.916, 2.916, 2.916, 2.916, 2.916, 2.916, 2.916, 2.916, 2.916, 2.916, 2.916, 2.916, 2.916, 2.916, 2.916, 2.916, 2.916, 2.916, 2.916, 2.916, 2.916, 2.916, 2.916, 2.916, 2.916, 2.916, 2.916, 2.9159, 2.9159, 2.9159, 2.916, 2.916, 2.9159, 2.916, 2.916, 2.9159, 6.5754, 2.9335, 2.9335, 2.9335, 2.9335, 2.9335, 2.9335, 2.9335, 2.9335, 2.9335, 2.9335, 2.9335, 2.9335, 2.9335, 2.9335, 2.9335, 2.9335, 2.9335, 2.9335, 2.9335, 2.9335, 2.9335, 2.9335, 2.9335, 2.9335, 2.9335, 2.9335, 2.9335, 2.9335, 2.9335, 2.9335, 2.9335, 2.9335, 2.9335, 2.9335, 2.9335, 2.9335, 2.9335, 2.9335, 2.9335, 2.9335, 2.9335, 2.9335, 2.9335, 2.9335, 2.9335, 2.9335, 2.9335, 2.9334, 2.9334, 2.9334, 2.9334, 2.9334, 2.9334, 2.9414, 2.9414, 2.9414, 2.9414, 2.9414, 2.9414, 2.9414, 2.9414, 2.9414, 2.9414, 2.9414, 2.9414, 2.9414, 2.9414, 2.9414, 2.9414, 2.9414, 2.9414, 2.9414, 2.9414, 2.9414, 2.9414, 2.9414, 2.9414, 2.9414, 2.9414, 2.9414, 2.9414, 2.9414, 2.9414, -1.7345, -0.4157, -3.6811, -2.5094, -2.8366, -2.4343, -2.9831, -0.0364, 2.9414, -4.5509, -0.8963, 1.0204, -3.1605, -1.0186, -2.789, -2.6727, -2.5281, -3.8245, -2.875, -0.1359, -1.3219, -3.1205, -2.788, -0.3433, 2.1732, -0.816, -1.6275, -3.5413, 1.7768, -1.9578]}, \"token.table\": {\"Topic\": [19, 5, 17, 12, 1, 19, 12, 1, 2, 3, 4, 9, 12, 20, 7, 16, 5, 11, 8, 4, 15, 6, 10, 11, 2, 4, 7, 10, 1, 2, 3, 4, 4, 3, 2, 3, 4, 5, 7, 10, 21, 2, 11, 1, 2, 4, 5, 6, 13, 9, 1, 2, 3, 4, 5, 6, 7, 10, 1, 2, 3, 4, 6, 13, 13, 12, 29, 1, 3, 4, 5, 7, 27, 1, 2, 3, 4, 5, 12, 10, 2, 3, 4, 6, 7, 8, 10, 1, 3, 1, 12, 21, 14, 1, 11, 11, 1, 2, 11, 1, 3, 4, 9, 10, 13, 1, 2, 3, 4, 5, 6, 12, 1, 6, 19, 4, 6, 12, 4, 6, 16, 1, 2, 3, 6, 9, 1, 3, 9, 9, 1, 2, 6, 12, 16, 7, 8, 14, 1, 2, 3, 4, 5, 6, 12, 1, 4, 6, 2, 4, 5, 4, 7, 7, 3, 4, 7, 4, 7, 4, 7, 12, 2, 1, 1, 5, 1, 5, 15, 3, 1, 2, 5, 6, 11, 1, 2, 3, 4, 6, 2, 6, 7, 8, 17, 24, 21, 11, 21, 1, 2, 3, 4, 5, 6, 7, 8, 10, 8, 19, 1, 4, 1, 4, 8, 10, 13, 1, 1, 2, 5, 13, 21, 4, 16, 2, 3, 13, 1, 22, 2, 6, 1, 3, 6, 9, 13, 1, 2, 2, 1, 3, 6, 6, 5, 5, 14, 1, 2, 7, 5, 20, 19, 11, 1, 2, 4, 5, 7, 3, 1, 10, 7, 1, 2, 3, 4, 6, 1, 13, 25, 2, 5, 17, 15, 4, 1, 2, 4, 12, 3, 12, 18, 1, 16, 6, 1, 2, 6, 1, 14, 11, 19, 1, 6, 7, 1, 4, 1, 2, 3, 4, 7, 22, 20, 13, 6, 2, 2, 4, 1, 7, 9, 13, 4, 5, 21, 1, 17, 10, 14, 21, 1, 3, 4, 7, 1, 2, 3, 5, 2, 8, 1, 2, 3, 4, 6, 7, 11, 6, 1, 2, 3, 4, 5, 7, 12, 21, 4, 8, 8, 1, 17, 3, 15, 20, 8, 17, 1, 3, 9, 7, 8, 1, 14, 1, 8, 17, 17, 5, 4, 7, 2, 6, 12, 1, 2, 2, 6, 1, 10, 24, 20, 6, 2, 4, 20, 2, 3, 4, 1, 3, 1, 3, 1, 1, 3, 7, 10, 10, 1, 2, 5, 7, 4, 7, 3, 25, 10, 19, 8, 26, 1, 9, 1, 2, 9, 19, 1, 4, 9, 13, 3, 14, 14, 3, 13, 7, 1, 21, 2, 3, 4, 7, 1, 22, 5, 8, 22, 11, 1, 2, 3, 4, 8, 10, 11, 20, 15, 5, 4, 13, 6, 4, 5, 10, 9, 1, 3, 5, 1, 3, 5, 6, 3, 1, 2, 4, 8, 10, 13, 4, 1, 3, 5, 7, 9, 1, 12, 19, 13, 3, 13, 23, 1, 2, 5, 14, 20, 15, 16, 1, 8, 16, 2, 4, 7, 8, 4, 2, 3, 8, 12, 5, 14, 10, 9, 11, 1, 2, 3, 4, 7, 8, 9, 10, 24, 3, 5, 19, 21, 2, 1, 5, 7, 8, 24, 24, 7, 6, 1, 3, 5, 14, 21, 6, 2, 3, 7, 13, 7, 1, 5, 7, 10, 14, 14, 1, 2, 3, 1, 2, 3, 4, 7, 8, 9, 3, 8, 10, 1, 2, 4, 6, 8, 10, 2, 2, 2, 4, 11, 26, 4, 23, 25, 1, 9, 16, 2, 2, 5, 7, 8, 9, 1, 18, 11, 26, 4, 4, 1, 2, 4, 5, 2, 4, 1, 3, 11, 13, 5, 16, 11, 1, 3, 1, 2, 3, 4, 5, 7, 11, 26, 1, 5, 20, 14, 7, 1, 2, 3, 4, 5, 1, 2, 8, 1, 3, 4, 7, 8, 10, 1, 2, 3, 4, 5, 6, 15, 1, 2, 3, 4, 6, 4, 10, 8, 1, 3, 4, 7, 12, 1, 2, 4, 5, 7, 16, 6, 3, 5, 9, 1, 4, 5, 6, 2, 17, 1, 2, 4, 6, 8, 28, 1, 2, 4, 7, 2, 10, 1, 15, 8, 1, 7, 8, 4, 8, 10, 15, 26, 24, 13, 1, 3, 7, 1, 8, 2, 5, 1, 2, 14, 19, 10, 8, 4, 5, 7, 6, 11, 11, 1, 4, 10, 19, 6, 19, 10, 8, 14, 3, 8, 13, 12, 12, 12, 12, 15, 3, 7, 11, 8, 23, 24, 19, 8, 3, 17, 1, 2, 3, 4, 5, 8, 20, 3, 2, 8, 11, 17, 22, 16, 1, 4, 7, 8, 9, 4, 8, 3, 4, 7, 15, 1, 2, 5, 1, 2, 3, 4, 6, 7, 8, 1, 2, 3, 4, 6, 7, 8, 10, 1, 2, 3, 4, 6, 6, 14, 1, 24, 4, 5, 1, 2, 3, 5, 4, 9, 24, 2, 1, 3, 11, 17, 14, 8, 1, 4, 6, 1, 4, 8, 4, 25, 11, 2, 1, 2, 3, 6, 9, 1, 2, 4, 7, 8, 15, 23, 23, 1, 2, 3, 4, 5, 2, 11, 11, 1, 4, 1, 1, 2, 3, 4, 5, 6, 6, 26, 21, 1, 2, 3, 4, 5, 8, 2, 8, 4, 10, 12, 3, 1, 2, 4, 7, 1, 3, 1, 2, 3, 8, 6, 11, 16, 9, 1, 3, 5, 4, 19, 20, 2, 16, 16, 1, 3, 7, 1, 2, 3, 9, 8, 14, 11, 2, 16, 4, 7, 10, 1, 4, 7, 10, 7, 10, 17, 17, 3, 1, 1, 3, 4, 9, 3, 1, 4, 12, 10, 17, 17, 5, 12, 10, 1, 2, 10, 1, 6, 10, 3, 16, 15, 1, 8, 13, 4, 7, 1, 2, 3, 4, 7, 19, 3, 7, 1, 2, 2, 2, 2, 7, 9, 10, 1, 4, 7, 1, 2, 3, 4, 5, 6, 7, 8, 10, 10, 4, 8, 4, 1, 3, 1, 3, 15, 24, 1, 2, 3, 4, 8, 10, 8, 8, 4, 8, 12, 10, 10, 2, 1, 1, 2, 5, 6, 5, 14, 5, 8, 11, 9, 21, 14, 3, 1, 3, 4, 2, 3, 7, 1, 10, 24, 4, 21, 5, 13, 7, 13, 1, 3, 5, 6, 7, 8, 10, 1, 4, 5, 18, 8, 11, 1, 7, 9, 21, 1, 2, 3, 4, 6, 8, 17, 1, 2, 5, 6, 11, 10, 24, 2, 6, 2, 1, 4, 8, 3, 1, 13, 15, 1, 3, 17, 6, 13, 4, 2, 3, 4, 23, 4, 1, 3, 7, 3, 7, 1, 14, 12, 28, 10, 24, 13, 7, 1, 2, 3, 4, 9, 14, 2, 4, 10, 10, 1, 2, 4, 5, 1, 2, 4, 6, 10, 15, 1, 3, 8, 1, 2, 19, 1, 2, 3, 5, 12, 12, 3, 13, 9, 9, 9, 5, 12, 1, 8, 9, 26, 1, 2, 3, 4, 7, 10, 17, 26, 18, 1, 2, 3, 4, 6, 7, 4, 14, 7, 9, 1, 2, 3, 4, 5, 7, 1, 2, 4, 5, 6, 1, 1, 8, 15, 7, 22, 2, 3, 1, 5, 7, 15, 1, 7, 9, 7, 2, 8, 8, 2, 3, 11, 13, 14, 12, 14, 19, 14, 5, 6, 10, 13, 3, 4, 7, 8, 10, 7, 8, 7, 6, 1, 2, 3, 4, 1, 2, 3, 4, 7, 4, 6, 5, 1, 16, 4, 1, 4, 10, 1, 3, 6, 6, 11, 5, 10, 9, 7, 3, 6, 12, 5, 1, 3, 4, 5, 7, 3, 23, 4, 8, 19, 24, 6, 5, 7, 8, 1, 7, 8, 9, 3, 5, 25, 26, 7, 9, 1, 2, 3, 4, 5, 7, 19, 19, 1, 2, 3, 4, 5, 6, 7, 8, 4, 8, 10, 8, 10, 5, 21, 1, 2, 3, 7, 11, 7, 1, 20, 10, 1, 1, 3, 4, 7, 1, 2, 3, 4, 6, 1, 3, 9, 5, 6, 1, 4, 7, 1, 2, 3, 11, 10, 4, 1, 3, 4, 7, 10, 2, 3, 11, 2, 4, 25, 20, 1, 2, 3, 5, 6, 7, 16, 19, 19, 20, 3, 3, 4, 17, 1, 5, 11, 24, 16, 1, 3, 8, 1, 1, 5, 10, 4, 1, 3, 5, 3, 3, 2, 3, 6, 1, 2, 3, 5, 12, 14, 5, 1, 5, 19, 1, 2, 3, 4, 5, 6, 7, 12, 2, 5, 10, 15, 10, 27, 6, 8, 23, 17, 1, 2, 3, 4, 5, 9, 6, 4, 17, 3, 3, 14, 2, 7, 17, 5, 3, 6, 15, 8, 1, 1, 25, 6, 7, 11, 17, 1, 1, 2], \"Freq\": [0.7881913377304175, 0.9730197929502592, 0.9689290773159852, 0.9499733737020807, 0.9923800772273219, 0.8427664488630803, 0.9655419946829764, 0.33191542934595963, 0.25434823661837125, 0.08117496913352273, 0.2236821371679293, 0.10642940397506315, 0.9167018506929343, 0.9092992040662136, 0.9733908343089932, 0.9291664672317738, 0.847627125206112, 0.7808832615354874, 0.9943168602111666, 0.5793596507733073, 0.38623976718220493, 0.9799952599327217, 0.9669078651613527, 0.3701703718534395, 0.0615229344212129, 0.16918806965833547, 0.23071100407954837, 0.5383256761856129, 0.13428123313856305, 0.33890025506399246, 0.06181199620664014, 0.4625242474772728, 0.9939542782556476, 0.9777349823330955, 0.012843498192592732, 0.5223022598321044, 0.08134215521975396, 0.03424932851358062, 0.2996816244938304, 0.03853049457777819, 0.008562332128395155, 0.9883625972338549, 0.6519088847351345, 0.669805243835313, 0.1998895230293866, 0.10169817838337213, 0.028054669898861278, 0.9736885629764056, 0.9785094438225054, 0.9260411391513458, 0.4369189236931336, 0.18996474943179723, 0.1028044526336785, 0.03575807048127948, 0.12180092757685823, 0.06704638215239903, 0.040227829291439414, 0.004469758810159935, 0.08720313130467025, 0.47192282823703896, 0.2889672390292014, 0.03419730639398833, 0.1145609764198609, 0.9918615439064703, 0.4799990864465078, 0.9443987091954507, 0.4190511539720665, 0.8585349765122356, 0.039024317114192526, 0.024157910594500138, 0.001858300814961549, 0.07433203259846197, 0.8851483210146178, 0.10762477858332758, 0.14983057410620115, 0.48466321858766476, 0.002110289776143678, 0.24901419358495402, 0.004924009477668582, 0.9863560294279252, 0.17336817302098048, 0.5259814062839916, 0.02056910527367565, 0.035261323326301115, 0.10578396997890334, 0.07933797748417751, 0.055830428599976764, 0.7047455142144582, 0.2863028651496236, 0.904367068186499, 0.08664594665259871, 0.9836152757631089, 0.8711531475933105, 0.5554987205598947, 0.43473812913383064, 0.9889951660896564, 0.6312599774193396, 0.16467651584852339, 0.16467651584852339, 0.1266120857947914, 0.627031282031348, 0.054262322483482034, 0.18690355522088256, 0.16916885692649067, 0.8068053176494171, 0.35997078378314046, 0.2111489403109587, 0.1494578342562509, 0.06359907840691528, 0.14627788033590514, 0.06805101389539935, 0.0019079723522074583, 0.2844528379267289, 0.7049483374705889, 0.9525753806120092, 0.9620837907334645, 0.028633446152781683, 0.9724030359099467, 0.19481964384846556, 0.8009252024881363, 0.9236838097256772, 0.5443561310028693, 0.02082236566677642, 0.11898494666729384, 0.13385806500070557, 0.17847742000094075, 0.08061174537561154, 0.10300389686883696, 0.8150743143534055, 0.966736794547717, 0.13058379428315736, 0.851406338726186, 0.01044670354265259, 0.9668357617478504, 0.8265089813425145, 0.9901050777756977, 0.9924537904855357, 0.9755841383255358, 0.09641435141075873, 0.28295516174896584, 0.011527802886068977, 0.01781569536937933, 0.018863677449931053, 0.06287892483310352, 0.5082713090675868, 0.1388066629769311, 0.23975696332379007, 0.6183205896245112, 0.9688543999560514, 0.020466035551084387, 0.010039941968456492, 0.89314927530561, 0.10132365728256919, 0.9857737783084688, 0.0847028095216099, 0.06776224761728791, 0.8385578142639379, 0.015965516231668763, 0.9579309739001257, 0.8736169052553133, 0.12000232215045513, 0.9961713753808749, 0.8399040853158087, 0.9968096948668066, 0.9208193024230154, 0.0754769920018865, 0.49024978730179936, 0.5060642965695994, 0.9204864377288445, 0.9875014929808109, 0.5429627895214582, 0.28321690173885855, 0.16899130048506478, 0.0015647342637505998, 0.8867443076012713, 0.03880750304707866, 0.6504876701224613, 0.24023692362477264, 0.011087858013451045, 0.0572872664028304, 0.22099807411685732, 0.40949643145182385, 0.17549847062221022, 0.18849835733496653, 0.006499943356378156, 0.9590929634841202, 0.9912078886516049, 0.6429227003620657, 0.9079064046860066, 0.404382643313126, 0.3268919684615818, 0.05776894904473229, 0.15794833500145838, 0.04747176477391898, 0.002443399657481124, 0.001570756922666437, 0.0008726427348146871, 0.0005235856408888123, 0.8286448100434329, 0.9568457161353365, 0.996753664067864, 0.9872382829894455, 0.9774896017533777, 0.010146950883253056, 0.010146950883253056, 0.9818861463246752, 0.8457837865887994, 0.9917223485395388, 0.9737907787883735, 0.02198882403715682, 0.9988787938561688, 0.9553799788377052, 0.9587647498953271, 0.9867624613934194, 0.9734469833440967, 0.21567352388931077, 0.6230568467913422, 0.14378234925954053, 0.9972946791460411, 0.9861066330488879, 0.9668509198262847, 0.8433742223701929, 0.212425822021302, 0.6501517583076213, 0.10299433794972218, 0.025748584487430545, 0.9923622029756367, 0.9882771872735349, 0.9628548635897799, 0.98504201564105, 0.7948316798403215, 0.16407075960006637, 0.03646016880001475, 0.8844920301932728, 0.9801491985134814, 0.9370017637179732, 0.5001240752493419, 0.9365071176298793, 0.05099791234618154, 0.0046361738496528675, 0.9920036155266023, 0.981534123281008, 0.9495319898444964, 0.9717239864216571, 0.8292105265189461, 0.09799760767951181, 0.024499401919877952, 0.043345095704399456, 0.0037691387569043005, 0.9785053275509752, 0.5675716789471221, 0.4191298552224902, 0.9554110565037454, 0.09477813674606521, 0.06107924368079758, 0.09267195592948599, 0.04844215878132222, 0.6992520311043033, 0.5210825136954679, 0.45594719948353435, 0.9772330855392348, 0.32332855068034794, 0.6712581867385484, 0.9343842790741351, 0.9284149598676749, 0.981197566137284, 0.22869854305754359, 0.6170545595703534, 0.043150668501423316, 0.11219173810370063, 0.9408813896162688, 0.034213868713318864, 0.9555723617140298, 0.22510294831828542, 0.7708070654535228, 0.9032855408763938, 0.5467504835889289, 0.26903595224217136, 0.18225016119630963, 0.32087161061276803, 0.6417432212255361, 0.9539989115677586, 0.9531999490477805, 0.9917742938801521, 0.0032410924636606282, 0.9867914042296777, 0.9908791676732215, 0.9916600644871572, 0.04662426535722867, 0.5405500764853699, 0.22583628532407637, 0.1821260365516745, 0.0029140165848267918, 0.4101131499439727, 0.4038146133340068, 0.8339632526896195, 0.9658213677446202, 0.9869286526539329, 0.9892251521934484, 0.005959187663815955, 0.844837645668518, 0.03462449367493926, 0.11079837975980564, 0.9700145982228137, 0.7373113693350832, 0.2418381291419073, 0.01179698190936133, 0.9965250748769294, 0.9417809890407998, 0.9550096999094294, 0.9649889979808159, 0.8629953275051171, 0.8301282566521587, 0.15613213020832034, 0.01391276407796914, 0.9886044569616395, 0.7595689115874563, 0.09529137254460815, 0.10910171639165281, 0.03452585961761165, 0.5626052003803913, 0.4344871844521834, 0.1809295325799858, 0.2814947339411915, 0.2850079287485699, 0.041719188337618084, 0.20640019493347894, 0.002634896105533774, 0.001317448052766887, 0.9965282451827752, 0.3603377465994059, 0.34629861361501346, 0.09827393089074705, 0.007019566492196218, 0.16729966806400987, 0.016378988481791177, 0.0023398554973987394, 0.9681060349025751, 0.3333972252413565, 0.658459519851679, 0.9592044368846653, 0.6921207120241485, 0.29141924716806256, 0.7753111859542247, 0.21423072243471997, 0.9575810348803533, 0.9410009143115997, 0.9361928656973099, 0.03061019895264568, 0.08904785149860561, 0.876564788189399, 0.9889533228554996, 0.988323381189539, 0.984459621096957, 0.9848878792181495, 0.6640596430929647, 0.2951376191524288, 0.03162188776633165, 0.9666705535697487, 0.9385941107738777, 0.9862128490663933, 0.98656420108548, 0.0196581821317504, 0.8733849489963392, 0.1039075341249664, 0.3665647364077976, 0.6314125564301853, 0.7314495042972555, 0.26471505869805434, 0.39825771145530553, 0.5955596969469248, 0.9351775787498771, 0.9767264726670131, 0.9819866276582708, 0.2767462806527161, 0.7228142228508093, 0.9638990970249852, 0.8956039072555426, 0.0769531693619936, 0.02455952213680647, 0.19655913804075212, 0.796064509065046, 0.023534191155375573, 0.9727465677555237, 0.9935567452388604, 0.28420018530726754, 0.0058000037817809704, 0.4466002911971347, 0.2552001663983627, 0.949644070476963, 0.08899097089618889, 0.0017113648249267093, 0.9075938121527982, 0.001140909883284473, 0.4443615894948874, 0.5530543523929174, 0.9901082055559446, 0.9598995668995777, 0.9847748642867163, 0.9602706748246005, 0.9872202728250249, 0.9621597756724877, 0.0032781293701441695, 0.9960830243280926, 0.006767760151484837, 0.800287637913082, 0.19118922427944665, 0.7850557131974917, 0.040402023930451954, 0.7700150443215549, 0.17824422322258213, 0.007129768928903286, 0.9758075855832726, 0.8614208070950571, 0.9267115179909119, 0.6878196697147057, 0.2896082819851392, 0.9870348540585216, 0.8077991853319603, 0.9472418090102767, 0.06971260741230186, 0.003485630370615093, 0.7389536385703996, 0.18125277927198483, 0.7149482009301974, 0.14298964018603946, 0.931811514728947, 0.9423971301155332, 0.9914213780827992, 0.8130871656935988, 0.6711222424048404, 0.012276626385454398, 0.009548487188686753, 0.2414403189139365, 0.017732904778989686, 0.008184417590302933, 0.036829879156363196, 0.9611559289282922, 0.9772427669568495, 0.8886623870050626, 0.9897691008432661, 0.9715570200535549, 0.9532975531971831, 0.19582163939733851, 0.6175913242531446, 0.180758436366774, 0.9900975220905219, 0.17088759844345636, 0.6922395936946791, 0.1361307987600415, 0.036648322896601006, 0.8551275342540235, 0.008144071754800223, 0.09365682518020257, 0.9758696877854973, 0.9888974585933383, 0.08310735738939729, 0.6648588591151783, 0.24932207216819188, 0.9546096897219563, 0.7277989793306918, 0.9821777468215543, 0.5950488729465844, 0.2087890782268717, 0.031318361734030756, 0.04871745158627006, 0.11135417505433157, 0.9853327719520827, 0.8374867257300155, 0.823455126322148, 0.9124398919972964, 0.8868141532747496, 0.07190385026552024, 0.9190868624911759, 0.39422423181491917, 0.4002276465126083, 0.20411609972143024, 0.9783497980435351, 0.8528783460774599, 0.9814159816763337, 0.9511453295860838, 0.07034260970462439, 0.9245028704036348, 0.8766358487736303, 0.23537510159653785, 0.4001376727141144, 0.3059876320754992, 0.05492085703919217, 0.9860126446175227, 0.9691689901037224, 0.9882068614247882, 0.9868949925184277, 0.8765807556825963, 0.9790002203776518, 0.677489601364212, 0.9328957575807663, 0.9252040042558886, 0.9854829164429788, 0.788124165104546, 0.08037526896250327, 0.04242028084132117, 0.03572234176111257, 0.008930585440278142, 0.01339587816041721, 0.0022326463600695354, 0.02679175632083442, 0.9272859184223253, 0.9068965163088633, 0.05257371109036889, 0.026286855545184444, 0.006571713886296111, 0.9709100447469325, 0.915278532577859, 0.03483759120538563, 0.01900232247566489, 0.02533642996755319, 0.951697580649021, 0.8213421467178378, 0.9771943740631142, 0.9774160227662192, 0.9859423422111477, 0.01234632628886947, 0.9467294630394366, 0.9287066124682402, 0.45629835272434033, 0.9845685879822869, 0.31520522068776546, 0.5651955681297863, 0.114126028180053, 0.9870968716769432, 0.9801708952460909, 0.5181312440146613, 0.3326274652933628, 0.12793364049744724, 0.019190046074617086, 0.9620092858435537, 0.7503674819443673, 0.7209845783346494, 0.255348704826855, 0.9817901077910152, 0.2312914914672292, 0.28268960068216903, 0.07709716382240973, 0.1321665665527024, 0.17255079522158367, 0.07342587030705688, 0.02569905460746991, 0.9965227154853116, 0.003047397417782393, 0.9934515581970601, 0.008914548349685409, 0.008914548349685409, 0.255550386024315, 0.12480367689559571, 0.451670449717394, 0.14857580582809013, 0.9702193419067744, 0.97969075770594, 0.04585595822809618, 0.06383868694499666, 0.889245935050728, 0.9172112082768528, 0.9838812757030373, 0.9912142156774254, 0.9833936315305273, 0.9937140935260519, 0.4468434219594528, 0.5392937851234775, 0.9805380307645204, 0.14301382642076307, 0.5205703281715776, 0.2745865467278651, 0.057205530568305234, 0.39324657815217406, 0.35000906376516977, 0.6455722731668687, 0.8288101212061407, 0.9701242579025796, 0.9955185044206751, 0.9802579768611993, 0.07488922622315641, 0.6243316104522325, 0.0298028553337051, 0.2697540495589205, 0.9892247767321332, 0.9902728121589951, 0.47619912067963566, 0.23809956033981783, 0.26786200538229504, 0.9762411256087586, 0.9043397455211583, 0.423920455950007, 0.9299407254942484, 0.9831817866998865, 0.01371881562837051, 0.6191028288136557, 0.1180763127118828, 0.006382503389831503, 0.13722382288137733, 0.0590381563559414, 0.0590381563559414, 0.9526150293697527, 0.9419263968517565, 0.9916593776258035, 0.9621220937526416, 0.8360323858174387, 0.984319735268128, 0.9652792190392114, 0.11945012929618211, 0.2849825419756629, 0.003638075003944633, 0.5790602714611874, 0.012126916679815443, 0.5750354170438762, 0.17461808475677915, 0.2438631873327433, 0.412361288008638, 0.009062885450739298, 0.38517263165642013, 0.011328606813424121, 0.1495376099371984, 0.029454377714902717, 0.32479146625673533, 0.32479146625673533, 0.05370567552276726, 0.1099687641656663, 0.11764100352606162, 0.06649274112342614, 0.8465180359502059, 0.08795159230634564, 0.39754119722468234, 0.18645737568945278, 0.32190282784122504, 0.001759031846126913, 0.15933947859577455, 0.8212111589166842, 0.9392601579683757, 0.7474472945530936, 0.12655192288729628, 0.0968913159605862, 0.005932121385342012, 0.01977373795114004, 0.15467202293418006, 0.6439562935031952, 0.05283351278444764, 0.1470149920958543, 0.9925727069292521, 0.8712673816511269, 0.9974604309117647, 0.6417796494580177, 0.35495075584549585, 0.9649048910621815, 0.022001483428171365, 0.11677710434952494, 0.480647791815436, 0.3791024836854143, 0.9900981437808041, 0.8708801955531007, 0.03221263904430581, 0.2047803482102298, 0.11044333386619136, 0.5982347251085365, 0.05522166693309568, 0.6824880412361262, 0.1395151198125714, 0.40569528261287213, 0.33777344796727815, 0.11565069142357892, 0.992485026611305, 0.9874767357950421, 0.4383734026033039, 0.5547557218785173, 0.9529542478288865, 0.26749039746167147, 0.17577940404624123, 0.5502659604925813, 0.20396041269723184, 0.3849393704426629, 0.40792082539446367, 0.979773822438196, 0.8764596076811487, 0.9821720368406837, 0.9672334159625287, 0.3970198927003754, 0.5734731783449867, 0.025207612234944467, 0.9955342129816281, 0.9170723090024006, 0.7082319359524829, 0.2876436872981074, 0.9869276002479038, 0.9849895853171448, 0.7470825779134893, 0.7902177897778364, 0.992450141858829, 0.9867680555011596, 0.5980245019229341, 0.23371072488942252, 0.16497227639253356, 0.0529542565826822, 0.939938054342609, 0.9602617484513737, 0.8199668824734891, 0.16266549490364765, 0.013278815910501849, 0.6978991865957836, 0.7804503204722077, 0.9676458523504079, 0.9884000915437855, 0.8090270714107859, 0.16738491132636948, 0.8034457381620561, 0.08383781615604065, 0.11178375487472085, 0.9974221270422275, 0.8773190703828684, 0.9958569384914281, 0.9140210086856747, 0.989146799791298, 0.35455182420179987, 0.5318277363026999, 0.10636554726053997, 0.986410640145744, 0.9602662948992279, 0.9280100972222068, 0.7937902420098821, 0.9522001101883065, 0.9834402281676567, 0.9722965634866636, 0.03526233863968341, 0.5264605295152733, 0.16517621783851702, 0.15465937999861143, 0.08413470271924463, 0.03340642607970007, 0.8780922802745637, 0.9831432934378391, 0.5627316484284483, 0.20587743235187134, 0.21960259450866274, 0.9491339142947823, 0.45684543987813386, 0.9834783813356981, 0.6724911822917925, 0.1202332719855023, 0.04075704135101772, 0.15283890506631648, 0.01018926033775443, 0.13964448122327602, 0.8460812685880842, 0.9870929658266617, 0.3929078613522804, 0.5984288965211655, 0.8255286964793462, 0.19522651381422063, 0.43313045157852664, 0.3695683308018037, 0.2992161951393048, 0.15279124858177268, 0.06083355267607615, 0.05658935132658247, 0.4222980342746217, 0.0007073668915822808, 0.007781035807405089, 0.1877309670385957, 0.08682557225535051, 0.011733185439912232, 0.43882113545271745, 0.1830376928626308, 0.009386548351929785, 0.07743902390342072, 0.004693274175964893, 0.006342624304844474, 0.7991706624104037, 0.16490823192595633, 0.028541809371800134, 0.9663004926075364, 0.9940738881855636, 0.9469507389040819, 0.9440617146134207, 0.9689072879373064, 0.9886647411985559, 0.9826909358447458, 0.521232204738479, 0.0554502345466467, 0.3105213134612215, 0.09981042218396406, 0.9761097843301711, 0.015017073605079556, 0.937459858466711, 0.9869163392551001, 0.19173203039640635, 0.780000760021744, 0.02178773072686436, 0.8437821399201729, 0.912798724455979, 0.9836474028052384, 0.9963343371195365, 0.9890529552872799, 0.6862128388991161, 0.26987805841957735, 0.08096341752587322, 0.6387114049263332, 0.9884649084266464, 0.9917989628905203, 0.943890013534151, 0.9797451162985198, 0.183577172172311, 0.5599103751255485, 0.19826334594609588, 0.01101463033033866, 0.04405852132135464, 0.0870384299835117, 0.17919676761311235, 0.6732678554606936, 0.010239815292177847, 0.04863912263784478, 0.8860401889725245, 0.8423268207183302, 0.9877294982565693, 0.06212291183184151, 0.2018994634534849, 0.49274764157528833, 0.12424582366368302, 0.11718640186461012, 0.8737069540618206, 0.11649426054157609, 0.845293495923865, 0.9737840323440835, 0.9850428127228815, 0.9924093566424499, 0.007977822210676335, 0.4201653030956203, 0.34659205381938296, 0.14271437510209886, 0.05052620733428345, 0.03102486415263019, 0.9801862034996185, 0.8891839960312576, 0.9766515015360387, 0.6164666872525773, 0.05470352856166215, 0.15464266728008338, 0.10519909338781182, 0.044183619222880964, 0.024195791479196718, 0.9720041593626906, 0.9499114095785571, 0.990665275284684, 0.45637029783156763, 0.5273612330498115, 0.9928316698838874, 0.6354768181531202, 0.015130400432217148, 0.2647820075638001, 0.08321720237719431, 0.9781312581441283, 0.012226640726801604, 0.307669699682106, 0.38292703629499525, 0.004426902153699367, 0.30102934645155693, 0.8552612284751294, 0.9462607889680019, 0.9803154698548615, 0.9648560582646644, 0.9447179749113738, 0.04028648080645517, 0.012085944241936552, 0.9954244356464724, 0.8962378385492642, 0.9876224467509057, 0.3142121186853608, 0.6755560551735258, 0.9503176770262651, 0.9184631020915636, 0.07729639968097317, 0.0022734235200286227, 0.5581123137853224, 0.004676918830603261, 0.3476509664081757, 0.08730248483792753, 0.7716733566680472, 0.22572758052194575, 0.8032967389397204, 0.9899105125706417, 0.8446881690884454, 0.481537893955162, 0.5075669693040897, 0.9594602492462025, 0.3971192968358171, 0.2888140340624124, 0.09476710492672907, 0.21661052554680932, 0.7289277472979878, 0.2658442372498544, 0.9870318282946648, 0.9873425498944374, 0.9932228079546072, 0.9903656112535799, 0.07266947067776777, 0.5631883977527002, 0.05450210300832583, 0.29976156654579206, 0.9909046962965053, 0.34613064508401437, 0.5501004895085229, 0.09271356564750384, 0.9501728926160002, 0.9537666774203918, 0.9788804109483992, 0.9150643562466874, 0.9783488811853823, 0.927599609793563, 0.7309172286139106, 0.9615693611733769, 0.9338159474264356, 0.4782412375082881, 0.4966351312586069, 0.9559761457905813, 0.7870986209112025, 0.14310884016567318, 0.8153104589931706, 0.981677125017393, 0.9546665290877975, 0.9542735412513753, 0.0784882763140328, 0.9177090769025373, 0.2042515048798395, 0.5310539126875827, 0.08987066214712938, 0.13889102331829087, 0.02451018058558074, 0.8672832602961482, 0.020742493420311477, 0.9679830262812023, 0.2994386388777048, 0.6986901573813111, 0.988396668178607, 0.9923783341620818, 0.0362149661930678, 0.05964817961211166, 0.18959599948135494, 0.711517571087332, 0.08672532673386082, 0.5532477739918708, 0.35587289245963577, 0.3040066209643571, 0.15298397700141841, 0.05687865811591197, 0.12748664750118202, 0.009806665192398617, 0.11571864927030368, 0.0019613330384797233, 0.011767998230878339, 0.219669300309729, 0.985465293455003, 0.7383557387907007, 0.25789458819005334, 0.9944637955051837, 0.9739827675993179, 0.024184673687567715, 0.48934139589449105, 0.5038046883839834, 0.006026371870621811, 0.4710131164654452, 0.01752780313068146, 0.08710787010399271, 0.010622910988291793, 0.38667395997382126, 0.4716572478801556, 0.026026131921314893, 0.9920800018790713, 0.9559144662354562, 0.7358173823237462, 0.18156532810585946, 0.07644855920246714, 0.992464966158415, 0.9229326599078954, 0.9907857861314593, 0.7375777906794648, 0.07678218458929793, 0.4106177697601585, 0.38724927879819826, 0.12685752236492703, 0.9866077406242822, 0.9777521215974802, 0.9552275553725764, 0.4758077348885425, 0.518417382789009, 0.8782381253505971, 0.07318651044588309, 0.963241761119537, 0.9945177946772095, 0.9422649432474769, 0.016422918400827484, 0.03900443120196528, 0.024313520072220134, 0.4862704014444027, 0.4801920214263477, 0.8631587608700756, 0.1291802227152494, 0.9475106721552484, 0.9885380673697982, 0.9393097904617909, 0.9032719538320365, 0.9606553828994032, 0.9862191528545077, 0.9032365312103275, 0.687089416160247, 0.08441384255683033, 0.0019631126176007057, 0.03729913973441341, 0.027483576646409876, 0.04907781544001764, 0.1099343065856395, 0.5778499693381647, 0.026399237177885695, 0.39305530909296477, 0.9814252247253229, 0.990465643612649, 0.9610465445846665, 0.8494454392435985, 0.00419479229256098, 0.03146094219420735, 0.11325939189914647, 0.006526499005184008, 0.18087725814367106, 0.17901254414218992, 0.48482564038509773, 0.08577684406813267, 0.06246791904961836, 0.9215340862811372, 0.7250383355544295, 0.10111810614557325, 0.08605796267708361, 0.08605796267708361, 0.7910679538320547, 0.9156155923123249, 0.7175035567211331, 0.5477364561631444, 0.44366652949214697, 0.9780311708515811, 0.672860574681578, 0.0349537960873547, 0.2883688177206763, 0.9836973257544688, 0.9565591559041958, 0.024527157843697328, 0.6852019885153017, 0.6482152630600108, 0.147321650695457, 0.20625031097363977, 0.981699815567667, 0.9841009005188341, 0.9889341542381214, 0.9909111546945762, 0.9951146312922691, 0.9868279386372737, 0.7194139811822319, 0.9808158520276347, 0.9897376172680935, 0.8957086192740742, 0.09596878063650796, 0.9868139512411348, 0.9593453181732445, 0.9925453823468942, 0.9884158391894239, 0.37310809799499955, 0.5602594664351234, 0.9892140252912809, 0.9137297985592724, 0.8251112876491339, 0.9842666392778063, 0.21713053857649942, 0.48470554571117547, 0.03289856645098476, 0.2456426295006862, 0.018642520988891364, 0.9085306943657344, 0.6585437654756423, 0.2622519420035744, 0.07576167213436594, 0.9756810230593, 0.07842948461494531, 0.8739285428522476, 0.014938949450465772, 0.031745267582239764, 0.02806206283805004, 0.797430285647922, 0.05144711520309174, 0.12160227229821684, 0.9792388259014548, 0.9691683887362746, 0.39171972111321707, 0.06431219301858787, 0.5378837961554622, 0.9547634962679599, 0.04248362161379681, 0.9810105639440179, 0.12376345235212814, 0.5940645712902151, 0.015751712117543584, 0.22052396964561014, 0.04275464717618972, 0.9535098095939539, 0.987374805354965, 0.9704640920285197, 0.9931182634002909, 0.9012464856704155, 0.9908311623685505, 0.9354311328348184, 0.054227891758540196, 0.7162981303880323, 0.06367094492338064, 0.2122364830779355, 0.7177723676448117, 0.4446992965731201, 0.11793728303277394, 0.27482632926903283, 0.14390512516843057, 0.01406591449014735, 0.003245980266957081, 0.8918140633198564, 0.9673194779469836, 0.9934378271991522, 0.5310756083175764, 0.0037008753192862465, 0.18874464128359855, 0.07956881936465429, 0.18689420362395545, 0.009252188298215615, 0.9764795270137678, 0.7601881982386641, 0.9707523647716845, 0.61802499894909, 0.2770302042372222, 0.31267747316480593, 0.1721253842503329, 0.10490481998688929, 0.12934866153723243, 0.0020369867958619278, 0.062380929077154874, 0.49301056851299824, 0.20525337954418701, 0.20726566757893394, 0.030184320521203973, 0.9871115473580242, 0.5749605728867564, 0.4232348661527513, 0.9886104930208574, 0.9867755948094161, 0.3864940173313629, 0.9840967395244451, 0.9875367062290402, 0.11289795435162198, 0.7275645947104527, 0.15889341723561612, 0.9443879628203348, 0.8720362703891705, 0.0068844968714934516, 0.11933127910588649, 0.9836312608785823, 0.98530019401576, 0.9982842763806209, 0.9480146551816688, 0.13536515341124924, 0.6768257670562462, 0.15792601231312411, 0.9732919110438253, 0.9274278802198009, 0.7781207799850425, 0.20173501703315916, 0.9443455405300581, 0.9877520290057091, 0.9878406189770935, 0.6040558760807554, 0.3863780828985012, 0.9846158899277033, 0.5342252194375209, 0.0189106272367264, 0.43967208325388885, 0.0047276568091816, 0.9690878613949617, 0.9817091107924235, 0.9430640829444977, 0.9508840333720638, 0.9295017187783186, 0.1771532431995167, 0.695326479558103, 0.06200363511983084, 0.06200363511983084, 0.16438083239978188, 0.4434857874119116, 0.013698402699981824, 0.36814457256201155, 0.00856150168748864, 0.9848247493622748, 0.9514941341172145, 0.9566644923651589, 0.9533687646337091, 0.04005751111906341, 0.9898026895232527, 0.9934832394266966, 0.9905890318344098, 0.9935959366353788, 0.8914186381348161, 0.015160180920660139, 0.08792904933982881, 0.2601233103507206, 0.6828236896706417, 0.9019723489797432, 0.9774231380147343, 0.9905440580633217, 0.9638429866690722, 0.9933506301563448, 0.988478248084604, 0.9961481570611994, 0.9570434210042276, 0.1348270197938539, 0.8628929266806649, 0.40936342461653824, 0.565367251189603, 0.023459222041062364, 0.9902153829014566, 0.9787780686678075, 0.9929192891466128, 0.988565128410428, 0.5669754361869213, 0.9854298192619446, 0.9645365229651144, 0.9666459959708452, 0.9957346436684223, 0.8427146011173787, 0.5598108560322147, 0.05207542846811299, 0.36452799927679097, 0.013018857117028248, 0.9365856109706073, 0.057459239936847074, 0.9438426358824625, 0.8006639867866691, 0.9803550715855055, 0.9808549938029213, 0.5848601787897759, 0.02918221266310732, 0.15199069095368398, 0.11916070170768824, 0.021886659497330492, 0.08997848904458092, 0.9920575290534057, 0.9852172710039376, 0.21766671619146777, 0.4000103249308114, 0.14702050128721947, 0.19379975169678929, 0.022434946624997773, 0.0019093571595742787, 0.008592107218084254, 0.008114767928190684, 0.47003593040290714, 0.08704369081535318, 0.4352184540767659, 0.15001339770496191, 0.8100723476067944, 0.9759893013053925, 0.8943280560199268, 0.8524147808844543, 0.12309238713132915, 0.01384789355227453, 0.010770583873991301, 0.9957699219393864, 0.968918712447845, 0.9867641846776488, 0.5580667262876197, 0.9587402234077217, 0.9946744647699858, 0.872838308571056, 0.06870283645282016, 0.02498284961920733, 0.031228562024009164, 0.15003689544420032, 0.16846247909524245, 0.21321032510491625, 0.20794587263318992, 0.25795817111459, 0.21575551017958727, 0.4656976328876303, 0.31831534776495446, 0.9774532315766101, 0.955160857191065, 0.49892371096697063, 0.14293490097972672, 0.3559888099872439, 0.7702902244677596, 0.060584624396340644, 0.1644439805043532, 0.9023332757197147, 0.9925529431938597, 0.9919474985892986, 0.8324838216638398, 0.06904486672567392, 0.04339963051328075, 0.01578168382301118, 0.03945420955752795, 0.9928449669867525, 0.9776475299874454, 0.91302853152808, 0.5615268200943477, 0.42816420032194014, 0.7739591684529052, 0.9178217003252086, 0.07946908859195406, 0.23509605375119744, 0.1192036328879311, 0.18542787338122615, 0.38078938283644653, 0.990532865448038, 0.9771725676572047, 0.8463606805441534, 0.9043359683518088, 0.9442004170833217, 0.9814160083739483, 0.8397812639109637, 0.15268750252926613, 0.9674982555169925, 0.13672963849082845, 0.8603962617227741, 0.9846393445282259, 0.8021761605336759, 0.9242160491689235, 0.9902670228607079, 0.9941342311373891, 0.9748287493566545, 0.9931530610902435, 0.8451228411847906, 0.04984638741572492, 0.10422426459651574, 0.9021513773124515, 0.2495451473194878, 0.7434365847226407, 0.005198857235822662, 0.9964307212341709, 0.9917224803558637, 0.6313323917600246, 0.02800264640871077, 0.33603175690452924, 0.22597885600477993, 0.44947442787763925, 0.12168092246411227, 0.18872959402597006, 0.012416420659603293, 0.942988751463385, 0.9130437052353052, 0.22097025233460374, 0.7768485433638412, 0.7687403695911725, 0.1371211782565686, 0.05822129091420922, 0.6083121085174273, 0.1096166373764077, 0.08552506872225216, 0.00040152614423592564, 0.00020076307211796282, 0.00020076307211796282, 0.9947595858034242, 0.4164404505140811, 0.5706776544081852, 0.9847916347432993, 0.98674187986545, 0.7830437388559895, 0.9989241247361661, 0.9763618393162642, 0.9487967796150116, 0.9470394491820916, 0.286186832686739, 0.24662183277612992, 0.23914844390412598, 0.06286438874685664, 0.06901894428850694, 0.09583522200569754, 0.9955019779953242, 0.9680565546765965, 0.02547517249148938, 0.9958190844669834, 0.2887859838095584, 0.7059212937566983, 0.9900536436977153, 0.9600557513753534, 0.80360823337398, 0.9698051248320755, 0.9890635782799329, 0.9791886076404543, 0.9156211096431959, 0.920884629221444, 0.9961145368716096, 0.9929340835917588, 0.7253643676475434, 0.9802226956737572, 0.9686942859110238, 0.9517385537794898, 0.9570781267719208, 0.9908151181239472, 0.9744596371291938, 0.021751331185919504], \"Term\": [\"absence\", \"absolute\", \"academic\", \"acceptance\", \"access\", \"accordingly\", \"accounting\", \"achieve\", \"achieve\", \"achieve\", \"achieve\", \"achieve\", \"achieve_carbon_neutrality\", \"achieve_dual\", \"achieve_goal\", \"achieve_net\", \"action_plan\", \"actively_promote\", \"actor\", \"actual\", \"actual\", \"adapt\", \"address_challenge\", \"adopt_difference_difference\", \"advance\", \"advance\", \"advance\", \"advance\", \"affect\", \"affect\", \"affect\", \"affect\", \"agglomeration\", \"aggregation\", \"aim\", \"aim\", \"aim\", \"aim\", \"aim\", \"aim\", \"aim\", \"air_quality\", \"alleviate_financing_constraint\", \"also\", \"also\", \"also\", \"also\", \"also_find\", \"alternative\", \"ambition\", \"analysis\", \"analysis\", \"analysis\", \"analysis\", \"analysis\", \"analysis\", \"analysis\", \"analysis\", \"analyze\", \"analyze\", \"analyze\", \"analyze\", \"analyze\", \"annual\", \"ante\", \"applicable\", \"appraisal\", \"approach\", \"approach\", \"approach\", \"approach\", \"approach\", \"architecture\", \"area\", \"area\", \"area\", \"area\", \"area\", \"area\", \"argue\", \"as_well\", \"as_well\", \"as_well\", \"as_well\", \"as_well\", \"as_well\", \"as_well\", \"aspect\", \"aspect\", \"associate\", \"associate\", \"assume\", \"asymmetry\", \"attract\", \"attract\", \"attribute\", \"background\", \"background\", \"background\", \"balance\", \"balance\", \"balance\", \"balance\", \"barrier\", \"barrier\", \"base\", \"base\", \"base\", \"base\", \"base\", \"base\", \"base\", \"basic\", \"basic\", \"become_focus\", \"behavior\", \"behavior\", \"belong\", \"big\", \"big\", \"biomass\", \"build\", \"build\", \"build\", \"build\", \"build\", \"building\", \"building\", \"building\", \"building_sector\", \"calculate\", \"calculate\", \"calculate\", \"call\", \"campus\", \"capacity\", \"capital\", \"capture\", \"carbon\", \"carbon\", \"carbon\", \"carbon\", \"carbon\", \"carbon\", \"carbon\", \"carbon_dioxide\", \"carbon_dioxide\", \"carbon_dioxide\", \"carbon_emission\", \"carbon_emission\", \"carbon_emission\", \"carbon_emission_reduction\", \"carbon_emission_reduction\", \"carbon_neutral\", \"carbon_neutrality\", \"carbon_neutrality\", \"carbon_neutrality\", \"carbon_peak\", \"carbon_peak\", \"carbon_reduction\", \"carbon_reduction\", \"carbon_sink\", \"carrier\", \"case\", \"case_study\", \"case_study\", \"cause\", \"cause\", \"century\", \"certain\", \"change\", \"change\", \"change\", \"change\", \"character\", \"characteristic\", \"characteristic\", \"characteristic\", \"characteristic\", \"characteristic\", \"chinese\", \"chinese\", \"chinese\", \"chinese\", \"chinese\", \"choose\", \"citizen\", \"citizen_participation\", \"citizenship\", \"city\", \"city\", \"city\", \"city\", \"city\", \"city\", \"city\", \"city\", \"city\", \"civil_society\", \"class\", \"climate\", \"climate_action\", \"climate_change\", \"climate_change\", \"climate_change\", \"climate_change_mitigation\", \"climate_neutrality\", \"cluster\", \"co\", \"co\", \"co_emission\", \"co_emission_reduction\", \"collaborative\", \"collect\", \"commercial\", \"common\", \"common\", \"common\", \"community\", \"company\", \"comparable\", \"comparative_study\", \"complex\", \"complex\", \"complex\", \"complex\", \"complexity\", \"component\", \"comprehensively\", \"concentration\", \"concept\", \"concept\", \"concept\", \"concerned\", \"conclusion\", \"concrete\", \"concurrent\", \"condition\", \"condition\", \"condition\", \"conduct\", \"configuration\", \"conflict\", \"conservation\", \"consider\", \"consider\", \"consider\", \"consider\", \"consider\", \"consideration\", \"consistent\", \"consistent\", \"constitute\", \"construction\", \"construction\", \"construction\", \"construction\", \"construction\", \"consume\", \"consume\", \"consumer\", \"consumption\", \"consumption\", \"contemporary\", \"content\", \"contributor\", \"control\", \"control\", \"control\", \"control\", \"core\", \"core\", \"corporate\", \"cost\", \"cost\", \"countermeasure\", \"country\", \"country\", \"country\", \"crisis\", \"crisis\", \"critically\", \"culture\", \"current\", \"current\", \"currently\", \"data\", \"dataset\", \"datum\", \"datum\", \"datum\", \"datum\", \"datum\", \"datum_share_list\", \"deal_climate_change\", \"decision_make_process\", \"decompose\", \"decouple\", \"decrease\", \"decrease\", \"define\", \"define\", \"define\", \"definition\", \"demonstrate\", \"demonstrate\", \"demonstrate\", \"density\", \"department\", \"dependency\", \"dependent\", \"deploy\", \"design\", \"design\", \"design\", \"detailed\", \"develop\", \"develop\", \"develop\", \"develop\", \"develop_country\", \"develop_country\", \"development\", \"development\", \"development\", \"development\", \"development\", \"development\", \"development\", \"difference\", \"different\", \"different\", \"different\", \"different\", \"different\", \"different\", \"different\", \"differentiate\", \"difficult\", \"difficult\", \"diffusion\", \"dimension\", \"dimension\", \"direct\", \"direct\", \"directly\", \"discourse\", \"distinct\", \"district\", \"district\", \"district\", \"diverse\", \"document\", \"domestic\", \"dominate\", \"draw\", \"draw\", \"draw\", \"drive_force\", \"dual\", \"eastern\", \"eco\", \"ecological\", \"ecological\", \"ecological\", \"economic\", \"economic\", \"economic_development\", \"economic_development\", \"economic_growth\", \"economic_growth\", \"economical\", \"economically\", \"ecosystem\", \"effect\", \"effect\", \"effectively_reduce\", \"efficiency\", \"efficiency\", \"efficiency\", \"efficient\", \"efficient\", \"element\", \"element\", \"elsevi_right_reserve\", \"emerge\", \"emerge\", \"emerge\", \"emerge\", \"emergence\", \"emission\", \"emission\", \"emission\", \"emission\", \"emission_reduction\", \"emission_reduction\", \"emit\", \"emitter\", \"emphasize\", \"empirical_analysis\", \"empirical_evidence\", \"end\", \"energy\", \"energy\", \"energy_consumption\", \"energy_consumption\", \"energy_consumption\", \"energy_crisis\", \"energy_efficiency\", \"energy_efficiency\", \"energy_efficiency\", \"energy_efficiency\", \"energy_efficient\", \"energy_poverty\", \"energy_security\", \"energy_supply\", \"energy_supply\", \"energy_transition\", \"enforcement\", \"engage\", \"enhance\", \"enhance\", \"enhance\", \"enhance\", \"enlightenment\", \"enlightenment\", \"enormous\", \"enrich\", \"enterprise\", \"entry\", \"environmental\", \"environmental\", \"environmental\", \"environmental\", \"environmental\", \"environmental\", \"environmental\", \"environmental_pollution\", \"environmental_problem\", \"environmental_quality\", \"environmental_regulation\", \"equivalent\", \"era\", \"essential\", \"essential\", \"essential\", \"european\", \"evaluate\", \"evaluate\", \"evaluate\", \"evaluation\", \"evaluation\", \"evaluation\", \"evaluation\", \"evaluation_index_system\", \"even\", \"evidence\", \"evidence\", \"evidence\", \"evolve\", \"ex\", \"examine_impact\", \"exist\", \"exist\", \"exist\", \"exist\", \"exist\", \"expect\", \"experimentation\", \"explanation\", \"explicit\", \"extend\", \"extend\", \"external\", \"factor\", \"factor\", \"factor\", \"factor_influence\", \"failure\", \"few\", \"finance\", \"financial\", \"financial\", \"financial_support\", \"finding\", \"finding\", \"finding\", \"finding\", \"finding_provide\", \"finding_study\", \"fintech\", \"firm\", \"first_step\", \"first_time\", \"fiscal_expenditure\", \"fix_effect_model\", \"flexibility\", \"flow\", \"focus\", \"focus\", \"focus\", \"focus\", \"focus\", \"focus\", \"focus\", \"focus\", \"forestry\", \"form\", \"form\", \"form\", \"form\", \"fourth\", \"framework\", \"framework\", \"framework\", \"framework\", \"frequency\", \"frequently\", \"functional\", \"fundamental\", \"future\", \"future\", \"gain\", \"gas_emission\", \"gather\", \"gdp\", \"generate\", \"generate\", \"generate\", \"generation\", \"geographical_location\", \"global\", \"global\", \"global\", \"global\", \"global_climate\", \"global_greenhouse_gas\", \"global_warming\", \"global_warming\", \"globalization\", \"goal\", \"goal\", \"goal\", \"goal\", \"goal\", \"goal\", \"goal\", \"good\", \"governance\", \"governance\", \"government\", \"government\", \"government\", \"government\", \"government\", \"government\", \"gradually\", \"great_significance\", \"green\", \"green\", \"green\", \"green_building\", \"green_finance\", \"green_innovation\", \"greenhouse_gas\", \"greenhouse_gas_emission\", \"grid\", \"grid\", \"gross_domestic_product\", \"group\", \"group\", \"group\", \"group\", \"handle\", \"health\", \"health\", \"heavily_pollute\", \"helpful\", \"heterogeneity\", \"heterogeneous\", \"high\", \"high\", \"high\", \"high\", \"high_quality\", \"highly\", \"hinder\", \"hinder\", \"hinder\", \"historical\", \"holistic\", \"home_abroad\", \"hotspot\", \"housing\", \"housing\", \"however\", \"however\", \"however\", \"however\", \"however\", \"however\", \"however_lack\", \"huge\", \"human\", \"human_activity\", \"human_survival\", \"hypothesis\", \"illustrate\", \"impact\", \"impact\", \"impact\", \"impact\", \"impact\", \"implement\", \"implement\", \"implement\", \"implementation\", \"implementation\", \"implementation\", \"implementation\", \"implementation\", \"implementation\", \"important\", \"important\", \"important\", \"important\", \"important\", \"important\", \"important_role\", \"improve\", \"improve\", \"improve\", \"improve\", \"improve\", \"incentive\", \"incentive\", \"incentivize\", \"include\", \"include\", \"include\", \"include\", \"include\", \"increase\", \"increase\", \"increase\", \"increase\", \"increasingly\", \"independence\", \"index\", \"indicator\", \"indicator\", \"individual_building\", \"industrial\", \"industrial\", \"industrial\", \"industrial\", \"industrial_structure\", \"industrial_structure_adjustment\", \"industry\", \"industry\", \"industry\", \"industry\", \"industry\", \"inevitable\", \"influence\", \"influence\", \"influence\", \"influence\", \"influence_factor\", \"inform\", \"infrastructure\", \"infrastructure\", \"initiate\", \"initiative\", \"initiative\", \"initiative\", \"innovation\", \"innovation\", \"innovation\", \"input\", \"installation\", \"institution\", \"insufficient\", \"integrate\", \"integrate\", \"integrate\", \"integration\", \"intensify\", \"intensity\", \"intensity\", \"interest\", \"internal\", \"internal_external\", \"interpret\", \"intervention\", \"interview\", \"investigate\", \"investigate\", \"investigate\", \"investment\", \"investment\", \"investor\", \"key\", \"key\", \"key\", \"key_issue\", \"kilometer\", \"kind\", \"knowledge\", \"labor\", \"labor\", \"lack\", \"lack\", \"lack\", \"land\", \"land_cover\", \"land_use\", \"land_use_type\", \"landscape\", \"large_scale\", \"large_scale\", \"large_scale\", \"largely\", \"last\", \"law\", \"lay\", \"layer\", \"layout\", \"lesson\", \"level\", \"level\", \"level\", \"level\", \"level\", \"level\", \"lie\", \"light\", \"link\", \"link\", \"link\", \"list\", \"list_enterprise\", \"load\", \"local\", \"local\", \"local\", \"local\", \"local\", \"local_government\", \"local_government\", \"logistic\", \"long_term\", \"long_term\", \"lot\", \"low\", \"low\", \"low\", \"low_carbon\", \"low_carbon\", \"low_carbon\", \"low_carbon\", \"low_carbon\", \"low_carbon\", \"low_carbon\", \"low_carbon_city\", \"low_carbon_city\", \"low_carbon_city\", \"low_carbon_city\", \"low_carbon_city\", \"low_carbon_city\", \"low_carbon_city\", \"low_carbon_city\", \"low_carbon_development\", \"low_carbon_development\", \"low_carbon_development\", \"low_carbon_development\", \"low_carbon_ecological\", \"low_carbon_economy\", \"low_carbon_governance\", \"low_carbon_technology\", \"low_carbon_tourism\", \"low_carbon_transformation\", \"low_carbon_transition\", \"low_carbon_urban\", \"low_carbon_urban\", \"low_carbon_urban\", \"low_carbon_urban\", \"lower\", \"lower\", \"main_driver\", \"manage\", \"management\", \"management\", \"management\", \"manager\", \"manifest\", \"manufacturing\", \"many\", \"map\", \"marine\", \"market\", \"market\", \"market\", \"match\", \"material\", \"material_flow\", \"matter\", \"measure\", \"measure\", \"measure\", \"measure\", \"measure\", \"mechanism\", \"mechanism\", \"mechanism\", \"mechanism\", \"mechanism\", \"mediating\", \"mediating_role\", \"medium\", \"method\", \"method\", \"method\", \"method\", \"method\", \"methodology\", \"methodology\", \"micro_level\", \"mitigate_climate_change\", \"mixed\", \"mode\", \"model\", \"model\", \"model\", \"model\", \"model\", \"model\", \"modern\", \"momentum\", \"monitor\", \"more\", \"more\", \"more\", \"more\", \"more\", \"more\", \"more_obvious\", \"more_pronounced\", \"more_significant\", \"move\", \"move\", \"multi\", \"multiple\", \"multiple\", \"multiple\", \"multiple\", \"municipality\", \"municipality\", \"national\", \"national\", \"national\", \"national\", \"natural_environment\", \"natural_experiment\", \"nature\", \"necessity\", \"need\", \"need\", \"need\", \"negative\", \"neglect\", \"neighbourhood\", \"net\", \"net\", \"net_energy\", \"network\", \"network\", \"network\", \"new\", \"new\", \"new\", \"new\", \"non\", \"non\", \"non_state_own_enterprise\", \"northern\", \"novelty\", \"observe\", \"observe\", \"obstacle\", \"offer\", \"offer\", \"offer\", \"offer\", \"often\", \"often\", \"one\", \"operate\", \"operation\", \"opportunity\", \"optimal\", \"optimal\", \"optimal\", \"optimal\", \"optimization\", \"optimize\", \"optimize\", \"optimize\", \"optimize_industrial_structure\", \"organizational\", \"outcome\", \"outline\", \"output\", \"overlook\", \"overseas\", \"own\", \"paper_analyse\", \"paper_analyze\", \"paper_analyze\", \"paper_conclude\", \"paper_describe\", \"paper_describe\", \"paper_discuss\", \"paper_explore\", \"paradigm\", \"parallel\", \"particularly\", \"particularly\", \"path\", \"path\", \"path\", \"path\", \"path\", \"path_dependence\", \"pathway\", \"pathway\", \"pattern\", \"pattern\", \"peak\", \"people\", \"performance\", \"performance\", \"performance\", \"performance\", \"period\", \"period\", \"period\", \"perspective\", \"perspective\", \"perspective\", \"perspective\", \"perspective\", \"perspective\", \"perspective\", \"perspective\", \"perspective\", \"phenomenon\", \"pilot\", \"pilot\", \"pilot_policy\", \"plan\", \"plan\", \"planning\", \"planning\", \"planning\", \"pole\", \"policy\", \"policy\", \"policy\", \"policy\", \"policy\", \"policy\", \"policy_instrument\", \"policy_making\", \"policymaker\", \"policymaker\", \"policymaker\", \"political\", \"pollute\", \"pollution\", \"popularity\", \"population\", \"population\", \"population\", \"population\", \"population_density\", \"population_size\", \"position\", \"positive_effect\", \"positive_effect\", \"positive_energy\", \"positive_energy\", \"positively\", \"possible\", \"potential\", \"potential\", \"potential\", \"power\", \"power\", \"power\", \"practice\", \"practice\", \"practitioner\", \"prefecture_level_city\", \"preliminary\", \"prerequisite\", \"primary_energy\", \"priority\", \"procedure\", \"process\", \"process\", \"process\", \"process\", \"process\", \"process\", \"process\", \"production\", \"production\", \"production\", \"productivity\", \"program\", \"programming\", \"project\", \"project\", \"project\", \"project\", \"promote\", \"promote\", \"promote\", \"promote\", \"promote\", \"promote\", \"property\", \"propose\", \"propose\", \"propose\", \"propose\", \"provide_useful\", \"provide_valuable\", \"provider\", \"province\", \"province\", \"provincial\", \"public\", \"public\", \"public\", \"public_transport\", \"publish\", \"publish\", \"publish_peer_review_responsibility\", \"put\", \"put\", \"put\", \"put_forward\", \"pv\", \"qualitative\", \"quality\", \"quantify\", \"quantity\", \"quantity_quality\", \"quasi_natural_experiment\", \"question\", \"range\", \"range\", \"rapid\", \"rapid_development\", \"rather\", \"ratio\", \"rationally\", \"realistic\", \"reality\", \"recently\", \"recognition\", \"recommend\", \"reduce\", \"reduce\", \"reduce\", \"reduce\", \"reduce\", \"reduce_greenhouse\", \"reduction\", \"reduction\", \"reduction\", \"reform\", \"region\", \"region\", \"region\", \"region\", \"regional\", \"regional\", \"regional\", \"regional\", \"regional_disparity\", \"regression_model\", \"regulation\", \"regulation\", \"regulation\", \"relate\", \"relate\", \"relation\", \"relationship\", \"relationship\", \"relationship\", \"relationship\", \"relationship\", \"relatively_low\", \"relevant\", \"renewable\", \"renewable_energy\", \"renewable_energy_generation\", \"renewable_energy_source\", \"represent\", \"represent\", \"require\", \"require\", \"require\", \"require_further\", \"research\", \"research\", \"research\", \"research\", \"research\", \"research\", \"research_object\", \"researcher\", \"resident\", \"resource\", \"resource\", \"resource\", \"resource\", \"resource\", \"resource\", \"resource_base\", \"response_climate_change\", \"responsibility\", \"responsive\", \"result\", \"result\", \"result\", \"result\", \"result\", \"result\", \"result_show\", \"result_show\", \"result_show\", \"result_show\", \"result_show\", \"review\", \"risk\", \"risk\", \"road\", \"robust\", \"robust_series\", \"rural\", \"sample\", \"scale\", \"scale\", \"scale\", \"scarce\", \"scenario\", \"scenario\", \"scenario\", \"scope\", \"second\", \"sector\", \"sectoral\", \"seek\", \"seek\", \"seek\", \"seem\", \"select_case\", \"selection\", \"selection\", \"sense\", \"serious\", \"serve\", \"service\", \"service\", \"shape\", \"share\", \"share\", \"share\", \"share\", \"sharing\", \"shed_light\", \"shock\", \"short_term\", \"shortcoming\", \"show\", \"show\", \"show\", \"show\", \"significant\", \"significant\", \"significant\", \"significant\", \"significant\", \"significantly_improve\", \"similarity\", \"simultaneously\", \"site\", \"site\", \"sized_city\", \"small\", \"small_medium\", \"smart\", \"social\", \"social\", \"social\", \"social_economic\", \"social_economic\", \"societal\", \"software\", \"solar\", \"solar_energy\", \"solution\", \"solve\", \"source\", \"south\", \"space\", \"space\", \"spatial\", \"spatial\", \"spatial\", \"spatial_distribution\", \"spatial_planning\", \"spatial_spillover_effect\", \"special\", \"speculation\", \"speed\", \"st_century\", \"stable\", \"stage\", \"staggered\", \"stakeholder\", \"stakeholder\", \"stakeholder\", \"stakeholder\", \"standard\", \"standard\", \"start\", \"status_quo\", \"step\", \"storage\", \"strategy\", \"strategy\", \"strategy\", \"strategy\", \"strategy\", \"strategy\", \"stress\", \"structural\", \"study\", \"study\", \"study\", \"study\", \"study\", \"study\", \"study\", \"study\", \"study_examine\", \"study_examine\", \"study_examine\", \"subject\", \"subject\", \"substantial\", \"successfully\", \"such\", \"such\", \"such\", \"such\", \"suggest\", \"surface\", \"survey\", \"survival\", \"sustain\", \"sustainability\", \"sustainable\", \"sustainable\", \"sustainable\", \"sustainable\", \"sustainable_development\", \"sustainable_development\", \"sustainable_development\", \"sustainable_development\", \"sustainable_development\", \"system\", \"system\", \"system\", \"tailor\", \"take_example\", \"target\", \"target\", \"target\", \"technical\", \"technical\", \"technical\", \"technical_progress\", \"technological\", \"technological_innovation\", \"technology\", \"technology\", \"technology\", \"technology\", \"technology\", \"temperature\", \"temporal\", \"tension\", \"test\", \"test\", \"text\", \"theme\", \"then\", \"then\", \"then\", \"then\", \"then\", \"thereby\", \"thermal\", \"think\", \"thinking\", \"threaten\", \"together\", \"tool\", \"tool\", \"topic\", \"total\", \"total\", \"total_factor_productivity\", \"tourist\", \"trade_off\", \"traditional\", \"traffic\", \"trajectory\", \"transfer\", \"transition\", \"transition\", \"transition\", \"transmission_mechanism\", \"transport\", \"transport\", \"transport\", \"transportation\", \"travel\", \"trend\", \"trend\", \"trend\", \"type\", \"type\", \"type\", \"type\", \"type\", \"unclear\", \"unified\", \"unit\", \"unit\", \"update\", \"urban\", \"urban\", \"urban\", \"urban\", \"urban\", \"urban\", \"urban\", \"urban\", \"urban_agglomeration\", \"urban_planner\", \"urban_planner\", \"urban_rural\", \"urbanisation\", \"urbanism\", \"urbanization\", \"urbanization_process\", \"urbanized\", \"urgent\", \"use\", \"use\", \"use\", \"use\", \"use\", \"use\", \"utilization\", \"validate\", \"validate\", \"value\", \"variable\", \"variable\", \"variation\", \"variety\", \"varying\", \"verify\", \"very\", \"very_important\", \"viewpoint\", \"voluntary\", \"waste\", \"water\", \"wealth\", \"weight\", \"well_being\", \"well_understand\", \"west\", \"wide\", \"world\", \"world\"]}, \"R\": 30, \"lambda.step\": 0.01, \"plot.opts\": {\"xlab\": \"PC1\", \"ylab\": \"PC2\"}, \"topic.order\": [16, 8, 29, 1, 13, 25, 3, 4, 14, 10, 26, 17, 21, 5, 12, 27, 30, 22, 11, 7, 2, 28, 6, 9, 15, 19, 24, 18, 20, 23]};\n",
       "\n",
       "function LDAvis_load_lib(url, callback){\n",
       "  var s = document.createElement('script');\n",
       "  s.src = url;\n",
       "  s.async = true;\n",
       "  s.onreadystatechange = s.onload = callback;\n",
       "  s.onerror = function(){console.warn(\"failed to load library \" + url);};\n",
       "  document.getElementsByTagName(\"head\")[0].appendChild(s);\n",
       "}\n",
       "\n",
       "if(typeof(LDAvis) !== \"undefined\"){\n",
       "   // already loaded: just create the visualization\n",
       "   !function(LDAvis){\n",
       "       new LDAvis(\"#\" + \"ldavis_el1722022497476087842781246725\", ldavis_el1722022497476087842781246725_data);\n",
       "   }(LDAvis);\n",
       "}else if(typeof define === \"function\" && define.amd){\n",
       "   // require.js is available: use it to load d3/LDAvis\n",
       "   require.config({paths: {d3: \"https://d3js.org/d3.v5\"}});\n",
       "   require([\"d3\"], function(d3){\n",
       "      window.d3 = d3;\n",
       "      LDAvis_load_lib(\"https://cdn.jsdelivr.net/gh/bmabey/pyLDAvis@3.4.0/pyLDAvis/js/ldavis.v3.0.0.js\", function(){\n",
       "        new LDAvis(\"#\" + \"ldavis_el1722022497476087842781246725\", ldavis_el1722022497476087842781246725_data);\n",
       "      });\n",
       "    });\n",
       "}else{\n",
       "    // require.js not available: dynamically load d3 & LDAvis\n",
       "    LDAvis_load_lib(\"https://d3js.org/d3.v5.js\", function(){\n",
       "         LDAvis_load_lib(\"https://cdn.jsdelivr.net/gh/bmabey/pyLDAvis@3.4.0/pyLDAvis/js/ldavis.v3.0.0.js\", function(){\n",
       "                 new LDAvis(\"#\" + \"ldavis_el1722022497476087842781246725\", ldavis_el1722022497476087842781246725_data);\n",
       "            })\n",
       "         });\n",
       "}\n",
       "</script>"
      ],
      "text/plain": [
       "PreparedData(topic_coordinates=              x         y  topics  cluster       Freq\n",
       "topic                                                \n",
       "15     0.400302  0.255413       1        1  28.447914\n",
       "7      0.443909 -0.134930       2        1  18.367795\n",
       "28     0.456495  0.053488       3        1  12.321923\n",
       "0      0.399785  0.163204       4        1  11.563895\n",
       "12     0.481509 -0.066905       5        1   5.585966\n",
       "24     0.333373 -0.291895       6        1   4.098572\n",
       "2      0.118817  0.435387       7        1   3.330636\n",
       "3      0.226100  0.326330       8        1   3.295642\n",
       "13     0.036262 -0.491000       9        1   2.574056\n",
       "9     -0.360499  0.299366      10        1   2.240578\n",
       "25    -0.180731  0.381539      11        1   1.192922\n",
       "16     0.154428 -0.352954      12        1   1.151224\n",
       "20    -0.316422 -0.267410      13        1   0.631483\n",
       "4      0.043496  0.181325      14        1   0.562962\n",
       "11    -0.103595  0.289274      15        1   0.550968\n",
       "26    -0.052626 -0.305435      16        1   0.524894\n",
       "29    -0.183453 -0.239733      17        1   0.438765\n",
       "21    -0.318315  0.054812      18        1   0.403182\n",
       "10    -0.327647 -0.089158      19        1   0.365196\n",
       "6     -0.204764  0.093404      20        1   0.340066\n",
       "1     -0.088487  0.131856      21        1   0.321485\n",
       "27    -0.161059 -0.016261      22        1   0.319636\n",
       "5     -0.233692 -0.042840      23        1   0.316812\n",
       "8     -0.042607 -0.136789      24        1   0.282023\n",
       "14     0.021508 -0.050962      25        1   0.274044\n",
       "18    -0.135650 -0.097489      26        1   0.199438\n",
       "23    -0.093423 -0.015778      27        1   0.096434\n",
       "17    -0.103419 -0.023632      28        1   0.073516\n",
       "19    -0.104900 -0.020799      29        1   0.066188\n",
       "22    -0.104696 -0.021426      30        1   0.061786, topic_info=              Term         Freq        Total Category  logprob  loglift\n",
       "102         energy  2135.000000  2135.000000  Default  30.0000  30.0000\n",
       "93           urban  4980.000000  4980.000000  Default  29.0000  29.0000\n",
       "177          green  1112.000000  1112.000000  Default  28.0000  28.0000\n",
       "697       emission  1752.000000  1752.000000  Default  27.0000  27.0000\n",
       "191         policy  1882.000000  1882.000000  Default  26.0000  26.0000\n",
       "..             ...          ...          ...      ...      ...      ...\n",
       "25   paper_analyze     0.014854    54.365868  Topic30  -9.1003  -0.8160\n",
       "26            path     0.014854   122.398119  Topic30  -9.1003  -1.6275\n",
       "27        planning     0.014854   829.686602  Topic30  -9.1003  -3.5413\n",
       "28      popularity     0.014854     4.067368  Topic30  -9.1003   1.7768\n",
       "29        practice     0.014854   170.304707  Topic30  -9.1003  -1.9578\n",
       "\n",
       "[1377 rows x 6 columns], token_table=      Topic      Freq             Term\n",
       "term                                  \n",
       "349      19  0.788191          absence\n",
       "1111      5  0.973020         absolute\n",
       "1002     17  0.968929         academic\n",
       "201      12  0.949973       acceptance\n",
       "517       1  0.992380           access\n",
       "...     ...       ...              ...\n",
       "672      11  0.951739  well_understand\n",
       "1446     17  0.957078             west\n",
       "298       1  0.990815             wide\n",
       "443       1  0.974460            world\n",
       "443       2  0.021751            world\n",
       "\n",
       "[1405 rows x 3 columns], R=30, lambda_step=0.01, plot_opts={'xlab': 'PC1', 'ylab': 'PC2'}, topic_order=[16, 8, 29, 1, 13, 25, 3, 4, 14, 10, 26, 17, 21, 5, 12, 27, 30, 22, 11, 7, 2, 28, 6, 9, 15, 19, 24, 18, 20, 23])"
      ]
     },
     "execution_count": 137,
     "metadata": {},
     "output_type": "execute_result"
    }
   ],
   "source": [
    "pyLDAvis.enable_notebook()\n",
    "vis = pyLDAvis.gensim.prepare(lda_model, corpus, id2word, mds=\"mmds\", R=30)\n",
    "vis"
   ]
  },
  {
   "cell_type": "markdown",
   "metadata": {},
   "source": [
    "## Topic modelling \"Scale and Resources\" > "
   ]
  },
  {
   "cell_type": "code",
   "execution_count": null,
   "metadata": {},
   "outputs": [],
   "source": []
  },
  {
   "cell_type": "markdown",
   "metadata": {},
   "source": [
    "## Data analysis"
   ]
  },
  {
   "cell_type": "code",
   "execution_count": 64,
   "metadata": {},
   "outputs": [
    {
     "name": "stdout",
     "output_type": "stream",
     "text": [
      "<gensim.interfaces.TransformedCorpus object at 0x0000020BF42976B0>\n"
     ]
    }
   ],
   "source": [
    "# description of topics' space\n",
    "doc_topics = lda_model.get_document_topics(corpus[:-1])\n",
    "print(doc_topics)"
   ]
  },
  {
   "cell_type": "code",
   "execution_count": 65,
   "metadata": {},
   "outputs": [
    {
     "name": "stdout",
     "output_type": "stream",
     "text": [
      "  (5, 0)\t0.026408571749925613\n",
      "  (6, 0)\t0.017804166302084923\n",
      "  (10, 0)\t0.08102951943874359\n",
      "  (15, 0)\t0.028569821268320084\n",
      "  (17, 0)\t0.014475645497441292\n",
      "  (21, 0)\t0.013427573256194592\n",
      "  (26, 0)\t0.16010437905788422\n",
      "  (29, 0)\t0.018302064388990402\n",
      "  (32, 0)\t0.015604554675519466\n",
      "  (33, 0)\t0.05355236306786537\n",
      "  (34, 0)\t0.05800873786211014\n",
      "  (39, 0)\t0.03783108666539192\n",
      "  (42, 0)\t0.08864591270685196\n",
      "  (46, 0)\t0.19876927137374878\n",
      "  (47, 0)\t0.017536601051688194\n",
      "  (49, 0)\t0.10699625313282013\n",
      "  (5, 1)\t0.04468901455402374\n",
      "  (6, 1)\t0.041244301944971085\n",
      "  (13, 1)\t0.021645143628120422\n",
      "  (15, 1)\t0.023561712354421616\n",
      "  (18, 1)\t0.013892151415348053\n",
      "  (21, 1)\t0.013131385669112206\n",
      "  (24, 1)\t0.04393310099840164\n",
      "  (26, 1)\t0.06432025879621506\n",
      "  (29, 1)\t0.03627924993634224\n",
      "  :\t:\n",
      "  (20, 2025)\t0.015533776953816414\n",
      "  (24, 2025)\t0.011222349479794502\n",
      "  (27, 2025)\t0.014651557430624962\n",
      "  (29, 2025)\t0.12063784152269363\n",
      "  (33, 2025)\t0.20882399380207062\n",
      "  (34, 2025)\t0.023475809022784233\n",
      "  (38, 2025)\t0.02848108299076557\n",
      "  (42, 2025)\t0.08983273059129715\n",
      "  (46, 2025)\t0.1562516987323761\n",
      "  (47, 2025)\t0.05243334919214249\n",
      "  (49, 2025)\t0.1466837078332901\n",
      "  (5, 2026)\t0.10544271022081375\n",
      "  (9, 2026)\t0.04902021586894989\n",
      "  (10, 2026)\t0.027849677950143814\n",
      "  (15, 2026)\t0.023631054908037186\n",
      "  (20, 2026)\t0.018884988501667976\n",
      "  (24, 2026)\t0.019076911732554436\n",
      "  (30, 2026)\t0.03960289806127548\n",
      "  (33, 2026)\t0.10127735137939453\n",
      "  (34, 2026)\t0.11384562402963638\n",
      "  (38, 2026)\t0.010788566432893276\n",
      "  (39, 2026)\t0.09462624043226242\n",
      "  (42, 2026)\t0.012512251734733582\n",
      "  (46, 2026)\t0.14840377867221832\n",
      "  (49, 2026)\t0.15873880684375763\n"
     ]
    }
   ],
   "source": [
    "# \"sparce\" matrix transformation\n",
    "from gensim.matutils import corpus2csc\n",
    "mat_sparce = corpus2csc(doc_topics)\n",
    "\n",
    "print(mat_sparce)"
   ]
  },
  {
   "cell_type": "code",
   "execution_count": 66,
   "metadata": {},
   "outputs": [
    {
     "data": {
      "text/plain": [
       "array([[0.        , 0.        , 0.        , ..., 0.0175366 , 0.        ,\n",
       "        0.10699625],\n",
       "       [0.        , 0.        , 0.        , ..., 0.        , 0.        ,\n",
       "        0.08628862],\n",
       "       [0.        , 0.        , 0.02039475, ..., 0.        , 0.        ,\n",
       "        0.20102744],\n",
       "       ...,\n",
       "       [0.02747214, 0.01926056, 0.        , ..., 0.01365835, 0.        ,\n",
       "        0.21855922],\n",
       "       [0.02381448, 0.        , 0.        , ..., 0.05243335, 0.        ,\n",
       "        0.14668371],\n",
       "       [0.        , 0.        , 0.        , ..., 0.        , 0.        ,\n",
       "        0.15873881]])"
      ]
     },
     "execution_count": 66,
     "metadata": {},
     "output_type": "execute_result"
    }
   ],
   "source": [
    "# data frame\n",
    "mat_dt = mat_sparce.T.toarray()\n",
    "mat_dt"
   ]
  },
  {
   "cell_type": "code",
   "execution_count": 74,
   "metadata": {},
   "outputs": [
    {
     "name": "stdout",
     "output_type": "stream",
     "text": [
      "    T0        T1        T2   T3   T4        T5        T6   T7        T8   T9  \\\n",
      "0  0.0  0.000000  0.000000  0.0  0.0  0.026409  0.017804  0.0  0.000000  0.0   \n",
      "1  0.0  0.000000  0.000000  0.0  0.0  0.044689  0.041244  0.0  0.000000  0.0   \n",
      "2  0.0  0.000000  0.020395  0.0  0.0  0.028749  0.000000  0.0  0.097484  0.0   \n",
      "3  0.0  0.000000  0.000000  0.0  0.0  0.010393  0.000000  0.0  0.000000  0.0   \n",
      "4  0.0  0.067151  0.000000  0.0  0.0  0.000000  0.000000  0.0  0.000000  0.0   \n",
      "\n",
      "   ...  T41       T42  T43  T44       T45       T46       T47  T48       T49  \\\n",
      "0  ...  0.0  0.088646  0.0  0.0  0.000000  0.198769  0.017537  0.0  0.106996   \n",
      "1  ...  0.0  0.054272  0.0  0.0  0.017556  0.205746  0.000000  0.0  0.086289   \n",
      "2  ...  0.0  0.016196  0.0  0.0  0.000000  0.262996  0.000000  0.0  0.201027   \n",
      "3  ...  0.0  0.015630  0.0  0.0  0.000000  0.135810  0.000000  0.0  0.265583   \n",
      "4  ...  0.0  0.000000  0.0  0.0  0.000000  0.125462  0.000000  0.0  0.047965   \n",
      "\n",
      "   id  \n",
      "0   0  \n",
      "1   1  \n",
      "2   2  \n",
      "3   3  \n",
      "4   4  \n",
      "\n",
      "[5 rows x 51 columns]\n"
     ]
    }
   ],
   "source": [
    "# data frame with polarities\n",
    "dfTopic = pd.DataFrame(mat_dt, columns = [\"T\" + str(i) for i in range(mat_dt.shape[1])])\n",
    "df_Topic_treatment = dfTopic\n",
    "df_Topic_treatment['id'] = db_init['index']\n",
    "\n",
    "print(df_Topic_treatment.head())"
   ]
  },
  {
   "cell_type": "code",
   "execution_count": null,
   "metadata": {},
   "outputs": [],
   "source": []
  }
 ],
 "metadata": {
  "kernelspec": {
   "display_name": "base",
   "language": "python",
   "name": "python3"
  },
  "language_info": {
   "codemirror_mode": {
    "name": "ipython",
    "version": 3
   },
   "file_extension": ".py",
   "mimetype": "text/x-python",
   "name": "python",
   "nbconvert_exporter": "python",
   "pygments_lexer": "ipython3",
   "version": "3.12.3"
  }
 },
 "nbformat": 4,
 "nbformat_minor": 2
}
